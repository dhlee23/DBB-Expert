{
 "cells": [
  {
   "cell_type": "markdown",
   "id": "1eae64c7",
   "metadata": {},
   "source": [
    "## Cross Validation : 교차검증"
   ]
  },
  {
   "cell_type": "code",
   "execution_count": 1,
   "id": "6f8be415",
   "metadata": {},
   "outputs": [],
   "source": [
    "from sklearn.datasets import load_iris\n",
    "from sklearn.tree import DecisionTreeClassifier\n",
    "from sklearn.metrics import accuracy_score\n",
    "from sklearn.model_selection import KFold\n",
    "import numpy as np"
   ]
  },
  {
   "cell_type": "code",
   "execution_count": 2,
   "id": "e0c3ab44",
   "metadata": {},
   "outputs": [],
   "source": [
    "iris =load_iris()\n",
    "features = iris['data']\n",
    "label = iris['target']"
   ]
  },
  {
   "cell_type": "code",
   "execution_count": 3,
   "id": "6551a588",
   "metadata": {},
   "outputs": [],
   "source": [
    "# 불류기 객체 생성\n",
    "\n",
    "dt_clf = DecisionTreeClassifier(random_state = 11)"
   ]
  },
  {
   "cell_type": "code",
   "execution_count": 4,
   "id": "0764b828",
   "metadata": {},
   "outputs": [],
   "source": [
    "# 5개의 폴드로 구분하고 각각의 accuracy를 저장할 리스트 생성\n",
    "\n",
    "kfold = KFold(n_splits = 5)\n",
    "cv_accu = []"
   ]
  },
  {
   "cell_type": "code",
   "execution_count": 5,
   "id": "a7c8f356",
   "metadata": {},
   "outputs": [
    {
     "name": "stdout",
     "output_type": "stream",
     "text": [
      "data set의 크기 : (150, 4)\n"
     ]
    }
   ],
   "source": [
    "print(f'data set의 크기 : {features.shape}')"
   ]
  },
  {
   "cell_type": "code",
   "execution_count": 6,
   "id": "09e46b96",
   "metadata": {},
   "outputs": [
    {
     "name": "stdout",
     "output_type": "stream",
     "text": [
      "\n",
      "# 1차 교차검증 : 정확도 1.0, 학습 데이터 크기 120, 검증 데이터 크기 30\n",
      "\n",
      "검증세트 인덱스 : [ 0  1  2  3  4  5  6  7  8  9 10 11 12 13 14 15 16 17 18 19 20 21 22 23\n",
      " 24 25 26 27 28 29]\n",
      "\n",
      "\n",
      "# 2차 교차검증 : 정확도 0.967, 학습 데이터 크기 120, 검증 데이터 크기 30\n",
      "\n",
      "검증세트 인덱스 : [30 31 32 33 34 35 36 37 38 39 40 41 42 43 44 45 46 47 48 49 50 51 52 53\n",
      " 54 55 56 57 58 59]\n",
      "\n",
      "\n",
      "# 3차 교차검증 : 정확도 0.867, 학습 데이터 크기 120, 검증 데이터 크기 30\n",
      "\n",
      "검증세트 인덱스 : [60 61 62 63 64 65 66 67 68 69 70 71 72 73 74 75 76 77 78 79 80 81 82 83\n",
      " 84 85 86 87 88 89]\n",
      "\n",
      "\n",
      "# 4차 교차검증 : 정확도 0.933, 학습 데이터 크기 120, 검증 데이터 크기 30\n",
      "\n",
      "검증세트 인덱스 : [ 90  91  92  93  94  95  96  97  98  99 100 101 102 103 104 105 106 107\n",
      " 108 109 110 111 112 113 114 115 116 117 118 119]\n",
      "\n",
      "\n",
      "# 5차 교차검증 : 정확도 0.833, 학습 데이터 크기 120, 검증 데이터 크기 30\n",
      "\n",
      "검증세트 인덱스 : [120 121 122 123 124 125 126 127 128 129 130 131 132 133 134 135 136 137\n",
      " 138 139 140 141 142 143 144 145 146 147 148 149]\n",
      "\n",
      "평균 accuracy : 0.9200000000000002\n"
     ]
    }
   ],
   "source": [
    "n_iter = 0\n",
    "\n",
    "# KFold의 split()은 폴드 별로 학습용과, 검증용 데이터의 로우 인덱스를 array로 반환\n",
    "\n",
    "for train_index , val_index in kfold.split(features):\n",
    "    X_train, X_val = features[train_index], features[val_index]\n",
    "    y_train, y_val = label[train_index], label[val_index]\n",
    "    \n",
    "    # 학습 및 예측\n",
    "    dt_clf.fit(X_train, y_train)\n",
    "    pred = dt_clf.predict(X_val)\n",
    "    \n",
    "    #반복시마다 accuracy 측정\n",
    "    accuracy = np.round(accuracy_score(y_val, pred), 3)\n",
    "    n_iter += 1\n",
    "    \n",
    "    train_size = X_train.shape[0]\n",
    "    val_size = X_val.shape[0]\n",
    "    print(f'\\n# {n_iter}차 교차검증 : 정확도 {accuracy}, 학습 데이터 크기 {train_size}, 검증 데이터 크기 {val_size}\\n')\n",
    "    \n",
    "    print(f'검증세트 인덱스 : {val_index}\\n')\n",
    "    \n",
    "    cv_accu.append(accuracy)\n",
    "    \n",
    "# for 문 종료 후 정확도의 평균 계산\n",
    "\n",
    "print(f'평균 accuracy : {np.mean(cv_accu)}')"
   ]
  },
  {
   "cell_type": "code",
   "execution_count": 7,
   "id": "a8c1d164",
   "metadata": {},
   "outputs": [],
   "source": [
    "# 각 label별 동일한 비율로 학습시키기를 원하면 StratifiedKFold를 이용하면 된다\n",
    "# from sklearn.model_selection import StratifiedKFold\n",
    "\n",
    "# 주의할 점은 for 문에서 label세트도 추가로 넣어 돌려 줘야 한다는 점\n",
    "# ex) for train_index, val_index in skfold.split(features, label):"
   ]
  },
  {
   "cell_type": "code",
   "execution_count": 8,
   "id": "6bd1defd",
   "metadata": {},
   "outputs": [
    {
     "name": "stdout",
     "output_type": "stream",
     "text": [
      "교차 검증별 정확도 : [0.9667 0.9667 0.9    0.9667 1.    ]\n",
      "평균 검증 정확도 : 0.96\n"
     ]
    }
   ],
   "source": [
    "# 이러한 일련의 과정을 보다 간단히 : cross_val_score()\n",
    "\n",
    "from sklearn.model_selection import cross_val_score, cross_validate\n",
    "\n",
    "iris = load_iris()\n",
    "dt_clf = DecisionTreeClassifier(random_state = 11)\n",
    "features = iris.data\n",
    "label = iris.target\n",
    "\n",
    "# 성능지표는 accuracy, 교차검증 세트는 5개\n",
    "scores = cross_val_score(dt_clf, features, label, scoring = 'accuracy', cv = 5)\n",
    "\n",
    "print(f'교차 검증별 정확도 : {np.round(scores, 4)}')\n",
    "print(f'평균 검증 정확도 : {np.round(np.mean(scores), 4)}')\n",
    "\n",
    "# cross_val_score는 내부적으로 stractified validation을 이용한다.\n",
    "# accuracy이외의 성능 지표와 수행 시간을 알기 위해서는 cross_validate()를 이용한다."
   ]
  },
  {
   "cell_type": "markdown",
   "id": "c4b3f349",
   "metadata": {},
   "source": [
    "## 데이터 전처리 중 레이블 인코딩"
   ]
  },
  {
   "cell_type": "code",
   "execution_count": 9,
   "id": "cb04ca09",
   "metadata": {},
   "outputs": [
    {
     "name": "stdout",
     "output_type": "stream",
     "text": [
      "변환값 : [5 1 4 0 2 3 6]\n",
      "인코딩 클래스 : ['구글' '마이크로소프트' '메타' '아마존' '애플' '엔비디아' '테슬라']\n"
     ]
    }
   ],
   "source": [
    "from sklearn.preprocessing import LabelEncoder\n",
    "\n",
    "mag7 = ['엔비디아', '마이크로소프트', '애플', '구글', '메타', '아마존','테슬라']\n",
    "\n",
    "# LabelEncoder을 객체로 생성 후, fit()과 transform()으로 레이블 인코딩 수행\n",
    "encoder = LabelEncoder()\n",
    "encoder.fit(mag7)\n",
    "labels = encoder.transform(mag7)\n",
    "\n",
    "print(f'변환값 : {labels}')\n",
    "\n",
    "print(f'인코딩 클래스 : {encoder.classes_}')"
   ]
  },
  {
   "cell_type": "code",
   "execution_count": 10,
   "id": "1b1b1079",
   "metadata": {},
   "outputs": [
    {
     "name": "stdout",
     "output_type": "stream",
     "text": [
      "디코딩 원본값 : ['구글' '마이크로소프트' '메타' '아마존' '애플' '엔비디아' '테슬라']\n"
     ]
    }
   ],
   "source": [
    "print(f'디코딩 원본값 : {encoder.inverse_transform([0,1,2,3,4,5,6])}')"
   ]
  },
  {
   "cell_type": "markdown",
   "id": "f69b7072",
   "metadata": {},
   "source": [
    "## 데이터 전처리 중 feature 인코딩 : pandas의 get_dummies()와 유사"
   ]
  },
  {
   "cell_type": "code",
   "execution_count": 11,
   "id": "3722c4e5",
   "metadata": {},
   "outputs": [
    {
     "data": {
      "text/plain": [
       "array([['엔비디아'],\n",
       "       ['마이크로소프트'],\n",
       "       ['애플'],\n",
       "       ['구글'],\n",
       "       ['메타'],\n",
       "       ['아마존'],\n",
       "       ['테슬라']], dtype='<U7')"
      ]
     },
     "execution_count": 11,
     "metadata": {},
     "output_type": "execute_result"
    }
   ],
   "source": [
    "from sklearn.preprocessing import OneHotEncoder\n",
    "import numpy as np\n",
    "\n",
    "mag7 = ['엔비디아', '마이크로소프트', '애플', '구글', '메타', '아마존','테슬라']\n",
    "\n",
    "# 2차원의 데이터(ndarray로 전환)\n",
    "\n",
    "mag7 = np.array(mag7).reshape(7,1)\n",
    "\n",
    "mag7"
   ]
  },
  {
   "cell_type": "code",
   "execution_count": 12,
   "id": "468f039d",
   "metadata": {},
   "outputs": [
    {
     "name": "stdout",
     "output_type": "stream",
     "text": [
      "  (0, 5)\t1.0\n",
      "  (1, 1)\t1.0\n",
      "  (2, 4)\t1.0\n",
      "  (3, 0)\t1.0\n",
      "  (4, 2)\t1.0\n",
      "  (5, 3)\t1.0\n",
      "  (6, 6)\t1.0\n"
     ]
    }
   ],
   "source": [
    "#OneHotEncoding을 실시\n",
    "\n",
    "oh_encoder = OneHotEncoder()\n",
    "oh_encoder.fit(mag7)\n",
    "oh_features = oh_encoder.transform(mag7)\n",
    "print(oh_features)\n"
   ]
  },
  {
   "cell_type": "code",
   "execution_count": 13,
   "id": "559d8275",
   "metadata": {},
   "outputs": [
    {
     "name": "stdout",
     "output_type": "stream",
     "text": [
      "[[0. 0. 0. 0. 0. 1. 0.]\n",
      " [0. 1. 0. 0. 0. 0. 0.]\n",
      " [0. 0. 0. 0. 1. 0. 0.]\n",
      " [1. 0. 0. 0. 0. 0. 0.]\n",
      " [0. 0. 1. 0. 0. 0. 0.]\n",
      " [0. 0. 0. 1. 0. 0. 0.]\n",
      " [0. 0. 0. 0. 0. 0. 1.]]\n",
      "(7, 7)\n"
     ]
    }
   ],
   "source": [
    "# 다시 array로 전환\n",
    "\n",
    "print(oh_features.toarray())\n",
    "\n",
    "print(oh_features.shape)"
   ]
  },
  {
   "cell_type": "code",
   "execution_count": 17,
   "id": "2d4b275a",
   "metadata": {},
   "outputs": [
    {
     "data": {
      "text/html": [
       "<div>\n",
       "<style scoped>\n",
       "    .dataframe tbody tr th:only-of-type {\n",
       "        vertical-align: middle;\n",
       "    }\n",
       "\n",
       "    .dataframe tbody tr th {\n",
       "        vertical-align: top;\n",
       "    }\n",
       "\n",
       "    .dataframe thead th {\n",
       "        text-align: right;\n",
       "    }\n",
       "</style>\n",
       "<table border=\"1\" class=\"dataframe\">\n",
       "  <thead>\n",
       "    <tr style=\"text-align: right;\">\n",
       "      <th></th>\n",
       "      <th>company_구글</th>\n",
       "      <th>company_마이크로소프트</th>\n",
       "      <th>company_메타</th>\n",
       "      <th>company_아마존</th>\n",
       "      <th>company_애플</th>\n",
       "      <th>company_엔비디아</th>\n",
       "      <th>company_테슬라</th>\n",
       "    </tr>\n",
       "  </thead>\n",
       "  <tbody>\n",
       "    <tr>\n",
       "      <th>0</th>\n",
       "      <td>0</td>\n",
       "      <td>0</td>\n",
       "      <td>0</td>\n",
       "      <td>0</td>\n",
       "      <td>0</td>\n",
       "      <td>1</td>\n",
       "      <td>0</td>\n",
       "    </tr>\n",
       "    <tr>\n",
       "      <th>1</th>\n",
       "      <td>0</td>\n",
       "      <td>1</td>\n",
       "      <td>0</td>\n",
       "      <td>0</td>\n",
       "      <td>0</td>\n",
       "      <td>0</td>\n",
       "      <td>0</td>\n",
       "    </tr>\n",
       "    <tr>\n",
       "      <th>2</th>\n",
       "      <td>0</td>\n",
       "      <td>0</td>\n",
       "      <td>0</td>\n",
       "      <td>0</td>\n",
       "      <td>1</td>\n",
       "      <td>0</td>\n",
       "      <td>0</td>\n",
       "    </tr>\n",
       "    <tr>\n",
       "      <th>3</th>\n",
       "      <td>1</td>\n",
       "      <td>0</td>\n",
       "      <td>0</td>\n",
       "      <td>0</td>\n",
       "      <td>0</td>\n",
       "      <td>0</td>\n",
       "      <td>0</td>\n",
       "    </tr>\n",
       "    <tr>\n",
       "      <th>4</th>\n",
       "      <td>0</td>\n",
       "      <td>0</td>\n",
       "      <td>1</td>\n",
       "      <td>0</td>\n",
       "      <td>0</td>\n",
       "      <td>0</td>\n",
       "      <td>0</td>\n",
       "    </tr>\n",
       "    <tr>\n",
       "      <th>5</th>\n",
       "      <td>0</td>\n",
       "      <td>0</td>\n",
       "      <td>0</td>\n",
       "      <td>1</td>\n",
       "      <td>0</td>\n",
       "      <td>0</td>\n",
       "      <td>0</td>\n",
       "    </tr>\n",
       "    <tr>\n",
       "      <th>6</th>\n",
       "      <td>0</td>\n",
       "      <td>0</td>\n",
       "      <td>0</td>\n",
       "      <td>0</td>\n",
       "      <td>0</td>\n",
       "      <td>0</td>\n",
       "      <td>1</td>\n",
       "    </tr>\n",
       "  </tbody>\n",
       "</table>\n",
       "</div>"
      ],
      "text/plain": [
       "   company_구글  company_마이크로소프트  company_메타  company_아마존  company_애플  \\\n",
       "0           0                0           0            0           0   \n",
       "1           0                1           0            0           0   \n",
       "2           0                0           0            0           1   \n",
       "3           1                0           0            0           0   \n",
       "4           0                0           1            0           0   \n",
       "5           0                0           0            1           0   \n",
       "6           0                0           0            0           0   \n",
       "\n",
       "   company_엔비디아  company_테슬라  \n",
       "0             1            0  \n",
       "1             0            0  \n",
       "2             0            0  \n",
       "3             0            0  \n",
       "4             0            0  \n",
       "5             0            0  \n",
       "6             0            1  "
      ]
     },
     "execution_count": 17,
     "metadata": {},
     "output_type": "execute_result"
    }
   ],
   "source": [
    "# pandas를 이용한 one hot encoding\n",
    "\n",
    "import pandas as pd\n",
    "\n",
    "mag7 = ['엔비디아', '마이크로소프트', '애플', '구글', '메타', '아마존','테슬라']\n",
    "\n",
    "df = pd.DataFrame({'company' : mag7})\n",
    "pd.get_dummies(df)"
   ]
  },
  {
   "cell_type": "markdown",
   "id": "4c223d80",
   "metadata": {},
   "source": [
    "## Feature Scaling"
   ]
  },
  {
   "cell_type": "code",
   "execution_count": 28,
   "id": "11242ec0",
   "metadata": {},
   "outputs": [
    {
     "data": {
      "text/html": [
       "<div>\n",
       "<style scoped>\n",
       "    .dataframe tbody tr th:only-of-type {\n",
       "        vertical-align: middle;\n",
       "    }\n",
       "\n",
       "    .dataframe tbody tr th {\n",
       "        vertical-align: top;\n",
       "    }\n",
       "\n",
       "    .dataframe thead th {\n",
       "        text-align: right;\n",
       "    }\n",
       "</style>\n",
       "<table border=\"1\" class=\"dataframe\">\n",
       "  <thead>\n",
       "    <tr style=\"text-align: right;\">\n",
       "      <th></th>\n",
       "      <th>sepal length (cm)</th>\n",
       "      <th>sepal width (cm)</th>\n",
       "      <th>petal length (cm)</th>\n",
       "      <th>petal width (cm)</th>\n",
       "    </tr>\n",
       "  </thead>\n",
       "  <tbody>\n",
       "    <tr>\n",
       "      <th>0</th>\n",
       "      <td>5.1</td>\n",
       "      <td>3.5</td>\n",
       "      <td>1.4</td>\n",
       "      <td>0.2</td>\n",
       "    </tr>\n",
       "    <tr>\n",
       "      <th>1</th>\n",
       "      <td>4.9</td>\n",
       "      <td>3.0</td>\n",
       "      <td>1.4</td>\n",
       "      <td>0.2</td>\n",
       "    </tr>\n",
       "    <tr>\n",
       "      <th>2</th>\n",
       "      <td>4.7</td>\n",
       "      <td>3.2</td>\n",
       "      <td>1.3</td>\n",
       "      <td>0.2</td>\n",
       "    </tr>\n",
       "    <tr>\n",
       "      <th>3</th>\n",
       "      <td>4.6</td>\n",
       "      <td>3.1</td>\n",
       "      <td>1.5</td>\n",
       "      <td>0.2</td>\n",
       "    </tr>\n",
       "    <tr>\n",
       "      <th>4</th>\n",
       "      <td>5.0</td>\n",
       "      <td>3.6</td>\n",
       "      <td>1.4</td>\n",
       "      <td>0.2</td>\n",
       "    </tr>\n",
       "  </tbody>\n",
       "</table>\n",
       "</div>"
      ],
      "text/plain": [
       "   sepal length (cm)  sepal width (cm)  petal length (cm)  petal width (cm)\n",
       "0                5.1               3.5                1.4               0.2\n",
       "1                4.9               3.0                1.4               0.2\n",
       "2                4.7               3.2                1.3               0.2\n",
       "3                4.6               3.1                1.5               0.2\n",
       "4                5.0               3.6                1.4               0.2"
      ]
     },
     "execution_count": 28,
     "metadata": {},
     "output_type": "execute_result"
    }
   ],
   "source": [
    "from sklearn.datasets import load_iris\n",
    "import pandas as pd\n",
    "\n",
    "iris = load_iris()\n",
    "\n",
    "df = pd.DataFrame(data = iris['data'], columns = iris['feature_names'])\n",
    "\n",
    "df.head()"
   ]
  },
  {
   "cell_type": "code",
   "execution_count": 29,
   "id": "b2c619b6",
   "metadata": {},
   "outputs": [
    {
     "name": "stdout",
     "output_type": "stream",
     "text": [
      "sepal length (cm)    5.843333\n",
      "sepal width (cm)     3.057333\n",
      "petal length (cm)    3.758000\n",
      "petal width (cm)     1.199333\n",
      "dtype: float64\n",
      "\n",
      "sepal length (cm)    0.828066\n",
      "sepal width (cm)     0.435866\n",
      "petal length (cm)    1.765298\n",
      "petal width (cm)     0.762238\n",
      "dtype: float64\n"
     ]
    }
   ],
   "source": [
    "print(df.mean())\n",
    "print()\n",
    "print(df.std())"
   ]
  },
  {
   "cell_type": "markdown",
   "id": "3af1e49e",
   "metadata": {},
   "source": [
    "### Standard Scaler : mean 0, std 1 ( z 변환)\n",
    "### Min Max Scaler : (x - min) / (max - min)"
   ]
  },
  {
   "cell_type": "code",
   "execution_count": 30,
   "id": "a3d88dad",
   "metadata": {},
   "outputs": [],
   "source": [
    "from sklearn.preprocessing import StandardScaler\n",
    "from sklearn.preprocessing import MinMaxScaler\n",
    "\n",
    "# scaler 객체 생성\n",
    "s_scaler = StandardScaler()\n",
    "m_scaler = MinMaxScaler()\n",
    "\n",
    "#fit()과 transform()으로 변환 \n",
    "s_scaler.fit(df)\n",
    "s_scaled = s_scaler.transform(df)\n",
    "\n",
    "m_scaler.fit(df)\n",
    "m_scaled = m_scaler.transform(df)\n",
    "\n",
    "# transform으로 변환시 numpy array가 되므로 다시 DataFrame으로 변환\n",
    "s_scaled_df = pd.DataFrame(data = s_scaled, columns = iris['feature_names'])\n",
    "m_scaled_df = pd.DataFrame(data = m_scaled, columns = iris['feature_names'])"
   ]
  },
  {
   "cell_type": "code",
   "execution_count": 31,
   "id": "a8f0ef01",
   "metadata": {},
   "outputs": [
    {
     "name": "stdout",
     "output_type": "stream",
     "text": [
      "standard scaler 변환 후의 값들\n",
      "sepal length (cm)   -1.690315e-15\n",
      "sepal width (cm)    -1.842970e-15\n",
      "petal length (cm)   -1.698641e-15\n",
      "petal width (cm)    -1.409243e-15\n",
      "dtype: float64\n",
      "sepal length (cm)    1.00335\n",
      "sepal width (cm)     1.00335\n",
      "petal length (cm)    1.00335\n",
      "petal width (cm)     1.00335\n",
      "dtype: float64\n",
      "sepal length (cm)   -1.870024\n",
      "sepal width (cm)    -2.433947\n",
      "petal length (cm)   -1.567576\n",
      "petal width (cm)    -1.447076\n",
      "dtype: float64\n",
      "sepal length (cm)    2.492019\n",
      "sepal width (cm)     3.090775\n",
      "petal length (cm)    1.785832\n",
      "petal width (cm)     1.712096\n",
      "dtype: float64\n"
     ]
    }
   ],
   "source": [
    "print(f'standard scaler 변환 후의 값들')\n",
    "print(s_scaled_df.mean())\n",
    "print(s_scaled_df.std())\n",
    "print(s_scaled_df.min())\n",
    "print(s_scaled_df.max())"
   ]
  },
  {
   "cell_type": "code",
   "execution_count": 33,
   "id": "6d5925b5",
   "metadata": {},
   "outputs": [
    {
     "name": "stdout",
     "output_type": "stream",
     "text": [
      "min max scaler 변환 후의 값들\n",
      "sepal length (cm)    0.428704\n",
      "sepal width (cm)     0.440556\n",
      "petal length (cm)    0.467458\n",
      "petal width (cm)     0.458056\n",
      "dtype: float64\n",
      "sepal length (cm)    0.230018\n",
      "sepal width (cm)     0.181611\n",
      "petal length (cm)    0.299203\n",
      "petal width (cm)     0.317599\n",
      "dtype: float64\n",
      "sepal length (cm)    0.0\n",
      "sepal width (cm)     0.0\n",
      "petal length (cm)    0.0\n",
      "petal width (cm)     0.0\n",
      "dtype: float64\n",
      "sepal length (cm)    1.0\n",
      "sepal width (cm)     1.0\n",
      "petal length (cm)    1.0\n",
      "petal width (cm)     1.0\n",
      "dtype: float64\n"
     ]
    }
   ],
   "source": [
    "print(f'min max scaler 변환 후의 값들')\n",
    "print(m_scaled_df.mean())\n",
    "print(m_scaled_df.std())\n",
    "print(m_scaled_df.min())\n",
    "print(m_scaled_df.max())"
   ]
  },
  {
   "cell_type": "code",
   "execution_count": null,
   "id": "1695f28d",
   "metadata": {},
   "outputs": [],
   "source": []
  }
 ],
 "metadata": {
  "kernelspec": {
   "display_name": "Python 3 (ipykernel)",
   "language": "python",
   "name": "python3"
  },
  "language_info": {
   "codemirror_mode": {
    "name": "ipython",
    "version": 3
   },
   "file_extension": ".py",
   "mimetype": "text/x-python",
   "name": "python",
   "nbconvert_exporter": "python",
   "pygments_lexer": "ipython3",
   "version": "3.11.4"
  }
 },
 "nbformat": 4,
 "nbformat_minor": 5
}
