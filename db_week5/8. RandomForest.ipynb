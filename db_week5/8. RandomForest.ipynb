{
 "cells": [
  {
   "cell_type": "code",
   "execution_count": 8,
   "id": "2a9597cf",
   "metadata": {},
   "outputs": [],
   "source": [
    "from sklearn.datasets import load_iris\n",
    "from sklearn.model_selection import train_test_split\n",
    "from sklearn.ensemble import RandomForestClassifier\n",
    "from sklearn.metrics import accuracy_score\n",
    "\n",
    "iris = load_iris()\n"
   ]
  },
  {
   "cell_type": "markdown",
   "id": "9703e351",
   "metadata": {},
   "source": [
    "X_train, X_test, y_train, y_test = train_test_split(iris.data, iris.target, \n",
    "                                                    stratify = iris.target,\n",
    "                                                    test_size = 0.30)"
   ]
  },
  {
   "cell_type": "code",
   "execution_count": 13,
   "id": "071c86df",
   "metadata": {},
   "outputs": [
    {
     "name": "stdout",
     "output_type": "stream",
     "text": [
      "ACCURACY OF THE MODEL: 0.9556\n"
     ]
    }
   ],
   "source": [
    "clf = RandomForestClassifier(n_estimators = 100)  \n",
    " \n",
    "clf.fit(X_train, y_train)\n",
    " \n",
    "y_pred = clf.predict(X_test)\n",
    "\n",
    "print(f\"ACCURACY OF THE MODEL: {accuracy_score(y_test, y_pred):.4f}\")"
   ]
  },
  {
   "cell_type": "markdown",
   "id": "4083c663",
   "metadata": {},
   "source": [
    "## 랜덤 포레스트 분류기 매개변수\n",
    "* n_estimators: 숲에 있는 나무의 수. 트리가 많을수록 일반적으로 성능이 향상되지만 시간이 더 걸림. 100으로 시작.\n",
    "* max_length: 각 트리의 최대 깊이.트리가 깊어질수록 더 복잡한 패턴을 포착할 수 있지만 과적합 위험도 있음. 5에서 15 사이의 값으로 실험하고 데이터세트가 작을수록 더 낮은 값을 고려\n",
    "* max_features: 각 노드에서 분할을 위해 고려되는 변수.일반적인 값은 'sqrt'(총 기능 수의 제곱근)\n",
    "* criterion: 분할 품질('gini' 또는 'entropy')을 측정하는 데 사용되는 함수입니다. 지니 계수가 약간 더 빠른 경우가 많지만 둘 다 일반적으로 성능이 유사\n",
    "* min_samples_split: 노드를 분할하는 데 필요한 최소 샘플. 값이 높을수록 과적합을 방지할 수 있지만 너무 높으면 모델 복잡성이 감소. 2부터 시작하여 필요에 따라 조정\n",
    "* min_samples_leaf: 리프 노드에 있어야 하는 최소 샘플입니다. min_samples_split과 유사하지만 리프 노드에 중점. 1부터 시작하여 필요에 따라 조정\n",
    "* bootstrap: 트리를 구축할 때 부트스트랩 샘플링을 사용할지 여부(True 또는 False).부트스트래핑은 모델 분산과 일반화를 향상시킬 수 있지만 편향을 약간 증가시킬 수 있음"
   ]
  },
  {
   "cell_type": "code",
   "execution_count": null,
   "id": "273f4b3e",
   "metadata": {},
   "outputs": [],
   "source": []
  }
 ],
 "metadata": {
  "kernelspec": {
   "display_name": "Python 3 (ipykernel)",
   "language": "python",
   "name": "python3"
  },
  "language_info": {
   "codemirror_mode": {
    "name": "ipython",
    "version": 3
   },
   "file_extension": ".py",
   "mimetype": "text/x-python",
   "name": "python",
   "nbconvert_exporter": "python",
   "pygments_lexer": "ipython3",
   "version": "3.11.4"
  }
 },
 "nbformat": 4,
 "nbformat_minor": 5
}
