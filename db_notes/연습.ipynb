{
 "cells": [
  {
   "cell_type": "code",
   "execution_count": 5,
   "id": "a17cbf36-d7c9-4308-a11a-279a14ebeb3a",
   "metadata": {},
   "outputs": [
    {
     "name": "stdout",
     "output_type": "stream",
     "text": [
      "0\n",
      "1\n",
      "2\n",
      "3\n"
     ]
    }
   ],
   "source": [
    "kids = [10, 2, 32, 4]\n",
    "for i in kids:\n",
    "    print(kids.index(i))\n"
   ]
  },
  {
   "cell_type": "code",
   "execution_count": 7,
   "id": "d4df9a80-0579-4172-815e-a224e755459b",
   "metadata": {},
   "outputs": [
    {
     "data": {
      "text/plain": [
       "[0, 1, 2, 3]"
      ]
     },
     "execution_count": 7,
     "metadata": {},
     "output_type": "execute_result"
    }
   ],
   "source": [
    "list(range(len(kids)))"
   ]
  },
  {
   "cell_type": "code",
   "execution_count": 9,
   "id": "74836eab-1639-474a-b08c-5ed6a95d2d16",
   "metadata": {},
   "outputs": [
    {
     "name": "stdout",
     "output_type": "stream",
     "text": [
      "[0, 1, 2, 3]\n"
     ]
    }
   ],
   "source": [
    "print(list(range(len(kids))))"
   ]
  },
  {
   "cell_type": "code",
   "execution_count": 25,
   "id": "50a0e043-3f88-41fa-b989-d266a1bf1ba1",
   "metadata": {},
   "outputs": [],
   "source": [
    "text1 = str(list(range(len(kids))))"
   ]
  },
  {
   "cell_type": "code",
   "execution_count": 13,
   "id": "ca8f169e-5df4-468a-9749-c394369152f8",
   "metadata": {},
   "outputs": [
    {
     "name": "stdout",
     "output_type": "stream",
     "text": [
      "[0, 1, 2, 3]\n"
     ]
    }
   ],
   "source": []
  },
  {
   "cell_type": "code",
   "execution_count": 27,
   "id": "f9986c96-f939-408c-a81e-0c7b604d0dd5",
   "metadata": {},
   "outputs": [
    {
     "data": {
      "text/plain": [
       "'[0, 1, 2, 3]'"
      ]
     },
     "execution_count": 27,
     "metadata": {},
     "output_type": "execute_result"
    }
   ],
   "source": [
    "text1.strip()"
   ]
  },
  {
   "cell_type": "code",
   "execution_count": 33,
   "id": "cb2d140e-ecef-4454-b1d9-ba78370caa75",
   "metadata": {},
   "outputs": [
    {
     "data": {
      "text/plain": [
       "'[0, 1, 2, 3'"
      ]
     },
     "execution_count": 33,
     "metadata": {},
     "output_type": "execute_result"
    }
   ],
   "source": [
    "text1.replace('[', \"\") \n",
    "text1.replace(',', \"\")\n",
    "text1.replace(']', \"\")\n"
   ]
  },
  {
   "cell_type": "code",
   "execution_count": 41,
   "id": "c73e46c6-ccd3-4a8f-877f-da51808fd19b",
   "metadata": {},
   "outputs": [
    {
     "name": "stdout",
     "output_type": "stream",
     "text": [
      "유승태 says 장백준 to FUXX YOU\n",
      "유승태 says 장백준 to FUXX YOU\n"
     ]
    }
   ],
   "source": [
    "name = \"유승태\"\n",
    "p1 = \"장백준\"\n",
    "word = \"FUXX YOU\"\n",
    "\n",
    "print(\"{} says {} to {}\".format(name, p1, word))\n",
    "print(f'{name} says {p1} to {word}')"
   ]
  },
  {
   "cell_type": "code",
   "execution_count": 43,
   "id": "6d34613f-38ac-4b34-8192-d8c26eacd0b7",
   "metadata": {},
   "outputs": [
    {
     "name": "stdout",
     "output_type": "stream",
     "text": [
      "2 2 2 2 2 2 "
     ]
    }
   ],
   "source": [
    "i = 0\n",
    "count = []\n",
    "\n",
    "for k in [23,12,31,12,12,33]:\n",
    "    print(\"2\", end = \" \")"
   ]
  },
  {
   "cell_type": "code",
   "execution_count": 69,
   "id": "d4bf97c4-56d2-4c9a-bb31-14b407b3032a",
   "metadata": {},
   "outputs": [
    {
     "name": "stdout",
     "output_type": "stream",
     "text": [
      "23{0}   2312{1}   23{0}   23{0}   12{4}   3{5}   123{6}   213{7}   "
     ]
    }
   ],
   "source": [
    "mama = [23,2312,23,23,12,3,123,213]\n",
    "for k in mama:\n",
    "    print(k, end = \"\")\n",
    "    print({mama.index(k)},' ', end=\" \")"
   ]
  },
  {
   "cell_type": "code",
   "execution_count": null,
   "id": "7a485220-b7d6-4c07-9b62-3fd6a6e9605a",
   "metadata": {},
   "outputs": [],
   "source": []
  }
 ],
 "metadata": {
  "kernelspec": {
   "display_name": "Python 3 (ipykernel)",
   "language": "python",
   "name": "python3"
  },
  "language_info": {
   "codemirror_mode": {
    "name": "ipython",
    "version": 3
   },
   "file_extension": ".py",
   "mimetype": "text/x-python",
   "name": "python",
   "nbconvert_exporter": "python",
   "pygments_lexer": "ipython3",
   "version": "3.11.7"
  }
 },
 "nbformat": 4,
 "nbformat_minor": 5
}
