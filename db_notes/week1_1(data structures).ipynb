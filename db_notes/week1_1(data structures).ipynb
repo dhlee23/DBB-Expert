{
 "cells": [
  {
   "cell_type": "code",
   "execution_count": 43,
   "id": "bf59be5f",
   "metadata": {},
   "outputs": [
    {
     "name": "stdout",
     "output_type": "stream",
     "text": [
      "Hello World!\n",
      "hello\n"
     ]
    }
   ],
   "source": [
    "print(\"Hello World!\")\n",
    "print('hello')"
   ]
  },
  {
   "cell_type": "code",
   "execution_count": 45,
   "id": "c0f5125e-bf5a-4d2c-9635-f7b09fe3694a",
   "metadata": {},
   "outputs": [],
   "source": [
    "# 데이터구조\n",
    "# sequential data  vs. non-sequential"
   ]
  },
  {
   "cell_type": "markdown",
   "id": "8c4509e7-07cd-4a76-9a45-28c7e4772f47",
   "metadata": {},
   "source": [
    "## Numbers"
   ]
  },
  {
   "cell_type": "code",
   "execution_count": 99,
   "id": "8723e9e6",
   "metadata": {},
   "outputs": [
    {
     "name": "stdout",
     "output_type": "stream",
     "text": [
      "0 !\n",
      "[]\n"
     ]
    }
   ],
   "source": [
    "print(0, \"!\") \n",
    "#\"나는 학교에 간다\" +\n",
    "#\"나는 학교에 간다\"\n",
    "\n",
    "\n",
    "list(range(10))\n",
    "print(list(range(10,1)))\n",
    "\n"
   ]
  },
  {
   "cell_type": "code",
   "execution_count": null,
   "id": "0467cead-c1e7-46dc-a430-a398c7a63f44",
   "metadata": {},
   "outputs": [],
   "source": []
  },
  {
   "cell_type": "code",
   "execution_count": 19,
   "id": "932d379a",
   "metadata": {},
   "outputs": [],
   "source": [
    "btkim = '김병태'"
   ]
  },
  {
   "cell_type": "code",
   "execution_count": 21,
   "id": "3520cbcb",
   "metadata": {},
   "outputs": [
    {
     "name": "stdout",
     "output_type": "stream",
     "text": [
      "김병태\n"
     ]
    }
   ],
   "source": [
    "print(btkim)"
   ]
  },
  {
   "cell_type": "markdown",
   "id": "ce6e31f4-9729-401a-96c1-bd7c94f64320",
   "metadata": {},
   "source": [
    "# 할당"
   ]
  },
  {
   "cell_type": "markdown",
   "id": "80cc313f-854f-4cb4-b4ad-a02ccffae21e",
   "metadata": {},
   "source": [
    "### tensorflow \n",
    "### tensor "
   ]
  },
  {
   "cell_type": "code",
   "execution_count": 129,
   "id": "673f92a9",
   "metadata": {},
   "outputs": [
    {
     "name": "stdout",
     "output_type": "stream",
     "text": [
      "10000\n"
     ]
    }
   ],
   "source": [
    "a  = 10000\n",
    "print(a)"
   ]
  },
  {
   "cell_type": "code",
   "execution_count": 107,
   "id": "392b55be",
   "metadata": {},
   "outputs": [
    {
     "data": {
      "text/plain": [
       "int"
      ]
     },
     "execution_count": 107,
     "metadata": {},
     "output_type": "execute_result"
    }
   ],
   "source": [
    "type(a)"
   ]
  },
  {
   "cell_type": "code",
   "execution_count": 35,
   "id": "91f730cb",
   "metadata": {},
   "outputs": [],
   "source": [
    "float_1 = 36.5"
   ]
  },
  {
   "cell_type": "code",
   "execution_count": 37,
   "id": "d1826c8a",
   "metadata": {},
   "outputs": [
    {
     "data": {
      "text/plain": [
       "float"
      ]
     },
     "execution_count": 37,
     "metadata": {},
     "output_type": "execute_result"
    }
   ],
   "source": [
    "type(float_1)"
   ]
  },
  {
   "cell_type": "code",
   "execution_count": 121,
   "id": "0562b3f4",
   "metadata": {},
   "outputs": [],
   "source": [
    "a = 20\n",
    "b = 36.5"
   ]
  },
  {
   "cell_type": "code",
   "execution_count": 131,
   "id": "350161ab",
   "metadata": {},
   "outputs": [
    {
     "data": {
      "text/plain": [
       "10036.5"
      ]
     },
     "execution_count": 131,
     "metadata": {},
     "output_type": "execute_result"
    }
   ],
   "source": [
    "a + b"
   ]
  },
  {
   "cell_type": "code",
   "execution_count": 133,
   "id": "e63eb891",
   "metadata": {},
   "outputs": [],
   "source": [
    "a = float(a)"
   ]
  },
  {
   "cell_type": "code",
   "execution_count": 135,
   "id": "49b2bf97",
   "metadata": {},
   "outputs": [
    {
     "name": "stdout",
     "output_type": "stream",
     "text": [
      "10000.0\n"
     ]
    }
   ],
   "source": [
    "print(a)"
   ]
  },
  {
   "cell_type": "code",
   "execution_count": 137,
   "id": "7574c4e6",
   "metadata": {},
   "outputs": [
    {
     "name": "stdout",
     "output_type": "stream",
     "text": [
      "36\n"
     ]
    }
   ],
   "source": [
    "print(int(b))"
   ]
  },
  {
   "cell_type": "code",
   "execution_count": 17,
   "id": "cf77bc12",
   "metadata": {},
   "outputs": [],
   "source": [
    "#float, int, str , bool"
   ]
  },
  {
   "cell_type": "code",
   "execution_count": 174,
   "id": "6076ebe4",
   "metadata": {},
   "outputs": [
    {
     "name": "stdout",
     "output_type": "stream",
     "text": [
      "True\n",
      "Object `substring` not found.\n"
     ]
    }
   ],
   "source": [
    "print(bool(10))\n",
    "tf = 'TRUE'\n",
    "ft = 'FALSE'\n",
    "\n"
   ]
  },
  {
   "cell_type": "code",
   "execution_count": 142,
   "id": "70aa168e",
   "metadata": {},
   "outputs": [
    {
     "name": "stdout",
     "output_type": "stream",
     "text": [
      "False\n"
     ]
    }
   ],
   "source": [
    "print(bool(0))"
   ]
  },
  {
   "cell_type": "markdown",
   "id": "e0aba21f",
   "metadata": {},
   "source": [
    "## String"
   ]
  },
  {
   "cell_type": "code",
   "execution_count": 20,
   "id": "cddd6997",
   "metadata": {},
   "outputs": [],
   "source": [
    "btkim ='김\"병\"태'\n"
   ]
  },
  {
   "cell_type": "code",
   "execution_count": 21,
   "id": "1d8bfaa0",
   "metadata": {},
   "outputs": [
    {
     "name": "stdout",
     "output_type": "stream",
     "text": [
      "김\"병\"태\n"
     ]
    }
   ],
   "source": [
    "print(btkim)"
   ]
  },
  {
   "cell_type": "code",
   "execution_count": 22,
   "id": "d798b224",
   "metadata": {},
   "outputs": [],
   "source": [
    "btkim_1 = \"김'병'태\""
   ]
  },
  {
   "cell_type": "code",
   "execution_count": 23,
   "id": "2a2d6ba6",
   "metadata": {},
   "outputs": [
    {
     "name": "stdout",
     "output_type": "stream",
     "text": [
      "김'병'태\n"
     ]
    }
   ],
   "source": [
    "print(btkim_1)"
   ]
  },
  {
   "cell_type": "code",
   "execution_count": 24,
   "id": "864d06e6",
   "metadata": {},
   "outputs": [],
   "source": [
    "c = \"\"\"\n",
    "a\n",
    "b\n",
    "c\n",
    "\n",
    "\"\"\""
   ]
  },
  {
   "cell_type": "code",
   "execution_count": 25,
   "id": "71ae6ffe",
   "metadata": {},
   "outputs": [
    {
     "name": "stdout",
     "output_type": "stream",
     "text": [
      "\n",
      "a\n",
      "b\n",
      "c\n",
      "\n",
      "\n"
     ]
    }
   ],
   "source": [
    "print(c)"
   ]
  },
  {
   "cell_type": "code",
   "execution_count": 176,
   "id": "9b6e85dd",
   "metadata": {},
   "outputs": [],
   "source": [
    "btkim =\"김병태\""
   ]
  },
  {
   "cell_type": "code",
   "execution_count": 178,
   "id": "d6794632",
   "metadata": {},
   "outputs": [
    {
     "data": {
      "text/plain": [
       "'김'"
      ]
     },
     "execution_count": 178,
     "metadata": {},
     "output_type": "execute_result"
    }
   ],
   "source": [
    "btkim[0]"
   ]
  },
  {
   "cell_type": "code",
   "execution_count": 180,
   "id": "66f346b8",
   "metadata": {},
   "outputs": [
    {
     "data": {
      "text/plain": [
       "'태'"
      ]
     },
     "execution_count": 180,
     "metadata": {},
     "output_type": "execute_result"
    }
   ],
   "source": [
    "btkim[2]"
   ]
  },
  {
   "cell_type": "code",
   "execution_count": 182,
   "id": "65168888",
   "metadata": {},
   "outputs": [
    {
     "data": {
      "text/plain": [
       "'태'"
      ]
     },
     "execution_count": 182,
     "metadata": {},
     "output_type": "execute_result"
    }
   ],
   "source": [
    "btkim[-1]"
   ]
  },
  {
   "cell_type": "code",
   "execution_count": 184,
   "id": "167a368c",
   "metadata": {},
   "outputs": [
    {
     "data": {
      "text/plain": [
       "'김병'"
      ]
     },
     "execution_count": 184,
     "metadata": {},
     "output_type": "execute_result"
    }
   ],
   "source": [
    "btkim[0:2]"
   ]
  },
  {
   "cell_type": "code",
   "execution_count": 186,
   "id": "f5e26524",
   "metadata": {},
   "outputs": [
    {
     "data": {
      "text/plain": [
       "'김'"
      ]
     },
     "execution_count": 186,
     "metadata": {},
     "output_type": "execute_result"
    }
   ],
   "source": [
    "btkim[0:1]"
   ]
  },
  {
   "cell_type": "code",
   "execution_count": 32,
   "id": "ebef4b98",
   "metadata": {},
   "outputs": [],
   "source": [
    "# \\t , \\n (new line)"
   ]
  },
  {
   "cell_type": "code",
   "execution_count": 204,
   "id": "d98a0688",
   "metadata": {},
   "outputs": [],
   "source": [
    "a = '\\npytho\\nn'\n",
    "\n",
    "aa = 'gkwkgkwkgk\\twddd'\n",
    "aaa = 'skfjlqkjwkjd(new line)'"
   ]
  },
  {
   "cell_type": "code",
   "execution_count": 206,
   "id": "00c2d102",
   "metadata": {},
   "outputs": [
    {
     "name": "stdout",
     "output_type": "stream",
     "text": [
      "\n",
      "pytho\n",
      "n\n",
      "gkwkgkwkgk\twddd\n",
      "skfjlqkjwkjd(new line)\n"
     ]
    }
   ],
   "source": [
    "print(a)\n",
    "print(aa)\n",
    "print(aaa)"
   ]
  },
  {
   "cell_type": "code",
   "execution_count": 192,
   "id": "87982d4f",
   "metadata": {},
   "outputs": [],
   "source": [
    "school = 'skku'"
   ]
  },
  {
   "cell_type": "code",
   "execution_count": 194,
   "id": "55e07fe1",
   "metadata": {},
   "outputs": [
    {
     "data": {
      "text/plain": [
       "'김병태skku'"
      ]
     },
     "execution_count": 194,
     "metadata": {},
     "output_type": "execute_result"
    }
   ],
   "source": [
    "btkim + school"
   ]
  },
  {
   "cell_type": "code",
   "execution_count": 196,
   "id": "c099dd64",
   "metadata": {},
   "outputs": [
    {
     "data": {
      "text/plain": [
       "'김병태 skku'"
      ]
     },
     "execution_count": 196,
     "metadata": {},
     "output_type": "execute_result"
    }
   ],
   "source": [
    "btkim + \" \" + school"
   ]
  },
  {
   "cell_type": "code",
   "execution_count": null,
   "id": "e6d8de59-3f2d-4ec0-8de3-80911ab68bce",
   "metadata": {},
   "outputs": [],
   "source": []
  },
  {
   "cell_type": "code",
   "execution_count": 210,
   "id": "4aa74764",
   "metadata": {},
   "outputs": [
    {
     "data": {
      "text/plain": [
       "'김병태김병태김병태'"
      ]
     },
     "execution_count": 210,
     "metadata": {},
     "output_type": "execute_result"
    }
   ],
   "source": [
    "btkim*3"
   ]
  },
  {
   "cell_type": "code",
   "execution_count": 252,
   "id": "9470beed",
   "metadata": {},
   "outputs": [
    {
     "name": "stdout",
     "output_type": "stream",
     "text": [
      "abcdefghijklmn   a  b a\n"
     ]
    }
   ],
   "source": [
    "a = \"abcdefghijklmn\"\n",
    "print(a,\" \", a[0], a[:0], a[1], a[:1])"
   ]
  },
  {
   "cell_type": "code",
   "execution_count": null,
   "id": "7cb44c6a-7da5-4a35-9bcc-2710b4016045",
   "metadata": {},
   "outputs": [],
   "source": []
  },
  {
   "cell_type": "code",
   "execution_count": 216,
   "id": "7d66e46e",
   "metadata": {},
   "outputs": [
    {
     "data": {
      "text/plain": [
       "6"
      ]
     },
     "execution_count": 216,
     "metadata": {},
     "output_type": "execute_result"
    }
   ],
   "source": [
    "list_1 = [1,3,5,7,9,11]\n",
    "len(list_1)"
   ]
  },
  {
   "cell_type": "code",
   "execution_count": 254,
   "id": "328761f8",
   "metadata": {},
   "outputs": [],
   "source": [
    "str5 = \"너의 삶은 짧지만, 계속 구하면 가치있는 것을 찾으리라\""
   ]
  },
  {
   "cell_type": "code",
   "execution_count": 256,
   "id": "d7c7b783",
   "metadata": {},
   "outputs": [
    {
     "data": {
      "text/plain": [
       "'너'"
      ]
     },
     "execution_count": 256,
     "metadata": {},
     "output_type": "execute_result"
    }
   ],
   "source": [
    "str5[0]"
   ]
  },
  {
   "cell_type": "code",
   "execution_count": 258,
   "id": "9da86052",
   "metadata": {},
   "outputs": [
    {
     "data": {
      "text/plain": [
       "'라'"
      ]
     },
     "execution_count": 258,
     "metadata": {},
     "output_type": "execute_result"
    }
   ],
   "source": [
    "str5[-1]"
   ]
  },
  {
   "cell_type": "code",
   "execution_count": 260,
   "id": "2d39ea4a",
   "metadata": {},
   "outputs": [
    {
     "data": {
      "text/plain": [
       "'리'"
      ]
     },
     "execution_count": 260,
     "metadata": {},
     "output_type": "execute_result"
    }
   ],
   "source": [
    "str5[-2]"
   ]
  },
  {
   "cell_type": "code",
   "execution_count": 262,
   "id": "72f9c524",
   "metadata": {},
   "outputs": [
    {
     "data": {
      "text/plain": [
       "'으'"
      ]
     },
     "execution_count": 262,
     "metadata": {},
     "output_type": "execute_result"
    }
   ],
   "source": [
    "str5[-3]"
   ]
  },
  {
   "cell_type": "code",
   "execution_count": 264,
   "id": "3e0c499b",
   "metadata": {},
   "outputs": [],
   "source": [
    "new_str = str5[0] + str5[10] + str5[15]"
   ]
  },
  {
   "cell_type": "code",
   "execution_count": 266,
   "id": "6ba8c00b",
   "metadata": {},
   "outputs": [
    {
     "name": "stdout",
     "output_type": "stream",
     "text": [
      "너 하\n"
     ]
    }
   ],
   "source": [
    "print(new_str)"
   ]
  },
  {
   "cell_type": "code",
   "execution_count": 268,
   "id": "42c2e9b9",
   "metadata": {},
   "outputs": [
    {
     "data": {
      "text/plain": [
       "'너 하I go'"
      ]
     },
     "execution_count": 268,
     "metadata": {},
     "output_type": "execute_result"
    }
   ],
   "source": [
    "new_str + \"I go\""
   ]
  },
  {
   "cell_type": "code",
   "execution_count": 272,
   "id": "c411a3ea",
   "metadata": {},
   "outputs": [
    {
     "data": {
      "text/plain": [
       "'너의 삶은 짧지만,'"
      ]
     },
     "execution_count": 272,
     "metadata": {},
     "output_type": "execute_result"
    }
   ],
   "source": [
    "str5[0:10]"
   ]
  },
  {
   "cell_type": "code",
   "execution_count": 296,
   "id": "e8bfbee9",
   "metadata": {},
   "outputs": [
    {
     "name": "stdout",
     "output_type": "stream",
     "text": [
      "너의 삶은 짧지만, 계속 구하면 가치있는 것을 찾으리라\n",
      "너의 삶은 짧지만,\n",
      "[0, 1, 2, 3, 4, 5, 6, 7, 8, 9, 10, 11, 12, 13, 14, 15, 16, 17, 18, 19, 20, 21, 22, 23, 24, 25, 26, 27, 28, 29]\n"
     ]
    }
   ],
   "source": [
    "print(str5+\"\\n\"+str5[:10])\n",
    "\n",
    "print(list(range(len(str5))))"
   ]
  },
  {
   "cell_type": "code",
   "execution_count": 298,
   "id": "5b618ddd",
   "metadata": {},
   "outputs": [
    {
     "data": {
      "text/plain": [
       "'너'"
      ]
     },
     "execution_count": 298,
     "metadata": {},
     "output_type": "execute_result"
    }
   ],
   "source": [
    "str5[0:1]"
   ]
  },
  {
   "cell_type": "code",
   "execution_count": 52,
   "id": "a4d26384",
   "metadata": {},
   "outputs": [
    {
     "data": {
      "text/plain": [
       "'너'"
      ]
     },
     "execution_count": 52,
     "metadata": {},
     "output_type": "execute_result"
    }
   ],
   "source": [
    "str5[0]"
   ]
  },
  {
   "cell_type": "code",
   "execution_count": 300,
   "id": "486781c4",
   "metadata": {},
   "outputs": [
    {
     "data": {
      "text/plain": [
       "'있는 것을 찾으리'"
      ]
     },
     "execution_count": 300,
     "metadata": {},
     "output_type": "execute_result"
    }
   ],
   "source": [
    "str5[20:-1]"
   ]
  },
  {
   "cell_type": "code",
   "execution_count": 54,
   "id": "7139df43",
   "metadata": {},
   "outputs": [
    {
     "data": {
      "text/plain": [
       "'있는 것을 찾으리라'"
      ]
     },
     "execution_count": 54,
     "metadata": {},
     "output_type": "execute_result"
    }
   ],
   "source": [
    "str5[20:]"
   ]
  },
  {
   "cell_type": "code",
   "execution_count": 55,
   "id": "bcb4bac2",
   "metadata": {},
   "outputs": [
    {
     "data": {
      "text/plain": [
       "'너의 삶은 짧지만, 계속 구하면 가치있는 것을 찾으리'"
      ]
     },
     "execution_count": 55,
     "metadata": {},
     "output_type": "execute_result"
    }
   ],
   "source": [
    "str5[0:-1]"
   ]
  },
  {
   "cell_type": "code",
   "execution_count": 56,
   "id": "3fa1facf",
   "metadata": {},
   "outputs": [
    {
     "data": {
      "text/plain": [
       "'너의 삶은 짧지만, 계속 구하면 가치있는 것을 찾으리라'"
      ]
     },
     "execution_count": 56,
     "metadata": {},
     "output_type": "execute_result"
    }
   ],
   "source": [
    "str5"
   ]
  },
  {
   "cell_type": "code",
   "execution_count": 57,
   "id": "e6c6c866",
   "metadata": {},
   "outputs": [
    {
     "data": {
      "text/plain": [
       "'너의 삶은 짧지만, 계속 구하면 가치있는 것을 찾으리라'"
      ]
     },
     "execution_count": 57,
     "metadata": {},
     "output_type": "execute_result"
    }
   ],
   "source": [
    "str5[:]"
   ]
  },
  {
   "cell_type": "code",
   "execution_count": 302,
   "id": "6c2d02cb",
   "metadata": {},
   "outputs": [
    {
     "data": {
      "text/plain": [
       "'라리으찾 을것 는있치가 면하구 속계 ,만지짧 은삶 의너'"
      ]
     },
     "execution_count": 302,
     "metadata": {},
     "output_type": "execute_result"
    }
   ],
   "source": [
    "str5[::-1]"
   ]
  },
  {
   "cell_type": "code",
   "execution_count": 59,
   "id": "48ae1ce1",
   "metadata": {},
   "outputs": [
    {
     "data": {
      "text/plain": [
       "'라으 것는치 하 계,지 삶의'"
      ]
     },
     "execution_count": 59,
     "metadata": {},
     "output_type": "execute_result"
    }
   ],
   "source": [
    "str5[::-2]"
   ]
  },
  {
   "cell_type": "code",
   "execution_count": 60,
   "id": "634fa5ce",
   "metadata": {},
   "outputs": [
    {
     "data": {
      "text/plain": [
       "'너 은짧만 속구면가있 을찾리'"
      ]
     },
     "execution_count": 60,
     "metadata": {},
     "output_type": "execute_result"
    }
   ],
   "source": [
    "str5[::2]"
   ]
  },
  {
   "cell_type": "code",
   "execution_count": 61,
   "id": "bf833fd3",
   "metadata": {},
   "outputs": [
    {
     "data": {
      "text/plain": [
       "'너의 삶은 짧지만, 계속 구하면 가치있는 것을 찾으리라'"
      ]
     },
     "execution_count": 61,
     "metadata": {},
     "output_type": "execute_result"
    }
   ],
   "source": [
    "str5[::1]"
   ]
  },
  {
   "cell_type": "code",
   "execution_count": 62,
   "id": "a1825319",
   "metadata": {},
   "outputs": [
    {
     "data": {
      "text/plain": [
       "'너의 삶은 짧지만, 계속 구하면 가치있는 것을 찾으리라'"
      ]
     },
     "execution_count": 62,
     "metadata": {},
     "output_type": "execute_result"
    }
   ],
   "source": [
    "str5[:]"
   ]
  },
  {
   "cell_type": "code",
   "execution_count": 63,
   "id": "2190c624",
   "metadata": {},
   "outputs": [
    {
     "data": {
      "text/plain": [
       "'너삶짧,속하가는을으'"
      ]
     },
     "execution_count": 63,
     "metadata": {},
     "output_type": "execute_result"
    }
   ],
   "source": [
    "str5[::3]"
   ]
  },
  {
   "cell_type": "code",
   "execution_count": 64,
   "id": "84b051f0",
   "metadata": {},
   "outputs": [
    {
     "data": {
      "text/plain": [
       "'라리으찾 을것 는있치가 면하구 속계 ,만지짧 은삶 의너'"
      ]
     },
     "execution_count": 64,
     "metadata": {},
     "output_type": "execute_result"
    }
   ],
   "source": [
    "str5[::-1]"
   ]
  },
  {
   "cell_type": "code",
   "execution_count": 65,
   "id": "780c695d",
   "metadata": {},
   "outputs": [
    {
     "data": {
      "text/plain": [
       "'라으 것는치 하 계,지 삶의'"
      ]
     },
     "execution_count": 65,
     "metadata": {},
     "output_type": "execute_result"
    }
   ],
   "source": [
    "str5[::-2]"
   ]
  },
  {
   "cell_type": "code",
   "execution_count": 66,
   "id": "c9881397",
   "metadata": {},
   "outputs": [],
   "source": [
    "# 문자열 함수"
   ]
  },
  {
   "cell_type": "code",
   "execution_count": 67,
   "id": "71a4d46c",
   "metadata": {},
   "outputs": [
    {
     "data": {
      "text/plain": [
       "1"
      ]
     },
     "execution_count": 67,
     "metadata": {},
     "output_type": "execute_result"
    }
   ],
   "source": [
    "str5.count('라')"
   ]
  },
  {
   "cell_type": "code",
   "execution_count": 68,
   "id": "1bea0584",
   "metadata": {},
   "outputs": [
    {
     "ename": "NameError",
     "evalue": "name 'count' is not defined",
     "output_type": "error",
     "traceback": [
      "\u001b[0;31m---------------------------------------------------------------------------\u001b[0m",
      "\u001b[0;31mNameError\u001b[0m                                 Traceback (most recent call last)",
      "Cell \u001b[0;32mIn[68], line 1\u001b[0m\n\u001b[0;32m----> 1\u001b[0m count(str5)\n",
      "\u001b[0;31mNameError\u001b[0m: name 'count' is not defined"
     ]
    }
   ],
   "source": [
    "# count()함수가 아님.\n",
    "\n",
    "count(str5)"
   ]
  },
  {
   "cell_type": "code",
   "execution_count": 69,
   "id": "f57d405c",
   "metadata": {},
   "outputs": [
    {
     "data": {
      "text/plain": [
       "30"
      ]
     },
     "execution_count": 69,
     "metadata": {},
     "output_type": "execute_result"
    }
   ],
   "source": [
    "len(str5)"
   ]
  },
  {
   "cell_type": "code",
   "execution_count": 304,
   "id": "98fb0cfe",
   "metadata": {},
   "outputs": [
    {
     "data": {
      "text/plain": [
       "1"
      ]
     },
     "execution_count": 304,
     "metadata": {},
     "output_type": "execute_result"
    }
   ],
   "source": [
    "str5.count('은')"
   ]
  },
  {
   "cell_type": "code",
   "execution_count": 306,
   "id": "10793b92",
   "metadata": {},
   "outputs": [],
   "source": [
    "str8 = \"Python Business Data Analysis\""
   ]
  },
  {
   "cell_type": "code",
   "execution_count": 310,
   "id": "6237dbef",
   "metadata": {},
   "outputs": [
    {
     "data": {
      "text/plain": [
       "10"
      ]
     },
     "execution_count": 310,
     "metadata": {},
     "output_type": "execute_result"
    }
   ],
   "source": [
    "str8.find('i')"
   ]
  },
  {
   "cell_type": "code",
   "execution_count": 314,
   "id": "ea71d7e5",
   "metadata": {},
   "outputs": [
    {
     "data": {
      "text/plain": [
       "0"
      ]
     },
     "execution_count": 314,
     "metadata": {},
     "output_type": "execute_result"
    }
   ],
   "source": [
    "str8.index('P')"
   ]
  },
  {
   "cell_type": "code",
   "execution_count": 114,
   "id": "ab59365f",
   "metadata": {},
   "outputs": [],
   "source": [
    "# join 함수"
   ]
  },
  {
   "cell_type": "code",
   "execution_count": 74,
   "id": "1e125356",
   "metadata": {},
   "outputs": [],
   "source": [
    "new_name = \" \".join('김병태')"
   ]
  },
  {
   "cell_type": "code",
   "execution_count": 75,
   "id": "03e0d5a8",
   "metadata": {},
   "outputs": [
    {
     "name": "stdout",
     "output_type": "stream",
     "text": [
      "김 병 태\n"
     ]
    }
   ],
   "source": [
    "print(new_name)"
   ]
  },
  {
   "cell_type": "code",
   "execution_count": 76,
   "id": "5091314d",
   "metadata": {},
   "outputs": [
    {
     "data": {
      "text/plain": [
       "'p           y           t           h           o           n'"
      ]
     },
     "execution_count": 76,
     "metadata": {},
     "output_type": "execute_result"
    }
   ],
   "source": [
    "'           '.join(\"python\")"
   ]
  },
  {
   "cell_type": "code",
   "execution_count": 77,
   "id": "23693566",
   "metadata": {},
   "outputs": [],
   "source": [
    "# join 은 다른 데이터구조도 지원"
   ]
  },
  {
   "cell_type": "code",
   "execution_count": 78,
   "id": "4c113374",
   "metadata": {},
   "outputs": [],
   "source": [
    "str_list = [\"python\", 'R', \"C++\", \"Java\", \"Perl\"]"
   ]
  },
  {
   "cell_type": "code",
   "execution_count": 79,
   "id": "4d1107b1",
   "metadata": {},
   "outputs": [],
   "source": [
    "a = \" \".join(str_list)"
   ]
  },
  {
   "cell_type": "code",
   "execution_count": 80,
   "id": "37367aec",
   "metadata": {},
   "outputs": [
    {
     "data": {
      "text/plain": [
       "str"
      ]
     },
     "execution_count": 80,
     "metadata": {},
     "output_type": "execute_result"
    }
   ],
   "source": [
    "type(a)"
   ]
  },
  {
   "cell_type": "code",
   "execution_count": 81,
   "id": "d02bd7ab",
   "metadata": {},
   "outputs": [],
   "source": [
    "#upper, lower\n",
    "\n",
    "str8 = \"Python Business Data\""
   ]
  },
  {
   "cell_type": "code",
   "execution_count": 82,
   "id": "03990733",
   "metadata": {},
   "outputs": [
    {
     "data": {
      "text/plain": [
       "'PYTHON BUSINESS DATA'"
      ]
     },
     "execution_count": 82,
     "metadata": {},
     "output_type": "execute_result"
    }
   ],
   "source": [
    "str8.upper()"
   ]
  },
  {
   "cell_type": "code",
   "execution_count": 83,
   "id": "06a260a1",
   "metadata": {},
   "outputs": [
    {
     "data": {
      "text/plain": [
       "'python business data'"
      ]
     },
     "execution_count": 83,
     "metadata": {},
     "output_type": "execute_result"
    }
   ],
   "source": [
    "str8.lower()"
   ]
  },
  {
   "cell_type": "code",
   "execution_count": 84,
   "id": "804975f8",
   "metadata": {},
   "outputs": [
    {
     "name": "stdout",
     "output_type": "stream",
     "text": [
      "   python     \n"
     ]
    }
   ],
   "source": [
    "# strip \n",
    "\n",
    "str9 =\"   python     \"\n",
    "print(str9)"
   ]
  },
  {
   "cell_type": "code",
   "execution_count": 85,
   "id": "96d5bc03",
   "metadata": {},
   "outputs": [
    {
     "data": {
      "text/plain": [
       "'python     '"
      ]
     },
     "execution_count": 85,
     "metadata": {},
     "output_type": "execute_result"
    }
   ],
   "source": [
    "str9.lstrip()"
   ]
  },
  {
   "cell_type": "code",
   "execution_count": 86,
   "id": "15c6467a",
   "metadata": {},
   "outputs": [
    {
     "data": {
      "text/plain": [
       "'   python'"
      ]
     },
     "execution_count": 86,
     "metadata": {},
     "output_type": "execute_result"
    }
   ],
   "source": [
    "str9.rstrip()"
   ]
  },
  {
   "cell_type": "code",
   "execution_count": 87,
   "id": "66b95997",
   "metadata": {},
   "outputs": [
    {
     "data": {
      "text/plain": [
       "'python'"
      ]
     },
     "execution_count": 87,
     "metadata": {},
     "output_type": "execute_result"
    }
   ],
   "source": [
    "str9.strip()"
   ]
  },
  {
   "cell_type": "code",
   "execution_count": 88,
   "id": "3844b746",
   "metadata": {},
   "outputs": [
    {
     "name": "stdout",
     "output_type": "stream",
     "text": [
      "Python Business Data\n"
     ]
    }
   ],
   "source": [
    "print(str8)"
   ]
  },
  {
   "cell_type": "code",
   "execution_count": 89,
   "id": "ce42ba66",
   "metadata": {},
   "outputs": [
    {
     "data": {
      "text/plain": [
       "'Python : Business : Data'"
      ]
     },
     "execution_count": 89,
     "metadata": {},
     "output_type": "execute_result"
    }
   ],
   "source": [
    "str8.replace(\" \", \" : \")"
   ]
  },
  {
   "cell_type": "code",
   "execution_count": 90,
   "id": "12238697",
   "metadata": {},
   "outputs": [],
   "source": [
    "#split\n",
    "\n",
    "#split의 실행 결과는 list!!!!!!"
   ]
  },
  {
   "cell_type": "code",
   "execution_count": 91,
   "id": "889efdbf",
   "metadata": {},
   "outputs": [
    {
     "data": {
      "text/plain": [
       "str"
      ]
     },
     "execution_count": 91,
     "metadata": {},
     "output_type": "execute_result"
    }
   ],
   "source": [
    "type(str8)"
   ]
  },
  {
   "cell_type": "code",
   "execution_count": 92,
   "id": "fb1c102f",
   "metadata": {},
   "outputs": [],
   "source": [
    "a = str8.split(\" \")"
   ]
  },
  {
   "cell_type": "code",
   "execution_count": 93,
   "id": "ff0e2abf",
   "metadata": {},
   "outputs": [
    {
     "name": "stdout",
     "output_type": "stream",
     "text": [
      "['Python', 'Business', 'Data']\n"
     ]
    }
   ],
   "source": [
    "print(a)"
   ]
  },
  {
   "cell_type": "code",
   "execution_count": 94,
   "id": "3558249a",
   "metadata": {},
   "outputs": [
    {
     "data": {
      "text/plain": [
       "'Python Business Data'"
      ]
     },
     "execution_count": 94,
     "metadata": {},
     "output_type": "execute_result"
    }
   ],
   "source": [
    "\" \".join(a)"
   ]
  },
  {
   "cell_type": "code",
   "execution_count": 95,
   "id": "e8c750af",
   "metadata": {},
   "outputs": [
    {
     "data": {
      "text/plain": [
       "['Python', 'Business', 'Data']"
      ]
     },
     "execution_count": 95,
     "metadata": {},
     "output_type": "execute_result"
    }
   ],
   "source": [
    "str8.split()"
   ]
  },
  {
   "cell_type": "code",
   "execution_count": 96,
   "id": "4f8225eb",
   "metadata": {},
   "outputs": [
    {
     "data": {
      "text/plain": [
       "['Python', 'Data']"
      ]
     },
     "execution_count": 96,
     "metadata": {},
     "output_type": "execute_result"
    }
   ],
   "source": [
    "str8.split(' Business ')"
   ]
  },
  {
   "cell_type": "code",
   "execution_count": 97,
   "id": "79a34f3e",
   "metadata": {},
   "outputs": [
    {
     "name": "stdout",
     "output_type": "stream",
     "text": [
      "890724\n"
     ]
    }
   ],
   "source": [
    "# example 1-1\n",
    "\n",
    "tmp = 890724\n",
    "\n",
    "tmp = str(tmp)\n",
    "print(tmp)\n",
    "\n",
    "year = tmp[:2]\n",
    "month = tmp[2:4]\n",
    "day = tmp[4:]\n",
    "\n"
   ]
  },
  {
   "cell_type": "code",
   "execution_count": 98,
   "id": "c1a05e61",
   "metadata": {},
   "outputs": [
    {
     "name": "stdout",
     "output_type": "stream",
     "text": [
      "24\n"
     ]
    }
   ],
   "source": [
    "print(day)"
   ]
  },
  {
   "cell_type": "code",
   "execution_count": 103,
   "id": "279aa62d",
   "metadata": {},
   "outputs": [
    {
     "data": {
      "text/plain": [
       "['__add__',\n",
       " '__class__',\n",
       " '__contains__',\n",
       " '__delattr__',\n",
       " '__dir__',\n",
       " '__doc__',\n",
       " '__eq__',\n",
       " '__format__',\n",
       " '__ge__',\n",
       " '__getattribute__',\n",
       " '__getitem__',\n",
       " '__getnewargs__',\n",
       " '__getstate__',\n",
       " '__gt__',\n",
       " '__hash__',\n",
       " '__init__',\n",
       " '__init_subclass__',\n",
       " '__iter__',\n",
       " '__le__',\n",
       " '__len__',\n",
       " '__lt__',\n",
       " '__mod__',\n",
       " '__mul__',\n",
       " '__ne__',\n",
       " '__new__',\n",
       " '__reduce__',\n",
       " '__reduce_ex__',\n",
       " '__repr__',\n",
       " '__rmod__',\n",
       " '__rmul__',\n",
       " '__setattr__',\n",
       " '__sizeof__',\n",
       " '__str__',\n",
       " '__subclasshook__',\n",
       " 'capitalize',\n",
       " 'casefold',\n",
       " 'center',\n",
       " 'count',\n",
       " 'encode',\n",
       " 'endswith',\n",
       " 'expandtabs',\n",
       " 'find',\n",
       " 'format',\n",
       " 'format_map',\n",
       " 'index',\n",
       " 'isalnum',\n",
       " 'isalpha',\n",
       " 'isascii',\n",
       " 'isdecimal',\n",
       " 'isdigit',\n",
       " 'isidentifier',\n",
       " 'islower',\n",
       " 'isnumeric',\n",
       " 'isprintable',\n",
       " 'isspace',\n",
       " 'istitle',\n",
       " 'isupper',\n",
       " 'join',\n",
       " 'ljust',\n",
       " 'lower',\n",
       " 'lstrip',\n",
       " 'maketrans',\n",
       " 'partition',\n",
       " 'removeprefix',\n",
       " 'removesuffix',\n",
       " 'replace',\n",
       " 'rfind',\n",
       " 'rindex',\n",
       " 'rjust',\n",
       " 'rpartition',\n",
       " 'rsplit',\n",
       " 'rstrip',\n",
       " 'split',\n",
       " 'splitlines',\n",
       " 'startswith',\n",
       " 'strip',\n",
       " 'swapcase',\n",
       " 'title',\n",
       " 'translate',\n",
       " 'upper',\n",
       " 'zfill']"
      ]
     },
     "execution_count": 103,
     "metadata": {},
     "output_type": "execute_result"
    }
   ],
   "source": [
    "# method vs. function\n",
    "\n",
    "dir(str)"
   ]
  },
  {
   "cell_type": "code",
   "execution_count": 104,
   "id": "e24e07d6",
   "metadata": {},
   "outputs": [
    {
     "data": {
      "text/plain": [
       "'2019-06-03'"
      ]
     },
     "execution_count": 104,
     "metadata": {},
     "output_type": "execute_result"
    }
   ],
   "source": [
    "# example 1-2\n",
    "\n",
    "logistic = \"20190603\"\n",
    "\n",
    "year = logistic[:4]\n",
    "month = logistic[4:6]\n",
    "day = logistic[6:]\n",
    "\n",
    "year + \"-\" + month + \"-\" + day"
   ]
  },
  {
   "cell_type": "code",
   "execution_count": 105,
   "id": "2768205e",
   "metadata": {},
   "outputs": [
    {
     "data": {
      "text/plain": [
       "'01012345678'"
      ]
     },
     "execution_count": 105,
     "metadata": {},
     "output_type": "execute_result"
    }
   ],
   "source": [
    "# example 1-3\n",
    "\n",
    "num = \"010-1234-5678\"\n",
    "\n",
    "num.replace('-','')"
   ]
  },
  {
   "cell_type": "code",
   "execution_count": 106,
   "id": "e8adbc78",
   "metadata": {},
   "outputs": [
    {
     "name": "stdout",
     "output_type": "stream",
     "text": [
      "['010', '1234', '5678']\n"
     ]
    }
   ],
   "source": [
    "tmp = num.split(\"-\")\n",
    "print(tmp)"
   ]
  },
  {
   "cell_type": "code",
   "execution_count": 107,
   "id": "02d1d028",
   "metadata": {},
   "outputs": [
    {
     "data": {
      "text/plain": [
       "'01012345678'"
      ]
     },
     "execution_count": 107,
     "metadata": {},
     "output_type": "execute_result"
    }
   ],
   "source": [
    "''.join(tmp)"
   ]
  },
  {
   "cell_type": "code",
   "execution_count": 108,
   "id": "a2eaadce",
   "metadata": {},
   "outputs": [
    {
     "data": {
      "text/plain": [
       "'daily essential'"
      ]
     },
     "execution_count": 108,
     "metadata": {},
     "output_type": "execute_result"
    }
   ],
   "source": [
    "# example 1-4\n",
    "\n",
    "things = \"DAILY ESSENTIAL\"\n",
    "things.lower()"
   ]
  },
  {
   "cell_type": "markdown",
   "id": "750394fa",
   "metadata": {},
   "source": [
    "## List"
   ]
  },
  {
   "cell_type": "code",
   "execution_count": 109,
   "id": "a0edd1b9",
   "metadata": {},
   "outputs": [],
   "source": [
    "list_1 = []\n",
    "list_2 =list()"
   ]
  },
  {
   "cell_type": "code",
   "execution_count": 111,
   "id": "dad1ac21",
   "metadata": {},
   "outputs": [
    {
     "name": "stdout",
     "output_type": "stream",
     "text": [
      "[]\n"
     ]
    }
   ],
   "source": [
    "print(list_1)"
   ]
  },
  {
   "cell_type": "code",
   "execution_count": 112,
   "id": "a4ddfe39",
   "metadata": {},
   "outputs": [
    {
     "name": "stdout",
     "output_type": "stream",
     "text": [
      "[]\n"
     ]
    }
   ],
   "source": [
    "print(list_2)"
   ]
  },
  {
   "cell_type": "code",
   "execution_count": 114,
   "id": "5dbe951a",
   "metadata": {},
   "outputs": [],
   "source": [
    "list_1 = [1,2,3, [1,2,3], \"btkim\", True, False]"
   ]
  },
  {
   "cell_type": "code",
   "execution_count": 115,
   "id": "8068e381",
   "metadata": {},
   "outputs": [
    {
     "name": "stdout",
     "output_type": "stream",
     "text": [
      "[1, 2, 3, [1, 2, 3], 'btkim', True, False]\n"
     ]
    }
   ],
   "source": [
    "print(list_1)"
   ]
  },
  {
   "cell_type": "code",
   "execution_count": 116,
   "id": "f695c416",
   "metadata": {},
   "outputs": [],
   "source": [
    "list1=[100, 200, 300, 400, 500]\n"
   ]
  },
  {
   "cell_type": "code",
   "execution_count": 117,
   "id": "6fc3bee1",
   "metadata": {},
   "outputs": [
    {
     "data": {
      "text/plain": [
       "list"
      ]
     },
     "execution_count": 117,
     "metadata": {},
     "output_type": "execute_result"
    }
   ],
   "source": [
    "type(list1)"
   ]
  },
  {
   "cell_type": "code",
   "execution_count": 118,
   "id": "cfb91ee9",
   "metadata": {},
   "outputs": [
    {
     "data": {
      "text/plain": [
       "[100, 200]"
      ]
     },
     "execution_count": 118,
     "metadata": {},
     "output_type": "execute_result"
    }
   ],
   "source": [
    "list1[0:2]"
   ]
  },
  {
   "cell_type": "code",
   "execution_count": 119,
   "id": "b4e57752",
   "metadata": {},
   "outputs": [
    {
     "data": {
      "text/plain": [
       "1"
      ]
     },
     "execution_count": 119,
     "metadata": {},
     "output_type": "execute_result"
    }
   ],
   "source": [
    "tuple1 = (1,2,3,4,5)\n",
    "\n",
    "tuple1[0]"
   ]
  },
  {
   "cell_type": "code",
   "execution_count": 120,
   "id": "65947fd4",
   "metadata": {},
   "outputs": [
    {
     "data": {
      "text/plain": [
       "5"
      ]
     },
     "execution_count": 120,
     "metadata": {},
     "output_type": "execute_result"
    }
   ],
   "source": [
    "len(tuple1)"
   ]
  },
  {
   "cell_type": "code",
   "execution_count": 121,
   "id": "81490da9",
   "metadata": {},
   "outputs": [
    {
     "data": {
      "text/plain": [
       "['국어', '영어', '수학', '과학']"
      ]
     },
     "execution_count": 121,
     "metadata": {},
     "output_type": "execute_result"
    }
   ],
   "source": [
    "sub = ['국어','영어','수학','과학']\n",
    "sub"
   ]
  },
  {
   "cell_type": "code",
   "execution_count": 122,
   "id": "9e800cf5",
   "metadata": {},
   "outputs": [],
   "source": [
    "sub.append('사회')"
   ]
  },
  {
   "cell_type": "code",
   "execution_count": 123,
   "id": "ecc5340e",
   "metadata": {},
   "outputs": [
    {
     "data": {
      "text/plain": [
       "['국어', '영어', '수학', '과학', '사회']"
      ]
     },
     "execution_count": 123,
     "metadata": {},
     "output_type": "execute_result"
    }
   ],
   "source": [
    "sub"
   ]
  },
  {
   "cell_type": "code",
   "execution_count": 124,
   "id": "db03096e",
   "metadata": {},
   "outputs": [],
   "source": [
    "sub.insert(0, '한국사')"
   ]
  },
  {
   "cell_type": "code",
   "execution_count": 125,
   "id": "48aeb8fa",
   "metadata": {},
   "outputs": [
    {
     "data": {
      "text/plain": [
       "['한국사', '국어', '영어', '수학', '과학', '사회']"
      ]
     },
     "execution_count": 125,
     "metadata": {},
     "output_type": "execute_result"
    }
   ],
   "source": [
    "sub"
   ]
  },
  {
   "cell_type": "code",
   "execution_count": 126,
   "id": "f09e5b80",
   "metadata": {},
   "outputs": [],
   "source": [
    "sub.insert(8,'지리')"
   ]
  },
  {
   "cell_type": "code",
   "execution_count": 127,
   "id": "52c698ee",
   "metadata": {},
   "outputs": [
    {
     "data": {
      "text/plain": [
       "['한국사', '국어', '영어', '수학', '과학', '사회', '지리']"
      ]
     },
     "execution_count": 127,
     "metadata": {},
     "output_type": "execute_result"
    }
   ],
   "source": [
    "sub"
   ]
  },
  {
   "cell_type": "code",
   "execution_count": 128,
   "id": "0b7c00b3",
   "metadata": {},
   "outputs": [],
   "source": [
    "sub.remove('지리')"
   ]
  },
  {
   "cell_type": "code",
   "execution_count": 129,
   "id": "32c9eda1",
   "metadata": {},
   "outputs": [
    {
     "data": {
      "text/plain": [
       "['한국사', '국어', '영어', '수학', '과학', '사회']"
      ]
     },
     "execution_count": 129,
     "metadata": {},
     "output_type": "execute_result"
    }
   ],
   "source": [
    "sub"
   ]
  },
  {
   "cell_type": "code",
   "execution_count": 130,
   "id": "0eca5e52",
   "metadata": {},
   "outputs": [
    {
     "ename": "ValueError",
     "evalue": "list.remove(x): x not in list",
     "output_type": "error",
     "traceback": [
      "\u001b[0;31m---------------------------------------------------------------------------\u001b[0m",
      "\u001b[0;31mValueError\u001b[0m                                Traceback (most recent call last)",
      "Cell \u001b[0;32mIn[130], line 1\u001b[0m\n\u001b[0;32m----> 1\u001b[0m sub\u001b[38;5;241m.\u001b[39mremove(\u001b[38;5;124m'\u001b[39m\u001b[38;5;124m지리\u001b[39m\u001b[38;5;124m'\u001b[39m)\n",
      "\u001b[0;31mValueError\u001b[0m: list.remove(x): x not in list"
     ]
    }
   ],
   "source": [
    "sub.remove('지리')"
   ]
  },
  {
   "cell_type": "code",
   "execution_count": 131,
   "id": "05dcbaeb",
   "metadata": {},
   "outputs": [
    {
     "data": {
      "text/plain": [
       "['한국사', '국어', '영어', '수학', '과학', '사회']"
      ]
     },
     "execution_count": 131,
     "metadata": {},
     "output_type": "execute_result"
    }
   ],
   "source": [
    "sub"
   ]
  },
  {
   "cell_type": "code",
   "execution_count": 132,
   "id": "087fb062",
   "metadata": {},
   "outputs": [
    {
     "name": "stdout",
     "output_type": "stream",
     "text": [
      "['한국사', '국어', '영어', '수학', '과학', '사회', '지리', '지리']\n"
     ]
    }
   ],
   "source": [
    "sub.append('지리')\n",
    "\n",
    "sub.append('지리')\n",
    "\n",
    "print(sub)"
   ]
  },
  {
   "cell_type": "code",
   "execution_count": 133,
   "id": "85a41c1b",
   "metadata": {},
   "outputs": [],
   "source": [
    "list1=sub.copy()"
   ]
  },
  {
   "cell_type": "code",
   "execution_count": 134,
   "id": "f970d790",
   "metadata": {},
   "outputs": [
    {
     "name": "stdout",
     "output_type": "stream",
     "text": [
      "['한국사', '국어', '영어', '수학', '과학', '사회', '지리', '지리']\n"
     ]
    }
   ],
   "source": [
    "print(list1)"
   ]
  },
  {
   "cell_type": "code",
   "execution_count": 135,
   "id": "b0814c84",
   "metadata": {},
   "outputs": [],
   "source": [
    "list_3=[]\n",
    "\n",
    "for i in list1:\n",
    "    \n",
    "    if i !=\"지리\":\n",
    "        list_3.append(i)\n",
    "    elif i ==\"지리\":\n",
    "        continue"
   ]
  },
  {
   "cell_type": "code",
   "execution_count": 136,
   "id": "b847b2c8",
   "metadata": {},
   "outputs": [
    {
     "name": "stdout",
     "output_type": "stream",
     "text": [
      "['한국사', '국어', '영어', '수학', '과학', '사회']\n"
     ]
    }
   ],
   "source": [
    "print(list_3)"
   ]
  },
  {
   "cell_type": "code",
   "execution_count": 137,
   "id": "a3fe27c9",
   "metadata": {},
   "outputs": [
    {
     "data": {
      "text/plain": [
       "[10, 20, 30, 40]"
      ]
     },
     "execution_count": 137,
     "metadata": {},
     "output_type": "execute_result"
    }
   ],
   "source": [
    "score = [10,20,30,40]\n",
    "score"
   ]
  },
  {
   "cell_type": "code",
   "execution_count": 138,
   "id": "4ffe936b",
   "metadata": {},
   "outputs": [
    {
     "data": {
      "text/plain": [
       "[10, 20, 30, 40, 10, 20, 30, 40, 10, 20, 30, 40]"
      ]
     },
     "execution_count": 138,
     "metadata": {},
     "output_type": "execute_result"
    }
   ],
   "source": [
    "score*3"
   ]
  },
  {
   "cell_type": "code",
   "execution_count": 139,
   "id": "05d19b0f",
   "metadata": {},
   "outputs": [],
   "source": [
    "sub =['국','영','수','과']"
   ]
  },
  {
   "cell_type": "code",
   "execution_count": 140,
   "id": "63581a08",
   "metadata": {},
   "outputs": [
    {
     "data": {
      "text/plain": [
       "[10, 20, 30, 40, '국', '영', '수', '과']"
      ]
     },
     "execution_count": 140,
     "metadata": {},
     "output_type": "execute_result"
    }
   ],
   "source": [
    "score + sub"
   ]
  },
  {
   "cell_type": "code",
   "execution_count": 141,
   "id": "19f2302c",
   "metadata": {},
   "outputs": [
    {
     "data": {
      "text/plain": [
       "[10, 20, 30, 40]"
      ]
     },
     "execution_count": 141,
     "metadata": {},
     "output_type": "execute_result"
    }
   ],
   "source": [
    "score"
   ]
  },
  {
   "cell_type": "code",
   "execution_count": 142,
   "id": "886cef54",
   "metadata": {},
   "outputs": [
    {
     "data": {
      "text/plain": [
       "['국', '영', '수', '과']"
      ]
     },
     "execution_count": 142,
     "metadata": {},
     "output_type": "execute_result"
    }
   ],
   "source": [
    "sub"
   ]
  },
  {
   "cell_type": "code",
   "execution_count": 143,
   "id": "a9702d09",
   "metadata": {},
   "outputs": [
    {
     "data": {
      "text/plain": [
       "[10, 20, 30, 40, '국', '영', '수', '과']"
      ]
     },
     "execution_count": 143,
     "metadata": {},
     "output_type": "execute_result"
    }
   ],
   "source": [
    "score.extend(sub)\n",
    "\n",
    "score"
   ]
  },
  {
   "cell_type": "code",
   "execution_count": 144,
   "id": "1f065897",
   "metadata": {},
   "outputs": [],
   "source": [
    "score1 = [1,2,3,4]\n",
    "sub1=['Eng','Math']"
   ]
  },
  {
   "cell_type": "code",
   "execution_count": 145,
   "id": "ecda6339",
   "metadata": {},
   "outputs": [
    {
     "data": {
      "text/plain": [
       "[1, 2, 3, 4]"
      ]
     },
     "execution_count": 145,
     "metadata": {},
     "output_type": "execute_result"
    }
   ],
   "source": [
    "score1"
   ]
  },
  {
   "cell_type": "code",
   "execution_count": 146,
   "id": "75e61992",
   "metadata": {},
   "outputs": [
    {
     "data": {
      "text/plain": [
       "['Eng', 'Math']"
      ]
     },
     "execution_count": 146,
     "metadata": {},
     "output_type": "execute_result"
    }
   ],
   "source": [
    "sub1"
   ]
  },
  {
   "cell_type": "code",
   "execution_count": 147,
   "id": "f971828e",
   "metadata": {},
   "outputs": [
    {
     "data": {
      "text/plain": [
       "[1, 2, 3, 4, 'Eng', 'Math']"
      ]
     },
     "execution_count": 147,
     "metadata": {},
     "output_type": "execute_result"
    }
   ],
   "source": [
    "score1+sub1"
   ]
  },
  {
   "cell_type": "code",
   "execution_count": 148,
   "id": "78c0f06d",
   "metadata": {},
   "outputs": [
    {
     "data": {
      "text/plain": [
       "[1, 2, 3, 4]"
      ]
     },
     "execution_count": 148,
     "metadata": {},
     "output_type": "execute_result"
    }
   ],
   "source": [
    "score1"
   ]
  },
  {
   "cell_type": "code",
   "execution_count": 149,
   "id": "333ecf7e",
   "metadata": {},
   "outputs": [
    {
     "data": {
      "text/plain": [
       "['Eng', 'Math']"
      ]
     },
     "execution_count": 149,
     "metadata": {},
     "output_type": "execute_result"
    }
   ],
   "source": [
    "sub1"
   ]
  },
  {
   "cell_type": "code",
   "execution_count": 150,
   "id": "5c2cc16b",
   "metadata": {},
   "outputs": [],
   "source": [
    "score1.extend(sub1)"
   ]
  },
  {
   "cell_type": "code",
   "execution_count": 151,
   "id": "2e3740c7",
   "metadata": {},
   "outputs": [
    {
     "data": {
      "text/plain": [
       "[1, 2, 3, 4, 'Eng', 'Math']"
      ]
     },
     "execution_count": 151,
     "metadata": {},
     "output_type": "execute_result"
    }
   ],
   "source": [
    "score1"
   ]
  },
  {
   "cell_type": "code",
   "execution_count": 152,
   "id": "c0462b93",
   "metadata": {},
   "outputs": [],
   "source": [
    "score1.append(sub1)"
   ]
  },
  {
   "cell_type": "code",
   "execution_count": 153,
   "id": "e0a9a92a",
   "metadata": {},
   "outputs": [
    {
     "data": {
      "text/plain": [
       "[1, 2, 3, 4, 'Eng', 'Math', ['Eng', 'Math']]"
      ]
     },
     "execution_count": 153,
     "metadata": {},
     "output_type": "execute_result"
    }
   ],
   "source": [
    "score1"
   ]
  },
  {
   "cell_type": "code",
   "execution_count": 188,
   "id": "ead7ccef",
   "metadata": {},
   "outputs": [],
   "source": [
    "import copy\n",
    "\n",
    "my_list =[[1,2],3,4,5]\n",
    "\n",
    "#동일 객체의 두가지 다른 name\n",
    "\n",
    "my_list1 = my_list\n",
    "\n",
    "# 복사\n",
    "\n",
    "my_list2 = copy.copy(my_list)\n",
    "\n",
    "# 얕은 복사 vs. 깊은 복사는 복사된 객체 내부에 또다른 객체까지 변경될 수 있으냐의 문제\n",
    "# import copy()\n",
    "# .deepcopy()"
   ]
  },
  {
   "cell_type": "code",
   "execution_count": 189,
   "id": "dc18cd88",
   "metadata": {},
   "outputs": [],
   "source": [
    "my_list.remove(3)"
   ]
  },
  {
   "cell_type": "code",
   "execution_count": 190,
   "id": "06f08750",
   "metadata": {},
   "outputs": [
    {
     "name": "stdout",
     "output_type": "stream",
     "text": [
      "[[1, 2], 4, 5]\n"
     ]
    }
   ],
   "source": [
    "print(my_list)"
   ]
  },
  {
   "cell_type": "code",
   "execution_count": 191,
   "id": "03d52042",
   "metadata": {},
   "outputs": [
    {
     "name": "stdout",
     "output_type": "stream",
     "text": [
      "[[1, 2], 4, 5]\n"
     ]
    }
   ],
   "source": [
    "print(my_list1)"
   ]
  },
  {
   "cell_type": "code",
   "execution_count": 192,
   "id": "ad5a93f6",
   "metadata": {},
   "outputs": [
    {
     "name": "stdout",
     "output_type": "stream",
     "text": [
      "[[1, 2], 4, 5, 100]\n",
      "[[1, 2], 4, 5, 100]\n",
      "4461203264\n",
      "4461203264\n"
     ]
    }
   ],
   "source": [
    "my_list1.append(100)\n",
    "print(my_list)\n",
    "print(my_list1)\n",
    "print(id(my_list))\n",
    "print(id(my_list1))"
   ]
  },
  {
   "cell_type": "code",
   "execution_count": 193,
   "id": "447f60d1",
   "metadata": {},
   "outputs": [
    {
     "name": "stdout",
     "output_type": "stream",
     "text": [
      "[[1, 2], 3, 4, 5]\n",
      "4461630976\n"
     ]
    }
   ],
   "source": [
    "print(my_list2)\n",
    "print(id(my_list2))"
   ]
  },
  {
   "cell_type": "code",
   "execution_count": 194,
   "id": "6951cbb2",
   "metadata": {},
   "outputs": [
    {
     "name": "stdout",
     "output_type": "stream",
     "text": [
      "[[1, 2], 3, 4, 5]\n",
      "[[1, 2], 4, 5, 100, 10]\n"
     ]
    }
   ],
   "source": [
    "my_list.append(10)\n",
    "print(my_list2)\n",
    "print(my_list)"
   ]
  },
  {
   "cell_type": "code",
   "execution_count": 195,
   "id": "e8abf77d",
   "metadata": {},
   "outputs": [
    {
     "name": "stdout",
     "output_type": "stream",
     "text": [
      "4461622016\n",
      "4461622016\n"
     ]
    }
   ],
   "source": [
    "# copy된 객체의 내부 객체의 주소값은 동일 -->같은 객체란 의미 --> 얕은 복사\n",
    "# 깊은 복사의 경우 내부 객체의 주소값마저 달라짐.\n",
    "\n",
    "print(id(my_list2[0]))\n",
    "print(id(my_list[0]))"
   ]
  },
  {
   "cell_type": "code",
   "execution_count": 196,
   "id": "fe904b5e",
   "metadata": {},
   "outputs": [],
   "source": [
    "aa = [1,2,3,4]\n",
    "bb = [10,20,30,40]"
   ]
  },
  {
   "cell_type": "code",
   "execution_count": 197,
   "id": "b9a3e012",
   "metadata": {},
   "outputs": [
    {
     "name": "stdout",
     "output_type": "stream",
     "text": [
      "[1, 2, 3, 4, 10, 20, 30, 40]\n"
     ]
    }
   ],
   "source": [
    "aa = aa + bb\n",
    "\n",
    "print(aa)"
   ]
  },
  {
   "cell_type": "code",
   "execution_count": 198,
   "id": "9067b1b8",
   "metadata": {},
   "outputs": [],
   "source": [
    "aa = [1,2,3,4]\n",
    "bb = [10,20,30,40]"
   ]
  },
  {
   "cell_type": "code",
   "execution_count": 199,
   "id": "ac55ee19",
   "metadata": {},
   "outputs": [],
   "source": [
    "aa.extend(bb)"
   ]
  },
  {
   "cell_type": "code",
   "execution_count": 200,
   "id": "0c58c282",
   "metadata": {},
   "outputs": [
    {
     "data": {
      "text/plain": [
       "[1, 2, 3, 4, 10, 20, 30, 40]"
      ]
     },
     "execution_count": 200,
     "metadata": {},
     "output_type": "execute_result"
    }
   ],
   "source": [
    "aa"
   ]
  },
  {
   "cell_type": "markdown",
   "id": "b1f0c390",
   "metadata": {},
   "source": [
    "## Tuple"
   ]
  },
  {
   "cell_type": "code",
   "execution_count": 202,
   "id": "ba95f0ae",
   "metadata": {},
   "outputs": [],
   "source": [
    "c =tuple()"
   ]
  },
  {
   "cell_type": "code",
   "execution_count": 203,
   "id": "729e36c0",
   "metadata": {},
   "outputs": [],
   "source": [
    "c = (1,2,3,4,5)"
   ]
  },
  {
   "cell_type": "code",
   "execution_count": 204,
   "id": "0e1c87c1",
   "metadata": {},
   "outputs": [
    {
     "name": "stdout",
     "output_type": "stream",
     "text": [
      "(1, 2, 3, 4, 5)\n"
     ]
    }
   ],
   "source": [
    "print(c)"
   ]
  },
  {
   "cell_type": "code",
   "execution_count": 205,
   "id": "19bf2a5b",
   "metadata": {},
   "outputs": [
    {
     "data": {
      "text/plain": [
       "1"
      ]
     },
     "execution_count": 205,
     "metadata": {},
     "output_type": "execute_result"
    }
   ],
   "source": [
    "c[0]"
   ]
  },
  {
   "cell_type": "code",
   "execution_count": 206,
   "id": "c9f01f49",
   "metadata": {},
   "outputs": [
    {
     "data": {
      "text/plain": [
       "(1, 2, 3)"
      ]
     },
     "execution_count": 206,
     "metadata": {},
     "output_type": "execute_result"
    }
   ],
   "source": [
    "c[:3]"
   ]
  },
  {
   "cell_type": "code",
   "execution_count": 274,
   "id": "1cbbc521",
   "metadata": {},
   "outputs": [
    {
     "name": "stdout",
     "output_type": "stream",
     "text": [
      "<class 'tuple'>\n"
     ]
    }
   ],
   "source": [
    "t1 =(1,2,3,4,5)\n",
    "print(type(t1))"
   ]
  },
  {
   "cell_type": "code",
   "execution_count": 275,
   "id": "828bc137",
   "metadata": {},
   "outputs": [
    {
     "data": {
      "text/plain": [
       "tuple"
      ]
     },
     "execution_count": 275,
     "metadata": {},
     "output_type": "execute_result"
    }
   ],
   "source": [
    "type(t1)"
   ]
  },
  {
   "cell_type": "code",
   "execution_count": 278,
   "id": "e1b00ca3",
   "metadata": {},
   "outputs": [],
   "source": [
    "t2=(1,2.2,'삼', 4,'five')"
   ]
  },
  {
   "cell_type": "code",
   "execution_count": 279,
   "id": "e24ccfeb",
   "metadata": {},
   "outputs": [
    {
     "data": {
      "text/plain": [
       "(1, 2.2, '삼', 4, 'five')"
      ]
     },
     "execution_count": 279,
     "metadata": {},
     "output_type": "execute_result"
    }
   ],
   "source": [
    "t2"
   ]
  },
  {
   "cell_type": "code",
   "execution_count": 280,
   "id": "b6dce0d9",
   "metadata": {},
   "outputs": [],
   "source": [
    "# packing\n",
    "\n",
    "pack1 = 1,2,3,4\n"
   ]
  },
  {
   "cell_type": "code",
   "execution_count": 281,
   "id": "b8f8eef0",
   "metadata": {},
   "outputs": [
    {
     "name": "stdout",
     "output_type": "stream",
     "text": [
      "(1, 2, 3, 4)\n"
     ]
    }
   ],
   "source": [
    "print(pack1)"
   ]
  },
  {
   "cell_type": "code",
   "execution_count": 282,
   "id": "3b3040c9",
   "metadata": {},
   "outputs": [
    {
     "data": {
      "text/plain": [
       "tuple"
      ]
     },
     "execution_count": 282,
     "metadata": {},
     "output_type": "execute_result"
    }
   ],
   "source": [
    "type(pack1)"
   ]
  },
  {
   "cell_type": "code",
   "execution_count": 283,
   "id": "e64f7492",
   "metadata": {},
   "outputs": [],
   "source": [
    "a, b ,c, d = pack1"
   ]
  },
  {
   "cell_type": "code",
   "execution_count": 284,
   "id": "0e8551bd",
   "metadata": {},
   "outputs": [
    {
     "name": "stdout",
     "output_type": "stream",
     "text": [
      "1\n"
     ]
    }
   ],
   "source": [
    "print(a)"
   ]
  },
  {
   "cell_type": "code",
   "execution_count": 285,
   "id": "df073355",
   "metadata": {},
   "outputs": [
    {
     "name": "stdout",
     "output_type": "stream",
     "text": [
      "2\n"
     ]
    }
   ],
   "source": [
    "print(b)"
   ]
  },
  {
   "cell_type": "code",
   "execution_count": 286,
   "id": "10ab4147",
   "metadata": {},
   "outputs": [],
   "source": [
    "a = pack1[0]\n",
    "b = pack1[1]\n",
    "c = pack1[2]"
   ]
  },
  {
   "cell_type": "code",
   "execution_count": 287,
   "id": "963e5c02",
   "metadata": {},
   "outputs": [],
   "source": [
    "a = 10, 20, 30, 40, 50"
   ]
  },
  {
   "cell_type": "code",
   "execution_count": 288,
   "id": "85bfaca0",
   "metadata": {},
   "outputs": [
    {
     "name": "stdout",
     "output_type": "stream",
     "text": [
      "(10, 20, 30, 40, 50)\n"
     ]
    }
   ],
   "source": [
    "print(a)"
   ]
  },
  {
   "cell_type": "code",
   "execution_count": 289,
   "id": "e0f8d409",
   "metadata": {},
   "outputs": [
    {
     "data": {
      "text/plain": [
       "10"
      ]
     },
     "execution_count": 289,
     "metadata": {},
     "output_type": "execute_result"
    }
   ],
   "source": [
    "a[0]"
   ]
  },
  {
   "cell_type": "code",
   "execution_count": 290,
   "id": "e80741c3",
   "metadata": {},
   "outputs": [
    {
     "data": {
      "text/plain": [
       "40"
      ]
     },
     "execution_count": 290,
     "metadata": {},
     "output_type": "execute_result"
    }
   ],
   "source": [
    "a[3]"
   ]
  },
  {
   "cell_type": "code",
   "execution_count": 291,
   "id": "634b5237",
   "metadata": {},
   "outputs": [
    {
     "data": {
      "text/plain": [
       "(30, 40, 50)"
      ]
     },
     "execution_count": 291,
     "metadata": {},
     "output_type": "execute_result"
    }
   ],
   "source": [
    "a[2:]"
   ]
  },
  {
   "cell_type": "code",
   "execution_count": 292,
   "id": "b57efbcf",
   "metadata": {},
   "outputs": [],
   "source": [
    "b = 1,2,3,4\n",
    "c = 5,6,7,8"
   ]
  },
  {
   "cell_type": "code",
   "execution_count": 293,
   "id": "78edf0ef",
   "metadata": {},
   "outputs": [
    {
     "data": {
      "text/plain": [
       "(1, 2, 3, 4)"
      ]
     },
     "execution_count": 293,
     "metadata": {},
     "output_type": "execute_result"
    }
   ],
   "source": [
    "b"
   ]
  },
  {
   "cell_type": "code",
   "execution_count": 294,
   "id": "9c510f73",
   "metadata": {},
   "outputs": [
    {
     "data": {
      "text/plain": [
       "(5, 6, 7, 8)"
      ]
     },
     "execution_count": 294,
     "metadata": {},
     "output_type": "execute_result"
    }
   ],
   "source": [
    "c"
   ]
  },
  {
   "cell_type": "code",
   "execution_count": 295,
   "id": "38042a8b",
   "metadata": {},
   "outputs": [
    {
     "data": {
      "text/plain": [
       "(1, 2, 3, 4, 5, 6, 7, 8)"
      ]
     },
     "execution_count": 295,
     "metadata": {},
     "output_type": "execute_result"
    }
   ],
   "source": [
    "b+c"
   ]
  },
  {
   "cell_type": "code",
   "execution_count": 296,
   "id": "438dbd0a",
   "metadata": {},
   "outputs": [
    {
     "ename": "AttributeError",
     "evalue": "'tuple' object has no attribute 'extend'",
     "output_type": "error",
     "traceback": [
      "\u001b[0;31m---------------------------------------------------------------------------\u001b[0m",
      "\u001b[0;31mAttributeError\u001b[0m                            Traceback (most recent call last)",
      "\u001b[0;32m/var/folders/3x/x3jgd5qx5_b2g84w2_jrj0_m0000gn/T/ipykernel_81993/241962252.py\u001b[0m in \u001b[0;36m<module>\u001b[0;34m\u001b[0m\n\u001b[0;32m----> 1\u001b[0;31m \u001b[0mb\u001b[0m\u001b[0;34m.\u001b[0m\u001b[0mextend\u001b[0m\u001b[0;34m(\u001b[0m\u001b[0mc\u001b[0m\u001b[0;34m)\u001b[0m\u001b[0;34m\u001b[0m\u001b[0;34m\u001b[0m\u001b[0m\n\u001b[0m",
      "\u001b[0;31mAttributeError\u001b[0m: 'tuple' object has no attribute 'extend'"
     ]
    }
   ],
   "source": [
    "b.extend(c)"
   ]
  },
  {
   "cell_type": "code",
   "execution_count": 297,
   "id": "2ca6c79e",
   "metadata": {},
   "outputs": [
    {
     "data": {
      "text/plain": [
       "(5, 6, 7, 8)"
      ]
     },
     "execution_count": 297,
     "metadata": {},
     "output_type": "execute_result"
    }
   ],
   "source": [
    "c"
   ]
  },
  {
   "cell_type": "code",
   "execution_count": 298,
   "id": "a318589b",
   "metadata": {},
   "outputs": [
    {
     "data": {
      "text/plain": [
       "(5, 6, 7, 8, 5, 6, 7, 8, 5, 6, 7, 8)"
      ]
     },
     "execution_count": 298,
     "metadata": {},
     "output_type": "execute_result"
    }
   ],
   "source": [
    "c*3"
   ]
  },
  {
   "cell_type": "markdown",
   "id": "2a7d0eab",
   "metadata": {
    "jp-MarkdownHeadingCollapsed": true
   },
   "source": [
    "## Set "
   ]
  },
  {
   "cell_type": "code",
   "execution_count": 2,
   "id": "0049e1d7",
   "metadata": {},
   "outputs": [],
   "source": [
    "set1 = {1,2,3,3,4,5}"
   ]
  },
  {
   "cell_type": "code",
   "execution_count": 3,
   "id": "dba2f8a0",
   "metadata": {},
   "outputs": [
    {
     "data": {
      "text/plain": [
       "{1, 2, 3, 4, 5}"
      ]
     },
     "execution_count": 3,
     "metadata": {},
     "output_type": "execute_result"
    }
   ],
   "source": [
    "set1"
   ]
  },
  {
   "cell_type": "code",
   "execution_count": 302,
   "id": "32737e42",
   "metadata": {},
   "outputs": [
    {
     "data": {
      "text/plain": [
       "{1, 2, 3, 4, 5}"
      ]
     },
     "execution_count": 302,
     "metadata": {},
     "output_type": "execute_result"
    }
   ],
   "source": [
    "set1"
   ]
  },
  {
   "cell_type": "code",
   "execution_count": 304,
   "id": "1aea4e6e",
   "metadata": {},
   "outputs": [],
   "source": [
    "A = {1,2,3}\n",
    "B = {3,4,5}"
   ]
  },
  {
   "cell_type": "code",
   "execution_count": 305,
   "id": "5f8d32ef",
   "metadata": {},
   "outputs": [
    {
     "data": {
      "text/plain": [
       "{3}"
      ]
     },
     "execution_count": 305,
     "metadata": {},
     "output_type": "execute_result"
    }
   ],
   "source": [
    "A & B"
   ]
  },
  {
   "cell_type": "code",
   "execution_count": 306,
   "id": "068e6112",
   "metadata": {},
   "outputs": [
    {
     "data": {
      "text/plain": [
       "{1, 2, 3, 4, 5}"
      ]
     },
     "execution_count": 306,
     "metadata": {},
     "output_type": "execute_result"
    }
   ],
   "source": [
    "A | B"
   ]
  },
  {
   "cell_type": "code",
   "execution_count": 307,
   "id": "ee64690a",
   "metadata": {},
   "outputs": [
    {
     "data": {
      "text/plain": [
       "{1, 2}"
      ]
     },
     "execution_count": 307,
     "metadata": {},
     "output_type": "execute_result"
    }
   ],
   "source": [
    "A - B"
   ]
  },
  {
   "cell_type": "code",
   "execution_count": 308,
   "id": "c1fc53fb",
   "metadata": {},
   "outputs": [
    {
     "data": {
      "text/plain": [
       "{1, 2, 4, 5}"
      ]
     },
     "execution_count": 308,
     "metadata": {},
     "output_type": "execute_result"
    }
   ],
   "source": [
    "A ^ B"
   ]
  },
  {
   "cell_type": "code",
   "execution_count": 309,
   "id": "52614e6e",
   "metadata": {},
   "outputs": [],
   "source": [
    "A = {10, 20,30, 40,10}"
   ]
  },
  {
   "cell_type": "code",
   "execution_count": 310,
   "id": "bb903146",
   "metadata": {},
   "outputs": [
    {
     "data": {
      "text/plain": [
       "{10, 20, 30, 40}"
      ]
     },
     "execution_count": 310,
     "metadata": {},
     "output_type": "execute_result"
    }
   ],
   "source": [
    "A"
   ]
  },
  {
   "cell_type": "code",
   "execution_count": 311,
   "id": "b02700b8",
   "metadata": {},
   "outputs": [
    {
     "data": {
      "text/plain": [
       "{1, 3, 5, 7}"
      ]
     },
     "execution_count": 311,
     "metadata": {},
     "output_type": "execute_result"
    }
   ],
   "source": [
    "list_for_set = [1,3,5,7,7]\n",
    "\n",
    "S = set(list_for_set)\n",
    "\n",
    "S"
   ]
  },
  {
   "cell_type": "code",
   "execution_count": 312,
   "id": "ed526f58",
   "metadata": {},
   "outputs": [
    {
     "data": {
      "text/plain": [
       "[1, 3, 5, 7]"
      ]
     },
     "execution_count": 312,
     "metadata": {},
     "output_type": "execute_result"
    }
   ],
   "source": [
    "list(S)"
   ]
  },
  {
   "cell_type": "code",
   "execution_count": 313,
   "id": "61027141",
   "metadata": {},
   "outputs": [],
   "source": [
    "S.add(100)"
   ]
  },
  {
   "cell_type": "code",
   "execution_count": 314,
   "id": "e03e43b9",
   "metadata": {},
   "outputs": [
    {
     "data": {
      "text/plain": [
       "{1, 3, 5, 7, 100}"
      ]
     },
     "execution_count": 314,
     "metadata": {},
     "output_type": "execute_result"
    }
   ],
   "source": [
    "S"
   ]
  },
  {
   "cell_type": "code",
   "execution_count": 315,
   "id": "2e06d092",
   "metadata": {},
   "outputs": [
    {
     "data": {
      "text/plain": [
       "[1, 3, 100, 5, 7]"
      ]
     },
     "execution_count": 315,
     "metadata": {},
     "output_type": "execute_result"
    }
   ],
   "source": [
    "list(S)"
   ]
  },
  {
   "cell_type": "code",
   "execution_count": 316,
   "id": "82cf6e6f",
   "metadata": {},
   "outputs": [],
   "source": [
    "S.update([1000,2000,3000])"
   ]
  },
  {
   "cell_type": "code",
   "execution_count": 317,
   "id": "6a56c2cb",
   "metadata": {},
   "outputs": [
    {
     "data": {
      "text/plain": [
       "{1, 3, 5, 7, 100, 1000, 2000, 3000}"
      ]
     },
     "execution_count": 317,
     "metadata": {},
     "output_type": "execute_result"
    }
   ],
   "source": [
    "S"
   ]
  },
  {
   "cell_type": "code",
   "execution_count": 319,
   "id": "c15bf077",
   "metadata": {},
   "outputs": [],
   "source": [
    "S.update((100000, 200000))"
   ]
  },
  {
   "cell_type": "code",
   "execution_count": 320,
   "id": "643e22cd",
   "metadata": {},
   "outputs": [
    {
     "data": {
      "text/plain": [
       "{1, 3, 5, 7, 100, 1000, 2000, 3000, 100000, 200000}"
      ]
     },
     "execution_count": 320,
     "metadata": {},
     "output_type": "execute_result"
    }
   ],
   "source": [
    "S"
   ]
  },
  {
   "cell_type": "code",
   "execution_count": 321,
   "id": "e0e0b0c4",
   "metadata": {},
   "outputs": [],
   "source": [
    "S.update({0.1,0.2})"
   ]
  },
  {
   "cell_type": "code",
   "execution_count": 322,
   "id": "5e2304ba",
   "metadata": {},
   "outputs": [
    {
     "data": {
      "text/plain": [
       "{0.1, 0.2, 1, 3, 5, 7, 100, 1000, 2000, 3000, 100000, 200000}"
      ]
     },
     "execution_count": 322,
     "metadata": {},
     "output_type": "execute_result"
    }
   ],
   "source": [
    "S"
   ]
  },
  {
   "cell_type": "code",
   "execution_count": 323,
   "id": "afea52c5",
   "metadata": {},
   "outputs": [],
   "source": [
    "S.remove(2000)"
   ]
  },
  {
   "cell_type": "code",
   "execution_count": 324,
   "id": "95f9011b",
   "metadata": {},
   "outputs": [
    {
     "data": {
      "text/plain": [
       "{0.1, 0.2, 1, 3, 5, 7, 100, 1000, 3000, 100000, 200000}"
      ]
     },
     "execution_count": 324,
     "metadata": {},
     "output_type": "execute_result"
    }
   ],
   "source": [
    "S"
   ]
  },
  {
   "cell_type": "code",
   "execution_count": 325,
   "id": "32ac92ea",
   "metadata": {},
   "outputs": [
    {
     "data": {
      "text/plain": [
       "set()"
      ]
     },
     "execution_count": 325,
     "metadata": {},
     "output_type": "execute_result"
    }
   ],
   "source": [
    "A & B"
   ]
  },
  {
   "cell_type": "code",
   "execution_count": 328,
   "id": "b6ea20a8",
   "metadata": {},
   "outputs": [
    {
     "data": {
      "text/plain": [
       "{3}"
      ]
     },
     "execution_count": 328,
     "metadata": {},
     "output_type": "execute_result"
    }
   ],
   "source": [
    "A ={1,2,3}\n",
    "B ={3,4,5}\n",
    "\n",
    "A & B"
   ]
  },
  {
   "cell_type": "code",
   "execution_count": 329,
   "id": "a2dc63a5",
   "metadata": {},
   "outputs": [
    {
     "data": {
      "text/plain": [
       "{3}"
      ]
     },
     "execution_count": 329,
     "metadata": {},
     "output_type": "execute_result"
    }
   ],
   "source": [
    "A.intersection(B)"
   ]
  },
  {
   "cell_type": "code",
   "execution_count": 330,
   "id": "62556dc1",
   "metadata": {},
   "outputs": [
    {
     "data": {
      "text/plain": [
       "{1, 2, 3}"
      ]
     },
     "execution_count": 330,
     "metadata": {},
     "output_type": "execute_result"
    }
   ],
   "source": [
    "A"
   ]
  },
  {
   "cell_type": "code",
   "execution_count": 331,
   "id": "89fb84fb",
   "metadata": {},
   "outputs": [
    {
     "data": {
      "text/plain": [
       "True"
      ]
     },
     "execution_count": 331,
     "metadata": {},
     "output_type": "execute_result"
    }
   ],
   "source": [
    "A | B == A.union(B)"
   ]
  },
  {
   "cell_type": "markdown",
   "id": "a7cc477e",
   "metadata": {},
   "source": [
    "## Dictinary"
   ]
  },
  {
   "cell_type": "code",
   "execution_count": 207,
   "id": "a51fb752",
   "metadata": {},
   "outputs": [
    {
     "data": {
      "text/plain": [
       "dict"
      ]
     },
     "execution_count": 207,
     "metadata": {},
     "output_type": "execute_result"
    }
   ],
   "source": [
    "D = dict()\n",
    "D1={}\n",
    "\n",
    "type(D1)"
   ]
  },
  {
   "cell_type": "code",
   "execution_count": 208,
   "id": "1b490f2c",
   "metadata": {},
   "outputs": [
    {
     "data": {
      "text/plain": [
       "set"
      ]
     },
     "execution_count": 208,
     "metadata": {},
     "output_type": "execute_result"
    }
   ],
   "source": [
    "SET =set()\n",
    "type(SET)"
   ]
  },
  {
   "cell_type": "code",
   "execution_count": 209,
   "id": "f9a521b4",
   "metadata": {},
   "outputs": [],
   "source": [
    "D = {\"A\": 100, \"B\":200, \"C\":300}"
   ]
  },
  {
   "cell_type": "code",
   "execution_count": 210,
   "id": "555f8903",
   "metadata": {},
   "outputs": [
    {
     "data": {
      "text/plain": [
       "100"
      ]
     },
     "execution_count": 210,
     "metadata": {},
     "output_type": "execute_result"
    }
   ],
   "source": [
    "D[\"A\"]"
   ]
  },
  {
   "cell_type": "code",
   "execution_count": 211,
   "id": "7824f72a",
   "metadata": {},
   "outputs": [
    {
     "data": {
      "text/plain": [
       "dict_keys"
      ]
     },
     "execution_count": 211,
     "metadata": {},
     "output_type": "execute_result"
    }
   ],
   "source": [
    "type(D.keys())"
   ]
  },
  {
   "cell_type": "code",
   "execution_count": 212,
   "id": "6361aa36",
   "metadata": {},
   "outputs": [
    {
     "data": {
      "text/plain": [
       "dict_values([100, 200, 300])"
      ]
     },
     "execution_count": 212,
     "metadata": {},
     "output_type": "execute_result"
    }
   ],
   "source": [
    "D.values()"
   ]
  },
  {
   "cell_type": "code",
   "execution_count": 213,
   "id": "52f80b6b",
   "metadata": {},
   "outputs": [
    {
     "data": {
      "text/plain": [
       "dict_keys(['A', 'B', 'C'])"
      ]
     },
     "execution_count": 213,
     "metadata": {},
     "output_type": "execute_result"
    }
   ],
   "source": [
    "D.keys()"
   ]
  },
  {
   "cell_type": "code",
   "execution_count": 214,
   "id": "d29be4e6",
   "metadata": {},
   "outputs": [
    {
     "data": {
      "text/plain": [
       "dict_values([100, 200, 300])"
      ]
     },
     "execution_count": 214,
     "metadata": {},
     "output_type": "execute_result"
    }
   ],
   "source": [
    "D.values()"
   ]
  },
  {
   "cell_type": "code",
   "execution_count": 215,
   "id": "93e6deef",
   "metadata": {},
   "outputs": [
    {
     "data": {
      "text/plain": [
       "dict_items([('A', 100), ('B', 200), ('C', 300)])"
      ]
     },
     "execution_count": 215,
     "metadata": {},
     "output_type": "execute_result"
    }
   ],
   "source": [
    "D.items()"
   ]
  },
  {
   "cell_type": "code",
   "execution_count": 216,
   "id": "54827a23",
   "metadata": {},
   "outputs": [
    {
     "data": {
      "text/plain": [
       "dict_items"
      ]
     },
     "execution_count": 216,
     "metadata": {},
     "output_type": "execute_result"
    }
   ],
   "source": [
    "type(D.items())"
   ]
  },
  {
   "cell_type": "code",
   "execution_count": 237,
   "id": "a9fa9cc5",
   "metadata": {},
   "outputs": [],
   "source": [
    "key_list =[]\n",
    "value_list=[]\n",
    "\n",
    "for k, v in D.items():\n",
    "    key_list.append(k)\n",
    "    value_list.append(v)"
   ]
  },
  {
   "cell_type": "code",
   "execution_count": 238,
   "id": "1188fb4f",
   "metadata": {},
   "outputs": [
    {
     "data": {
      "text/plain": [
       "['A', 'B', 'C']"
      ]
     },
     "execution_count": 238,
     "metadata": {},
     "output_type": "execute_result"
    }
   ],
   "source": [
    "key_list"
   ]
  },
  {
   "cell_type": "code",
   "execution_count": 239,
   "id": "fc5b3d12",
   "metadata": {},
   "outputs": [
    {
     "data": {
      "text/plain": [
       "[100, 200, 300]"
      ]
     },
     "execution_count": 239,
     "metadata": {},
     "output_type": "execute_result"
    }
   ],
   "source": [
    "value_list"
   ]
  },
  {
   "cell_type": "code",
   "execution_count": 240,
   "id": "36bf9219",
   "metadata": {},
   "outputs": [],
   "source": [
    "dict1 = {'이름':'안기모', '소속':\"빅데이터 그룹\", '월수익': 2000}"
   ]
  },
  {
   "cell_type": "code",
   "execution_count": 241,
   "id": "f272c224",
   "metadata": {},
   "outputs": [
    {
     "data": {
      "text/plain": [
       "dict"
      ]
     },
     "execution_count": 241,
     "metadata": {},
     "output_type": "execute_result"
    }
   ],
   "source": [
    "type(dict1)"
   ]
  },
  {
   "cell_type": "code",
   "execution_count": 242,
   "id": "2cc8f6b7",
   "metadata": {},
   "outputs": [
    {
     "data": {
      "text/plain": [
       "'안기모'"
      ]
     },
     "execution_count": 242,
     "metadata": {},
     "output_type": "execute_result"
    }
   ],
   "source": [
    "dict1['이름']"
   ]
  },
  {
   "cell_type": "code",
   "execution_count": 243,
   "id": "b45c36c9",
   "metadata": {},
   "outputs": [
    {
     "data": {
      "text/plain": [
       "2000"
      ]
     },
     "execution_count": 243,
     "metadata": {},
     "output_type": "execute_result"
    }
   ],
   "source": [
    "dict1['월수익']"
   ]
  },
  {
   "cell_type": "code",
   "execution_count": 244,
   "id": "d1b08aab",
   "metadata": {},
   "outputs": [
    {
     "ename": "KeyError",
     "evalue": "'학번'",
     "output_type": "error",
     "traceback": [
      "\u001b[0;31m---------------------------------------------------------------------------\u001b[0m",
      "\u001b[0;31mKeyError\u001b[0m                                  Traceback (most recent call last)",
      "Cell \u001b[0;32mIn[244], line 1\u001b[0m\n\u001b[0;32m----> 1\u001b[0m dict1[\u001b[38;5;124m'\u001b[39m\u001b[38;5;124m학번\u001b[39m\u001b[38;5;124m'\u001b[39m]\n",
      "\u001b[0;31mKeyError\u001b[0m: '학번'"
     ]
    }
   ],
   "source": [
    "dict1['학번']"
   ]
  },
  {
   "cell_type": "code",
   "execution_count": 245,
   "id": "0e7e1db1",
   "metadata": {},
   "outputs": [
    {
     "name": "stdout",
     "output_type": "stream",
     "text": [
      "None\n"
     ]
    }
   ],
   "source": [
    "print(dict1.get('학번'))"
   ]
  },
  {
   "cell_type": "code",
   "execution_count": 246,
   "id": "cd75e0a9",
   "metadata": {},
   "outputs": [
    {
     "data": {
      "text/plain": [
       "dict_keys(['이름', '소속', '월수익'])"
      ]
     },
     "execution_count": 246,
     "metadata": {},
     "output_type": "execute_result"
    }
   ],
   "source": [
    "dict1.keys()"
   ]
  },
  {
   "cell_type": "code",
   "execution_count": 247,
   "id": "30938b6c",
   "metadata": {},
   "outputs": [
    {
     "data": {
      "text/plain": [
       "dict_values(['안기모', '빅데이터 그룹', 2000])"
      ]
     },
     "execution_count": 247,
     "metadata": {},
     "output_type": "execute_result"
    }
   ],
   "source": [
    "dict1.values()"
   ]
  },
  {
   "cell_type": "code",
   "execution_count": 248,
   "id": "7ac14e42",
   "metadata": {},
   "outputs": [],
   "source": [
    "v1=[]\n",
    "\n",
    "for i in dict1.values():\n",
    "    v1.append(i)"
   ]
  },
  {
   "cell_type": "code",
   "execution_count": 249,
   "id": "f34f6a73",
   "metadata": {},
   "outputs": [
    {
     "data": {
      "text/plain": [
       "'안기모'"
      ]
     },
     "execution_count": 249,
     "metadata": {},
     "output_type": "execute_result"
    }
   ],
   "source": [
    "v1[0]"
   ]
  },
  {
   "cell_type": "code",
   "execution_count": 250,
   "id": "12e07719",
   "metadata": {},
   "outputs": [
    {
     "ename": "TypeError",
     "evalue": "'dict_values' object is not subscriptable",
     "output_type": "error",
     "traceback": [
      "\u001b[0;31m---------------------------------------------------------------------------\u001b[0m",
      "\u001b[0;31mTypeError\u001b[0m                                 Traceback (most recent call last)",
      "Cell \u001b[0;32mIn[250], line 1\u001b[0m\n\u001b[0;32m----> 1\u001b[0m dict1\u001b[38;5;241m.\u001b[39mvalues()[\u001b[38;5;241m0\u001b[39m]\n",
      "\u001b[0;31mTypeError\u001b[0m: 'dict_values' object is not subscriptable"
     ]
    }
   ],
   "source": [
    "#iterable 객체이지만, 바로 접근할 수는 없다\n",
    "\n",
    "dict1.values()[0]"
   ]
  },
  {
   "cell_type": "code",
   "execution_count": 253,
   "id": "4ba3bdba",
   "metadata": {},
   "outputs": [
    {
     "data": {
      "text/plain": [
       "'안기모'"
      ]
     },
     "execution_count": 253,
     "metadata": {},
     "output_type": "execute_result"
    }
   ],
   "source": [
    "list(dict1.values())[0]"
   ]
  },
  {
   "cell_type": "code",
   "execution_count": 254,
   "id": "27ec4991",
   "metadata": {},
   "outputs": [
    {
     "data": {
      "text/plain": [
       "2000"
      ]
     },
     "execution_count": 254,
     "metadata": {},
     "output_type": "execute_result"
    }
   ],
   "source": [
    "v1[2]"
   ]
  },
  {
   "cell_type": "code",
   "execution_count": 256,
   "id": "303fd779",
   "metadata": {},
   "outputs": [
    {
     "data": {
      "text/plain": [
       "{'이름': '안기모', '소속': '빅데이터 그룹', '월수익': 2000}"
      ]
     },
     "execution_count": 256,
     "metadata": {},
     "output_type": "execute_result"
    }
   ],
   "source": [
    "dict1 "
   ]
  },
  {
   "cell_type": "code",
   "execution_count": 257,
   "id": "aab31ae2",
   "metadata": {},
   "outputs": [],
   "source": [
    "dict1['이름'] = ['나천재','안기모']"
   ]
  },
  {
   "cell_type": "code",
   "execution_count": 258,
   "id": "e4121431",
   "metadata": {},
   "outputs": [
    {
     "data": {
      "text/plain": [
       "{'이름': ['나천재', '안기모'], '소속': '빅데이터 그룹', '월수익': 2000}"
      ]
     },
     "execution_count": 258,
     "metadata": {},
     "output_type": "execute_result"
    }
   ],
   "source": [
    "dict1"
   ]
  },
  {
   "cell_type": "code",
   "execution_count": 259,
   "id": "8776fffc",
   "metadata": {},
   "outputs": [],
   "source": [
    "dict1['소속'] = ['빅데이터 그룹', '경영혁신 그룹']\n",
    "dict1['월수익'] = [1500, 200]"
   ]
  },
  {
   "cell_type": "code",
   "execution_count": 260,
   "id": "b2e4a0f3",
   "metadata": {},
   "outputs": [
    {
     "data": {
      "text/plain": [
       "{'이름': ['나천재', '안기모'], '소속': ['빅데이터 그룹', '경영혁신 그룹'], '월수익': [1500, 200]}"
      ]
     },
     "execution_count": 260,
     "metadata": {},
     "output_type": "execute_result"
    }
   ],
   "source": [
    "dict1"
   ]
  },
  {
   "cell_type": "code",
   "execution_count": 261,
   "id": "8b0becc9",
   "metadata": {},
   "outputs": [],
   "source": [
    "name = ['인기모']\n",
    "group =['빅데이터그룹']\n",
    "income = [2000]\n",
    "\n",
    "dict3 = {'이름': name, '소속':group, '월 수익':income}"
   ]
  },
  {
   "cell_type": "code",
   "execution_count": 262,
   "id": "8911849f",
   "metadata": {},
   "outputs": [
    {
     "data": {
      "text/plain": [
       "{'이름': ['인기모'], '소속': ['빅데이터그룹'], '월 수익': [2000]}"
      ]
     },
     "execution_count": 262,
     "metadata": {},
     "output_type": "execute_result"
    }
   ],
   "source": [
    "dict3"
   ]
  },
  {
   "cell_type": "code",
   "execution_count": 263,
   "id": "e204658f",
   "metadata": {},
   "outputs": [],
   "source": [
    "name.append('나천재')"
   ]
  },
  {
   "cell_type": "code",
   "execution_count": 264,
   "id": "377d6c4e",
   "metadata": {},
   "outputs": [],
   "source": [
    "dict4 = {'이름': name, '소속':group, '월 수익':income}"
   ]
  },
  {
   "cell_type": "code",
   "execution_count": 265,
   "id": "35ef4b4b",
   "metadata": {},
   "outputs": [
    {
     "data": {
      "text/plain": [
       "{'이름': ['인기모', '나천재'], '소속': ['빅데이터그룹'], '월 수익': [2000]}"
      ]
     },
     "execution_count": 265,
     "metadata": {},
     "output_type": "execute_result"
    }
   ],
   "source": [
    "dict4"
   ]
  },
  {
   "cell_type": "code",
   "execution_count": 267,
   "id": "89d2362b",
   "metadata": {},
   "outputs": [
    {
     "name": "stdout",
     "output_type": "stream",
     "text": [
      "값을 입력하세요one\n",
      "입력한 숫자는 일\n"
     ]
    }
   ],
   "source": [
    "num_dic={'one':\"일\", 'two':\"이\",'three':\"삼\", 'four':\"4\",\n",
    "        'five':\"오\", 'six':\"육\", 'seven':\"칠\", 'eight':\"팔\", 'nine':\"구\", 'ten':\"십\"}\n",
    "\n",
    "A = input(\"값을 입력하세요\")\n",
    "\n",
    "print(\"입력한 숫자는\", num_dic[A])\n",
    "\n"
   ]
  },
  {
   "cell_type": "markdown",
   "id": "58eff246",
   "metadata": {},
   "source": [
    "### operator & operands"
   ]
  },
  {
   "cell_type": "code",
   "execution_count": 270,
   "id": "7e660cf9",
   "metadata": {},
   "outputs": [
    {
     "data": {
      "text/plain": [
       "15"
      ]
     },
     "execution_count": 270,
     "metadata": {},
     "output_type": "execute_result"
    }
   ],
   "source": [
    "5 + 10"
   ]
  },
  {
   "cell_type": "code",
   "execution_count": 271,
   "id": "87cd913f",
   "metadata": {},
   "outputs": [],
   "source": [
    "# 연산자의 우선 순위 : precedence\n",
    "\n",
    "# **, *, /, //, %, +, -"
   ]
  },
  {
   "cell_type": "code",
   "execution_count": 272,
   "id": "dac66094",
   "metadata": {},
   "outputs": [
    {
     "data": {
      "text/plain": [
       "False"
      ]
     },
     "execution_count": 272,
     "metadata": {},
     "output_type": "execute_result"
    }
   ],
   "source": [
    "1 > 10"
   ]
  },
  {
   "cell_type": "code",
   "execution_count": 273,
   "id": "0238bf3e",
   "metadata": {},
   "outputs": [
    {
     "data": {
      "text/plain": [
       "True"
      ]
     },
     "execution_count": 273,
     "metadata": {},
     "output_type": "execute_result"
    }
   ],
   "source": [
    "1 <= 10"
   ]
  },
  {
   "cell_type": "code",
   "execution_count": 274,
   "id": "6da75f3d",
   "metadata": {},
   "outputs": [
    {
     "data": {
      "text/plain": [
       "True"
      ]
     },
     "execution_count": 274,
     "metadata": {},
     "output_type": "execute_result"
    }
   ],
   "source": [
    "1 == 1"
   ]
  },
  {
   "cell_type": "code",
   "execution_count": 275,
   "id": "d2169b24",
   "metadata": {},
   "outputs": [
    {
     "data": {
      "text/plain": [
       "True"
      ]
     },
     "execution_count": 275,
     "metadata": {},
     "output_type": "execute_result"
    }
   ],
   "source": [
    "1 != 2"
   ]
  },
  {
   "cell_type": "code",
   "execution_count": 276,
   "id": "36b88a57",
   "metadata": {},
   "outputs": [
    {
     "data": {
      "text/plain": [
       "True"
      ]
     },
     "execution_count": 276,
     "metadata": {},
     "output_type": "execute_result"
    }
   ],
   "source": [
    "'A' < 'a'"
   ]
  },
  {
   "cell_type": "code",
   "execution_count": 277,
   "id": "9d2eb8d7",
   "metadata": {},
   "outputs": [
    {
     "data": {
      "text/plain": [
       "True"
      ]
     },
     "execution_count": 277,
     "metadata": {},
     "output_type": "execute_result"
    }
   ],
   "source": [
    "\"나라\" > \"나는\""
   ]
  },
  {
   "cell_type": "code",
   "execution_count": 278,
   "id": "e038bf3c",
   "metadata": {},
   "outputs": [
    {
     "data": {
      "text/plain": [
       "8"
      ]
     },
     "execution_count": 278,
     "metadata": {},
     "output_type": "execute_result"
    }
   ],
   "source": [
    "2**3"
   ]
  },
  {
   "cell_type": "code",
   "execution_count": 279,
   "id": "d876fee2",
   "metadata": {},
   "outputs": [
    {
     "data": {
      "text/plain": [
       "9"
      ]
     },
     "execution_count": 279,
     "metadata": {},
     "output_type": "execute_result"
    }
   ],
   "source": [
    "3**2"
   ]
  },
  {
   "cell_type": "code",
   "execution_count": 280,
   "id": "f8b687be",
   "metadata": {},
   "outputs": [],
   "source": [
    "import math"
   ]
  },
  {
   "cell_type": "code",
   "execution_count": 281,
   "id": "50d6ff46",
   "metadata": {},
   "outputs": [
    {
     "data": {
      "text/plain": [
       "8.0"
      ]
     },
     "execution_count": 281,
     "metadata": {},
     "output_type": "execute_result"
    }
   ],
   "source": [
    "math.pow(2,3)"
   ]
  },
  {
   "cell_type": "code",
   "execution_count": 282,
   "id": "6cdce447",
   "metadata": {},
   "outputs": [
    {
     "data": {
      "text/plain": [
       "3.141592653589793"
      ]
     },
     "execution_count": 282,
     "metadata": {},
     "output_type": "execute_result"
    }
   ],
   "source": [
    "math.pi"
   ]
  },
  {
   "cell_type": "code",
   "execution_count": 283,
   "id": "ca881e35",
   "metadata": {},
   "outputs": [
    {
     "data": {
      "text/plain": [
       "3.3333333333333335"
      ]
     },
     "execution_count": 283,
     "metadata": {},
     "output_type": "execute_result"
    }
   ],
   "source": [
    "a = 10\n",
    "b = 3\n",
    "\n",
    "a / b"
   ]
  },
  {
   "cell_type": "code",
   "execution_count": 284,
   "id": "2da3d49c",
   "metadata": {},
   "outputs": [
    {
     "data": {
      "text/plain": [
       "3"
      ]
     },
     "execution_count": 284,
     "metadata": {},
     "output_type": "execute_result"
    }
   ],
   "source": [
    "a // b"
   ]
  },
  {
   "cell_type": "code",
   "execution_count": 285,
   "id": "117430b5",
   "metadata": {},
   "outputs": [
    {
     "data": {
      "text/plain": [
       "1"
      ]
     },
     "execution_count": 285,
     "metadata": {},
     "output_type": "execute_result"
    }
   ],
   "source": [
    "a % b"
   ]
  },
  {
   "cell_type": "code",
   "execution_count": 286,
   "id": "bc6c7140",
   "metadata": {},
   "outputs": [
    {
     "name": "stdout",
     "output_type": "stream",
     "text": [
      "1\n",
      "3\n",
      "5\n",
      "7\n",
      "9\n"
     ]
    }
   ],
   "source": [
    "for i in range(1,10):\n",
    "    if i % 2 == 1:\n",
    "        print(i)"
   ]
  },
  {
   "cell_type": "code",
   "execution_count": 287,
   "id": "d49f1702",
   "metadata": {},
   "outputs": [
    {
     "data": {
      "text/plain": [
       "107"
      ]
     },
     "execution_count": 287,
     "metadata": {},
     "output_type": "execute_result"
    }
   ],
   "source": [
    "a = 50\n",
    "b = 57\n",
    "\n",
    "a+b"
   ]
  },
  {
   "cell_type": "code",
   "execution_count": 288,
   "id": "a8dffeef",
   "metadata": {},
   "outputs": [
    {
     "data": {
      "text/plain": [
       "-7"
      ]
     },
     "execution_count": 288,
     "metadata": {},
     "output_type": "execute_result"
    }
   ],
   "source": [
    "a- b"
   ]
  },
  {
   "cell_type": "code",
   "execution_count": 289,
   "id": "92274b18",
   "metadata": {},
   "outputs": [
    {
     "data": {
      "text/plain": [
       "False"
      ]
     },
     "execution_count": 289,
     "metadata": {},
     "output_type": "execute_result"
    }
   ],
   "source": [
    "a > b"
   ]
  },
  {
   "cell_type": "code",
   "execution_count": 290,
   "id": "112f7c69",
   "metadata": {},
   "outputs": [
    {
     "data": {
      "text/plain": [
       "True"
      ]
     },
     "execution_count": 290,
     "metadata": {},
     "output_type": "execute_result"
    }
   ],
   "source": [
    "a <= b"
   ]
  },
  {
   "cell_type": "code",
   "execution_count": 291,
   "id": "257b9899",
   "metadata": {},
   "outputs": [
    {
     "data": {
      "text/plain": [
       "(False, True)"
      ]
     },
     "execution_count": 291,
     "metadata": {},
     "output_type": "execute_result"
    }
   ],
   "source": [
    "a == b, a != b"
   ]
  },
  {
   "cell_type": "code",
   "execution_count": 292,
   "id": "77068acc",
   "metadata": {},
   "outputs": [
    {
     "name": "stdout",
     "output_type": "stream",
     "text": [
      "값을 하나 입력하세요2\n",
      "12.566370614359172\n"
     ]
    }
   ],
   "source": [
    "# 1- 7\n",
    "import math\n",
    "\n",
    "r = int(input(\"값을 하나 입력하세요\"))\n",
    "\n",
    "y = math.pi*r**2\n",
    "\n",
    "print(y)"
   ]
  },
  {
   "cell_type": "code",
   "execution_count": 293,
   "id": "1854a1b7",
   "metadata": {},
   "outputs": [
    {
     "name": "stdout",
     "output_type": "stream",
     "text": [
      "수를 하나 입력하세요. 10\n",
      "11.1\n"
     ]
    }
   ],
   "source": [
    "x = float(input(\"수를 하나 입력하세요. \"))\n",
    "\n",
    "y = (x**2 + x + 1)/ x\n",
    "\n",
    "print(y)"
   ]
  }
 ],
 "metadata": {
  "kernelspec": {
   "display_name": "Python 3 (ipykernel)",
   "language": "python",
   "name": "python3"
  },
  "language_info": {
   "codemirror_mode": {
    "name": "ipython",
    "version": 3
   },
   "file_extension": ".py",
   "mimetype": "text/x-python",
   "name": "python",
   "nbconvert_exporter": "python",
   "pygments_lexer": "ipython3",
   "version": "3.11.7"
  }
 },
 "nbformat": 4,
 "nbformat_minor": 5
}
