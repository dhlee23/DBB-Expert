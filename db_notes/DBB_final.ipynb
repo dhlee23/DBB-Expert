{
 "cells": [
  {
   "cell_type": "code",
   "execution_count": 11,
   "id": "0d3e03f9-7a9f-47fd-9b94-877686b46324",
   "metadata": {},
   "outputs": [
    {
     "name": "stdout",
     "output_type": "stream",
     "text": [
      "/Users/daylelee/Desktop/2024 DBB EXPERT/3_project\n"
     ]
    }
   ],
   "source": [
    "import os\n",
    "os.getcwd()\n",
    "\n",
    "path = '/Users/daylelee/Desktop/2024 DBB EXPERT/3_project'\n",
    "os.chdir(path)\n",
    "print(os.getcwd())"
   ]
  },
  {
   "cell_type": "code",
   "execution_count": 157,
   "id": "c45c270d-3192-417b-8951-8bceb7528d2f",
   "metadata": {},
   "outputs": [],
   "source": [
    "import pandas as pd\n",
    "#df1 = pd.read_excel('./data/DBB_21.2월 모집_장기/[DBB]유지율_로우데이터.xlsx')\n",
    "df2 = pd.read_excel('./data/DBB_21.2월 모집_장기/raw_2103모집(2102_2306)_해당.xlsx')"
   ]
  },
  {
   "cell_type": "code",
   "execution_count": 9,
   "id": "6879e2cc-06e6-4135-9635-270e80a02431",
   "metadata": {},
   "outputs": [
    {
     "data": {
      "text/plain": [
       "Index(['증권번호', '보험기간시작일자', '보험기간종료일자', '계약상태코드', '계약상태일자', '계약상태세부코드',\n",
       "       '계약상태세부일자', '수금자사원번호', '수금방법코드', '만기년수', '만기구분코드', '최종납입회차', '최종납입년월',\n",
       "       'PA계약여부', 'PA가족계약여부', 'PA본인계약여부', '계약자연령', '계약자성별코드', '승환계약대상해지총건수',\n",
       "       '승환계약여부', '피보험자연령', '피보험자고객번호', '주피보험자상해급수코드', '주피보험자직업코드', '피보험자성별코드',\n",
       "       '개인단체구분코드', '납입년수', '모집자사원번호', '불량여부'],\n",
       "      dtype='object')"
      ]
     },
     "execution_count": 9,
     "metadata": {},
     "output_type": "execute_result"
    }
   ],
   "source": [
    "df1.columns"
   ]
  },
  {
   "cell_type": "code",
   "execution_count": 475,
   "id": "41315a4c-c088-4a51-97b2-dcb55497454e",
   "metadata": {},
   "outputs": [
    {
     "data": {
      "text/plain": [
       "0         320221814443\n",
       "1         320222189228\n",
       "2         320221873917\n",
       "3         320220615334\n",
       "4         320220786475\n",
       "              ...     \n",
       "155210    320222275140\n",
       "155211    320221423607\n",
       "155212    320221934290\n",
       "155213    320222394461\n",
       "155214    320220365345\n",
       "Name: 증권번호, Length: 155215, dtype: int64"
      ]
     },
     "execution_count": 475,
     "metadata": {},
     "output_type": "execute_result"
    }
   ],
   "source": [
    "df1['증권번호']"
   ]
  },
  {
   "cell_type": "code",
   "execution_count": 473,
   "id": "e5ee459b-2008-4539-847b-0d4db8299439",
   "metadata": {},
   "outputs": [
    {
     "name": "stdout",
     "output_type": "stream",
     "text": [
      "전체계약건수 : 155215\n",
      "15회차이전 해지계약건수 : 22999\n"
     ]
    }
   ],
   "source": [
    "print(\"전체계약건수 :\", len(set(df['증권번호'])))\n",
    "print(\"15회차이전 해지계약건수 :\", len(set(df[df['불량여부']==1]['증권번호'])))"
   ]
  },
  {
   "cell_type": "code",
   "execution_count": 11,
   "id": "3a893228-9396-4f41-82e2-831105b2d460",
   "metadata": {},
   "outputs": [],
   "source": [
    "import sklearn\n",
    "from sklearn.datasets import load_iris\n",
    "from sklearn.model_selection import train_test_split\n",
    "from sklearn.tree import DecisionTreeClassifier\n",
    "from sklearn.ensemble import RandomForestClassifier\n",
    "from sklearn.linear_model import LogisticRegression\n",
    "from sklearn.metrics import accuracy_score"
   ]
  },
  {
   "cell_type": "code",
   "execution_count": 391,
   "id": "91e39cc9-0661-4fb1-9d9f-33e9770d1fae",
   "metadata": {},
   "outputs": [],
   "source": [
    "df['피보험자성별코드']=df['피보험자성별코드']-1"
   ]
  },
  {
   "cell_type": "code",
   "execution_count": 419,
   "id": "edb8e445-d350-4bf4-b7c4-30787d704fbd",
   "metadata": {},
   "outputs": [
    {
     "name": "stdout",
     "output_type": "stream",
     "text": [
      "증권번호            int64\n",
      "보험기간시작일자        int64\n",
      "보험기간종료일자        int64\n",
      "계약상태코드          int64\n",
      "계약상태일자          int64\n",
      "계약상태세부코드        int64\n",
      "계약상태세부일자        int64\n",
      "수금자사원번호        object\n",
      "수금방법코드          int64\n",
      "만기년수            int64\n",
      "만기구분코드          int64\n",
      "최종납입회차          int64\n",
      "최종납입년월          int64\n",
      "PA계약여부          int64\n",
      "PA가족계약여부        int64\n",
      "PA본인계약여부        int64\n",
      "계약자연령           int64\n",
      "계약자성별코드        object\n",
      "승환계약대상해지총건수     int64\n",
      "승환계약여부          int64\n",
      "피보험자연령          int64\n",
      "피보험자고객번호        int64\n",
      "주피보험자상해급수코드     int64\n",
      "주피보험자직업코드      object\n",
      "피보험자성별코드        int64\n",
      "개인단체구분코드        int64\n",
      "납입년수            int64\n",
      "모집자사원번호        object\n",
      "불량여부            int64\n",
      "dtype: object\n"
     ]
    }
   ],
   "source": [
    "print(df.dtypes)"
   ]
  },
  {
   "cell_type": "code",
   "execution_count": 243,
   "id": "b4480c88-52b7-4caa-93ad-1118a417e704",
   "metadata": {},
   "outputs": [],
   "source": [
    "X = df[['수금방법코드', '만기년수', '만기구분코드', '최종납입회차',\n",
    "    'PA계약여부', 'PA가족계약여부', 'PA본인계약여부', '계약자연령', '계약자성별코드', '승환계약대상해지총건수',\n",
    "    '승환계약여부', '피보험자연령', '주피보험자상해급수코드', '주피보험자직업코드', '피보험자성별코드',\n",
    "    '개인단체구분코드', '납입년수']]\n",
    "y = df['불량여부']"
   ]
  },
  {
   "cell_type": "code",
   "execution_count": 425,
   "id": "7e5e38f9-5705-428f-b27a-82c6ae7bfba3",
   "metadata": {},
   "outputs": [],
   "source": [
    "X = df[['수금방법코드', '만기년수', '만기구분코드',\n",
    "    'PA계약여부', 'PA가족계약여부', 'PA본인계약여부', '계약자연령', '승환계약대상해지총건수',\n",
    "    '승환계약여부', '피보험자연령', '주피보험자상해급수코드', '피보험자성별코드',\n",
    "    '개인단체구분코드', '납입년수']]\n",
    "y = df['불량여부']"
   ]
  },
  {
   "cell_type": "code",
   "execution_count": 477,
   "id": "71337b32-0906-489b-bcbc-85ea32120900",
   "metadata": {},
   "outputs": [],
   "source": [
    "X_train, X_test, y_train, y_test = train_test_split(X, y, test_size = 0.8, random_state = 77)"
   ]
  },
  {
   "cell_type": "code",
   "execution_count": 347,
   "id": "d05fccbf-0ef0-4f2a-93c3-a78dd6fb3fb7",
   "metadata": {},
   "outputs": [],
   "source": [
    "X_train, X_test, y_train, y_test = train_test_split(X, y, test_size = 0.2, random_state = 42)"
   ]
  },
  {
   "cell_type": "code",
   "execution_count": 479,
   "id": "64640b00-c9d5-4b4a-98d1-ec105ae67268",
   "metadata": {},
   "outputs": [
    {
     "name": "stdout",
     "output_type": "stream",
     "text": [
      "\n",
      "로지스틱 회귀 정확도: 85.1%\n",
      "\n",
      "교차검증 평균 정확도: 85.1%\n"
     ]
    }
   ],
   "source": [
    "log_reg = LogisticRegression(max_iter=1000)\n",
    "\n",
    "scores = cross_val_score(log_reg, X, y, cv=10) # 5-겹 교차 검증\n",
    "\n",
    "log_reg.fit(X_train, y_train)\n",
    "\n",
    "y_pred = log_reg.predict(X_test)\n",
    "\n",
    "accuracy = log_reg.score(X_test, y_test)\n",
    "#accuracy = accuracy_score(y_test, y_pred)\n",
    "\n",
    "print(f\"\\n로지스틱 회귀 정확도: {accuracy*100:.1f}%\")\n",
    "print(f\"\\n교차검증 평균 정확도: {scores.mean()*100:.1f}%\")"
   ]
  },
  {
   "cell_type": "code",
   "execution_count": 451,
   "id": "72a0b1af-1868-4c51-8ae5-d60fdcae6e70",
   "metadata": {},
   "outputs": [
    {
     "name": "stdout",
     "output_type": "stream",
     "text": [
      "\n",
      "테스트 정확도: 83.2%\n"
     ]
    }
   ],
   "source": [
    "clf = RandomForestClassifier(n_estimators = 100)  \n",
    " \n",
    "clf.fit(X_train, y_train)\n",
    " \n",
    "y_pred = clf.predict(X_test)\n",
    "print(f\"\\n테스트 정확도: {accuracy_score(y_test, y_pred)*100:.1f}%\")"
   ]
  },
  {
   "cell_type": "code",
   "execution_count": 379,
   "id": "8ab703b3-8d3f-4fbf-9d90-ce3253d34cc7",
   "metadata": {},
   "outputs": [
    {
     "name": "stdout",
     "output_type": "stream",
     "text": [
      "피보험자성별코드\n",
      "1    0.53317\n",
      "2    0.46683\n",
      "Name: proportion, dtype: float64\n",
      "계약자성별코드\n",
      "2    82427\n",
      "1    72600\n",
      "       188\n",
      "Name: count, dtype: int64\n",
      "승환계약여부\n",
      "0    0.858474\n",
      "1    0.141526\n",
      "Name: proportion, dtype: float64\n",
      "불량여부\n",
      "0    0.851825\n",
      "1    0.148175\n",
      "Name: proportion, dtype: float64\n"
     ]
    }
   ],
   "source": [
    "print(df['피보험자성별코드'].value_counts(True))\n",
    "print(df['계약자성별코드'].value_counts())\n",
    "print(df['승환계약여부'].value_counts(True))\n",
    "print(df['불량여부'].value_counts(True))"
   ]
  },
  {
   "cell_type": "code",
   "execution_count": 421,
   "id": "057d3373-f693-49a5-8aa3-879a86bd9cb1",
   "metadata": {},
   "outputs": [],
   "source": [
    "from sklearn.model_selection import cross_val_score"
   ]
  },
  {
   "cell_type": "code",
   "execution_count": null,
   "id": "09e3bc36-10df-421e-acf0-ebdb39ef8c6f",
   "metadata": {},
   "outputs": [],
   "source": []
  }
 ],
 "metadata": {
  "kernelspec": {
   "display_name": "Python 3 (ipykernel)",
   "language": "python",
   "name": "python3"
  },
  "language_info": {
   "codemirror_mode": {
    "name": "ipython",
    "version": 3
   },
   "file_extension": ".py",
   "mimetype": "text/x-python",
   "name": "python",
   "nbconvert_exporter": "python",
   "pygments_lexer": "ipython3",
   "version": "3.12.4"
  }
 },
 "nbformat": 4,
 "nbformat_minor": 5
}
