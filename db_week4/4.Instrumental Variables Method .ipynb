{
 "cells": [
  {
   "cell_type": "markdown",
   "id": "f28af0dc",
   "metadata": {},
   "source": [
    "## Using College Proximity as an IV for Education"
   ]
  },
  {
   "cell_type": "code",
   "execution_count": 1,
   "id": "77c163f2",
   "metadata": {},
   "outputs": [],
   "source": [
    "import wooldridge as woo\n",
    "import numpy as np\n",
    "import pandas as pd\n",
    "import linearmodels.iv as iv\n",
    "import statsmodels.formula.api as smf\n",
    "card = woo.dataWoo('card')"
   ]
  },
  {
   "cell_type": "code",
   "execution_count": 3,
   "id": "110ca9a5",
   "metadata": {},
   "outputs": [],
   "source": [
    "# checking for relevance with reduced form:\n",
    "reg_redf = smf.ols(formula= 'educ ~ nearc4 + exper + I(exper**2) + black + smsa +\\\n",
    "                   south + smsa66 + reg662 + reg663 + reg664 + reg665 + reg666 + \\\n",
    "                   reg667 + reg668 + reg669', data=card)\n",
    "results_redf = reg_redf.fit()"
   ]
  },
  {
   "cell_type": "code",
   "execution_count": 5,
   "id": "82a94dc6",
   "metadata": {},
   "outputs": [
    {
     "name": "stdout",
     "output_type": "stream",
     "text": [
      "table_redf: \n",
      "                     b      se        t    pval\n",
      "Intercept      16.6383  0.2406  69.1446  0.0000\n",
      "nearc4          0.3199  0.0879   3.6408  0.0003\n",
      "exper          -0.4125  0.0337 -12.2415  0.0000\n",
      "I(exper ** 2)   0.0009  0.0017   0.5263  0.5987\n",
      "black          -0.9355  0.0937  -9.9806  0.0000\n",
      "smsa            0.4022  0.1048   3.8372  0.0001\n",
      "south          -0.0516  0.1354  -0.3811  0.7032\n",
      "smsa66          0.0255  0.1058   0.2409  0.8096\n",
      "reg662         -0.0786  0.1871  -0.4203  0.6743\n",
      "reg663         -0.0279  0.1834  -0.1524  0.8789\n",
      "reg664          0.1172  0.2173   0.5394  0.5897\n",
      "reg665         -0.2726  0.2184  -1.2481  0.2121\n",
      "reg666         -0.3028  0.2371  -1.2773  0.2016\n",
      "reg667         -0.2168  0.2344  -0.9250  0.3550\n",
      "reg668          0.5239  0.2675   1.9587  0.0502\n",
      "reg669          0.2103  0.2025   1.0386  0.2991\n",
      "\n"
     ]
    }
   ],
   "source": [
    "# print regression table:\n",
    "table_redf = pd.DataFrame({'b': round(results_redf.params, 4),\n",
    "                           'se': round(results_redf.bse, 4),\n",
    "                           't': round(results_redf.tvalues, 4),\n",
    "                           'pval': round(results_redf.pvalues, 4)})\n",
    "print(f'table_redf: \\n{table_redf}\\n')"
   ]
  },
  {
   "cell_type": "code",
   "execution_count": 7,
   "id": "0b18bf00",
   "metadata": {},
   "outputs": [],
   "source": [
    "# OLS:\n",
    "reg_ols = smf.ols(formula='np.log(wage) ~ educ + exper + I(exper**2) + black + smsa +\\\n",
    "                        south + smsa66 + reg662 + reg663 + reg664 + reg665 +\\\n",
    "                        reg666 + reg667 + reg668 + reg669', data=card)\n",
    "\n",
    "results_ols = reg_ols.fit()"
   ]
  },
  {
   "cell_type": "code",
   "execution_count": 9,
   "id": "ca62aa5c",
   "metadata": {},
   "outputs": [
    {
     "name": "stdout",
     "output_type": "stream",
     "text": [
      "table_ols: \n",
      "                    b      se        t    pval\n",
      "Intercept      4.6208  0.0742  62.2476  0.0000\n",
      "educ           0.0747  0.0035  21.3510  0.0000\n",
      "exper          0.0848  0.0066  12.8063  0.0000\n",
      "I(exper ** 2) -0.0023  0.0003  -7.2232  0.0000\n",
      "black         -0.1990  0.0182 -10.9058  0.0000\n",
      "smsa           0.1364  0.0201   6.7851  0.0000\n",
      "south         -0.1480  0.0260  -5.6950  0.0000\n",
      "smsa66         0.0262  0.0194   1.3493  0.1773\n",
      "reg662         0.0964  0.0359   2.6845  0.0073\n",
      "reg663         0.1445  0.0351   4.1151  0.0000\n",
      "reg664         0.0551  0.0417   1.3221  0.1862\n",
      "reg665         0.1280  0.0418   3.0599  0.0022\n",
      "reg666         0.1405  0.0452   3.1056  0.0019\n",
      "reg667         0.1180  0.0448   2.6334  0.0085\n",
      "reg668        -0.0564  0.0513  -1.1010  0.2710\n",
      "reg669         0.1186  0.0388   3.0536  0.0023\n",
      "\n"
     ]
    }
   ],
   "source": [
    "# print regression table:\n",
    "table_ols = pd.DataFrame({'b': round(results_ols.params, 4),\n",
    "                          'se': round(results_ols.bse, 4),\n",
    "                          't': round(results_ols.tvalues, 4),\n",
    "                          'pval': round(results_ols.pvalues, 4)})\n",
    "\n",
    "print(f'table_ols: \\n{table_ols}\\n')"
   ]
  },
  {
   "cell_type": "code",
   "execution_count": 18,
   "id": "d78f33ad",
   "metadata": {},
   "outputs": [],
   "source": [
    "# IV automatically:\n",
    "\n",
    "reg_iv = iv.IV2SLS.from_formula(\n",
    "    formula='np.log(wage)~ 1 + exper + I(exper**2) + black + smsa + \\\n",
    "    south + smsa66 + reg662 + reg663 + reg664 + reg665 +\\\n",
    "    reg666 + reg667 + reg668 + reg669 + [educ ~ nearc4]',data=card)\n",
    "\n",
    "results_iv = reg_iv.fit(cov_type='clustered', debiased=True)"
   ]
  },
  {
   "cell_type": "code",
   "execution_count": 19,
   "id": "7b71f827",
   "metadata": {},
   "outputs": [
    {
     "name": "stdout",
     "output_type": "stream",
     "text": [
      "table_iv: \n",
      "                    b      se       t    pval\n",
      "Intercept      3.6662  0.9110  4.0245  0.0001\n",
      "exper          0.1083  0.0234  4.6252  0.0000\n",
      "I(exper ** 2) -0.0023  0.0003 -6.6950  0.0000\n",
      "black         -0.1468  0.0525 -2.7956  0.0052\n",
      "smsa           0.1118  0.0311  3.5899  0.0003\n",
      "south         -0.1447  0.0291 -4.9642  0.0000\n",
      "smsa66         0.0185  0.0206  0.9011  0.3676\n",
      "reg662         0.1008  0.0365  2.7571  0.0059\n",
      "reg663         0.1483  0.0356  4.1649  0.0000\n",
      "reg664         0.0499  0.0436  1.1440  0.2527\n",
      "reg665         0.1463  0.0492  2.9714  0.0030\n",
      "reg666         0.1629  0.0518  3.1469  0.0017\n",
      "reg667         0.1346  0.0506  2.6618  0.0078\n",
      "reg668        -0.0831  0.0572 -1.4513  0.1468\n",
      "reg669         0.1078  0.0411  2.6247  0.0087\n",
      "educ           0.1315  0.0541  2.4288  0.0152\n",
      "\n"
     ]
    }
   ],
   "source": [
    "# print regression table:\n",
    "table_iv = pd.DataFrame({'b': round(results_iv.params, 4),\n",
    "                         'se': round(results_iv.std_errors, 4),\n",
    "                         't': round(results_iv.tstats, 4),\n",
    "                         'pval': round(results_iv.pvalues, 4)})\n",
    "\n",
    "print(f'table_iv: \\n{table_iv}\\n')"
   ]
  },
  {
   "cell_type": "code",
   "execution_count": null,
   "id": "9fb6d3d9",
   "metadata": {},
   "outputs": [],
   "source": []
  }
 ],
 "metadata": {
  "kernelspec": {
   "display_name": "Python 3 (ipykernel)",
   "language": "python",
   "name": "python3"
  },
  "language_info": {
   "codemirror_mode": {
    "name": "ipython",
    "version": 3
   },
   "file_extension": ".py",
   "mimetype": "text/x-python",
   "name": "python",
   "nbconvert_exporter": "python",
   "pygments_lexer": "ipython3",
   "version": "3.11.7"
  }
 },
 "nbformat": 4,
 "nbformat_minor": 5
}
