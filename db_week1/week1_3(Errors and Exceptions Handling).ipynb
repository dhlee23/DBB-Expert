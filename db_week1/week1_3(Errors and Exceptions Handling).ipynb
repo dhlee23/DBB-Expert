{
 "cells": [
  {
   "cell_type": "markdown",
   "metadata": {},
   "source": [
    "## Errors and Exception Handling\n"
   ]
  },
  {
   "cell_type": "code",
   "execution_count": 1,
   "metadata": {},
   "outputs": [
    {
     "ename": "SyntaxError",
     "evalue": "EOL while scanning string literal (<ipython-input-1-db8c9988558c>, line 1)",
     "output_type": "error",
     "traceback": [
      "\u001b[1;36m  File \u001b[1;32m\"<ipython-input-1-db8c9988558c>\"\u001b[1;36m, line \u001b[1;32m1\u001b[0m\n\u001b[1;33m    print('Hello)\u001b[0m\n\u001b[1;37m                 ^\u001b[0m\n\u001b[1;31mSyntaxError\u001b[0m\u001b[1;31m:\u001b[0m EOL while scanning string literal\n"
     ]
    }
   ],
   "source": [
    "print('Hello)"
   ]
  },
  {
   "cell_type": "markdown",
   "metadata": {},
   "source": [
    "Note how we get a SyntaxError, with the further description that it was an EOL (End of Line Error) while scanning the string literal. This is specific enough for us to see that we forgot a single quote at the end of the line. Understanding these various error types will help you debug your code much faster. \n",
    "\n",
    "This type of error and description is known as an Exception. Even if a statement or expression is syntactically correct, it may cause an error when an attempt is made to execute it. Errors detected during execution are called exceptions and are not unconditionally fatal.\n",
    "\n",
    "You can check out the full list of built-in exceptions [here](https://docs.python.org/3/library/exceptions.html). Now let's learn how to handle errors and exceptions in our own code."
   ]
  },
  {
   "cell_type": "markdown",
   "metadata": {},
   "source": [
    "## try and except\n",
    "\n",
    "The basic terminology and syntax used to handle errors in Python are the <code>try</code> and <code>except</code> statements. The code which can cause an exception to occur is put in the <code>try</code> block and the handling of the exception is then implemented in the <code>except</code> block of code. The syntax follows:\n",
    "\n",
    "    try:\n",
    "       You do your operations here...\n",
    "       ...\n",
    "    except ExceptionI:\n",
    "       If there is ExceptionI, then execute this block.\n",
    "    except ExceptionII:\n",
    "       If there is ExceptionII, then execute this block.\n",
    "       ...\n",
    "    else:\n",
    "       If there is no exception then execute this block. \n",
    "\n",
    "We can also just check for any exception with just using <code>except:</code> To get a better understanding of all this let's check out an example: We will look at some code that opens and writes a file:"
   ]
  },
  {
   "cell_type": "code",
   "execution_count": 5,
   "metadata": {},
   "outputs": [
    {
     "name": "stdout",
     "output_type": "stream",
     "text": [
      "Content written successfully\n"
     ]
    }
   ],
   "source": [
    "try:\n",
    "    f = open('testfile','w')\n",
    "    f.write('Test write this')\n",
    "except IOError:\n",
    "    # This will only check for an IOError exception and then execute this print statement\n",
    "    # IOError(input output error)\n",
    "    print(\"Error: Could not find file or read data\")\n",
    "else:\n",
    "    print(\"Content written successfully\")\n",
    "    f.close()"
   ]
  },
  {
   "cell_type": "markdown",
   "metadata": {},
   "source": [
    "Now let's see what would happen if we did not have write permission (opening only with 'r'):"
   ]
  },
  {
   "cell_type": "code",
   "execution_count": 7,
   "metadata": {},
   "outputs": [
    {
     "name": "stdout",
     "output_type": "stream",
     "text": [
      "Error: Could not find file or read data\n"
     ]
    }
   ],
   "source": [
    "try:\n",
    "    f = open('testfile','r')\n",
    "    # 'r'모드이므로 write할 수는 없음\n",
    "    f.write('Test write this')\n",
    "except IOError:\n",
    "    # This will only check for an IOError exception and then execute this print statement\n",
    "    print(\"Error: Could not find file or read data\")\n",
    "else:\n",
    "    print(\"Content written successfully\")\n",
    "    f.close()"
   ]
  },
  {
   "cell_type": "markdown",
   "metadata": {},
   "source": [
    "Great! Notice how we only printed a statement! The code still ran and we were able to continue doing actions and running code blocks. This is extremely useful when you have to account for possible input errors in your code. You can be prepared for the error and keep running code, instead of your code just breaking as we saw above.\n",
    "\n",
    "We could have also just said <code>except:</code> if we weren't sure what exception would occur. For example:"
   ]
  },
  {
   "cell_type": "code",
   "execution_count": 8,
   "metadata": {},
   "outputs": [
    {
     "name": "stdout",
     "output_type": "stream",
     "text": [
      "Error: Could not find file or read data\n"
     ]
    }
   ],
   "source": [
    "# except와 else는 양자 선택\n",
    "\n",
    "try:\n",
    "    f = open('testfile','r')\n",
    "    f.write('Test write this')\n",
    "except:\n",
    "    # This will check for any exception and then execute this print statement\n",
    "    print(\"Error: Could not find file or read data\")\n",
    "else:\n",
    "    print(\"Content written successfully\")\n",
    "    f.close()"
   ]
  },
  {
   "cell_type": "markdown",
   "metadata": {},
   "source": [
    "Great! Now we don't actually need to memorize that list of exception types! Now what if we kept wanting to run code after the exception occurred? This is where <code>finally</code> comes in.\n",
    "## finally\n",
    "The <code>finally:</code> block of code will always be run regardless if there was an exception in the <code>try</code> code block. The syntax is:\n",
    "\n",
    "    try:\n",
    "       Code block here\n",
    "       ...\n",
    "       Due to any exception, this code may be skipped!\n",
    "    finally:\n",
    "       This code block would always be executed.\n",
    "\n",
    "For example:"
   ]
  },
  {
   "cell_type": "code",
   "execution_count": 9,
   "metadata": {},
   "outputs": [
    {
     "name": "stdout",
     "output_type": "stream",
     "text": [
      "Always execute finally code blocks\n"
     ]
    }
   ],
   "source": [
    "# try는 앞에서 무조건 실행\n",
    "# finally는 뒤에서 무조건 실행\n",
    "\n",
    "try:\n",
    "    f = open(\"testfile\", \"w\")\n",
    "    f.write(\"Test write statement\")\n",
    "    f.close()\n",
    "finally:\n",
    "    print(\"Always execute finally code blocks\")"
   ]
  },
  {
   "cell_type": "markdown",
   "metadata": {},
   "source": [
    "We can use this in conjunction with <code>except</code>. Let's see a new example that will take into account a user providing the wrong input:"
   ]
  },
  {
   "cell_type": "code",
   "execution_count": 13,
   "metadata": {},
   "outputs": [],
   "source": [
    "def askint():\n",
    "    try:\n",
    "        val = int(input(\"Please enter an integer: \"))\n",
    "    except:\n",
    "        print(\"Looks like you did not enter an integer!\")\n",
    "\n",
    "    finally:\n",
    "        print(\"Finally, I executed!\")\n",
    "    print(val)"
   ]
  },
  {
   "cell_type": "code",
   "execution_count": 14,
   "metadata": {},
   "outputs": [
    {
     "name": "stdout",
     "output_type": "stream",
     "text": [
      "Please enter an integer: 0\n",
      "Finally, I executed!\n",
      "0\n"
     ]
    }
   ],
   "source": [
    "askint()"
   ]
  },
  {
   "cell_type": "code",
   "execution_count": 15,
   "metadata": {},
   "outputs": [
    {
     "name": "stdout",
     "output_type": "stream",
     "text": [
      "Please enter an integer: three\n",
      "Looks like you did not enter an integer!\n",
      "Finally, I executed!\n"
     ]
    },
    {
     "ename": "UnboundLocalError",
     "evalue": "cannot access local variable 'val' where it is not associated with a value",
     "output_type": "error",
     "traceback": [
      "\u001b[0;31m---------------------------------------------------------------------------\u001b[0m",
      "\u001b[0;31mUnboundLocalError\u001b[0m                         Traceback (most recent call last)",
      "Cell \u001b[0;32mIn[15], line 1\u001b[0m\n\u001b[0;32m----> 1\u001b[0m askint()\n",
      "Cell \u001b[0;32mIn[13], line 9\u001b[0m, in \u001b[0;36maskint\u001b[0;34m()\u001b[0m\n\u001b[1;32m      7\u001b[0m \u001b[38;5;28;01mfinally\u001b[39;00m:\n\u001b[1;32m      8\u001b[0m     \u001b[38;5;28mprint\u001b[39m(\u001b[38;5;124m\"\u001b[39m\u001b[38;5;124mFinally, I executed!\u001b[39m\u001b[38;5;124m\"\u001b[39m)\n\u001b[0;32m----> 9\u001b[0m \u001b[38;5;28mprint\u001b[39m(val)\n",
      "\u001b[0;31mUnboundLocalError\u001b[0m: cannot access local variable 'val' where it is not associated with a value"
     ]
    }
   ],
   "source": [
    "askint()"
   ]
  },
  {
   "cell_type": "markdown",
   "metadata": {},
   "source": [
    "Notice how we got an error when trying to print val (because it was never properly assigned). Let's remedy this by asking the user and checking to make sure the input type is an integer:"
   ]
  },
  {
   "cell_type": "code",
   "execution_count": 16,
   "metadata": {},
   "outputs": [],
   "source": [
    "def askint():\n",
    "    try:\n",
    "        val = int(input(\"Please enter an integer: \"))\n",
    "    except:\n",
    "        print(\"Looks like you did not enter an integer!\")\n",
    "        val = int(input(\"Try again-Please enter an integer: \"))\n",
    "    finally:\n",
    "        print(\"Finally, I executed!\")\n",
    "    print(val)"
   ]
  },
  {
   "cell_type": "code",
   "execution_count": 18,
   "metadata": {},
   "outputs": [
    {
     "name": "stdout",
     "output_type": "stream",
     "text": [
      "Please enter an integer: two\n",
      "Looks like you did not enter an integer!\n",
      "Try again-Please enter an integer: three\n",
      "Finally, I executed!\n"
     ]
    },
    {
     "ename": "ValueError",
     "evalue": "invalid literal for int() with base 10: 'three'",
     "output_type": "error",
     "traceback": [
      "\u001b[0;31m---------------------------------------------------------------------------\u001b[0m",
      "\u001b[0;31mValueError\u001b[0m                                Traceback (most recent call last)",
      "Cell \u001b[0;32mIn[16], line 3\u001b[0m, in \u001b[0;36maskint\u001b[0;34m()\u001b[0m\n\u001b[1;32m      2\u001b[0m \u001b[38;5;28;01mtry\u001b[39;00m:\n\u001b[0;32m----> 3\u001b[0m     val \u001b[38;5;241m=\u001b[39m \u001b[38;5;28mint\u001b[39m(\u001b[38;5;28minput\u001b[39m(\u001b[38;5;124m\"\u001b[39m\u001b[38;5;124mPlease enter an integer: \u001b[39m\u001b[38;5;124m\"\u001b[39m))\n\u001b[1;32m      4\u001b[0m \u001b[38;5;28;01mexcept\u001b[39;00m:\n",
      "\u001b[0;31mValueError\u001b[0m: invalid literal for int() with base 10: 'two'",
      "\nDuring handling of the above exception, another exception occurred:\n",
      "\u001b[0;31mValueError\u001b[0m                                Traceback (most recent call last)",
      "Cell \u001b[0;32mIn[18], line 1\u001b[0m\n\u001b[0;32m----> 1\u001b[0m askint()\n",
      "Cell \u001b[0;32mIn[16], line 6\u001b[0m, in \u001b[0;36maskint\u001b[0;34m()\u001b[0m\n\u001b[1;32m      4\u001b[0m \u001b[38;5;28;01mexcept\u001b[39;00m:\n\u001b[1;32m      5\u001b[0m     \u001b[38;5;28mprint\u001b[39m(\u001b[38;5;124m\"\u001b[39m\u001b[38;5;124mLooks like you did not enter an integer!\u001b[39m\u001b[38;5;124m\"\u001b[39m)\n\u001b[0;32m----> 6\u001b[0m     val \u001b[38;5;241m=\u001b[39m \u001b[38;5;28mint\u001b[39m(\u001b[38;5;28minput\u001b[39m(\u001b[38;5;124m\"\u001b[39m\u001b[38;5;124mTry again-Please enter an integer: \u001b[39m\u001b[38;5;124m\"\u001b[39m))\n\u001b[1;32m      7\u001b[0m \u001b[38;5;28;01mfinally\u001b[39;00m:\n\u001b[1;32m      8\u001b[0m     \u001b[38;5;28mprint\u001b[39m(\u001b[38;5;124m\"\u001b[39m\u001b[38;5;124mFinally, I executed!\u001b[39m\u001b[38;5;124m\"\u001b[39m)\n",
      "\u001b[0;31mValueError\u001b[0m: invalid literal for int() with base 10: 'three'"
     ]
    }
   ],
   "source": [
    "askint()"
   ]
  },
  {
   "cell_type": "markdown",
   "metadata": {},
   "source": [
    "Hmmm...that only did one check. How can we continually keep checking? We can use a while loop!"
   ]
  },
  {
   "cell_type": "code",
   "execution_count": 13,
   "metadata": {
    "collapsed": true
   },
   "outputs": [],
   "source": [
    "def askint():\n",
    "    while True:\n",
    "        try:\n",
    "            val = int(input(\"Please enter an integer: \"))\n",
    "        except:\n",
    "            print(\"Looks like you did not enter an integer!\")\n",
    "            continue\n",
    "        else:\n",
    "            print(\"Yep that's an integer!\")\n",
    "            print(val)\n",
    "            break\n",
    "        finally:\n",
    "            print(\"Finally, I executed!\")"
   ]
  },
  {
   "cell_type": "code",
   "execution_count": 14,
   "metadata": {},
   "outputs": [
    {
     "name": "stdout",
     "output_type": "stream",
     "text": [
      "Please enter an integer: six\n",
      "Looks like you did not enter an integer!\n",
      "Finally, I executed!\n",
      "Please enter an integer: 6\n",
      "Yep that's an integer!\n",
      "6\n",
      "Finally, I executed!\n"
     ]
    }
   ],
   "source": [
    "askint()"
   ]
  },
  {
   "cell_type": "markdown",
   "metadata": {},
   "source": [
    "**Great! Now you know how to handle errors and exceptions in Python with the try, except, else, and finally notation!**"
   ]
  }
 ],
 "metadata": {
  "kernelspec": {
   "display_name": "Python 3 (ipykernel)",
   "language": "python",
   "name": "python3"
  },
  "language_info": {
   "codemirror_mode": {
    "name": "ipython",
    "version": 3
   },
   "file_extension": ".py",
   "mimetype": "text/x-python",
   "name": "python",
   "nbconvert_exporter": "python",
   "pygments_lexer": "ipython3",
   "version": "3.11.4"
  }
 },
 "nbformat": 4,
 "nbformat_minor": 1
}
