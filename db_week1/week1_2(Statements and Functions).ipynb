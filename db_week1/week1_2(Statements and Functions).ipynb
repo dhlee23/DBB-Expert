{
 "cells": [
  {
   "cell_type": "markdown",
   "id": "5a9d8535",
   "metadata": {},
   "source": [
    "## statements"
   ]
  },
  {
   "cell_type": "code",
   "execution_count": 1,
   "id": "1e1b1f8c",
   "metadata": {},
   "outputs": [],
   "source": [
    "# 조건문 : if\n",
    "# 반복문 : for loop, while loop"
   ]
  },
  {
   "cell_type": "markdown",
   "id": "9dee702c",
   "metadata": {},
   "source": [
    "### 조건문"
   ]
  },
  {
   "cell_type": "code",
   "execution_count": 2,
   "id": "3e5f66cf",
   "metadata": {},
   "outputs": [
    {
     "name": "stdout",
     "output_type": "stream",
     "text": [
      "정수를 하나 입력하세요.4\n",
      "1번 케이스\n"
     ]
    }
   ],
   "source": [
    "a = float(input('정수를 하나 입력하세요.'))\n",
    "\n",
    "if a < 10:\n",
    "    print('1번 케이스')\n",
    "\n",
    "elif a < 0:\n",
    "    print(\"2번 케이스\")\n",
    "    \n",
    "else:\n",
    "    print('10보다 큰 수')\n",
    "\n",
    "# indent"
   ]
  },
  {
   "cell_type": "code",
   "execution_count": 4,
   "id": "d6aee759",
   "metadata": {},
   "outputs": [
    {
     "name": "stdout",
     "output_type": "stream",
     "text": [
      "오늘 날짜를 입력하세요20240625\n",
      "오늘은 쉴게요.\n"
     ]
    }
   ],
   "source": [
    "test = 20240626\n",
    "\n",
    "today = int(input(\"오늘 날짜를 입력하세요\"))\n",
    "\n",
    "if test == today:\n",
    "    print(\"공부해야죠\")\n",
    "else:\n",
    "    print(\"오늘은 쉴게요.\")"
   ]
  },
  {
   "cell_type": "code",
   "execution_count": 5,
   "id": "60c43c63",
   "metadata": {},
   "outputs": [
    {
     "name": "stdout",
     "output_type": "stream",
     "text": [
      "Hi\n"
     ]
    }
   ],
   "source": [
    "A = 300\n",
    "B = 200\n",
    "\n",
    "if A>B:\n",
    "    print(\"Hi\")\n",
    "else:\n",
    "    print(\"안녕하세요\")"
   ]
  },
  {
   "cell_type": "code",
   "execution_count": 7,
   "id": "c592a32d",
   "metadata": {},
   "outputs": [
    {
     "name": "stdout",
     "output_type": "stream",
     "text": [
      "수를 하나 입력하세요 4\n",
      "또다시 입력하세요 5\n",
      "4는 5보다 작습니다.\n",
      "4는 5보다 작습니다.\n"
     ]
    }
   ],
   "source": [
    "C = int(input(\"수를 하나 입력하세요 \"))\n",
    "D = int(input(\"또다시 입력하세요 \"))\n",
    "\n",
    "if C == D:\n",
    "    print(\"두 수는 같습니다.\")\n",
    "elif C > D:\n",
    "    print(f\"{C}는 {D} 보다 큽니다.\")\n",
    "\n",
    "else:\n",
    "    print(f\"{C}는 {D}보다 작습니다.\")\n",
    "    print(\"{}는 {}보다 작습니다.\".format(C, D))"
   ]
  },
  {
   "cell_type": "code",
   "execution_count": 8,
   "id": "82ad53b9",
   "metadata": {},
   "outputs": [
    {
     "name": "stdout",
     "output_type": "stream",
     "text": [
      "200\n",
      "Error\n",
      "Error\n"
     ]
    }
   ],
   "source": [
    "A, B = 100, 200\n",
    "\n",
    "print(B)\n",
    "\n",
    "if A > B:\n",
    "    pass\n",
    "else:\n",
    "    print(\"Error\")\n",
    "\n",
    "if A <= B:\n",
    "    print(\"Error\")"
   ]
  },
  {
   "cell_type": "code",
   "execution_count": 10,
   "id": "6d0c505f",
   "metadata": {},
   "outputs": [
    {
     "name": "stdout",
     "output_type": "stream",
     "text": [
      "값을 입력하세요. 반드시 숫자여야 합니다. 10\n",
      "양수입니다.\n"
     ]
    }
   ],
   "source": [
    "# example 2-1\n",
    "\n",
    "num = float(input(\"값을 입력하세요. 반드시 숫자여야 합니다. \"))\n",
    "\n",
    "if num < 0:\n",
    "    print(\"음수입니다.\")\n",
    "elif num == 0:\n",
    "    print(\"0입니다.\")\n",
    "else:\n",
    "    print(\"양수입니다.\")"
   ]
  },
  {
   "cell_type": "code",
   "execution_count": 12,
   "id": "20b1c52c",
   "metadata": {},
   "outputs": [
    {
     "name": "stdout",
     "output_type": "stream",
     "text": [
      "수를 하나입력하세요 5\n",
      "홀수입니다.\n"
     ]
    }
   ],
   "source": [
    "num = -10.5\n",
    "\n",
    "num % 1\n",
    "\n",
    "num = float(input(\"수를 하나입력하세요 \"))\n",
    "\n",
    "if (num % 1 < 1) and (num % 1 > 0):\n",
    "    print('정수를 다시 입력하세요')\n",
    "\n",
    "else:\n",
    "    if num % 2 ==0:\n",
    "        print(\"짝수입니다.\")\n",
    "    else:\n",
    "        print(\"홀수입니다.\")"
   ]
  },
  {
   "cell_type": "markdown",
   "id": "d51f0179",
   "metadata": {},
   "source": [
    "### 반복문"
   ]
  },
  {
   "cell_type": "code",
   "execution_count": 13,
   "id": "b23f35fc",
   "metadata": {},
   "outputs": [
    {
     "data": {
      "text/plain": [
       "range(0, 10)"
      ]
     },
     "execution_count": 13,
     "metadata": {},
     "output_type": "execute_result"
    }
   ],
   "source": [
    "range(10)"
   ]
  },
  {
   "cell_type": "code",
   "execution_count": 14,
   "id": "0d6b687e",
   "metadata": {},
   "outputs": [
    {
     "data": {
      "text/plain": [
       "range"
      ]
     },
     "execution_count": 14,
     "metadata": {},
     "output_type": "execute_result"
    }
   ],
   "source": [
    "type(range(10))"
   ]
  },
  {
   "cell_type": "code",
   "execution_count": 15,
   "id": "4e7f87f0",
   "metadata": {},
   "outputs": [
    {
     "name": "stdout",
     "output_type": "stream",
     "text": [
      "range(0, 10)\n"
     ]
    }
   ],
   "source": [
    "print(range(10))"
   ]
  },
  {
   "cell_type": "code",
   "execution_count": 16,
   "id": "cf5c6f0d",
   "metadata": {},
   "outputs": [
    {
     "data": {
      "text/plain": [
       "[0, 1, 2, 3, 4, 5, 6, 7, 8, 9]"
      ]
     },
     "execution_count": 16,
     "metadata": {},
     "output_type": "execute_result"
    }
   ],
   "source": [
    "list(range(10))"
   ]
  },
  {
   "cell_type": "code",
   "execution_count": 17,
   "id": "705f8fb7",
   "metadata": {},
   "outputs": [
    {
     "name": "stdout",
     "output_type": "stream",
     "text": [
      "1 2 3 4 5 6 7 8 9 2 4 6 8 10 12 14 16 18 3 6 9 12 15 18 21 24 27 4 8 12 16 20 24 28 32 36 5 10 15 20 25 30 35 40 45 6 12 18 24 30 36 42 48 54 7 14 21 28 35 42 49 56 63 8 16 24 32 40 48 56 64 72 9 18 27 36 45 54 63 72 81 "
     ]
    }
   ],
   "source": [
    "for i in range(1,10):\n",
    "    for k in range(1,10):\n",
    "        print(i*k, end = ' ')"
   ]
  },
  {
   "cell_type": "code",
   "execution_count": 18,
   "id": "d5002dc4",
   "metadata": {},
   "outputs": [
    {
     "name": "stdout",
     "output_type": "stream",
     "text": [
      "Hi Python!!\n",
      "Hi Python!!\n",
      "Hi Python!!\n",
      "Hi Python!!\n",
      "Hi Python!!\n",
      "Terminated\n"
     ]
    }
   ],
   "source": [
    "i = 0\n",
    "\n",
    "while i < 5:\n",
    "    print(\"Hi Python!!\")\n",
    "    i  += 1\n",
    "\n",
    "print(\"Terminated\")"
   ]
  },
  {
   "cell_type": "code",
   "execution_count": 19,
   "id": "60be0037",
   "metadata": {},
   "outputs": [
    {
     "name": "stdout",
     "output_type": "stream",
     "text": [
      "Hello Python\n",
      "Hello Python\n",
      "Hello Python\n",
      "강제 탈출\n"
     ]
    }
   ],
   "source": [
    "i = 1\n",
    "\n",
    "while i > 0 :\n",
    "    print(\"Hello Python\")\n",
    "    i += 1\n",
    "    \n",
    "    if i > 3 :\n",
    "        print(\"강제 탈출\")\n",
    "        break\n",
    "        \n"
   ]
  },
  {
   "cell_type": "code",
   "execution_count": 20,
   "id": "1b1c5288",
   "metadata": {},
   "outputs": [
    {
     "name": "stdout",
     "output_type": "stream",
     "text": [
      "Hello Python\n",
      "Hello Python\n",
      "Hello Python\n",
      "강제 탈출\n"
     ]
    }
   ],
   "source": [
    "i = 1\n",
    "\n",
    "while True:\n",
    "    print(\"Hello Python\")\n",
    "    i += 1\n",
    "    \n",
    "    if i > 3 :\n",
    "        print(\"강제 탈출\")\n",
    "        break\n",
    "    "
   ]
  },
  {
   "cell_type": "code",
   "execution_count": 23,
   "id": "160b4ce5",
   "metadata": {},
   "outputs": [
    {
     "name": "stdout",
     "output_type": "stream",
     "text": [
      "파 이 썬 "
     ]
    }
   ],
   "source": [
    "for k in \"파이썬\":\n",
    "    print(k, end=\" \")\n"
   ]
  },
  {
   "cell_type": "code",
   "execution_count": 24,
   "id": "0fd956c3",
   "metadata": {},
   "outputs": [
    {
     "name": "stdout",
     "output_type": "stream",
     "text": [
      "a는 알파벳\n",
      "b는 알파벳\n",
      "c는 알파벳\n",
      "d는 알파벳\n"
     ]
    }
   ],
   "source": [
    "list1 = ('a','b','c','d')\n",
    "\n",
    "for i in list1:\n",
    "    print(f\"{i}는 알파벳\")"
   ]
  },
  {
   "cell_type": "code",
   "execution_count": 25,
   "id": "4b6b0824",
   "metadata": {},
   "outputs": [
    {
     "name": "stdout",
     "output_type": "stream",
     "text": [
      "1 2\n",
      "3 4\n",
      "5 6\n"
     ]
    }
   ],
   "source": [
    "a =[(1,2),(3,4),(5,6)]\n",
    "\n",
    "for i, v in [(1,2),(3,4),(5,6)]:\n",
    "    print(i, v)"
   ]
  },
  {
   "cell_type": "code",
   "execution_count": 28,
   "id": "093d5c74",
   "metadata": {},
   "outputs": [
    {
     "name": "stdout",
     "output_type": "stream",
     "text": [
      "1번 수강생은 합격\n",
      "2번 수강생은 불합격\n",
      "3번 수강생은 불합격\n",
      "4번 수강생은 합격\n",
      "5번 수강생은 불합격\n",
      "6번 수강생은 불합격\n"
     ]
    }
   ],
   "source": [
    "score =[100,23,30,76,34,50]\n",
    "num = 0\n",
    "\n",
    "for i in score:\n",
    "    num = num +1\n",
    "    if i > 60:\n",
    "        print(f\"{num}번 수강생은 합격\")\n",
    "    \n",
    "    else:\n",
    "        print(f\"{num}번 수강생은 불합격\")\n",
    "    "
   ]
  },
  {
   "cell_type": "code",
   "execution_count": 30,
   "id": "a71b08ea",
   "metadata": {},
   "outputs": [
    {
     "name": "stdout",
     "output_type": "stream",
     "text": [
      "1번 수강생은 합격\n",
      "2번 수강생은 불합격\n",
      "3번 수강생은 불합격\n",
      "4번 수강생은 합격\n",
      "5번 수강생은 불합격\n",
      "6번 수강생은 불합격\n"
     ]
    }
   ],
   "source": [
    "for a, b in enumerate(score):\n",
    "    if b > 60:\n",
    "        print(f\"{a+1}번 수강생은 합격\")\n",
    "    \n",
    "    else:\n",
    "        print(f\"{a+1}번 수강생은 불합격\")"
   ]
  },
  {
   "cell_type": "code",
   "execution_count": 32,
   "id": "3d0b5d2c",
   "metadata": {},
   "outputs": [
    {
     "data": {
      "text/plain": [
       "[(0, 100), (1, 23), (2, 30), (3, 76), (4, 34), (5, 50)]"
      ]
     },
     "execution_count": 32,
     "metadata": {},
     "output_type": "execute_result"
    }
   ],
   "source": [
    "list(enumerate(score))"
   ]
  },
  {
   "cell_type": "code",
   "execution_count": 33,
   "id": "438998ca",
   "metadata": {},
   "outputs": [
    {
     "data": {
      "text/plain": [
       "<zip at 0x1122e7c80>"
      ]
     },
     "execution_count": 33,
     "metadata": {},
     "output_type": "execute_result"
    }
   ],
   "source": [
    "score =[100,23,30,76,34,50]\n",
    "students = ['수지','박나래','장도연','아이유','김태희','헤르미온느']\n",
    "\n",
    "zip(score, students)"
   ]
  },
  {
   "cell_type": "code",
   "execution_count": 34,
   "id": "8cb923f5",
   "metadata": {},
   "outputs": [
    {
     "data": {
      "text/plain": [
       "[(100, '수지'),\n",
       " (23, '박나래'),\n",
       " (30, '장도연'),\n",
       " (76, '아이유'),\n",
       " (34, '김태희'),\n",
       " (50, '헤르미온느')]"
      ]
     },
     "execution_count": 34,
     "metadata": {},
     "output_type": "execute_result"
    }
   ],
   "source": [
    "list(zip(score, students))"
   ]
  },
  {
   "cell_type": "code",
   "execution_count": 35,
   "id": "124b2692",
   "metadata": {},
   "outputs": [
    {
     "name": "stdout",
     "output_type": "stream",
     "text": [
      "수지는/은 100점 입니다.\n",
      "박나래는/은 23점 입니다.\n",
      "장도연는/은 30점 입니다.\n",
      "아이유는/은 76점 입니다.\n",
      "김태희는/은 34점 입니다.\n",
      "헤르미온느는/은 50점 입니다.\n"
     ]
    }
   ],
   "source": [
    "for s, t in zip(score, students):\n",
    "    print(f\"{t}는/은 {s}점 입니다.\")"
   ]
  },
  {
   "cell_type": "code",
   "execution_count": 37,
   "id": "0b937b97",
   "metadata": {},
   "outputs": [
    {
     "name": "stdout",
     "output_type": "stream",
     "text": [
      "수지는/은 100점 입니다.\n",
      "박나래는/은 23점 입니다.\n",
      "장도연는/은 30점 입니다.\n",
      "아이유는/은 76점 입니다.\n",
      "김태희는/은 34점 입니다.\n",
      "헤르미온느는/은 50점 입니다.\n"
     ]
    }
   ],
   "source": [
    "for i in range(len(students)):\n",
    "    print(\"{}는/은 {}점 입니다.\".format(students[i], score[i]))\n",
    "    "
   ]
  },
  {
   "cell_type": "code",
   "execution_count": 38,
   "id": "e3f654d5",
   "metadata": {},
   "outputs": [
    {
     "name": "stdout",
     "output_type": "stream",
     "text": [
      "45\n"
     ]
    }
   ],
   "source": [
    "sum1 = 0\n",
    "\n",
    "for i in range(1,10):\n",
    "    sum1 = sum1 + i\n",
    "print(sum1)"
   ]
  },
  {
   "cell_type": "code",
   "execution_count": 41,
   "id": "42ee7b91",
   "metadata": {},
   "outputs": [
    {
     "name": "stdout",
     "output_type": "stream",
     "text": [
      "9\n"
     ]
    }
   ],
   "source": [
    "import random\n",
    "\n",
    "num = random.randrange(1, 14)\n",
    "    \n",
    "print(num)\n"
   ]
  },
  {
   "cell_type": "code",
   "execution_count": 44,
   "id": "fdcd1210",
   "metadata": {},
   "outputs": [
    {
     "name": "stdout",
     "output_type": "stream",
     "text": [
      "수를 하나 입력:4\n",
      "수를 하나 입력:6\n",
      "수를 하나 입력:10\n",
      "\n",
      "Smallest : 4\n"
     ]
    }
   ],
   "source": [
    "list1 = []\n",
    "\n",
    "for i in range(3):\n",
    "    list1.append(int(input(\"수를 하나 입력:\")))\n",
    "\n",
    "list1.sort()\n",
    "list1[0]\n",
    "print()\n",
    "print(f\"Smallest : {min(list1)}\")\n"
   ]
  },
  {
   "cell_type": "code",
   "execution_count": 46,
   "id": "8d1154f7",
   "metadata": {},
   "outputs": [
    {
     "name": "stdout",
     "output_type": "stream",
     "text": [
      "Enter a Number:5\n",
      "위의 수까지의 짝수들의 합은: 6\n"
     ]
    }
   ],
   "source": [
    "total = 0\n",
    "\n",
    "x = int(input('Enter a Number:'))\n",
    "\n",
    "for i in range(1, x+1):\n",
    "    if x % i == 0:\n",
    "        total += i\n",
    "        \n",
    "print('위의 수까지의 짝수들의 합은:', total)"
   ]
  },
  {
   "cell_type": "code",
   "execution_count": 49,
   "id": "f5fb4696",
   "metadata": {},
   "outputs": [
    {
     "name": "stdout",
     "output_type": "stream",
     "text": [
      "숫자를 입력하시오. 0을치면 종료됨: 3\n",
      "숫자를 입력하시오. 0을치면 종료됨: 10\n",
      "숫자를 입력하시오. 0을치면 종료됨: 10\n",
      "숫자를 입력하시오. 0을치면 종료됨: 0\n",
      "end\n",
      "입력한 숫자들의 평균:  7.666666666666667\n"
     ]
    }
   ],
   "source": [
    "avg = []\n",
    "counting = 0\n",
    "while True:\n",
    "    a = int(input(\"숫자를 입력하시오. 0을치면 종료됨: \"))\n",
    "    if a == 0:\n",
    "        print(\"end\")\n",
    "        break\n",
    "    \n",
    "    else:\n",
    "        avg.append(a)\n",
    "        counting += 1\n",
    "\n",
    "print(\"입력한 숫자들의 평균: \", sum(avg)/counting)"
   ]
  },
  {
   "cell_type": "code",
   "execution_count": 51,
   "id": "7cc50ab3",
   "metadata": {},
   "outputs": [
    {
     "name": "stdout",
     "output_type": "stream",
     "text": [
      "Even number  0\n",
      "Even number  2\n",
      "Even number  4\n"
     ]
    }
   ],
   "source": [
    "## continue\n",
    "\n",
    "for i in range(5):\n",
    "    if i % 2 == 0:\n",
    "        print(\"Even number \", i)\n",
    "    else:\n",
    "        continue"
   ]
  },
  {
   "cell_type": "markdown",
   "id": "5c064d12",
   "metadata": {},
   "source": [
    "### Function"
   ]
  },
  {
   "cell_type": "code",
   "execution_count": 53,
   "id": "d23c47f1",
   "metadata": {},
   "outputs": [
    {
     "name": "stdout",
     "output_type": "stream",
     "text": [
      "수를 입력하세요 3\n",
      "6\n"
     ]
    }
   ],
   "source": [
    "sum1 = 0\n",
    "num = int(input(\"수를 입력하세요 \"))\n",
    "\n",
    "for i in range(1, num +1):\n",
    "    sum1 += i\n",
    "print(sum1)"
   ]
  },
  {
   "cell_type": "code",
   "execution_count": 54,
   "id": "0b67bcf6",
   "metadata": {},
   "outputs": [],
   "source": [
    "# input은 하나, 실수여야 함\n",
    "# 결과는 합을 반환함\n",
    "\n",
    "def my_sum(num):\n",
    "    sum1 = 0\n",
    "    for i in range(1, num +1):\n",
    "        sum1 += i\n",
    "    print(sum1)\n",
    "    \n",
    "    return sum1\n",
    "    "
   ]
  },
  {
   "cell_type": "code",
   "execution_count": 55,
   "id": "1d12a6f8",
   "metadata": {},
   "outputs": [
    {
     "name": "stdout",
     "output_type": "stream",
     "text": [
      "6\n"
     ]
    },
    {
     "data": {
      "text/plain": [
       "6"
      ]
     },
     "execution_count": 55,
     "metadata": {},
     "output_type": "execute_result"
    }
   ],
   "source": [
    "my_sum(3)"
   ]
  },
  {
   "cell_type": "code",
   "execution_count": 56,
   "id": "9fdb8c8d",
   "metadata": {},
   "outputs": [
    {
     "name": "stdout",
     "output_type": "stream",
     "text": [
      "55\n"
     ]
    },
    {
     "data": {
      "text/plain": [
       "55"
      ]
     },
     "execution_count": 56,
     "metadata": {},
     "output_type": "execute_result"
    }
   ],
   "source": [
    "my_sum(10)"
   ]
  },
  {
   "cell_type": "code",
   "execution_count": 57,
   "id": "5b83371f",
   "metadata": {},
   "outputs": [],
   "source": [
    "def my_power(x, y):\n",
    "    return x**y"
   ]
  },
  {
   "cell_type": "code",
   "execution_count": 58,
   "id": "9907587a",
   "metadata": {},
   "outputs": [
    {
     "data": {
      "text/plain": [
       "8"
      ]
     },
     "execution_count": 58,
     "metadata": {},
     "output_type": "execute_result"
    }
   ],
   "source": [
    "my_power(2,3)"
   ]
  },
  {
   "cell_type": "code",
   "execution_count": 59,
   "id": "7cc6b66c",
   "metadata": {},
   "outputs": [
    {
     "data": {
      "text/plain": [
       "8"
      ]
     },
     "execution_count": 59,
     "metadata": {},
     "output_type": "execute_result"
    }
   ],
   "source": [
    "my_power(y=3, x=2)"
   ]
  },
  {
   "cell_type": "code",
   "execution_count": 60,
   "id": "57fe138e",
   "metadata": {},
   "outputs": [],
   "source": [
    "def your_sum(x, y, z):\n",
    "    return x + y + z"
   ]
  },
  {
   "cell_type": "code",
   "execution_count": 61,
   "id": "282083b2",
   "metadata": {},
   "outputs": [
    {
     "ename": "TypeError",
     "evalue": "your_sum() missing 1 required positional argument: 'z'",
     "output_type": "error",
     "traceback": [
      "\u001b[0;31m---------------------------------------------------------------------------\u001b[0m",
      "\u001b[0;31mTypeError\u001b[0m                                 Traceback (most recent call last)",
      "Cell \u001b[0;32mIn[61], line 1\u001b[0m\n\u001b[0;32m----> 1\u001b[0m \u001b[38;5;28mprint\u001b[39m(your_sum(\u001b[38;5;241m1\u001b[39m,\u001b[38;5;241m2\u001b[39m))\n",
      "\u001b[0;31mTypeError\u001b[0m: your_sum() missing 1 required positional argument: 'z'"
     ]
    }
   ],
   "source": [
    "print(your_sum(1,2))"
   ]
  },
  {
   "cell_type": "code",
   "execution_count": 62,
   "id": "03821e9a",
   "metadata": {},
   "outputs": [],
   "source": [
    "# *args. : arguments의 갯수를 불확정적으로 해 놓을 필요가 있는 경우\n",
    "# 함수 내부에서 tuple로 처리된다\n",
    "\n",
    "\n",
    "def your_sum(x, *num):\n",
    "    if len(num)==4:\n",
    "        return x*(num[0] + num[1]+ num[2]+ num[3])\n",
    "    elif len(num)==3:\n",
    "        return x*(num[0] + num[1]+ num[2])\n",
    "    elif len(num) ==2:\n",
    "        return x*(num[0] + num[1])\n",
    "    else:\n",
    "        return x*num[0]"
   ]
  },
  {
   "cell_type": "code",
   "execution_count": 63,
   "id": "1368e97c",
   "metadata": {},
   "outputs": [
    {
     "data": {
      "text/plain": [
       "50"
      ]
     },
     "execution_count": 63,
     "metadata": {},
     "output_type": "execute_result"
    }
   ],
   "source": [
    "your_sum(10,2,3)"
   ]
  },
  {
   "cell_type": "code",
   "execution_count": 64,
   "id": "e0ff197e",
   "metadata": {},
   "outputs": [
    {
     "name": "stdout",
     "output_type": "stream",
     "text": [
      "200\n"
     ]
    }
   ],
   "source": [
    "print(your_sum(10,20))"
   ]
  },
  {
   "cell_type": "code",
   "execution_count": 65,
   "id": "c532b39a",
   "metadata": {},
   "outputs": [],
   "source": [
    "# **kwargs : 갯수를 지정하지 않은 키워드 형태로 argument를 입력하는 경우\n",
    "# 함수 내부에서 dictionary형태로 처리된다\n",
    "\n",
    "def keywords(**kwargs):\n",
    "    print(kwargs['data'] +\" \"+ kwargs['company'])"
   ]
  },
  {
   "cell_type": "code",
   "execution_count": 66,
   "id": "75b45824",
   "metadata": {},
   "outputs": [
    {
     "name": "stdout",
     "output_type": "stream",
     "text": [
      "pandas alpaco\n"
     ]
    }
   ],
   "source": [
    "keywords(data='pandas', company='alpaco')"
   ]
  },
  {
   "cell_type": "markdown",
   "id": "158c3b6d",
   "metadata": {},
   "source": [
    "### lambda 함수"
   ]
  },
  {
   "cell_type": "code",
   "execution_count": 67,
   "id": "1fbfd715",
   "metadata": {},
   "outputs": [],
   "source": [
    "a = lambda x, y : x+y"
   ]
  },
  {
   "cell_type": "code",
   "execution_count": 68,
   "id": "0ec33198",
   "metadata": {},
   "outputs": [
    {
     "data": {
      "text/plain": [
       "3"
      ]
     },
     "execution_count": 68,
     "metadata": {},
     "output_type": "execute_result"
    }
   ],
   "source": [
    "a(1,2)"
   ]
  },
  {
   "cell_type": "code",
   "execution_count": 69,
   "id": "21678ec6",
   "metadata": {},
   "outputs": [
    {
     "data": {
      "text/plain": [
       "30"
      ]
     },
     "execution_count": 69,
     "metadata": {},
     "output_type": "execute_result"
    }
   ],
   "source": [
    "(lambda x, y : x+y)(10,20)"
   ]
  },
  {
   "cell_type": "code",
   "execution_count": 73,
   "id": "5ebd7599",
   "metadata": {},
   "outputs": [
    {
     "data": {
      "text/plain": [
       "25"
      ]
     },
     "execution_count": 73,
     "metadata": {},
     "output_type": "execute_result"
    }
   ],
   "source": [
    "(lambda x : x**2)(5)"
   ]
  },
  {
   "cell_type": "code",
   "execution_count": 78,
   "id": "875ab095",
   "metadata": {},
   "outputs": [
    {
     "name": "stdout",
     "output_type": "stream",
     "text": [
      "[0, 1, 2, 3, 4, 5, 6, 7, 8, 9]\n"
     ]
    }
   ],
   "source": [
    "# list compprehension\n",
    "\n",
    "a = [x for x in range(10)]\n",
    "print(a)"
   ]
  },
  {
   "cell_type": "code",
   "execution_count": 84,
   "id": "c34cbb87",
   "metadata": {},
   "outputs": [
    {
     "name": "stdout",
     "output_type": "stream",
     "text": [
      "<class 'generator'>\n"
     ]
    }
   ],
   "source": [
    "# iterator 민들기\n",
    "\n",
    "gen = (i for i in range(1,10) if i%2==0)\n",
    "print(type(gen))"
   ]
  },
  {
   "cell_type": "code",
   "execution_count": 86,
   "id": "06c114f3",
   "metadata": {},
   "outputs": [
    {
     "data": {
      "text/plain": [
       "<generator object <genexpr> at 0x1124d31d0>"
      ]
     },
     "execution_count": 86,
     "metadata": {},
     "output_type": "execute_result"
    }
   ],
   "source": [
    "gen"
   ]
  },
  {
   "cell_type": "code",
   "execution_count": 85,
   "id": "d0fb78d6",
   "metadata": {},
   "outputs": [
    {
     "name": "stdout",
     "output_type": "stream",
     "text": [
      "2\n",
      "4\n",
      "6\n",
      "8\n"
     ]
    }
   ],
   "source": [
    "for i in gen:\n",
    "    print(i)"
   ]
  },
  {
   "cell_type": "markdown",
   "id": "b61394a6",
   "metadata": {},
   "source": [
    "## 반환값과 인자의 관계에 따른 함수의 종류"
   ]
  },
  {
   "cell_type": "code",
   "execution_count": 87,
   "id": "65a0f518",
   "metadata": {},
   "outputs": [],
   "source": [
    "#case 1 반환값도 있고, 인자도 있는 경우\n",
    "\n",
    "def case_1(x):\n",
    "    return x**2"
   ]
  },
  {
   "cell_type": "code",
   "execution_count": 88,
   "id": "0d73d622",
   "metadata": {},
   "outputs": [],
   "source": [
    "result = case_1(3)"
   ]
  },
  {
   "cell_type": "code",
   "execution_count": 89,
   "id": "b4db113e",
   "metadata": {},
   "outputs": [
    {
     "data": {
      "text/plain": [
       "9"
      ]
     },
     "execution_count": 89,
     "metadata": {},
     "output_type": "execute_result"
    }
   ],
   "source": [
    "result"
   ]
  },
  {
   "cell_type": "code",
   "execution_count": 90,
   "id": "d6de4620",
   "metadata": {},
   "outputs": [],
   "source": [
    "# case 2 반환값은 없고, 인자는 있다\n",
    "\n",
    "def case_2(x):\n",
    "    print(x**2)"
   ]
  },
  {
   "cell_type": "code",
   "execution_count": 91,
   "id": "e4efaf00",
   "metadata": {},
   "outputs": [
    {
     "name": "stdout",
     "output_type": "stream",
     "text": [
      "9\n"
     ]
    }
   ],
   "source": [
    "result2 = case_2(3)"
   ]
  },
  {
   "cell_type": "code",
   "execution_count": 92,
   "id": "8e5551a2",
   "metadata": {},
   "outputs": [],
   "source": [
    "result2"
   ]
  },
  {
   "cell_type": "code",
   "execution_count": 93,
   "id": "98ae0988",
   "metadata": {},
   "outputs": [
    {
     "name": "stdout",
     "output_type": "stream",
     "text": [
      "None\n"
     ]
    }
   ],
   "source": [
    "print(result2)"
   ]
  },
  {
   "cell_type": "code",
   "execution_count": 94,
   "id": "905529d9",
   "metadata": {},
   "outputs": [],
   "source": [
    "#case 3 인자는 없지만 반환값은 있는 경우\n",
    "\n",
    "def case_3():\n",
    "    return 3**4"
   ]
  },
  {
   "cell_type": "code",
   "execution_count": 95,
   "id": "95cfc453",
   "metadata": {},
   "outputs": [
    {
     "data": {
      "text/plain": [
       "81"
      ]
     },
     "execution_count": 95,
     "metadata": {},
     "output_type": "execute_result"
    }
   ],
   "source": [
    "case_3()"
   ]
  },
  {
   "cell_type": "code",
   "execution_count": 96,
   "id": "6f29a988",
   "metadata": {},
   "outputs": [],
   "source": [
    "#case 4 인자도 없고 반환값도 없는 함수\n",
    "\n",
    "def case_4():\n",
    "    print(\"hello world!!\")"
   ]
  },
  {
   "cell_type": "code",
   "execution_count": 97,
   "id": "dfa970b3",
   "metadata": {},
   "outputs": [
    {
     "name": "stdout",
     "output_type": "stream",
     "text": [
      "hello world!!\n"
     ]
    }
   ],
   "source": [
    "case_4()"
   ]
  },
  {
   "cell_type": "code",
   "execution_count": 98,
   "id": "1c300067",
   "metadata": {},
   "outputs": [],
   "source": [
    "#리스트를 반환하기\n",
    "\n",
    "def case_5(x):\n",
    "    return [i for i in range(10) if i%2 == 0]"
   ]
  },
  {
   "cell_type": "code",
   "execution_count": 99,
   "id": "99319105",
   "metadata": {},
   "outputs": [
    {
     "data": {
      "text/plain": [
       "[0, 2, 4, 6, 8]"
      ]
     },
     "execution_count": 99,
     "metadata": {},
     "output_type": "execute_result"
    }
   ],
   "source": [
    "case_5(10)"
   ]
  },
  {
   "cell_type": "code",
   "execution_count": 100,
   "id": "ee38554f",
   "metadata": {},
   "outputs": [],
   "source": [
    "def cylinder_volume(r, h):\n",
    "    return int((r**2)*3.14*h)"
   ]
  },
  {
   "cell_type": "code",
   "execution_count": 101,
   "id": "df9d1d91",
   "metadata": {},
   "outputs": [
    {
     "data": {
      "text/plain": [
       "6280000000"
      ]
     },
     "execution_count": 101,
     "metadata": {},
     "output_type": "execute_result"
    }
   ],
   "source": [
    "cylinder_volume(1000, 2000)"
   ]
  },
  {
   "cell_type": "code",
   "execution_count": 102,
   "id": "5119bb4f",
   "metadata": {},
   "outputs": [],
   "source": [
    "def timetable(data):\n",
    "    list1=[data, data*2, data*3]\n",
    "    return [list1[0], list1[1], list1[2]]"
   ]
  },
  {
   "cell_type": "code",
   "execution_count": 103,
   "id": "6d18874c",
   "metadata": {},
   "outputs": [
    {
     "data": {
      "text/plain": [
       "[10, 20, 30]"
      ]
     },
     "execution_count": 103,
     "metadata": {},
     "output_type": "execute_result"
    }
   ],
   "source": [
    "timetable(10)"
   ]
  },
  {
   "cell_type": "code",
   "execution_count": 104,
   "id": "c4b8e173",
   "metadata": {},
   "outputs": [],
   "source": [
    "def function1():\n",
    "    print(\"Hi\")"
   ]
  },
  {
   "cell_type": "code",
   "execution_count": 105,
   "id": "6f2e9bc8",
   "metadata": {},
   "outputs": [
    {
     "name": "stdout",
     "output_type": "stream",
     "text": [
      "Hi\n"
     ]
    }
   ],
   "source": [
    "greeting = function1()"
   ]
  },
  {
   "cell_type": "code",
   "execution_count": 106,
   "id": "5e7a5f3c",
   "metadata": {},
   "outputs": [
    {
     "name": "stdout",
     "output_type": "stream",
     "text": [
      "None\n"
     ]
    }
   ],
   "source": [
    "print(greeting)"
   ]
  },
  {
   "cell_type": "code",
   "execution_count": 107,
   "id": "fb0d05c6",
   "metadata": {},
   "outputs": [],
   "source": [
    "import pandas as pd"
   ]
  },
  {
   "cell_type": "code",
   "execution_count": 108,
   "id": "7201cd40",
   "metadata": {},
   "outputs": [
    {
     "name": "stdout",
     "output_type": "stream",
     "text": [
      "/Users/kangjiwon\n"
     ]
    }
   ],
   "source": [
    "%cd ~"
   ]
  },
  {
   "cell_type": "code",
   "execution_count": 109,
   "id": "b9ca4da1",
   "metadata": {},
   "outputs": [
    {
     "name": "stdout",
     "output_type": "stream",
     "text": [
      "/Users/kangjiwon/Documents\n"
     ]
    }
   ],
   "source": [
    "%cd Documents"
   ]
  },
  {
   "cell_type": "code",
   "execution_count": 110,
   "id": "cfe8214d",
   "metadata": {},
   "outputs": [
    {
     "name": "stdout",
     "output_type": "stream",
     "text": [
      "/Users/kangjiwon\n"
     ]
    }
   ],
   "source": [
    "%cd .."
   ]
  },
  {
   "cell_type": "code",
   "execution_count": 116,
   "id": "fe68ef64",
   "metadata": {},
   "outputs": [
    {
     "name": "stdout",
     "output_type": "stream",
     "text": [
      "/Users/kangjiwon\r\n"
     ]
    }
   ],
   "source": [
    "!pwd"
   ]
  },
  {
   "cell_type": "code",
   "execution_count": 117,
   "id": "8c4def01",
   "metadata": {},
   "outputs": [
    {
     "name": "stdout",
     "output_type": "stream",
     "text": [
      "\u001b[34mApplications\u001b[m\u001b[m\r\n",
      "\u001b[34mCodes\u001b[m\u001b[m\r\n",
      "\u001b[34mCreative Cloud Files  augustine0268@gmail.com 1F0F4E3B5D54B7BB0A495FAA@AdobeID\u001b[m\u001b[m\r\n",
      "\u001b[34mDesktop\u001b[m\u001b[m\r\n",
      "\u001b[34mDocuments\u001b[m\u001b[m\r\n",
      "\u001b[34mDownloads\u001b[m\u001b[m\r\n",
      "\u001b[35mGoogle Drive\u001b[m\u001b[m\r\n",
      "\u001b[34mLibrary\u001b[m\u001b[m\r\n",
      "\u001b[34mMovies\u001b[m\u001b[m\r\n",
      "\u001b[34mMusic\u001b[m\u001b[m\r\n",
      "\u001b[34mPictures\u001b[m\u001b[m\r\n",
      "\u001b[34mPublic\u001b[m\u001b[m\r\n",
      "\u001b[34mSites\u001b[m\u001b[m\r\n",
      "\u001b[34manaconda3\u001b[m\u001b[m\r\n",
      "\u001b[34mbooks\u001b[m\u001b[m\r\n",
      "\u001b[34mcredential\u001b[m\u001b[m\r\n",
      "\u001b[34mgoogle-cloud-sdk\u001b[m\u001b[m\r\n",
      "\u001b[34miCloudArchive\u001b[m\u001b[m\r\n",
      "\u001b[34mopt\u001b[m\u001b[m\r\n",
      "\u001b[34mpast_research\u001b[m\u001b[m\r\n",
      "\u001b[34mpersonal\u001b[m\u001b[m\r\n",
      "\u001b[34mtweepy\u001b[m\u001b[m\r\n"
     ]
    }
   ],
   "source": [
    "!ls"
   ]
  }
 ],
 "metadata": {
  "kernelspec": {
   "display_name": "Python 3 (ipykernel)",
   "language": "python",
   "name": "python3"
  },
  "language_info": {
   "codemirror_mode": {
    "name": "ipython",
    "version": 3
   },
   "file_extension": ".py",
   "mimetype": "text/x-python",
   "name": "python",
   "nbconvert_exporter": "python",
   "pygments_lexer": "ipython3",
   "version": "3.11.7"
  }
 },
 "nbformat": 4,
 "nbformat_minor": 5
}
