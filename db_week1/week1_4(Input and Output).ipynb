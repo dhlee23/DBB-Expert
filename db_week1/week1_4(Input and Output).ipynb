{
 "cells": [
  {
   "cell_type": "markdown",
   "metadata": {},
   "source": [
    "## 기본적인 텍스트 파일의 입출력\n",
    "* csv, excel파일의 입출력에 대해서는 pandas 강의 때 다룬다"
   ]
  },
  {
   "cell_type": "code",
   "execution_count": 4,
   "metadata": {},
   "outputs": [],
   "source": [
    "f = open('snail.txt', 'r', encoding='utf-8')\n",
    "res =f.read()\n",
    "f.close()"
   ]
  },
  {
   "cell_type": "code",
   "execution_count": 6,
   "metadata": {},
   "outputs": [],
   "source": [
    "with open('./snail.txt', 'r', encoding='utf-8') as f:\n",
    "    res1 = f.read()\n"
   ]
  },
  {
   "cell_type": "markdown",
   "metadata": {},
   "source": [
    "### 절대 경로와 상대 경로\n",
    "### 입출력 모드 : r, w, a\n",
    "### encoding : utf-8, cp949, euc-kr"
   ]
  },
  {
   "cell_type": "code",
   "execution_count": 7,
   "metadata": {},
   "outputs": [
    {
     "name": "stdout",
     "output_type": "stream",
     "text": [
      "집에 오는 길은 때론 너무길어\n",
      "나는 더욱더 지치곤 해\n",
      "문을 열자마자 잠이 들었다가\n",
      "깨면 아무도 없어\n",
      "좁은 욕조 속에 몸을 뉘었을때\n",
      "작은 달팽이 한 마리가\n",
      "내게로 다가와\n",
      "작은 목소리로 속삭여줬어\n",
      "언젠가 먼 훗날에 저 넓고 거칠은\n",
      "세상 끝 바다로 갈거라고\n",
      "아무도 못봤지만\n",
      "기억 속 어딘가 들리는\n",
      "파도소리 따라서\n",
      "나는 영원히 갈래\n",
      "모두 어딘가로 차를 달리는 길\n",
      "나는 모퉁이 가게에서\n",
      "담배 한 개비와 녹는 아이스크림\n",
      "들고 길로 나섰어\n",
      "해는 높이 떠서 나를 찌르는데\n",
      "작은 달팽이 한마리가\n",
      "어느새 다가와 내게 인사하고\n",
      "노랠 흥얼거렸어\n",
      "언젠가 먼 훗날에 저 넓고 거칠은\n",
      "세상 끝 바다로 갈거라고\n",
      "아무도 못봤지만\n",
      "기억속 어딘가 들리는\n",
      "파도소리 따라서\n",
      "나는 영원히 갈래\n",
      "내 모든 걸 바쳤지만\n",
      "이젠 모두 푸른 연기처럼\n",
      "산산이 흩어지고\n",
      "내게 남아 있는 작은 힘을 다해\n",
      "마지막 꿈속에서\n",
      "모두 잊게 모두 잊게\n",
      "해줄 바다를 건널거야\n",
      "언젠가 먼 훗날에 저 넓고 거칠은\n",
      "세상 끝 바다로 갈거라고\n",
      "아무도 못봤지만\n",
      "기억속 어딘가 들리는\n",
      "파도소리 따라서\n",
      "나는 영원히 갈래\n"
     ]
    }
   ],
   "source": [
    "print(res)"
   ]
  },
  {
   "cell_type": "code",
   "execution_count": 8,
   "metadata": {},
   "outputs": [
    {
     "data": {
      "text/plain": [
       "'집에 오는 길은 때론 너무길어\\n나는 더욱더 지치곤 해\\n문을 열자마자 잠이 들었다가\\n깨면 아무도 없어\\n좁은 욕조 속에 몸을 뉘었을때\\n작은 달팽이 한 마리가\\n내게로 다가와\\n작은 목소리로 속삭여줬어\\n언젠가 먼 훗날에 저 넓고 거칠은\\n세상 끝 바다로 갈거라고\\n아무도 못봤지만\\n기억 속 어딘가 들리는\\n파도소리 따라서\\n나는 영원히 갈래\\n모두 어딘가로 차를 달리는 길\\n나는 모퉁이 가게에서\\n담배 한 개비와 녹는 아이스크림\\n들고 길로 나섰어\\n해는 높이 떠서 나를 찌르는데\\n작은 달팽이 한마리가\\n어느새 다가와 내게 인사하고\\n노랠 흥얼거렸어\\n언젠가 먼 훗날에 저 넓고 거칠은\\n세상 끝 바다로 갈거라고\\n아무도 못봤지만\\n기억속 어딘가 들리는\\n파도소리 따라서\\n나는 영원히 갈래\\n내 모든 걸 바쳤지만\\n이젠 모두 푸른 연기처럼\\n산산이 흩어지고\\n내게 남아 있는 작은 힘을 다해\\n마지막 꿈속에서\\n모두 잊게 모두 잊게\\n해줄 바다를 건널거야\\n언젠가 먼 훗날에 저 넓고 거칠은\\n세상 끝 바다로 갈거라고\\n아무도 못봤지만\\n기억속 어딘가 들리는\\n파도소리 따라서\\n나는 영원히 갈래'"
      ]
     },
     "execution_count": 8,
     "metadata": {},
     "output_type": "execute_result"
    }
   ],
   "source": [
    "res1"
   ]
  },
  {
   "cell_type": "code",
   "execution_count": 9,
   "metadata": {},
   "outputs": [],
   "source": [
    "with open('./snail.txt', 'r', encoding='utf-8') as f:\n",
    "    res = f.readlines()"
   ]
  },
  {
   "cell_type": "code",
   "execution_count": 12,
   "metadata": {},
   "outputs": [
    {
     "name": "stdout",
     "output_type": "stream",
     "text": [
      "['집에 오는 길은 때론 너무길어\\n', '나는 더욱더 지치곤 해\\n', '문을 열자마자 잠이 들었다가\\n', '깨면 아무도 없어\\n', '좁은 욕조 속에 몸을 뉘었을때\\n', '작은 달팽이 한 마리가\\n', '내게로 다가와\\n', '작은 목소리로 속삭여줬어\\n', '언젠가 먼 훗날에 저 넓고 거칠은\\n', '세상 끝 바다로 갈거라고\\n', '아무도 못봤지만\\n', '기억 속 어딘가 들리는\\n', '파도소리 따라서\\n', '나는 영원히 갈래\\n', '모두 어딘가로 차를 달리는 길\\n', '나는 모퉁이 가게에서\\n', '담배 한 개비와 녹는 아이스크림\\n', '들고 길로 나섰어\\n', '해는 높이 떠서 나를 찌르는데\\n', '작은 달팽이 한마리가\\n', '어느새 다가와 내게 인사하고\\n', '노랠 흥얼거렸어\\n', '언젠가 먼 훗날에 저 넓고 거칠은\\n', '세상 끝 바다로 갈거라고\\n', '아무도 못봤지만\\n', '기억속 어딘가 들리는\\n', '파도소리 따라서\\n', '나는 영원히 갈래\\n', '내 모든 걸 바쳤지만\\n', '이젠 모두 푸른 연기처럼\\n', '산산이 흩어지고\\n', '내게 남아 있는 작은 힘을 다해\\n', '마지막 꿈속에서\\n', '모두 잊게 모두 잊게\\n', '해줄 바다를 건널거야\\n', '언젠가 먼 훗날에 저 넓고 거칠은\\n', '세상 끝 바다로 갈거라고\\n', '아무도 못봤지만\\n', '기억속 어딘가 들리는\\n', '파도소리 따라서\\n', '나는 영원히 갈래']\n"
     ]
    }
   ],
   "source": [
    "print(res)"
   ]
  },
  {
   "cell_type": "code",
   "execution_count": 10,
   "metadata": {},
   "outputs": [
    {
     "data": {
      "text/plain": [
       "41"
      ]
     },
     "execution_count": 10,
     "metadata": {},
     "output_type": "execute_result"
    }
   ],
   "source": [
    "len(res)"
   ]
  },
  {
   "cell_type": "code",
   "execution_count": 11,
   "metadata": {},
   "outputs": [
    {
     "name": "stdout",
     "output_type": "stream",
     "text": [
      "['집에 오는 길은 때론 너무길어\\n', '나는 더욱더 지치곤 해\\n', '문을 열자마자 잠이 들었다가\\n', '깨면 아무도 없어\\n', '좁은 욕조 속에 몸을 뉘었을때\\n', '작은 달팽이 한 마리가\\n', '내게로 다가와\\n', '작은 목소리로 속삭여줬어\\n', '언젠가 먼 훗날에 저 넓고 거칠은\\n', '세상 끝 바다로 갈거라고\\n', '아무도 못봤지만\\n', '기억 속 어딘가 들리는\\n', '파도소리 따라서\\n', '나는 영원히 갈래\\n', '모두 어딘가로 차를 달리는 길\\n', '나는 모퉁이 가게에서\\n', '담배 한 개비와 녹는 아이스크림\\n', '들고 길로 나섰어\\n', '해는 높이 떠서 나를 찌르는데\\n', '작은 달팽이 한마리가\\n', '어느새 다가와 내게 인사하고\\n', '노랠 흥얼거렸어\\n', '언젠가 먼 훗날에 저 넓고 거칠은\\n', '세상 끝 바다로 갈거라고\\n', '아무도 못봤지만\\n', '기억속 어딘가 들리는\\n', '파도소리 따라서\\n', '나는 영원히 갈래\\n', '내 모든 걸 바쳤지만\\n', '이젠 모두 푸른 연기처럼\\n', '산산이 흩어지고\\n', '내게 남아 있는 작은 힘을 다해\\n', '마지막 꿈속에서\\n', '모두 잊게 모두 잊게\\n', '해줄 바다를 건널거야\\n', '언젠가 먼 훗날에 저 넓고 거칠은\\n', '세상 끝 바다로 갈거라고\\n', '아무도 못봤지만\\n', '기억속 어딘가 들리는\\n', '파도소리 따라서\\n', '나는 영원히 갈래']\n"
     ]
    }
   ],
   "source": [
    "# 이 구문도 쓰이나 권장되지는 않는다. \n",
    "# 구문도 번거롭고 close()로 열린 파일을 꼭 닫아줘야 하는 귀찮음이 있다\n",
    "\n",
    "f = open('./snail.txt', 'r', encoding='utf-8')\n",
    "res = f.readlines()\n",
    "print(res)\n",
    "f.close()"
   ]
  },
  {
   "cell_type": "code",
   "execution_count": 12,
   "metadata": {},
   "outputs": [
    {
     "name": "stdout",
     "output_type": "stream",
     "text": [
      "['집에 오는 길은 때론 너무길어', '나는 더욱더 지치곤 해', '문을 열자마자 잠이 들었다가', '깨면 아무도 없어', '좁은 욕조 속에 몸을 뉘었을때', '작은 달팽이 한 마리가', '내게로 다가와', '작은 목소리로 속삭여줬어', '언젠가 먼 훗날에 저 넓고 거칠은', '세상 끝 바다로 갈거라고', '아무도 못봤지만', '기억 속 어딘가 들리는', '파도소리 따라서', '나는 영원히 갈래', '모두 어딘가로 차를 달리는 길', '나는 모퉁이 가게에서', '담배 한 개비와 녹는 아이스크림', '들고 길로 나섰어', '해는 높이 떠서 나를 찌르는데', '작은 달팽이 한마리가', '어느새 다가와 내게 인사하고', '노랠 흥얼거렸어', '언젠가 먼 훗날에 저 넓고 거칠은', '세상 끝 바다로 갈거라고', '아무도 못봤지만', '기억속 어딘가 들리는', '파도소리 따라서', '나는 영원히 갈래', '내 모든 걸 바쳤지만', '이젠 모두 푸른 연기처럼', '산산이 흩어지고', '내게 남아 있는 작은 힘을 다해', '마지막 꿈속에서', '모두 잊게 모두 잊게', '해줄 바다를 건널거야', '언젠가 먼 훗날에 저 넓고 거칠은', '세상 끝 바다로 갈거라고', '아무도 못봤지만', '기억속 어딘가 들리는', '파도소리 따라서', '나는 영원히 갈래']\n"
     ]
    }
   ],
   "source": [
    "# 만약 여기서 리스트의 각 요소 뒤에 붙어있는 '\\n'(newline character)를 삭제하고 모두 이어 붙이기를 원하면?\n",
    "\n",
    "temp=[]\n",
    "for i in res:\n",
    "    temp.append(i.strip())  #strip()은 각종 빈칸 제거\n",
    "print(temp)"
   ]
  },
  {
   "cell_type": "code",
   "execution_count": 13,
   "metadata": {},
   "outputs": [
    {
     "name": "stdout",
     "output_type": "stream",
     "text": [
      "\n",
      "집에 오는 길은 때론 너무길어 나는 더욱더 지치곤 해 문을 열자마자 잠이 들었다가 깨면 아무도 없어 좁은 욕조 속에 몸을 뉘었을때 작은 달팽이 한 마리가 내게로 다가와 작은 목소리로 속삭여줬어 언젠가 먼 훗날에 저 넓고 거칠은 세상 끝 바다로 갈거라고 아무도 못봤지만 기억 속 어딘가 들리는 파도소리 따라서 나는 영원히 갈래 모두 어딘가로 차를 달리는 길 나는 모퉁이 가게에서 담배 한 개비와 녹는 아이스크림 들고 길로 나섰어 해는 높이 떠서 나를 찌르는데 작은 달팽이 한마리가 어느새 다가와 내게 인사하고 노랠 흥얼거렸어 언젠가 먼 훗날에 저 넓고 거칠은 세상 끝 바다로 갈거라고 아무도 못봤지만 기억속 어딘가 들리는 파도소리 따라서 나는 영원히 갈래 내 모든 걸 바쳤지만 이젠 모두 푸른 연기처럼 산산이 흩어지고 내게 남아 있는 작은 힘을 다해 마지막 꿈속에서 모두 잊게 모두 잊게 해줄 바다를 건널거야 언젠가 먼 훗날에 저 넓고 거칠은 세상 끝 바다로 갈거라고 아무도 못봤지만 기억속 어딘가 들리는 파도소리 따라서 나는 영원히 갈래\n"
     ]
    }
   ],
   "source": [
    "#리스트가 아닌 문자열로 이어붙이기 위해서는 \n",
    "\n",
    "raw_str =' '.join(temp)    # ' '를 중간에 넣어 이어붙임\n",
    "\n",
    "print()\n",
    "print(raw_str)"
   ]
  },
  {
   "cell_type": "code",
   "execution_count": 14,
   "metadata": {},
   "outputs": [
    {
     "name": "stdout",
     "output_type": "stream",
     "text": [
      "집에 오는 길은 때론 너무길어\n",
      "\n"
     ]
    }
   ],
   "source": [
    "with open('./snail.txt', 'r', encoding='utf-8') as f:\n",
    "    print(f.readline())"
   ]
  },
  {
   "cell_type": "code",
   "execution_count": 15,
   "metadata": {},
   "outputs": [
    {
     "name": "stdout",
     "output_type": "stream",
     "text": [
      "집에 오는 길은 때론 너무길어 나는 더욱더 지치곤 해 문을 열자마자 잠이 들었다가 깨면 아무도 없어 좁은 욕조 속에 몸을 뉘었을때 작은 달팽이 한 마리가 내게로 다가와 작은 목소리로 속삭여줬어 언젠가 먼 훗날에 저 넓고 거칠은 세상 끝 바다로 갈거라고 아무도 못봤지만 기억 속 어딘가 들리는 파도소리 따라서 나는 영원히 갈래 모두 어딘가로 차를 달리는 길 나는 모퉁이 가게에서 담배 한 개비와 녹는 아이스크림 들고 길로 나섰어 해는 높이 떠서 나를 찌르는데 작은 달팽이 한마리가 어느새 다가와 내게 인사하고 노랠 흥얼거렸어 언젠가 먼 훗날에 저 넓고 거칠은 세상 끝 바다로 갈거라고 아무도 못봤지만 기억속 어딘가 들리는 파도소리 따라서 나는 영원히 갈래 내 모든 걸 바쳤지만 이젠 모두 푸른 연기처럼 산산이 흩어지고 내게 남아 있는 작은 힘을 다해 마지막 꿈속에서 모두 잊게 모두 잊게 해줄 바다를 건널거야 언젠가 먼 훗날에 저 넓고 거칠은 세상 끝 바다로 갈거라고 아무도 못봤지만 기억속 어딘가 들리는 파도소리 따라서 나는 영원히 갈래 \n"
     ]
    }
   ],
   "source": [
    "# 만약 불러들일 파일이 너무 커서 모두 읽고 난 후 처리하는 것이 바람직하지 않을 경우\n",
    "# 한 줄씩 읽어서 처리할 수도 있다.\n",
    "\n",
    "tmp=[]\n",
    "with open('./snail.txt', 'r', encoding='utf-8') as f:\n",
    "    while True:\n",
    "        line = f.readline()\n",
    "        tmp.append(line.strip())\n",
    "        \n",
    "        if not line:\n",
    "            break\n",
    "                \n",
    "    final = \" \". join(tmp)\n",
    "print(final)\n",
    "\n",
    "#결과적으로 나타나는 모습은 readlines()의 경우와 같지만, memory에 text를 모두 올려 읽는가, 한줄씩 읽는가라는 차이가 있다."
   ]
  },
  {
   "cell_type": "code",
   "execution_count": 16,
   "metadata": {},
   "outputs": [],
   "source": [
    "# 이 raw_str을 새로운 파일에 옮겨 넣자\n",
    "\n",
    "with open('./new_snail.txt', 'w', encoding='utf-8') as f:\n",
    "    f.write(raw_str)\n",
    "\n",
    "#실행 폴더와 같은 위치에 새로운 파일이 생성되었음을 확인할 수 있을 것이다"
   ]
  },
  {
   "cell_type": "markdown",
   "metadata": {},
   "source": [
    "## pip와 라이브러리 모듈 import"
   ]
  },
  {
   "cell_type": "code",
   "execution_count": 17,
   "metadata": {},
   "outputs": [],
   "source": [
    "# pip란 : 파이썬 라이브러리를 관리 (설치, 업데이트, 버전 변경, 삭제) 해주는 프로그램\n",
    "# 만약 파이썬 3.4 버전이후의 파이썬을 자신의 컴퓨터에 설치하였다면 별도 pip설치를 요하지 않는다.\n",
    "# 다만 pip도 수시로 update 되므로, pip를 pip 명령어로 업데이트해 줄 필요도 있다(후술)"
   ]
  },
  {
   "cell_type": "code",
   "execution_count": 18,
   "metadata": {},
   "outputs": [
    {
     "name": "stdout",
     "output_type": "stream",
     "text": [
      "Package                       Version\r\n",
      "----------------------------- ---------\r\n",
      "aiobotocore                   2.5.0\r\n",
      "aiofiles                      22.1.0\r\n",
      "aiohttp                       3.8.3\r\n",
      "aioitertools                  0.7.1\r\n",
      "aiosignal                     1.2.0\r\n",
      "aiosqlite                     0.18.0\r\n",
      "alabaster                     0.7.12\r\n",
      "anaconda-catalogs             0.2.0\r\n",
      "anaconda-client               1.12.0\r\n",
      "anaconda-navigator            2.4.2\r\n",
      "anaconda-project              0.11.1\r\n",
      "anyio                         3.5.0\r\n",
      "appdirs                       1.4.4\r\n",
      "applaunchservices             0.3.0\r\n",
      "appnope                       0.1.2\r\n",
      "appscript                     1.1.2\r\n",
      "argon2-cffi                   21.3.0\r\n",
      "argon2-cffi-bindings          21.2.0\r\n",
      "arrow                         1.2.3\r\n",
      "astroid                       2.14.2\r\n",
      "astropy                       5.1\r\n",
      "asttokens                     2.0.5\r\n",
      "async-timeout                 4.0.2\r\n",
      "atomicwrites                  1.4.0\r\n",
      "attrs                         22.1.0\r\n",
      "Automat                       20.2.0\r\n",
      "autopep8                      1.6.0\r\n",
      "Babel                         2.11.0\r\n",
      "backcall                      0.2.0\r\n",
      "backports.functools-lru-cache 1.6.4\r\n",
      "backports.tempfile            1.0\r\n",
      "backports.weakref             1.0.post1\r\n",
      "bcrypt                        3.2.0\r\n",
      "beautifulsoup4                4.12.2\r\n",
      "binaryornot                   0.4.4\r\n",
      "black                         0.0\r\n",
      "bleach                        4.1.0\r\n",
      "bokeh                         3.2.1\r\n",
      "boltons                       23.0.0\r\n",
      "botocore                      1.29.76\r\n",
      "Bottleneck                    1.3.5\r\n",
      "brotlipy                      0.7.0\r\n",
      "certifi                       2024.2.2\r\n",
      "cffi                          1.15.1\r\n",
      "chardet                       4.0.0\r\n",
      "charset-normalizer            2.0.4\r\n",
      "click                         8.0.4\r\n",
      "cloudpickle                   2.2.1\r\n",
      "clyent                        1.2.2\r\n",
      "colorama                      0.4.6\r\n",
      "colorcet                      3.0.1\r\n",
      "comm                          0.1.2\r\n",
      "conda                         23.7.2\r\n",
      "conda-build                   3.26.0\r\n",
      "conda-content-trust           0.2.0\r\n",
      "conda_index                   0.2.3\r\n",
      "conda-libmamba-solver         23.5.0\r\n",
      "conda-pack                    0.6.0\r\n",
      "conda-package-handling        2.2.0\r\n",
      "conda_package_streaming       0.9.0\r\n",
      "conda-repo-cli                1.0.41\r\n",
      "conda-token                   0.4.0\r\n",
      "conda-verify                  3.4.2\r\n",
      "constantly                    15.1.0\r\n",
      "contourpy                     1.0.5\r\n",
      "cookiecutter                  1.7.3\r\n",
      "cryptography                  41.0.2\r\n",
      "cssselect                     1.1.0\r\n",
      "cycler                        0.11.0\r\n",
      "cytoolz                       0.12.0\r\n",
      "dask                          2023.6.0\r\n",
      "datasets                      2.12.0\r\n",
      "datashader                    0.15.1\r\n",
      "datashape                     0.5.4\r\n",
      "debugpy                       1.6.7\r\n",
      "decorator                     5.1.1\r\n",
      "defusedxml                    0.7.1\r\n",
      "diff-match-patch              20200713\r\n",
      "dill                          0.3.6\r\n",
      "distributed                   2023.6.0\r\n",
      "docstring-to-markdown         0.11\r\n",
      "docutils                      0.18.1\r\n",
      "entrypoints                   0.4\r\n",
      "et-xmlfile                    1.1.0\r\n",
      "executing                     0.8.3\r\n",
      "fastjsonschema                2.16.2\r\n",
      "filelock                      3.9.0\r\n",
      "flake8                        6.0.0\r\n",
      "Flask                         2.2.2\r\n",
      "fonttools                     4.25.0\r\n",
      "frozenlist                    1.3.3\r\n",
      "fsspec                        2023.4.0\r\n",
      "future                        0.18.3\r\n",
      "gensim                        4.3.0\r\n",
      "glob2                         0.7\r\n",
      "gmpy2                         2.1.2\r\n",
      "greenlet                      2.0.1\r\n",
      "h5py                          3.7.0\r\n",
      "HeapDict                      1.0.1\r\n",
      "holoviews                     1.17.0\r\n",
      "html5lib                      1.1\r\n",
      "huggingface-hub               0.15.1\r\n",
      "hvplot                        0.8.4\r\n",
      "hyperlink                     21.0.0\r\n",
      "idna                          3.4\r\n",
      "imagecodecs                   2021.8.26\r\n",
      "imageio                       2.31.1\r\n",
      "imagesize                     1.4.1\r\n",
      "imbalanced-learn              0.10.1\r\n",
      "importlib-metadata            6.0.0\r\n",
      "incremental                   21.3.0\r\n",
      "inflection                    0.5.1\r\n",
      "iniconfig                     1.1.1\r\n",
      "intake                        0.6.8\r\n",
      "intervaltree                  3.1.0\r\n",
      "ipykernel                     6.19.2\r\n",
      "ipython                       8.12.0\r\n",
      "ipython-genutils              0.2.0\r\n",
      "ipywidgets                    8.0.4\r\n",
      "isort                         5.9.3\r\n",
      "itemadapter                   0.3.0\r\n",
      "itemloaders                   1.0.4\r\n",
      "itsdangerous                  2.0.1\r\n",
      "jaraco.classes                3.2.1\r\n",
      "jedi                          0.18.1\r\n",
      "jellyfish                     0.9.0\r\n",
      "Jinja2                        3.1.2\r\n",
      "jinja2-time                   0.2.0\r\n",
      "jmespath                      0.10.0\r\n",
      "joblib                        1.2.0\r\n",
      "json5                         0.9.6\r\n",
      "jsonpatch                     1.32\r\n",
      "jsonpointer                   2.1\r\n",
      "jsonschema                    4.17.3\r\n",
      "jupyter                       1.0.0\r\n",
      "jupyter_client                7.4.9\r\n",
      "jupyter-console               6.6.3\r\n",
      "jupyter_core                  5.3.0\r\n",
      "jupyter-events                0.6.3\r\n",
      "jupyter-server                1.23.4\r\n",
      "jupyter_server_fileid         0.9.0\r\n",
      "jupyter_server_ydoc           0.8.0\r\n",
      "jupyter-ydoc                  0.2.4\r\n",
      "jupyterlab                    3.6.3\r\n",
      "jupyterlab-pygments           0.1.2\r\n",
      "jupyterlab_server             2.22.0\r\n",
      "jupyterlab-widgets            3.0.5\r\n",
      "jupyterthemes                 0.20.0\r\n",
      "keyring                       23.13.1\r\n",
      "kiwisolver                    1.4.4\r\n",
      "lazy_loader                   0.2\r\n",
      "lazy-object-proxy             1.6.0\r\n",
      "lesscpy                       0.15.1\r\n",
      "libarchive-c                  2.9\r\n",
      "libmambapy                    1.4.1\r\n",
      "linkify-it-py                 2.0.0\r\n",
      "llvmlite                      0.40.0\r\n",
      "lmdb                          1.4.1\r\n",
      "locket                        1.0.0\r\n",
      "lxml                          4.9.2\r\n",
      "lz4                           4.3.2\r\n",
      "Markdown                      3.4.1\r\n",
      "markdown-it-py                2.2.0\r\n",
      "MarkupSafe                    2.1.1\r\n",
      "matplotlib                    3.7.1\r\n",
      "matplotlib-inline             0.1.6\r\n",
      "mccabe                        0.7.0\r\n",
      "mdit-py-plugins               0.3.0\r\n",
      "mdurl                         0.1.0\r\n",
      "mistune                       0.8.4\r\n",
      "more-itertools                8.12.0\r\n",
      "mpmath                        1.3.0\r\n",
      "msgpack                       1.0.3\r\n",
      "multidict                     6.0.2\r\n",
      "multipledispatch              0.6.0\r\n",
      "multiprocess                  0.70.14\r\n",
      "munkres                       1.1.4\r\n",
      "mypy-extensions               0.4.3\r\n",
      "navigator-updater             0.4.0\r\n",
      "nbclassic                     0.5.5\r\n",
      "nbclient                      0.5.13\r\n",
      "nbconvert                     6.5.4\r\n",
      "nbformat                      5.7.0\r\n",
      "nest-asyncio                  1.5.6\r\n",
      "networkx                      3.1\r\n",
      "nltk                          3.8.1\r\n",
      "notebook                      6.5.4\r\n",
      "notebook_shim                 0.2.2\r\n",
      "numba                         0.57.0\r\n",
      "numexpr                       2.8.4\r\n",
      "numpy                         1.24.3\r\n",
      "numpydoc                      1.5.0\r\n",
      "openpyxl                      3.0.10\r\n",
      "packaging                     23.0\r\n",
      "pandas                        1.5.3\r\n",
      "pandocfilters                 1.5.0\r\n",
      "panel                         1.2.1\r\n",
      "param                         1.13.0\r\n",
      "parsel                        1.6.0\r\n",
      "parso                         0.8.3\r\n",
      "partd                         1.2.0\r\n",
      "pathlib                       1.0.1\r\n",
      "pathspec                      0.10.3\r\n",
      "patsy                         0.5.3\r\n",
      "pep8                          1.7.1\r\n",
      "pexpect                       4.8.0\r\n",
      "pickleshare                   0.7.5\r\n",
      "Pillow                        9.4.0\r\n",
      "pip                           23.2.1\r\n",
      "pkginfo                       1.9.6\r\n",
      "platformdirs                  2.5.2\r\n",
      "plotly                        5.9.0\r\n",
      "pluggy                        1.0.0\r\n",
      "ply                           3.11\r\n",
      "pooch                         1.4.0\r\n",
      "poyo                          0.5.0\r\n",
      "prometheus-client             0.14.1\r\n",
      "prompt-toolkit                3.0.36\r\n",
      "Protego                       0.1.16\r\n",
      "psutil                        5.9.0\r\n",
      "ptyprocess                    0.7.0\r\n",
      "pure-eval                     0.2.2\r\n",
      "py-cpuinfo                    8.0.0\r\n",
      "pyarrow                       11.0.0\r\n",
      "pyasn1                        0.4.8\r\n",
      "pyasn1-modules                0.2.8\r\n",
      "pycodestyle                   2.10.0\r\n",
      "pycosat                       0.6.4\r\n",
      "pycparser                     2.21\r\n",
      "pyct                          0.5.0\r\n",
      "pycurl                        7.45.2\r\n",
      "PyDispatcher                  2.0.5\r\n",
      "pydocstyle                    6.3.0\r\n",
      "pyerfa                        2.0.0\r\n",
      "pyflakes                      3.0.1\r\n",
      "Pygments                      2.15.1\r\n",
      "PyJWT                         2.4.0\r\n",
      "pylint                        2.16.2\r\n",
      "pylint-venv                   2.3.0\r\n",
      "pyls-spyder                   0.4.0\r\n",
      "pyobjc-core                   9.0\r\n",
      "pyobjc-framework-Cocoa        9.0\r\n",
      "pyobjc-framework-CoreServices 9.0\r\n",
      "pyobjc-framework-FSEvents     9.0\r\n",
      "pyodbc                        4.0.34\r\n",
      "pyOpenSSL                     23.2.0\r\n",
      "pyparsing                     3.0.9\r\n",
      "PyQt5-sip                     12.11.0\r\n",
      "pyrsistent                    0.18.0\r\n",
      "PySocks                       1.7.1\r\n",
      "pytest                        7.4.0\r\n",
      "python-dateutil               2.8.2\r\n",
      "python-json-logger            2.0.7\r\n",
      "python-lsp-black              1.2.1\r\n",
      "python-lsp-jsonrpc            1.0.0\r\n",
      "python-lsp-server             1.7.2\r\n",
      "python-slugify                5.0.2\r\n",
      "python-snappy                 0.6.1\r\n",
      "pytoolconfig                  1.2.5\r\n",
      "pytz                          2022.7\r\n",
      "pyviz-comms                   2.3.0\r\n",
      "PyWavelets                    1.4.1\r\n",
      "PyYAML                        6.0\r\n",
      "pyzmq                         23.2.0\r\n",
      "QDarkStyle                    3.0.2\r\n",
      "qstylizer                     0.2.2\r\n",
      "QtAwesome                     1.2.2\r\n",
      "qtconsole                     5.4.2\r\n",
      "QtPy                          2.2.0\r\n",
      "queuelib                      1.5.0\r\n",
      "regex                         2022.7.9\r\n",
      "requests                      2.31.0\r\n",
      "requests-file                 1.5.1\r\n",
      "requests-toolbelt             1.0.0\r\n",
      "responses                     0.13.3\r\n",
      "rfc3339-validator             0.1.4\r\n",
      "rfc3986-validator             0.1.1\r\n",
      "rope                          1.7.0\r\n",
      "Rtree                         1.0.1\r\n",
      "ruamel.yaml                   0.17.21\r\n",
      "ruamel-yaml-conda             0.17.21\r\n",
      "s3fs                          2023.4.0\r\n",
      "sacremoses                    0.0.43\r\n",
      "scikit-image                  0.20.0\r\n",
      "scikit-learn                  1.3.0\r\n",
      "scipy                         1.10.1\r\n",
      "Scrapy                        2.8.0\r\n",
      "seaborn                       0.12.2\r\n",
      "Send2Trash                    1.8.0\r\n",
      "service-identity              18.1.0\r\n",
      "setuptools                    68.0.0\r\n",
      "sip                           6.6.2\r\n",
      "six                           1.16.0\r\n",
      "smart-open                    5.2.1\r\n",
      "sniffio                       1.2.0\r\n",
      "snowballstemmer               2.2.0\r\n",
      "sortedcontainers              2.4.0\r\n",
      "soupsieve                     2.4\r\n",
      "Sphinx                        5.0.2\r\n",
      "sphinxcontrib-applehelp       1.0.2\r\n",
      "sphinxcontrib-devhelp         1.0.2\r\n",
      "sphinxcontrib-htmlhelp        2.0.0\r\n",
      "sphinxcontrib-jsmath          1.0.1\r\n",
      "sphinxcontrib-qthelp          1.0.3\r\n",
      "sphinxcontrib-serializinghtml 1.1.5\r\n",
      "spyder                        5.4.3\r\n",
      "spyder-kernels                2.4.3\r\n",
      "SQLAlchemy                    1.4.39\r\n",
      "stack-data                    0.2.0\r\n",
      "statsmodels                   0.14.0\r\n",
      "sympy                         1.11.1\r\n",
      "tables                        3.8.0\r\n",
      "tabulate                      0.8.10\r\n",
      "TBB                           0.2\r\n",
      "tblib                         1.7.0\r\n",
      "tenacity                      8.2.2\r\n",
      "terminado                     0.17.1\r\n",
      "text-unidecode                1.3\r\n",
      "textdistance                  4.2.1\r\n",
      "threadpoolctl                 2.2.0\r\n",
      "three-merge                   0.1.1\r\n",
      "tifffile                      2021.7.2\r\n",
      "tinycss2                      1.2.1\r\n",
      "tldextract                    3.2.0\r\n",
      "tokenizers                    0.13.2\r\n",
      "toml                          0.10.2\r\n",
      "tomlkit                       0.11.1\r\n",
      "toolz                         0.12.0\r\n",
      "torch                         2.0.1\r\n",
      "tornado                       6.3.2\r\n",
      "tqdm                          4.65.0\r\n",
      "traitlets                     5.7.1\r\n",
      "transformers                  4.29.2\r\n",
      "Twisted                       22.10.0\r\n",
      "typing_extensions             4.7.1\r\n",
      "uc-micro-py                   1.0.1\r\n",
      "ujson                         5.4.0\r\n",
      "Unidecode                     1.2.0\r\n",
      "urllib3                       1.26.16\r\n",
      "w3lib                         1.21.0\r\n",
      "watchdog                      2.1.6\r\n",
      "wcwidth                       0.2.5\r\n",
      "webencodings                  0.5.1\r\n",
      "websocket-client              0.58.0\r\n",
      "Werkzeug                      2.2.3\r\n",
      "whatthepatch                  1.0.2\r\n",
      "wheel                         0.38.4\r\n",
      "widgetsnbextension            4.0.5\r\n",
      "wordcloud                     1.9.3\r\n",
      "wquantiles                    0.6\r\n",
      "wrapt                         1.14.1\r\n",
      "wurlitzer                     3.0.2\r\n",
      "xarray                        2023.6.0\r\n",
      "xlrd                          2.0.1\r\n",
      "xlwings                       0.29.1\r\n",
      "xxhash                        2.0.2\r\n",
      "xyzservices                   2022.9.0\r\n",
      "y-py                          0.5.9\r\n",
      "yapf                          0.31.0\r\n",
      "yarl                          1.8.1\r\n",
      "ypy-websocket                 0.8.2\r\n",
      "zict                          2.2.0\r\n",
      "zipp                          3.11.0\r\n",
      "zope.interface                5.4.0\r\n",
      "zstandard                     0.19.0\r\n"
     ]
    }
   ],
   "source": [
    "#pip를 주피터 노트북에서 사용하기 위해서는 pip 앞에 !(느낌표)를 붙어 사용한다.\n",
    "#먼저 현재 설치된 파이썬 라이브러리를 파악해 보자\n",
    "\n",
    "!pip list"
   ]
  },
  {
   "cell_type": "code",
   "execution_count": 19,
   "metadata": {},
   "outputs": [
    {
     "name": "stdout",
     "output_type": "stream",
     "text": [
      "Requirement already satisfied: pip in /Users/kangjiwon/anaconda3/lib/python3.11/site-packages (23.2.1)\n",
      "Collecting pip\n",
      "  Obtaining dependency information for pip from https://files.pythonhosted.org/packages/25/49/2255373efd193c6fbd97dc22399e9c830a6517a0f02ca77fbc0bd83ac5cc/pip-24.1-py3-none-any.whl.metadata\n",
      "  Downloading pip-24.1-py3-none-any.whl.metadata (3.6 kB)\n",
      "Downloading pip-24.1-py3-none-any.whl (1.8 MB)\n",
      "\u001b[2K   \u001b[90m━━━━━━━━━━━━━━━━━━━━━━━━━━━━━━━━━━━━━━━━\u001b[0m \u001b[32m1.8/1.8 MB\u001b[0m \u001b[31m22.7 MB/s\u001b[0m eta \u001b[36m0:00:00\u001b[0ma \u001b[36m0:00:01\u001b[0m\n",
      "\u001b[?25hInstalling collected packages: pip\n",
      "  Attempting uninstall: pip\n",
      "    Found existing installation: pip 23.2.1\n",
      "    Uninstalling pip-23.2.1:\n",
      "      Successfully uninstalled pip-23.2.1\n",
      "Successfully installed pip-24.1\n"
     ]
    }
   ],
   "source": [
    "#pip를 pip로 업그레이드 하는 게 조금 이상해 보이지만, pip자체를 업그레이드하지 않으면 \n",
    "# 자신의 컴퓨터의 현재 버전의 pip가 관리하는 예전 버전의 라이브러리만 다운로드 할 수 있다.\n",
    "\n",
    "!pip install --upgrade pip \n",
    "\n",
    "#(-- :대쉬 두개), 시간이 걸릴 수 있다."
   ]
  },
  {
   "cell_type": "code",
   "execution_count": 20,
   "metadata": {},
   "outputs": [
    {
     "name": "stdout",
     "output_type": "stream",
     "text": [
      "Requirement already satisfied: numpy in /Users/kangjiwon/anaconda3/lib/python3.11/site-packages (1.24.3)\n",
      "Requirement already satisfied: pandas in /Users/kangjiwon/anaconda3/lib/python3.11/site-packages (1.5.3)\n",
      "Requirement already satisfied: python-dateutil>=2.8.1 in /Users/kangjiwon/anaconda3/lib/python3.11/site-packages (from pandas) (2.8.2)\n",
      "Requirement already satisfied: pytz>=2020.1 in /Users/kangjiwon/anaconda3/lib/python3.11/site-packages (from pandas) (2022.7)\n",
      "Requirement already satisfied: numpy>=1.21.0 in /Users/kangjiwon/anaconda3/lib/python3.11/site-packages (from pandas) (1.24.3)\n",
      "Requirement already satisfied: six>=1.5 in /Users/kangjiwon/anaconda3/lib/python3.11/site-packages (from python-dateutil>=2.8.1->pandas) (1.16.0)\n",
      "Requirement already satisfied: matplotlib in /Users/kangjiwon/anaconda3/lib/python3.11/site-packages (3.7.1)\n",
      "Requirement already satisfied: contourpy>=1.0.1 in /Users/kangjiwon/anaconda3/lib/python3.11/site-packages (from matplotlib) (1.0.5)\n",
      "Requirement already satisfied: cycler>=0.10 in /Users/kangjiwon/anaconda3/lib/python3.11/site-packages (from matplotlib) (0.11.0)\n",
      "Requirement already satisfied: fonttools>=4.22.0 in /Users/kangjiwon/anaconda3/lib/python3.11/site-packages (from matplotlib) (4.25.0)\n",
      "Requirement already satisfied: kiwisolver>=1.0.1 in /Users/kangjiwon/anaconda3/lib/python3.11/site-packages (from matplotlib) (1.4.4)\n",
      "Requirement already satisfied: numpy>=1.20 in /Users/kangjiwon/anaconda3/lib/python3.11/site-packages (from matplotlib) (1.24.3)\n",
      "Requirement already satisfied: packaging>=20.0 in /Users/kangjiwon/anaconda3/lib/python3.11/site-packages (from matplotlib) (23.0)\n",
      "Requirement already satisfied: pillow>=6.2.0 in /Users/kangjiwon/anaconda3/lib/python3.11/site-packages (from matplotlib) (9.4.0)\n",
      "Requirement already satisfied: pyparsing>=2.3.1 in /Users/kangjiwon/anaconda3/lib/python3.11/site-packages (from matplotlib) (3.0.9)\n",
      "Requirement already satisfied: python-dateutil>=2.7 in /Users/kangjiwon/anaconda3/lib/python3.11/site-packages (from matplotlib) (2.8.2)\n",
      "Requirement already satisfied: six>=1.5 in /Users/kangjiwon/anaconda3/lib/python3.11/site-packages (from python-dateutil>=2.7->matplotlib) (1.16.0)\n",
      "Requirement already satisfied: scipy in /Users/kangjiwon/anaconda3/lib/python3.11/site-packages (1.10.1)\n",
      "Requirement already satisfied: numpy<1.27.0,>=1.19.5 in /Users/kangjiwon/anaconda3/lib/python3.11/site-packages (from scipy) (1.24.3)\n",
      "Requirement already satisfied: scikit-learn in /Users/kangjiwon/anaconda3/lib/python3.11/site-packages (1.3.0)\n",
      "Requirement already satisfied: numpy>=1.17.3 in /Users/kangjiwon/anaconda3/lib/python3.11/site-packages (from scikit-learn) (1.24.3)\n",
      "Requirement already satisfied: scipy>=1.5.0 in /Users/kangjiwon/anaconda3/lib/python3.11/site-packages (from scikit-learn) (1.10.1)\n",
      "Requirement already satisfied: joblib>=1.1.1 in /Users/kangjiwon/anaconda3/lib/python3.11/site-packages (from scikit-learn) (1.2.0)\n",
      "Requirement already satisfied: threadpoolctl>=2.0.0 in /Users/kangjiwon/anaconda3/lib/python3.11/site-packages (from scikit-learn) (2.2.0)\n"
     ]
    }
   ],
   "source": [
    "# 파이썬 라이브러리들을 설치(install)해 보자.\n",
    "# Anaconda로 파이썬을 설치 하였으면, 아마 이미 설치되었을 가능성이 높지만...확인을 위해\n",
    "# 다음 네가지를 설치한다. 1. padas 2. numpy, 3, matplotlib 4.sckit-learn(ScypY를 먼저 설치해야 함)\n",
    "# 이들 라이브러리들은 의존 관계가 있어서, 다음의 순서로 설치하는 것이 좋다\n",
    "\n",
    "!pip install numpy\n",
    "!pip install pandas\n",
    "!pip install matplotlib\n",
    "!pip install scipy\n",
    "!pip install scikit-learn"
   ]
  },
  {
   "cell_type": "code",
   "execution_count": 21,
   "metadata": {},
   "outputs": [],
   "source": [
    "#나의 경우, 이제 위 패키지가 모두 설치되었고, 최신 버전들이기에 \"Requirement already satisfied:\"만 보인다.\n",
    "#본인의 로컬 컴퓨터에 설치하면 결과는 다를 것이다."
   ]
  },
  {
   "cell_type": "code",
   "execution_count": 22,
   "metadata": {},
   "outputs": [],
   "source": [
    "#라이브러리를 불러 보도록 하자, 다음과 같이 불렀을 때 아무 error 표시가 없으면 잘 불러진 것이다.\n",
    "\n",
    "import pandas as pd \n",
    "import numpy as np\n",
    "import matplotlib.pyplot as plt\n",
    "import scipy\n",
    "import sklearn as sk"
   ]
  },
  {
   "cell_type": "code",
   "execution_count": null,
   "metadata": {},
   "outputs": [],
   "source": []
  }
 ],
 "metadata": {
  "kernelspec": {
   "display_name": "Python 3 (ipykernel)",
   "language": "python",
   "name": "python3"
  },
  "language_info": {
   "codemirror_mode": {
    "name": "ipython",
    "version": 3
   },
   "file_extension": ".py",
   "mimetype": "text/x-python",
   "name": "python",
   "nbconvert_exporter": "python",
   "pygments_lexer": "ipython3",
   "version": "3.11.4"
  }
 },
 "nbformat": 4,
 "nbformat_minor": 4
}
