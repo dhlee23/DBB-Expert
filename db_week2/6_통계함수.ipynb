{
 "cells": [
  {
   "cell_type": "code",
   "execution_count": 1,
   "metadata": {},
   "outputs": [
    {
     "data": {
      "text/html": [
       "<div>\n",
       "<style scoped>\n",
       "    .dataframe tbody tr th:only-of-type {\n",
       "        vertical-align: middle;\n",
       "    }\n",
       "\n",
       "    .dataframe tbody tr th {\n",
       "        vertical-align: top;\n",
       "    }\n",
       "\n",
       "    .dataframe thead th {\n",
       "        text-align: right;\n",
       "    }\n",
       "</style>\n",
       "<table border=\"1\" class=\"dataframe\">\n",
       "  <thead>\n",
       "    <tr style=\"text-align: right;\">\n",
       "      <th></th>\n",
       "      <th>지점</th>\n",
       "      <th>일시</th>\n",
       "      <th>평균기온</th>\n",
       "      <th>최저기온</th>\n",
       "      <th>최저기온시각</th>\n",
       "      <th>최고기온</th>\n",
       "      <th>최고기온시각</th>\n",
       "      <th>1시간최다강수량</th>\n",
       "      <th>일강수량</th>\n",
       "      <th>평균풍속</th>\n",
       "      <th>평균기압</th>\n",
       "      <th>합계일조시간</th>\n",
       "      <th>평균지면온도</th>\n",
       "    </tr>\n",
       "  </thead>\n",
       "  <tbody>\n",
       "    <tr>\n",
       "      <th>0</th>\n",
       "      <td>108</td>\n",
       "      <td>2021-01-01</td>\n",
       "      <td>-4.2</td>\n",
       "      <td>-9.8</td>\n",
       "      <td>511</td>\n",
       "      <td>1.6</td>\n",
       "      <td>1447</td>\n",
       "      <td>NaN</td>\n",
       "      <td>NaN</td>\n",
       "      <td>2.0</td>\n",
       "      <td>1014.9</td>\n",
       "      <td>6.5</td>\n",
       "      <td>-3.4</td>\n",
       "    </tr>\n",
       "    <tr>\n",
       "      <th>1</th>\n",
       "      <td>108</td>\n",
       "      <td>2021-01-02</td>\n",
       "      <td>-5.0</td>\n",
       "      <td>-8.4</td>\n",
       "      <td>805</td>\n",
       "      <td>-1.4</td>\n",
       "      <td>1346</td>\n",
       "      <td>NaN</td>\n",
       "      <td>NaN</td>\n",
       "      <td>2.6</td>\n",
       "      <td>1018.5</td>\n",
       "      <td>9.0</td>\n",
       "      <td>-3.9</td>\n",
       "    </tr>\n",
       "    <tr>\n",
       "      <th>2</th>\n",
       "      <td>108</td>\n",
       "      <td>2021-01-03</td>\n",
       "      <td>-5.6</td>\n",
       "      <td>-9.1</td>\n",
       "      <td>536</td>\n",
       "      <td>-2.0</td>\n",
       "      <td>1238</td>\n",
       "      <td>NaN</td>\n",
       "      <td>NaN</td>\n",
       "      <td>2.0</td>\n",
       "      <td>1023.0</td>\n",
       "      <td>5.5</td>\n",
       "      <td>-4.9</td>\n",
       "    </tr>\n",
       "    <tr>\n",
       "      <th>3</th>\n",
       "      <td>108</td>\n",
       "      <td>2021-01-04</td>\n",
       "      <td>-3.5</td>\n",
       "      <td>-8.4</td>\n",
       "      <td>656</td>\n",
       "      <td>0.3</td>\n",
       "      <td>1535</td>\n",
       "      <td>NaN</td>\n",
       "      <td>0.0</td>\n",
       "      <td>1.7</td>\n",
       "      <td>1020.3</td>\n",
       "      <td>4.6</td>\n",
       "      <td>-3.3</td>\n",
       "    </tr>\n",
       "    <tr>\n",
       "      <th>4</th>\n",
       "      <td>108</td>\n",
       "      <td>2021-01-05</td>\n",
       "      <td>-5.5</td>\n",
       "      <td>-9.9</td>\n",
       "      <td>2356</td>\n",
       "      <td>-2.1</td>\n",
       "      <td>1</td>\n",
       "      <td>NaN</td>\n",
       "      <td>0.0</td>\n",
       "      <td>2.9</td>\n",
       "      <td>1019.2</td>\n",
       "      <td>8.6</td>\n",
       "      <td>-3.2</td>\n",
       "    </tr>\n",
       "  </tbody>\n",
       "</table>\n",
       "</div>"
      ],
      "text/plain": [
       "    지점          일시  평균기온  최저기온  최저기온시각  최고기온  최고기온시각  1시간최다강수량  일강수량  평균풍속  \\\n",
       "0  108  2021-01-01  -4.2  -9.8     511   1.6    1447       NaN   NaN   2.0   \n",
       "1  108  2021-01-02  -5.0  -8.4     805  -1.4    1346       NaN   NaN   2.6   \n",
       "2  108  2021-01-03  -5.6  -9.1     536  -2.0    1238       NaN   NaN   2.0   \n",
       "3  108  2021-01-04  -3.5  -8.4     656   0.3    1535       NaN   0.0   1.7   \n",
       "4  108  2021-01-05  -5.5  -9.9    2356  -2.1       1       NaN   0.0   2.9   \n",
       "\n",
       "     평균기압  합계일조시간  평균지면온도  \n",
       "0  1014.9     6.5    -3.4  \n",
       "1  1018.5     9.0    -3.9  \n",
       "2  1023.0     5.5    -4.9  \n",
       "3  1020.3     4.6    -3.3  \n",
       "4  1019.2     8.6    -3.2  "
      ]
     },
     "execution_count": 1,
     "metadata": {},
     "output_type": "execute_result"
    }
   ],
   "source": [
    "import pandas as pd\n",
    "\n",
    "df = pd.read_csv('./weather_tmp.csv', encoding = 'utf-8')\n",
    "df.head()"
   ]
  },
  {
   "cell_type": "markdown",
   "metadata": {},
   "source": [
    "## 기초 통계량 관련 함수들\n",
    "* 본격적인 분석에 앞서 전체적인 데이터의 모습을 살펴보는 것이 탐색적 분석(exploratory data analysis)\n",
    "* 탐색적 분석에 의해 얻어지는 값을 '기초 통계량'이라고 하는 데\n",
    "* 이는 향후 본 분석의 방향을 정하는 것이기도 하지만, 그것 자체로도 의미가 크다\n",
    "* 대표적인 기초 통계량으로서 합계(sum), 평균(mean), 분산(variance), 표준편차(standard deviation) 등..."
   ]
  },
  {
   "cell_type": "code",
   "execution_count": 2,
   "metadata": {},
   "outputs": [
    {
     "data": {
      "text/html": [
       "<div>\n",
       "<style scoped>\n",
       "    .dataframe tbody tr th:only-of-type {\n",
       "        vertical-align: middle;\n",
       "    }\n",
       "\n",
       "    .dataframe tbody tr th {\n",
       "        vertical-align: top;\n",
       "    }\n",
       "\n",
       "    .dataframe thead th {\n",
       "        text-align: right;\n",
       "    }\n",
       "</style>\n",
       "<table border=\"1\" class=\"dataframe\">\n",
       "  <thead>\n",
       "    <tr style=\"text-align: right;\">\n",
       "      <th></th>\n",
       "      <th>지점</th>\n",
       "      <th>평균기온</th>\n",
       "      <th>최저기온</th>\n",
       "      <th>최저기온시각</th>\n",
       "      <th>최고기온</th>\n",
       "      <th>최고기온시각</th>\n",
       "      <th>1시간최다강수량</th>\n",
       "      <th>일강수량</th>\n",
       "      <th>평균풍속</th>\n",
       "      <th>평균기압</th>\n",
       "      <th>합계일조시간</th>\n",
       "      <th>평균지면온도</th>\n",
       "    </tr>\n",
       "  </thead>\n",
       "  <tbody>\n",
       "    <tr>\n",
       "      <th>count</th>\n",
       "      <td>365.0</td>\n",
       "      <td>365.000000</td>\n",
       "      <td>365.000000</td>\n",
       "      <td>365.000000</td>\n",
       "      <td>365.000000</td>\n",
       "      <td>365.000000</td>\n",
       "      <td>105.000000</td>\n",
       "      <td>160.000000</td>\n",
       "      <td>365.000000</td>\n",
       "      <td>365.000000</td>\n",
       "      <td>364.000000</td>\n",
       "      <td>365.000000</td>\n",
       "    </tr>\n",
       "    <tr>\n",
       "      <th>mean</th>\n",
       "      <td>108.0</td>\n",
       "      <td>13.752055</td>\n",
       "      <td>9.622466</td>\n",
       "      <td>877.306849</td>\n",
       "      <td>18.491781</td>\n",
       "      <td>1383.747945</td>\n",
       "      <td>4.454286</td>\n",
       "      <td>7.415625</td>\n",
       "      <td>2.310411</td>\n",
       "      <td>1006.055890</td>\n",
       "      <td>6.016758</td>\n",
       "      <td>14.850959</td>\n",
       "    </tr>\n",
       "    <tr>\n",
       "      <th>std</th>\n",
       "      <td>0.0</td>\n",
       "      <td>10.500360</td>\n",
       "      <td>10.875918</td>\n",
       "      <td>714.330593</td>\n",
       "      <td>10.468188</td>\n",
       "      <td>369.952346</td>\n",
       "      <td>8.450797</td>\n",
       "      <td>15.155399</td>\n",
       "      <td>0.646335</td>\n",
       "      <td>7.751331</td>\n",
       "      <td>3.938958</td>\n",
       "      <td>11.008080</td>\n",
       "    </tr>\n",
       "    <tr>\n",
       "      <th>min</th>\n",
       "      <td>108.0</td>\n",
       "      <td>-14.900000</td>\n",
       "      <td>-18.600000</td>\n",
       "      <td>1.000000</td>\n",
       "      <td>-10.700000</td>\n",
       "      <td>1.000000</td>\n",
       "      <td>0.000000</td>\n",
       "      <td>0.000000</td>\n",
       "      <td>1.200000</td>\n",
       "      <td>989.800000</td>\n",
       "      <td>0.000000</td>\n",
       "      <td>-9.300000</td>\n",
       "    </tr>\n",
       "    <tr>\n",
       "      <th>25%</th>\n",
       "      <td>108.0</td>\n",
       "      <td>6.500000</td>\n",
       "      <td>2.100000</td>\n",
       "      <td>519.000000</td>\n",
       "      <td>11.100000</td>\n",
       "      <td>1349.000000</td>\n",
       "      <td>0.100000</td>\n",
       "      <td>0.000000</td>\n",
       "      <td>1.800000</td>\n",
       "      <td>999.900000</td>\n",
       "      <td>2.150000</td>\n",
       "      <td>5.400000</td>\n",
       "    </tr>\n",
       "    <tr>\n",
       "      <th>50%</th>\n",
       "      <td>108.0</td>\n",
       "      <td>14.100000</td>\n",
       "      <td>9.700000</td>\n",
       "      <td>615.000000</td>\n",
       "      <td>19.200000</td>\n",
       "      <td>1502.000000</td>\n",
       "      <td>2.000000</td>\n",
       "      <td>1.300000</td>\n",
       "      <td>2.200000</td>\n",
       "      <td>1006.200000</td>\n",
       "      <td>6.550000</td>\n",
       "      <td>15.000000</td>\n",
       "    </tr>\n",
       "    <tr>\n",
       "      <th>75%</th>\n",
       "      <td>108.0</td>\n",
       "      <td>22.900000</td>\n",
       "      <td>19.200000</td>\n",
       "      <td>743.000000</td>\n",
       "      <td>27.300000</td>\n",
       "      <td>1543.000000</td>\n",
       "      <td>5.300000</td>\n",
       "      <td>7.025000</td>\n",
       "      <td>2.600000</td>\n",
       "      <td>1012.200000</td>\n",
       "      <td>9.125000</td>\n",
       "      <td>24.600000</td>\n",
       "    </tr>\n",
       "    <tr>\n",
       "      <th>max</th>\n",
       "      <td>108.0</td>\n",
       "      <td>31.700000</td>\n",
       "      <td>27.800000</td>\n",
       "      <td>2400.000000</td>\n",
       "      <td>36.500000</td>\n",
       "      <td>2029.000000</td>\n",
       "      <td>65.700000</td>\n",
       "      <td>77.400000</td>\n",
       "      <td>5.000000</td>\n",
       "      <td>1023.500000</td>\n",
       "      <td>13.200000</td>\n",
       "      <td>35.300000</td>\n",
       "    </tr>\n",
       "  </tbody>\n",
       "</table>\n",
       "</div>"
      ],
      "text/plain": [
       "          지점        평균기온        최저기온       최저기온시각        최고기온       최고기온시각  \\\n",
       "count  365.0  365.000000  365.000000   365.000000  365.000000   365.000000   \n",
       "mean   108.0   13.752055    9.622466   877.306849   18.491781  1383.747945   \n",
       "std      0.0   10.500360   10.875918   714.330593   10.468188   369.952346   \n",
       "min    108.0  -14.900000  -18.600000     1.000000  -10.700000     1.000000   \n",
       "25%    108.0    6.500000    2.100000   519.000000   11.100000  1349.000000   \n",
       "50%    108.0   14.100000    9.700000   615.000000   19.200000  1502.000000   \n",
       "75%    108.0   22.900000   19.200000   743.000000   27.300000  1543.000000   \n",
       "max    108.0   31.700000   27.800000  2400.000000   36.500000  2029.000000   \n",
       "\n",
       "         1시간최다강수량        일강수량        평균풍속         평균기압      합계일조시간      평균지면온도  \n",
       "count  105.000000  160.000000  365.000000   365.000000  364.000000  365.000000  \n",
       "mean     4.454286    7.415625    2.310411  1006.055890    6.016758   14.850959  \n",
       "std      8.450797   15.155399    0.646335     7.751331    3.938958   11.008080  \n",
       "min      0.000000    0.000000    1.200000   989.800000    0.000000   -9.300000  \n",
       "25%      0.100000    0.000000    1.800000   999.900000    2.150000    5.400000  \n",
       "50%      2.000000    1.300000    2.200000  1006.200000    6.550000   15.000000  \n",
       "75%      5.300000    7.025000    2.600000  1012.200000    9.125000   24.600000  \n",
       "max     65.700000   77.400000    5.000000  1023.500000   13.200000   35.300000  "
      ]
     },
     "execution_count": 2,
     "metadata": {},
     "output_type": "execute_result"
    }
   ],
   "source": [
    "# 이제까지 아껴 두었던 전체 데이터의 구성을 한 눈에 알아볼 수 있는 함수가 있다\n",
    "# .describe() 가 그것이다.\n",
    "\n",
    "df.describe()"
   ]
  },
  {
   "cell_type": "code",
   "execution_count": 3,
   "metadata": {},
   "outputs": [
    {
     "name": "stdout",
     "output_type": "stream",
     "text": [
      "<class 'pandas.core.frame.DataFrame'>\n",
      "RangeIndex: 365 entries, 0 to 364\n",
      "Data columns (total 13 columns):\n",
      " #   Column    Non-Null Count  Dtype  \n",
      "---  ------    --------------  -----  \n",
      " 0   지점        365 non-null    int64  \n",
      " 1   일시        365 non-null    object \n",
      " 2   평균기온      365 non-null    float64\n",
      " 3   최저기온      365 non-null    float64\n",
      " 4   최저기온시각    365 non-null    int64  \n",
      " 5   최고기온      365 non-null    float64\n",
      " 6   최고기온시각    365 non-null    int64  \n",
      " 7   1시간최다강수량  105 non-null    float64\n",
      " 8   일강수량      160 non-null    float64\n",
      " 9   평균풍속      365 non-null    float64\n",
      " 10  평균기압      365 non-null    float64\n",
      " 11  합계일조시간    364 non-null    float64\n",
      " 12  평균지면온도    365 non-null    float64\n",
      "dtypes: float64(9), int64(3), object(1)\n",
      "memory usage: 37.2+ KB\n"
     ]
    }
   ],
   "source": [
    "df.info()"
   ]
  },
  {
   "cell_type": "code",
   "execution_count": null,
   "metadata": {},
   "outputs": [],
   "source": [
    "# NaN의 의미: Not a Number\n",
    "\n",
    "# 구체적인 데이터에 있어 NaN은 다양한 의미를 갖는다.\n",
    "# 때로는 단순히 0의 의미를 갖기도 하고,\n",
    "# 때로는 측정을 하지 못했다는 결측값의 의미를 갖기도 한다.\n",
    "\n",
    "# 따라서 때로는 결측값을 가진 개별 행을 삭제하거나, 열 자체를 삭제해야할 상황도 있고\n",
    "# 때로는 다른 적절한 값으로 대체(imputation)해야할 경우도 있다.\n",
    "# 결국 다양한 상황과 데이터의 형태를 고려하여 적합한 판단을 내리는 것은 분석가의 몫이다."
   ]
  },
  {
   "cell_type": "code",
   "execution_count": 4,
   "metadata": {},
   "outputs": [
    {
     "data": {
      "text/plain": [
       "5019.5"
      ]
     },
     "execution_count": 4,
     "metadata": {},
     "output_type": "execute_result"
    }
   ],
   "source": [
    "# 합계를 구하는 함수는 sum()\n",
    "\n",
    "df['평균기온'].sum()"
   ]
  },
  {
   "cell_type": "code",
   "execution_count": 5,
   "metadata": {},
   "outputs": [
    {
     "data": {
      "text/plain": [
       "13.752054794520548"
      ]
     },
     "execution_count": 5,
     "metadata": {},
     "output_type": "execute_result"
    }
   ],
   "source": [
    "# 만약 일일 평균기온들의 평균, 즉 1년 전체의 평균기온을 구하려고 한다면..\n",
    "# 평균기온들을 모두 더해서 365로 나누어 주면 될 것이다.\n",
    "\n",
    "df['평균기온'].sum() / 365"
   ]
  },
  {
   "cell_type": "code",
   "execution_count": 7,
   "metadata": {},
   "outputs": [
    {
     "data": {
      "text/plain": [
       "0         NaN\n",
       "1         NaN\n",
       "2         NaN\n",
       "3         0.0\n",
       "4         0.0\n",
       "        ...  \n",
       "360    1186.3\n",
       "361       NaN\n",
       "362    1186.5\n",
       "363    1186.5\n",
       "364       NaN\n",
       "Name: 일강수량, Length: 365, dtype: float64"
      ]
     },
     "execution_count": 7,
     "metadata": {},
     "output_type": "execute_result"
    }
   ],
   "source": [
    "#일강수량의 누적치를 구하려면?\n",
    "# cumulative summation -->  cumsum\n",
    "# 시계열 자료를 다룰 때 특히 유용하다 : 주가 변동 그래프를 상상해 보라\n",
    "\n",
    "df['일강수량'].cumsum()"
   ]
  },
  {
   "cell_type": "code",
   "execution_count": 8,
   "metadata": {},
   "outputs": [
    {
     "name": "stderr",
     "output_type": "stream",
     "text": [
      "/var/folders/3x/x3jgd5qx5_b2g84w2_jrj0_m0000gn/T/ipykernel_48799/3544227162.py:4: FutureWarning: Dropping of nuisance columns in DataFrame reductions (with 'numeric_only=None') is deprecated; in a future version this will raise TypeError.  Select only valid columns before calling the reduction.\n",
      "  df.sum(axis = 1)\n"
     ]
    },
    {
     "data": {
      "text/plain": [
       "0      3073.6\n",
       "1      3270.4\n",
       "2      2890.9\n",
       "3      3310.7\n",
       "4      3475.0\n",
       "        ...  \n",
       "360    2861.4\n",
       "361    3424.0\n",
       "362    2795.4\n",
       "363    3364.9\n",
       "364    3372.2\n",
       "Length: 365, dtype: float64"
      ]
     },
     "execution_count": 8,
     "metadata": {},
     "output_type": "execute_result"
    }
   ],
   "source": [
    "# 현재의 데이터에서 의미는 없지만, 행(row) 방향이 아닌, 열(column) 방향으로 횡적으로 계산할 수도 있다.\n",
    "#이때는 axis = 1\n",
    "\n",
    "df.sum(axis = 1)"
   ]
  },
  {
   "cell_type": "code",
   "execution_count": 9,
   "metadata": {},
   "outputs": [
    {
     "data": {
      "text/plain": [
       "13.752054794520548"
      ]
     },
     "execution_count": 9,
     "metadata": {},
     "output_type": "execute_result"
    }
   ],
   "source": [
    "# 그런데 그 보다 더 간단하게 평균을 구하는 함수도 있다.\n",
    "\n",
    "df['평균기온'].mean()"
   ]
  },
  {
   "cell_type": "code",
   "execution_count": 10,
   "metadata": {},
   "outputs": [],
   "source": [
    "#소수점 14자리 이하가 살짝 다르다"
   ]
  },
  {
   "cell_type": "code",
   "execution_count": 11,
   "metadata": {},
   "outputs": [
    {
     "data": {
      "text/plain": [
       "14.1"
      ]
     },
     "execution_count": 11,
     "metadata": {},
     "output_type": "execute_result"
    }
   ],
   "source": [
    "# 평균기온의 '중위값은'? 중위값과 평균이 다르다는 것은 무엇을 의미할까?\n",
    "\n",
    "df['평균기온'].median()"
   ]
  },
  {
   "cell_type": "code",
   "execution_count": 12,
   "metadata": {},
   "outputs": [
    {
     "data": {
      "text/plain": [
       "13.752054794520548"
      ]
     },
     "execution_count": 12,
     "metadata": {},
     "output_type": "execute_result"
    }
   ],
   "source": [
    "df['평균기온'].mean()"
   ]
  },
  {
   "cell_type": "code",
   "execution_count": 13,
   "metadata": {},
   "outputs": [
    {
     "name": "stdout",
     "output_type": "stream",
     "text": [
      "10.468187724603686\n",
      "10.875918021227259\n"
     ]
    }
   ],
   "source": [
    "# 최고기온의 표준편차가 클까? 최저기온의 표준 편차가 클까? \n",
    "# 즉 어느 것이 더 변동성이 클까?\n",
    "\n",
    "print(df['최고기온'].std())\n",
    "print(df['최저기온'].std())"
   ]
  },
  {
   "cell_type": "code",
   "execution_count": 14,
   "metadata": {},
   "outputs": [
    {
     "data": {
      "text/html": [
       "<div>\n",
       "<style scoped>\n",
       "    .dataframe tbody tr th:only-of-type {\n",
       "        vertical-align: middle;\n",
       "    }\n",
       "\n",
       "    .dataframe tbody tr th {\n",
       "        vertical-align: top;\n",
       "    }\n",
       "\n",
       "    .dataframe thead th {\n",
       "        text-align: right;\n",
       "    }\n",
       "</style>\n",
       "<table border=\"1\" class=\"dataframe\">\n",
       "  <thead>\n",
       "    <tr style=\"text-align: right;\">\n",
       "      <th></th>\n",
       "      <th>지점</th>\n",
       "      <th>평균기온</th>\n",
       "      <th>최저기온</th>\n",
       "      <th>최저기온시각</th>\n",
       "      <th>최고기온</th>\n",
       "      <th>최고기온시각</th>\n",
       "      <th>1시간최다강수량</th>\n",
       "      <th>일강수량</th>\n",
       "      <th>평균풍속</th>\n",
       "      <th>평균기압</th>\n",
       "      <th>합계일조시간</th>\n",
       "      <th>평균지면온도</th>\n",
       "    </tr>\n",
       "    <tr>\n",
       "      <th>일시</th>\n",
       "      <th></th>\n",
       "      <th></th>\n",
       "      <th></th>\n",
       "      <th></th>\n",
       "      <th></th>\n",
       "      <th></th>\n",
       "      <th></th>\n",
       "      <th></th>\n",
       "      <th></th>\n",
       "      <th></th>\n",
       "      <th></th>\n",
       "      <th></th>\n",
       "    </tr>\n",
       "  </thead>\n",
       "  <tbody>\n",
       "    <tr>\n",
       "      <th>2021-01-01</th>\n",
       "      <td>108</td>\n",
       "      <td>-4.2</td>\n",
       "      <td>-9.8</td>\n",
       "      <td>511</td>\n",
       "      <td>1.6</td>\n",
       "      <td>1447</td>\n",
       "      <td>NaN</td>\n",
       "      <td>NaN</td>\n",
       "      <td>2.0</td>\n",
       "      <td>1014.9</td>\n",
       "      <td>6.5</td>\n",
       "      <td>-3.4</td>\n",
       "    </tr>\n",
       "    <tr>\n",
       "      <th>2021-01-02</th>\n",
       "      <td>108</td>\n",
       "      <td>-5.0</td>\n",
       "      <td>-8.4</td>\n",
       "      <td>805</td>\n",
       "      <td>-1.4</td>\n",
       "      <td>1346</td>\n",
       "      <td>NaN</td>\n",
       "      <td>NaN</td>\n",
       "      <td>2.6</td>\n",
       "      <td>1018.5</td>\n",
       "      <td>9.0</td>\n",
       "      <td>-3.9</td>\n",
       "    </tr>\n",
       "    <tr>\n",
       "      <th>2021-01-03</th>\n",
       "      <td>108</td>\n",
       "      <td>-5.6</td>\n",
       "      <td>-9.1</td>\n",
       "      <td>536</td>\n",
       "      <td>-2.0</td>\n",
       "      <td>1238</td>\n",
       "      <td>NaN</td>\n",
       "      <td>NaN</td>\n",
       "      <td>2.0</td>\n",
       "      <td>1023.0</td>\n",
       "      <td>5.5</td>\n",
       "      <td>-4.9</td>\n",
       "    </tr>\n",
       "    <tr>\n",
       "      <th>2021-01-04</th>\n",
       "      <td>108</td>\n",
       "      <td>-3.5</td>\n",
       "      <td>-8.4</td>\n",
       "      <td>656</td>\n",
       "      <td>0.3</td>\n",
       "      <td>1535</td>\n",
       "      <td>NaN</td>\n",
       "      <td>0.0</td>\n",
       "      <td>1.7</td>\n",
       "      <td>1020.3</td>\n",
       "      <td>4.6</td>\n",
       "      <td>-3.3</td>\n",
       "    </tr>\n",
       "    <tr>\n",
       "      <th>2021-01-05</th>\n",
       "      <td>108</td>\n",
       "      <td>-5.5</td>\n",
       "      <td>-9.9</td>\n",
       "      <td>2356</td>\n",
       "      <td>-2.1</td>\n",
       "      <td>1</td>\n",
       "      <td>NaN</td>\n",
       "      <td>0.0</td>\n",
       "      <td>2.9</td>\n",
       "      <td>1019.2</td>\n",
       "      <td>8.6</td>\n",
       "      <td>-3.2</td>\n",
       "    </tr>\n",
       "  </tbody>\n",
       "</table>\n",
       "</div>"
      ],
      "text/plain": [
       "             지점  평균기온  최저기온  최저기온시각  최고기온  최고기온시각  1시간최다강수량  일강수량  평균풍속  \\\n",
       "일시                                                                        \n",
       "2021-01-01  108  -4.2  -9.8     511   1.6    1447       NaN   NaN   2.0   \n",
       "2021-01-02  108  -5.0  -8.4     805  -1.4    1346       NaN   NaN   2.6   \n",
       "2021-01-03  108  -5.6  -9.1     536  -2.0    1238       NaN   NaN   2.0   \n",
       "2021-01-04  108  -3.5  -8.4     656   0.3    1535       NaN   0.0   1.7   \n",
       "2021-01-05  108  -5.5  -9.9    2356  -2.1       1       NaN   0.0   2.9   \n",
       "\n",
       "              평균기압  합계일조시간  평균지면온도  \n",
       "일시                                  \n",
       "2021-01-01  1014.9     6.5    -3.4  \n",
       "2021-01-02  1018.5     9.0    -3.9  \n",
       "2021-01-03  1023.0     5.5    -4.9  \n",
       "2021-01-04  1020.3     4.6    -3.3  \n",
       "2021-01-05  1019.2     8.6    -3.2  "
      ]
     },
     "execution_count": 14,
     "metadata": {},
     "output_type": "execute_result"
    }
   ],
   "source": [
    "# 날짜를 인덱스로 바꾸어 보자\n",
    "\n",
    "df = df.set_index('일시')\n",
    "df.head()"
   ]
  },
  {
   "cell_type": "code",
   "execution_count": 15,
   "metadata": {},
   "outputs": [
    {
     "data": {
      "text/plain": [
       "77.4"
      ]
     },
     "execution_count": 15,
     "metadata": {},
     "output_type": "execute_result"
    }
   ],
   "source": [
    "#일 강수량은 어떤 값들일까?\n",
    "# max() 함수\n",
    "\n",
    "df['일강수량'].max()"
   ]
  },
  {
   "cell_type": "code",
   "execution_count": 16,
   "metadata": {},
   "outputs": [
    {
     "data": {
      "text/plain": [
       "0.0"
      ]
     },
     "execution_count": 16,
     "metadata": {},
     "output_type": "execute_result"
    }
   ],
   "source": [
    "# min() 함수\n",
    "\n",
    "df['일강수량'].min()"
   ]
  },
  {
   "cell_type": "code",
   "execution_count": 17,
   "metadata": {},
   "outputs": [
    {
     "data": {
      "text/plain": [
       "'2021-01-08'"
      ]
     },
     "execution_count": 17,
     "metadata": {},
     "output_type": "execute_result"
    }
   ],
   "source": [
    "# 만약 일일 평균기온이 가장 높은 날과 낮은 날을 구해야 한다면 어떻게 할까\n",
    "# 지난 회차에서처럼 .sort_value() 함수를 통해 구하는 방법도 있지만...\n",
    "# 최소값의 인덱스를 반환하는 idxmin, 최대값의 인덱스를 반환하는 idxmax를 이용할 수도 있다\n",
    "\n",
    "\n",
    "#가장 추웠던 날은?\n",
    "\n",
    "df['평균기온'].idxmin()"
   ]
  },
  {
   "cell_type": "code",
   "execution_count": 18,
   "metadata": {},
   "outputs": [
    {
     "data": {
      "text/plain": [
       "'2021-07-24'"
      ]
     },
     "execution_count": 18,
     "metadata": {},
     "output_type": "execute_result"
    }
   ],
   "source": [
    "#하루 중 평균기온이 가장 높았던 날은?\n",
    "\n",
    "df['평균기온'].idxmax()"
   ]
  },
  {
   "cell_type": "code",
   "execution_count": 19,
   "metadata": {},
   "outputs": [
    {
     "data": {
      "text/plain": [
       "10.500359878566398"
      ]
     },
     "execution_count": 19,
     "metadata": {},
     "output_type": "execute_result"
    }
   ],
   "source": [
    "#평균기온의 표준 편차는?\n",
    "\n",
    "df['평균기온'].std()"
   ]
  },
  {
   "cell_type": "code",
   "execution_count": 20,
   "metadata": {},
   "outputs": [
    {
     "data": {
      "text/plain": [
       "160"
      ]
     },
     "execution_count": 20,
     "metadata": {},
     "output_type": "execute_result"
    }
   ],
   "source": [
    "df['일강수량'].count()"
   ]
  },
  {
   "cell_type": "code",
   "execution_count": 21,
   "metadata": {},
   "outputs": [
    {
     "data": {
      "text/plain": [
       "365"
      ]
     },
     "execution_count": 21,
     "metadata": {},
     "output_type": "execute_result"
    }
   ],
   "source": [
    "len(df['일강수량'])"
   ]
  },
  {
   "cell_type": "code",
   "execution_count": 22,
   "metadata": {},
   "outputs": [
    {
     "data": {
      "text/plain": [
       "0.0     43\n",
       "0.1      7\n",
       "0.2      6\n",
       "0.3      6\n",
       "1.7      5\n",
       "        ..\n",
       "1.9      1\n",
       "6.3      1\n",
       "7.5      1\n",
       "38.2     1\n",
       "2.8      1\n",
       "Name: 일강수량, Length: 78, dtype: int64"
      ]
     },
     "execution_count": 22,
     "metadata": {},
     "output_type": "execute_result"
    }
   ],
   "source": [
    "df['일강수량'].value_counts()"
   ]
  },
  {
   "cell_type": "code",
   "execution_count": null,
   "metadata": {},
   "outputs": [],
   "source": []
  }
 ],
 "metadata": {
  "kernelspec": {
   "display_name": "Python 3 (ipykernel)",
   "language": "python",
   "name": "python3"
  },
  "language_info": {
   "codemirror_mode": {
    "name": "ipython",
    "version": 3
   },
   "file_extension": ".py",
   "mimetype": "text/x-python",
   "name": "python",
   "nbconvert_exporter": "python",
   "pygments_lexer": "ipython3",
   "version": "3.11.4"
  }
 },
 "nbformat": 4,
 "nbformat_minor": 4
}
