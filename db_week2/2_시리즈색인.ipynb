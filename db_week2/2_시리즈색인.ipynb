{
 "cells": [
  {
   "cell_type": "code",
   "execution_count": 1,
   "metadata": {},
   "outputs": [
    {
     "data": {
      "text/plain": [
       "2101    강지원\n",
       "2102    김성윤\n",
       "2104    황혜선\n",
       "2103     이욱\n",
       "dtype: object"
      ]
     },
     "execution_count": 1,
     "metadata": {},
     "output_type": "execute_result"
    }
   ],
   "source": [
    "import pandas as pd\n",
    "\n",
    "students = ['강지원', '김성윤', '황혜선', '이욱']\n",
    "id = [2101, 2102,2104,2103]\n",
    "\n",
    "series=pd.Series(data=students, index=id)\n",
    "series"
   ]
  },
  {
   "cell_type": "code",
   "execution_count": 2,
   "metadata": {},
   "outputs": [
    {
     "data": {
      "text/plain": [
       "pandas.core.series.Series"
      ]
     },
     "execution_count": 2,
     "metadata": {},
     "output_type": "execute_result"
    }
   ],
   "source": [
    "type(series)"
   ]
  },
  {
   "cell_type": "markdown",
   "metadata": {},
   "source": [
    "## 시리즈 인덱싱"
   ]
  },
  {
   "cell_type": "code",
   "execution_count": 3,
   "metadata": {},
   "outputs": [
    {
     "data": {
      "text/plain": [
       "'이욱'"
      ]
     },
     "execution_count": 3,
     "metadata": {},
     "output_type": "execute_result"
    }
   ],
   "source": [
    "series.iloc[-1]"
   ]
  },
  {
   "cell_type": "code",
   "execution_count": 4,
   "metadata": {},
   "outputs": [
    {
     "data": {
      "text/plain": [
       "'황혜선'"
      ]
     },
     "execution_count": 4,
     "metadata": {},
     "output_type": "execute_result"
    }
   ],
   "source": [
    "series.loc[2104]"
   ]
  },
  {
   "cell_type": "code",
   "execution_count": 5,
   "metadata": {},
   "outputs": [
    {
     "ename": "IndexError",
     "evalue": "single positional indexer is out-of-bounds",
     "output_type": "error",
     "traceback": [
      "\u001b[0;31m---------------------------------------------------------------------------\u001b[0m",
      "\u001b[0;31mIndexError\u001b[0m                                Traceback (most recent call last)",
      "Cell \u001b[0;32mIn[5], line 3\u001b[0m\n\u001b[1;32m      1\u001b[0m \u001b[38;5;66;03m# 2100번째 행은 존재하지 않으므로...\u001b[39;00m\n\u001b[0;32m----> 3\u001b[0m series\u001b[38;5;241m.\u001b[39miloc[\u001b[38;5;241m2101\u001b[39m]\n",
      "File \u001b[0;32m~/anaconda3/lib/python3.11/site-packages/pandas/core/indexing.py:1073\u001b[0m, in \u001b[0;36m_LocationIndexer.__getitem__\u001b[0;34m(self, key)\u001b[0m\n\u001b[1;32m   1070\u001b[0m axis \u001b[38;5;241m=\u001b[39m \u001b[38;5;28mself\u001b[39m\u001b[38;5;241m.\u001b[39maxis \u001b[38;5;129;01mor\u001b[39;00m \u001b[38;5;241m0\u001b[39m\n\u001b[1;32m   1072\u001b[0m maybe_callable \u001b[38;5;241m=\u001b[39m com\u001b[38;5;241m.\u001b[39mapply_if_callable(key, \u001b[38;5;28mself\u001b[39m\u001b[38;5;241m.\u001b[39mobj)\n\u001b[0;32m-> 1073\u001b[0m \u001b[38;5;28;01mreturn\u001b[39;00m \u001b[38;5;28mself\u001b[39m\u001b[38;5;241m.\u001b[39m_getitem_axis(maybe_callable, axis\u001b[38;5;241m=\u001b[39maxis)\n",
      "File \u001b[0;32m~/anaconda3/lib/python3.11/site-packages/pandas/core/indexing.py:1625\u001b[0m, in \u001b[0;36m_iLocIndexer._getitem_axis\u001b[0;34m(self, key, axis)\u001b[0m\n\u001b[1;32m   1622\u001b[0m     \u001b[38;5;28;01mraise\u001b[39;00m \u001b[38;5;167;01mTypeError\u001b[39;00m(\u001b[38;5;124m\"\u001b[39m\u001b[38;5;124mCannot index by location index with a non-integer key\u001b[39m\u001b[38;5;124m\"\u001b[39m)\n\u001b[1;32m   1624\u001b[0m \u001b[38;5;66;03m# validate the location\u001b[39;00m\n\u001b[0;32m-> 1625\u001b[0m \u001b[38;5;28mself\u001b[39m\u001b[38;5;241m.\u001b[39m_validate_integer(key, axis)\n\u001b[1;32m   1627\u001b[0m \u001b[38;5;28;01mreturn\u001b[39;00m \u001b[38;5;28mself\u001b[39m\u001b[38;5;241m.\u001b[39mobj\u001b[38;5;241m.\u001b[39m_ixs(key, axis\u001b[38;5;241m=\u001b[39maxis)\n",
      "File \u001b[0;32m~/anaconda3/lib/python3.11/site-packages/pandas/core/indexing.py:1557\u001b[0m, in \u001b[0;36m_iLocIndexer._validate_integer\u001b[0;34m(self, key, axis)\u001b[0m\n\u001b[1;32m   1555\u001b[0m len_axis \u001b[38;5;241m=\u001b[39m \u001b[38;5;28mlen\u001b[39m(\u001b[38;5;28mself\u001b[39m\u001b[38;5;241m.\u001b[39mobj\u001b[38;5;241m.\u001b[39m_get_axis(axis))\n\u001b[1;32m   1556\u001b[0m \u001b[38;5;28;01mif\u001b[39;00m key \u001b[38;5;241m>\u001b[39m\u001b[38;5;241m=\u001b[39m len_axis \u001b[38;5;129;01mor\u001b[39;00m key \u001b[38;5;241m<\u001b[39m \u001b[38;5;241m-\u001b[39mlen_axis:\n\u001b[0;32m-> 1557\u001b[0m     \u001b[38;5;28;01mraise\u001b[39;00m \u001b[38;5;167;01mIndexError\u001b[39;00m(\u001b[38;5;124m\"\u001b[39m\u001b[38;5;124msingle positional indexer is out-of-bounds\u001b[39m\u001b[38;5;124m\"\u001b[39m)\n",
      "\u001b[0;31mIndexError\u001b[0m: single positional indexer is out-of-bounds"
     ]
    }
   ],
   "source": [
    "# 2100번째 행은 존재하지 않으므로...\n",
    "\n",
    "series.iloc[2101]"
   ]
  },
  {
   "cell_type": "code",
   "execution_count": 6,
   "metadata": {},
   "outputs": [
    {
     "data": {
      "text/plain": [
       "'강지원'"
      ]
     },
     "execution_count": 6,
     "metadata": {},
     "output_type": "execute_result"
    }
   ],
   "source": [
    "series[2101]"
   ]
  },
  {
   "cell_type": "code",
   "execution_count": 7,
   "metadata": {},
   "outputs": [
    {
     "data": {
      "text/plain": [
       "0    강지원\n",
       "1    김성윤\n",
       "2    황혜선\n",
       "3     이욱\n",
       "dtype: object"
      ]
     },
     "execution_count": 7,
     "metadata": {},
     "output_type": "execute_result"
    }
   ],
   "source": [
    "students = ['강지원', '김성윤', '황혜선', '이욱']\n",
    "\n",
    "series=pd.Series(data=students)\n",
    "series"
   ]
  },
  {
   "cell_type": "code",
   "execution_count": 8,
   "metadata": {},
   "outputs": [
    {
     "data": {
      "text/plain": [
       "'강지원'"
      ]
     },
     "execution_count": 8,
     "metadata": {},
     "output_type": "execute_result"
    }
   ],
   "source": [
    "series.iloc[0]"
   ]
  },
  {
   "cell_type": "code",
   "execution_count": 9,
   "metadata": {},
   "outputs": [
    {
     "data": {
      "text/plain": [
       "0    강지원\n",
       "2    황혜선\n",
       "dtype: object"
      ]
     },
     "execution_count": 9,
     "metadata": {},
     "output_type": "execute_result"
    }
   ],
   "source": [
    "# 두개 이상일 경우, []을 한번 더\n",
    "\n",
    "series.iloc[[0,2]]"
   ]
  },
  {
   "cell_type": "markdown",
   "metadata": {},
   "source": [
    "## 시리즈 슬라이싱"
   ]
  },
  {
   "cell_type": "code",
   "execution_count": 10,
   "metadata": {},
   "outputs": [
    {
     "data": {
      "text/plain": [
       "0    강지원\n",
       "1    김성윤\n",
       "dtype: object"
      ]
     },
     "execution_count": 10,
     "metadata": {},
     "output_type": "execute_result"
    }
   ],
   "source": [
    "#iloc과 loc 모두 슬라이싱을 지원한다. 그러나 주의할 점\n",
    "#iloc으로 인덱싱은 끝 점을 포함하지 않는다\n",
    "series.iloc[:2] "
   ]
  },
  {
   "cell_type": "code",
   "execution_count": 11,
   "metadata": {},
   "outputs": [
    {
     "data": {
      "text/plain": [
       "0    강지원\n",
       "1    김성윤\n",
       "dtype: object"
      ]
     },
     "execution_count": 11,
     "metadata": {},
     "output_type": "execute_result"
    }
   ],
   "source": [
    "# iloc은 슬라이싱의 경우\n",
    "\n",
    "series.iloc[:2]"
   ]
  },
  {
   "cell_type": "code",
   "execution_count": 12,
   "metadata": {},
   "outputs": [
    {
     "data": {
      "text/plain": [
       "0    강지원\n",
       "1    김성윤\n",
       "2    황혜선\n",
       "3     이욱\n",
       "dtype: object"
      ]
     },
     "execution_count": 12,
     "metadata": {},
     "output_type": "execute_result"
    }
   ],
   "source": [
    "#loc으로 인덱싱은 끝점을 포함한다\n",
    "series.loc[:3]"
   ]
  },
  {
   "cell_type": "code",
   "execution_count": 13,
   "metadata": {},
   "outputs": [
    {
     "data": {
      "text/plain": [
       "0    강지원\n",
       "1    김성윤\n",
       "dtype: object"
      ]
     },
     "execution_count": 13,
     "metadata": {},
     "output_type": "execute_result"
    }
   ],
   "source": [
    "series[:2]"
   ]
  },
  {
   "cell_type": "code",
   "execution_count": 14,
   "metadata": {},
   "outputs": [],
   "source": [
    "#우리의 분석 대상의 파일을 가져와 보자\n",
    "\n",
    "df = pd.read_csv('./seoul_2021.csv', encoding='utf-8')"
   ]
  },
  {
   "cell_type": "markdown",
   "metadata": {},
   "source": [
    "#### 시리즈나 데이터프레임의 처음과 끝을 보는 방법\n",
    "* 처음 : df.head()  ()안의 기본값은 5이다\n",
    "* 끝 : df.tail()"
   ]
  },
  {
   "cell_type": "code",
   "execution_count": 15,
   "metadata": {},
   "outputs": [
    {
     "data": {
      "text/html": [
       "<div>\n",
       "<style scoped>\n",
       "    .dataframe tbody tr th:only-of-type {\n",
       "        vertical-align: middle;\n",
       "    }\n",
       "\n",
       "    .dataframe tbody tr th {\n",
       "        vertical-align: top;\n",
       "    }\n",
       "\n",
       "    .dataframe thead th {\n",
       "        text-align: right;\n",
       "    }\n",
       "</style>\n",
       "<table border=\"1\" class=\"dataframe\">\n",
       "  <thead>\n",
       "    <tr style=\"text-align: right;\">\n",
       "      <th></th>\n",
       "      <th>지점</th>\n",
       "      <th>일시</th>\n",
       "      <th>평균기온(°C)</th>\n",
       "      <th>최저기온(°C)</th>\n",
       "      <th>최저기온 시각(hhmi)</th>\n",
       "      <th>최고기온(°C)</th>\n",
       "      <th>최고기온 시각(hhmi)</th>\n",
       "      <th>강수 계속시간(hr)</th>\n",
       "      <th>10분 최다 강수량(mm)</th>\n",
       "      <th>10분 최다강수량 시각(hhmi)</th>\n",
       "      <th>...</th>\n",
       "      <th>평균 30cm 지중온도(°C)</th>\n",
       "      <th>0.5m 지중온도(°C)</th>\n",
       "      <th>1.0m 지중온도(°C)</th>\n",
       "      <th>1.5m 지중온도(°C)</th>\n",
       "      <th>3.0m 지중온도(°C)</th>\n",
       "      <th>5.0m 지중온도(°C)</th>\n",
       "      <th>합계 대형증발량(mm)</th>\n",
       "      <th>합계 소형증발량(mm)</th>\n",
       "      <th>9-9강수(mm)</th>\n",
       "      <th>안개 계속시간(hr)</th>\n",
       "    </tr>\n",
       "  </thead>\n",
       "  <tbody>\n",
       "    <tr>\n",
       "      <th>0</th>\n",
       "      <td>108</td>\n",
       "      <td>2021-01-01</td>\n",
       "      <td>-4.2</td>\n",
       "      <td>-9.8</td>\n",
       "      <td>511</td>\n",
       "      <td>1.6</td>\n",
       "      <td>1447</td>\n",
       "      <td>NaN</td>\n",
       "      <td>NaN</td>\n",
       "      <td>NaN</td>\n",
       "      <td>...</td>\n",
       "      <td>1.4</td>\n",
       "      <td>2.9</td>\n",
       "      <td>6.8</td>\n",
       "      <td>9.7</td>\n",
       "      <td>15.9</td>\n",
       "      <td>17.5</td>\n",
       "      <td>1.1</td>\n",
       "      <td>1.6</td>\n",
       "      <td>NaN</td>\n",
       "      <td>NaN</td>\n",
       "    </tr>\n",
       "    <tr>\n",
       "      <th>1</th>\n",
       "      <td>108</td>\n",
       "      <td>2021-01-02</td>\n",
       "      <td>-5.0</td>\n",
       "      <td>-8.4</td>\n",
       "      <td>805</td>\n",
       "      <td>-1.4</td>\n",
       "      <td>1346</td>\n",
       "      <td>NaN</td>\n",
       "      <td>NaN</td>\n",
       "      <td>NaN</td>\n",
       "      <td>...</td>\n",
       "      <td>1.2</td>\n",
       "      <td>2.6</td>\n",
       "      <td>6.6</td>\n",
       "      <td>9.6</td>\n",
       "      <td>15.8</td>\n",
       "      <td>17.5</td>\n",
       "      <td>1.4</td>\n",
       "      <td>2.0</td>\n",
       "      <td>NaN</td>\n",
       "      <td>NaN</td>\n",
       "    </tr>\n",
       "    <tr>\n",
       "      <th>2</th>\n",
       "      <td>108</td>\n",
       "      <td>2021-01-03</td>\n",
       "      <td>-5.6</td>\n",
       "      <td>-9.1</td>\n",
       "      <td>536</td>\n",
       "      <td>-2.0</td>\n",
       "      <td>1238</td>\n",
       "      <td>NaN</td>\n",
       "      <td>NaN</td>\n",
       "      <td>NaN</td>\n",
       "      <td>...</td>\n",
       "      <td>1.0</td>\n",
       "      <td>2.5</td>\n",
       "      <td>6.5</td>\n",
       "      <td>9.5</td>\n",
       "      <td>15.7</td>\n",
       "      <td>17.4</td>\n",
       "      <td>1.0</td>\n",
       "      <td>1.5</td>\n",
       "      <td>NaN</td>\n",
       "      <td>NaN</td>\n",
       "    </tr>\n",
       "    <tr>\n",
       "      <th>3</th>\n",
       "      <td>108</td>\n",
       "      <td>2021-01-04</td>\n",
       "      <td>-3.5</td>\n",
       "      <td>-8.4</td>\n",
       "      <td>656</td>\n",
       "      <td>0.3</td>\n",
       "      <td>1535</td>\n",
       "      <td>2.33</td>\n",
       "      <td>NaN</td>\n",
       "      <td>NaN</td>\n",
       "      <td>...</td>\n",
       "      <td>0.8</td>\n",
       "      <td>2.3</td>\n",
       "      <td>6.3</td>\n",
       "      <td>9.4</td>\n",
       "      <td>15.6</td>\n",
       "      <td>17.4</td>\n",
       "      <td>0.9</td>\n",
       "      <td>1.3</td>\n",
       "      <td>0.0</td>\n",
       "      <td>NaN</td>\n",
       "    </tr>\n",
       "    <tr>\n",
       "      <th>4</th>\n",
       "      <td>108</td>\n",
       "      <td>2021-01-05</td>\n",
       "      <td>-5.5</td>\n",
       "      <td>-9.9</td>\n",
       "      <td>2356</td>\n",
       "      <td>-2.1</td>\n",
       "      <td>1</td>\n",
       "      <td>5.42</td>\n",
       "      <td>NaN</td>\n",
       "      <td>NaN</td>\n",
       "      <td>...</td>\n",
       "      <td>0.8</td>\n",
       "      <td>2.2</td>\n",
       "      <td>6.2</td>\n",
       "      <td>9.3</td>\n",
       "      <td>15.5</td>\n",
       "      <td>17.3</td>\n",
       "      <td>1.2</td>\n",
       "      <td>1.7</td>\n",
       "      <td>NaN</td>\n",
       "      <td>NaN</td>\n",
       "    </tr>\n",
       "  </tbody>\n",
       "</table>\n",
       "<p>5 rows × 59 columns</p>\n",
       "</div>"
      ],
      "text/plain": [
       "    지점          일시  평균기온(°C)  최저기온(°C)  최저기온 시각(hhmi)  최고기온(°C)  \\\n",
       "0  108  2021-01-01      -4.2      -9.8            511       1.6   \n",
       "1  108  2021-01-02      -5.0      -8.4            805      -1.4   \n",
       "2  108  2021-01-03      -5.6      -9.1            536      -2.0   \n",
       "3  108  2021-01-04      -3.5      -8.4            656       0.3   \n",
       "4  108  2021-01-05      -5.5      -9.9           2356      -2.1   \n",
       "\n",
       "   최고기온 시각(hhmi)  강수 계속시간(hr)  10분 최다 강수량(mm)  10분 최다강수량 시각(hhmi)  ...  \\\n",
       "0           1447          NaN             NaN                 NaN  ...   \n",
       "1           1346          NaN             NaN                 NaN  ...   \n",
       "2           1238          NaN             NaN                 NaN  ...   \n",
       "3           1535         2.33             NaN                 NaN  ...   \n",
       "4              1         5.42             NaN                 NaN  ...   \n",
       "\n",
       "   평균 30cm 지중온도(°C)  0.5m 지중온도(°C)  1.0m 지중온도(°C)  1.5m 지중온도(°C)  \\\n",
       "0               1.4            2.9            6.8            9.7   \n",
       "1               1.2            2.6            6.6            9.6   \n",
       "2               1.0            2.5            6.5            9.5   \n",
       "3               0.8            2.3            6.3            9.4   \n",
       "4               0.8            2.2            6.2            9.3   \n",
       "\n",
       "   3.0m 지중온도(°C)  5.0m 지중온도(°C)  합계 대형증발량(mm)  합계 소형증발량(mm)  9-9강수(mm)  \\\n",
       "0           15.9           17.5           1.1           1.6        NaN   \n",
       "1           15.8           17.5           1.4           2.0        NaN   \n",
       "2           15.7           17.4           1.0           1.5        NaN   \n",
       "3           15.6           17.4           0.9           1.3        0.0   \n",
       "4           15.5           17.3           1.2           1.7        NaN   \n",
       "\n",
       "   안개 계속시간(hr)  \n",
       "0          NaN  \n",
       "1          NaN  \n",
       "2          NaN  \n",
       "3          NaN  \n",
       "4          NaN  \n",
       "\n",
       "[5 rows x 59 columns]"
      ]
     },
     "execution_count": 15,
     "metadata": {},
     "output_type": "execute_result"
    }
   ],
   "source": [
    "df.head()"
   ]
  },
  {
   "cell_type": "code",
   "execution_count": 16,
   "metadata": {},
   "outputs": [
    {
     "data": {
      "text/plain": [
       "pandas.core.series.Series"
      ]
     },
     "execution_count": 16,
     "metadata": {},
     "output_type": "execute_result"
    }
   ],
   "source": [
    "# 이 중에서 '일시'의 항목만을 가져와 'date'라고 변수에 저장한다.\n",
    "\n",
    "date = df['일시']\n",
    "type(date)"
   ]
  },
  {
   "cell_type": "code",
   "execution_count": 17,
   "metadata": {},
   "outputs": [
    {
     "data": {
      "text/plain": [
       "0      2021-01-01\n",
       "1      2021-01-02\n",
       "2      2021-01-03\n",
       "3      2021-01-04\n",
       "4      2021-01-05\n",
       "          ...    \n",
       "360    2021-12-27\n",
       "361    2021-12-28\n",
       "362    2021-12-29\n",
       "363    2021-12-30\n",
       "364    2021-12-31\n",
       "Name: 일시, Length: 365, dtype: object"
      ]
     },
     "execution_count": 17,
     "metadata": {},
     "output_type": "execute_result"
    }
   ],
   "source": [
    "date"
   ]
  },
  {
   "cell_type": "code",
   "execution_count": 18,
   "metadata": {},
   "outputs": [
    {
     "data": {
      "text/plain": [
       "0    2021-01-01\n",
       "1    2021-01-02\n",
       "2    2021-01-03\n",
       "3    2021-01-04\n",
       "4    2021-01-05\n",
       "Name: 일시, dtype: object"
      ]
     },
     "execution_count": 18,
     "metadata": {},
     "output_type": "execute_result"
    }
   ],
   "source": [
    "date.head()"
   ]
  },
  {
   "cell_type": "code",
   "execution_count": 19,
   "metadata": {},
   "outputs": [
    {
     "data": {
      "text/plain": [
       "360    2021-12-27\n",
       "361    2021-12-28\n",
       "362    2021-12-29\n",
       "363    2021-12-30\n",
       "364    2021-12-31\n",
       "Name: 일시, dtype: object"
      ]
     },
     "execution_count": 19,
     "metadata": {},
     "output_type": "execute_result"
    }
   ],
   "source": [
    "date.tail()"
   ]
  },
  {
   "cell_type": "code",
   "execution_count": 20,
   "metadata": {},
   "outputs": [
    {
     "data": {
      "text/plain": [
       "365"
      ]
     },
     "execution_count": 20,
     "metadata": {},
     "output_type": "execute_result"
    }
   ],
   "source": [
    "#date의 길이는 윤달이 없는 이상 365일\n",
    "\n",
    "len(date)"
   ]
  },
  {
   "cell_type": "markdown",
   "metadata": {},
   "source": [
    "## 브로드캐스팅"
   ]
  },
  {
   "cell_type": "code",
   "execution_count": 21,
   "metadata": {},
   "outputs": [
    {
     "name": "stdout",
     "output_type": "stream",
     "text": [
      "[1000, 2000, 3000, 4000, 5000]\n"
     ]
    }
   ],
   "source": [
    "#판다스 씨리즈와 데이터프레임은 '브로드캐스팅' 기능을 지원한다.\n",
    "\n",
    "# 예를 들어 \n",
    "\n",
    "a = [10,20,30,40,50] #라는 리스트가 있고, 여기 각각의 원소에 100을 곱해야 한다고 할 때, 원래는...\n",
    "\n",
    "result = []\n",
    "for i in a:\n",
    "    result.append(i*100)\n",
    "print(result)"
   ]
  },
  {
   "cell_type": "code",
   "execution_count": 22,
   "metadata": {},
   "outputs": [
    {
     "data": {
      "text/plain": [
       "0    10\n",
       "1    20\n",
       "2    30\n",
       "3    40\n",
       "4    50\n",
       "dtype: int64"
      ]
     },
     "execution_count": 22,
     "metadata": {},
     "output_type": "execute_result"
    }
   ],
   "source": [
    "#그러나 판다스 씨리즈 구조에서는....\n",
    "\n",
    "s = pd.Series(a)\n",
    "s"
   ]
  },
  {
   "cell_type": "code",
   "execution_count": 23,
   "metadata": {},
   "outputs": [
    {
     "data": {
      "text/plain": [
       "0    1.0\n",
       "1    2.0\n",
       "2    3.0\n",
       "3    4.0\n",
       "4    5.0\n",
       "dtype: float64"
      ]
     },
     "execution_count": 23,
     "metadata": {},
     "output_type": "execute_result"
    }
   ],
   "source": [
    "# s라는 시리즈의 개별적인 요소에 연산이 작용해 다음과 같은 결과를 낳는다\n",
    "s1 = s/10\n",
    "s1"
   ]
  },
  {
   "cell_type": "code",
   "execution_count": 24,
   "metadata": {},
   "outputs": [
    {
     "data": {
      "text/plain": [
       "0   -490\n",
       "1   -480\n",
       "2   -470\n",
       "3   -460\n",
       "4   -450\n",
       "dtype: int64"
      ]
     },
     "execution_count": 24,
     "metadata": {},
     "output_type": "execute_result"
    }
   ],
   "source": [
    "#그러면 개별 요소에서 500을 빼어 보도록 하자\n",
    "s = s - 500\n",
    "s"
   ]
  },
  {
   "cell_type": "code",
   "execution_count": 25,
   "metadata": {},
   "outputs": [
    {
     "data": {
      "text/plain": [
       "0   -49.0\n",
       "1   -48.0\n",
       "2   -47.0\n",
       "3   -46.0\n",
       "4   -45.0\n",
       "dtype: float64"
      ]
     },
     "execution_count": 25,
     "metadata": {},
     "output_type": "execute_result"
    }
   ],
   "source": [
    "s =s/10\n",
    "s"
   ]
  },
  {
   "cell_type": "markdown",
   "metadata": {},
   "source": [
    "## 이미 만들어진 시리즈에 새로운 요소 추가"
   ]
  },
  {
   "cell_type": "code",
   "execution_count": 26,
   "metadata": {},
   "outputs": [
    {
     "data": {
      "text/plain": [
       "0    강지원\n",
       "1    김성윤\n",
       "2    황혜선\n",
       "3     이욱\n",
       "dtype: object"
      ]
     },
     "execution_count": 26,
     "metadata": {},
     "output_type": "execute_result"
    }
   ],
   "source": [
    "#원래는...\n",
    "series"
   ]
  },
  {
   "cell_type": "code",
   "execution_count": 27,
   "metadata": {},
   "outputs": [],
   "source": [
    "series[4]='도밍고'"
   ]
  },
  {
   "cell_type": "code",
   "execution_count": 28,
   "metadata": {},
   "outputs": [
    {
     "data": {
      "text/plain": [
       "0    강지원\n",
       "1    김성윤\n",
       "2    황혜선\n",
       "3     이욱\n",
       "4    도밍고\n",
       "dtype: object"
      ]
     },
     "execution_count": 28,
     "metadata": {},
     "output_type": "execute_result"
    }
   ],
   "source": [
    "series"
   ]
  },
  {
   "cell_type": "code",
   "execution_count": 29,
   "metadata": {},
   "outputs": [],
   "source": [
    "series[10] = '플라치도'"
   ]
  },
  {
   "cell_type": "code",
   "execution_count": 30,
   "metadata": {},
   "outputs": [
    {
     "data": {
      "text/plain": [
       "0      강지원\n",
       "1      김성윤\n",
       "2      황혜선\n",
       "3       이욱\n",
       "4      도밍고\n",
       "10    플라치도\n",
       "dtype: object"
      ]
     },
     "execution_count": 30,
     "metadata": {},
     "output_type": "execute_result"
    }
   ],
   "source": [
    "series"
   ]
  },
  {
   "cell_type": "markdown",
   "metadata": {},
   "source": [
    "## 시리즈의 정렬 (index의 정렬, 값의 정렬)"
   ]
  },
  {
   "cell_type": "code",
   "execution_count": 31,
   "metadata": {},
   "outputs": [
    {
     "data": {
      "text/plain": [
       "10    플라치도\n",
       "4      도밍고\n",
       "3       이욱\n",
       "2      황혜선\n",
       "1      김성윤\n",
       "0      강지원\n",
       "dtype: object"
      ]
     },
     "execution_count": 31,
     "metadata": {},
     "output_type": "execute_result"
    }
   ],
   "source": [
    "# 인덱스의 정렬 \n",
    "\n",
    "series.sort_index(ascending = False)"
   ]
  },
  {
   "cell_type": "code",
   "execution_count": 32,
   "metadata": {},
   "outputs": [
    {
     "data": {
      "text/plain": [
       "0      강지원\n",
       "1      김성윤\n",
       "2      황혜선\n",
       "3       이욱\n",
       "4      도밍고\n",
       "10    플라치도\n",
       "dtype: object"
      ]
     },
     "execution_count": 32,
     "metadata": {},
     "output_type": "execute_result"
    }
   ],
   "source": [
    "#그러나,변하지 않았다.\n",
    "\n",
    "series"
   ]
  },
  {
   "cell_type": "code",
   "execution_count": 33,
   "metadata": {},
   "outputs": [
    {
     "data": {
      "text/plain": [
       "0      강지원\n",
       "1      김성윤\n",
       "2      황혜선\n",
       "3       이욱\n",
       "4      도밍고\n",
       "10    플라치도\n",
       "dtype: object"
      ]
     },
     "execution_count": 33,
     "metadata": {},
     "output_type": "execute_result"
    }
   ],
   "source": [
    "# 그 이유는 .sort_index()는 원본 자체를 변화시키는 것이 아니라, \n",
    "# 새로운 복사본을 하나 만들어 내는 함수일 뿐이므로...\n",
    "# 따라서 바뀐 값을 쓰려면\n",
    "\n",
    "new_series = series.sort_index()\n",
    "new_series"
   ]
  },
  {
   "cell_type": "code",
   "execution_count": 34,
   "metadata": {},
   "outputs": [
    {
     "data": {
      "text/plain": [
       "0      강지원\n",
       "1      김성윤\n",
       "2      황혜선\n",
       "3       이욱\n",
       "4      도밍고\n",
       "10    플라치도\n",
       "dtype: object"
      ]
     },
     "execution_count": 34,
     "metadata": {},
     "output_type": "execute_result"
    }
   ],
   "source": [
    "# 또는 원본을 바꾸는 인자  inplace = True를 넣으면 된다\n",
    "\n",
    "series.sort_index(inplace=True)\n",
    "series"
   ]
  },
  {
   "cell_type": "code",
   "execution_count": 35,
   "metadata": {},
   "outputs": [
    {
     "data": {
      "text/plain": [
       "0      강지원\n",
       "1      김성윤\n",
       "2      황혜선\n",
       "3       이욱\n",
       "4      도밍고\n",
       "10    플라치도\n",
       "dtype: object"
      ]
     },
     "execution_count": 35,
     "metadata": {},
     "output_type": "execute_result"
    }
   ],
   "source": [
    "series"
   ]
  },
  {
   "cell_type": "code",
   "execution_count": 36,
   "metadata": {},
   "outputs": [
    {
     "data": {
      "text/plain": [
       "0      강지원\n",
       "1      김성윤\n",
       "4      도밍고\n",
       "3       이욱\n",
       "10    플라치도\n",
       "2      황혜선\n",
       "dtype: object"
      ]
     },
     "execution_count": 36,
     "metadata": {},
     "output_type": "execute_result"
    }
   ],
   "source": [
    "# 값도 순서대로 정렬이 가능하다.\n",
    "\n",
    "series.sort_values()"
   ]
  },
  {
   "cell_type": "code",
   "execution_count": 37,
   "metadata": {},
   "outputs": [
    {
     "data": {
      "text/plain": [
       "2      황혜선\n",
       "10    플라치도\n",
       "3       이욱\n",
       "4      도밍고\n",
       "1      김성윤\n",
       "0      강지원\n",
       "dtype: object"
      ]
     },
     "execution_count": 37,
     "metadata": {},
     "output_type": "execute_result"
    }
   ],
   "source": [
    "# 기본은 오름차로 정렬되므로, 내림차(큰것부터 작은것으로)로 정렬하려면...\n",
    "\n",
    "series.sort_values(ascending=False)"
   ]
  },
  {
   "cell_type": "code",
   "execution_count": null,
   "metadata": {},
   "outputs": [],
   "source": []
  }
 ],
 "metadata": {
  "kernelspec": {
   "display_name": "Python 3 (ipykernel)",
   "language": "python",
   "name": "python3"
  },
  "language_info": {
   "codemirror_mode": {
    "name": "ipython",
    "version": 3
   },
   "file_extension": ".py",
   "mimetype": "text/x-python",
   "name": "python",
   "nbconvert_exporter": "python",
   "pygments_lexer": "ipython3",
   "version": "3.11.4"
  }
 },
 "nbformat": 4,
 "nbformat_minor": 4
}
