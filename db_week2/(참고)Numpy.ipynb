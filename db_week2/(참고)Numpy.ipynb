{
 "cells": [
  {
   "cell_type": "code",
   "execution_count": 1,
   "id": "6e70fc18",
   "metadata": {},
   "outputs": [
    {
     "data": {
      "text/plain": [
       "'%.3f'"
      ]
     },
     "execution_count": 1,
     "metadata": {},
     "output_type": "execute_result"
    }
   ],
   "source": [
    "## 강의에서 사용될 라이브러리를 먼저 임포트 해 보자.\n",
    "\n",
    "import numpy as np\n",
    "import numpy.random as random\n",
    "import scipy as sp\n",
    "import pandas as pd\n",
    "from pandas import Series, DataFrame\n",
    "\n",
    "# 시각화 라이브러리\n",
    "import matplotlib.pyplot as plt\n",
    "import matplotlib as mpl\n",
    "import seaborn as sns\n",
    "\n",
    "%matplotlib inline\n",
    "\n",
    "%precision 3"
   ]
  },
  {
   "cell_type": "markdown",
   "id": "f8937439",
   "metadata": {},
   "source": [
    "## Numpy 기초"
   ]
  },
  {
   "cell_type": "code",
   "execution_count": 21,
   "id": "fcfba7b6",
   "metadata": {},
   "outputs": [
    {
     "data": {
      "text/plain": [
       "array([ 9,  2,  3,  4, 10,  6,  7,  8,  1,  5])"
      ]
     },
     "execution_count": 21,
     "metadata": {},
     "output_type": "execute_result"
    }
   ],
   "source": [
    "# 배열(array)의 작성\n",
    "\n",
    "data = np.array([9,2,3,4,10,6,7,8,1,5])\n",
    "\n",
    "data"
   ]
  },
  {
   "cell_type": "code",
   "execution_count": 9,
   "id": "1d112d14",
   "metadata": {},
   "outputs": [
    {
     "data": {
      "text/plain": [
       "10"
      ]
     },
     "execution_count": 9,
     "metadata": {},
     "output_type": "execute_result"
    }
   ],
   "source": [
    "len(data)"
   ]
  },
  {
   "cell_type": "code",
   "execution_count": 10,
   "id": "c464a702",
   "metadata": {},
   "outputs": [
    {
     "data": {
      "text/plain": [
       "dtype('int64')"
      ]
     },
     "execution_count": 10,
     "metadata": {},
     "output_type": "execute_result"
    }
   ],
   "source": [
    "data.dtype"
   ]
  },
  {
   "cell_type": "code",
   "execution_count": 11,
   "id": "629072c9",
   "metadata": {},
   "outputs": [],
   "source": [
    "# 참고 : data type (int8,16,32,64, uint8,16,32,64, float16,32,64,128, bool 등)"
   ]
  },
  {
   "cell_type": "code",
   "execution_count": 12,
   "id": "010abfa9",
   "metadata": {},
   "outputs": [
    {
     "name": "stdout",
     "output_type": "stream",
     "text": [
      "차원 수 1\n",
      "요소 수 10\n"
     ]
    }
   ],
   "source": [
    "# 차원 수와 요소 수\n",
    "\n",
    "print(\"차원 수\", data.ndim)\n",
    "\n",
    "print(\"요소 수\", data.size)"
   ]
  },
  {
   "cell_type": "code",
   "execution_count": 13,
   "id": "2c522c2c",
   "metadata": {},
   "outputs": [
    {
     "data": {
      "text/plain": [
       "array([18,  4,  6,  8, 20, 12, 14, 16,  2, 10])"
      ]
     },
     "execution_count": 13,
     "metadata": {},
     "output_type": "execute_result"
    }
   ],
   "source": [
    "# 모든 요소에 대한 계산 (casting)\n",
    "\n",
    "data * 2"
   ]
  },
  {
   "cell_type": "code",
   "execution_count": 16,
   "id": "2f6c935b",
   "metadata": {},
   "outputs": [
    {
     "name": "stdout",
     "output_type": "stream",
     "text": [
      "multiplication [5 8 9 8 5]\n",
      "devision [5 8 9 8 5]\n",
      "powers [ 1  4  9 16 25]\n"
     ]
    }
   ],
   "source": [
    "print(\"multiplication\", np.array([1,2,3,4,5]) * np.array([5,4,3,2,1]))\n",
    "\n",
    "print(\"devision\", np.array([1,2,3,4,5]) * np.array([5,4,3,2,1]))\n",
    "\n",
    "print(\"powers\", np.array([1,2,3,4,5]) ** 2)\n"
   ]
  },
  {
   "cell_type": "code",
   "execution_count": 22,
   "id": "8fd43da9",
   "metadata": {},
   "outputs": [
    {
     "name": "stdout",
     "output_type": "stream",
     "text": [
      "원래 : [ 9  2  3  4 10  6  7  8  1  5]\n"
     ]
    }
   ],
   "source": [
    "# sorting\n",
    "\n",
    "print(\"원래 :\", data)"
   ]
  },
  {
   "cell_type": "code",
   "execution_count": 23,
   "id": "cfa01487",
   "metadata": {},
   "outputs": [
    {
     "name": "stdout",
     "output_type": "stream",
     "text": [
      "정렬 후 : [ 1  2  3  4  5  6  7  8  9 10]\n"
     ]
    }
   ],
   "source": [
    "data.sort()\n",
    "print(\"정렬 후 :\", data)"
   ]
  },
  {
   "cell_type": "code",
   "execution_count": 30,
   "id": "072d3568",
   "metadata": {},
   "outputs": [
    {
     "name": "stdout",
     "output_type": "stream",
     "text": [
      "정렬 후 : [10  9  8  7  6  5  4  3  2  1]\n"
     ]
    }
   ],
   "source": [
    "# list.sort()의 reverse= True는 넘파이 어레이에는 적용 안 됨\n",
    "\n",
    "data.sort()\n",
    "print(\"정렬 후 :\", data[::-1])"
   ]
  },
  {
   "cell_type": "code",
   "execution_count": 26,
   "id": "0b3663a4",
   "metadata": {},
   "outputs": [
    {
     "name": "stdout",
     "output_type": "stream",
     "text": [
      "min : 1\n",
      "max : 10\n",
      "sum : 55\n",
      "cumsum : [10 19 27 34 40 45 49 52 54 55]\n",
      "ration : [0.182 0.345 0.491 0.618 0.727 0.818 0.891 0.945 0.982 1.   ]\n"
     ]
    }
   ],
   "source": [
    "# min, max, sum, cumsum, ration\n",
    "\n",
    "print(\"min :\", data.min())\n",
    "print(\"max :\", data.max())\n",
    "print(\"sum :\", data.sum())\n",
    "print(\"cumsum :\", data.cumsum())\n",
    "print(\"ration :\", data.cumsum()/data.sum())"
   ]
  },
  {
   "cell_type": "code",
   "execution_count": 31,
   "id": "25688e7e",
   "metadata": {},
   "outputs": [],
   "source": [
    "# 난수 (random number generation)\n",
    "\n",
    "import numpy.random as random\n",
    "\n",
    "# random seed\n",
    "\n",
    "random.seed(777)"
   ]
  },
  {
   "cell_type": "code",
   "execution_count": 33,
   "id": "4395a4ae",
   "metadata": {},
   "outputs": [
    {
     "data": {
      "text/plain": [
       "array([ 1.244, -0.149,  0.172])"
      ]
     },
     "execution_count": 33,
     "metadata": {},
     "output_type": "execute_result"
    }
   ],
   "source": [
    "# randn(정규분포의 난수를 n개 발생)\n",
    "random.randn(3)"
   ]
  },
  {
   "cell_type": "markdown",
   "id": "a5c755d6",
   "metadata": {},
   "source": [
    "### numpy random module의 아래의 링크를 일독할 가치가 있다.\n",
    "\n",
    "https://numpy.org/doc/stable/reference/random/index.html"
   ]
  },
  {
   "cell_type": "code",
   "execution_count": 41,
   "id": "cdde5c56",
   "metadata": {},
   "outputs": [
    {
     "name": "stdout",
     "output_type": "stream",
     "text": [
      "[ 6  9  4  4  8  5  4  6  3 10]\n",
      "[ 1  4  6  2  3 10  5  9  7  8]\n"
     ]
    }
   ],
   "source": [
    "# 복원추출과 비복원추출\n",
    "\n",
    "random.seed(0)\n",
    "\n",
    "data = np.array([9,2,3,4,10,6,7,8,1,5])\n",
    "\n",
    "#복원추출\n",
    "print(random.choice(data,10))\n",
    "\n",
    "#비복원추출\n",
    "print(random.choice(data,10, replace = False))"
   ]
  },
  {
   "cell_type": "code",
   "execution_count": 45,
   "id": "cace43f6",
   "metadata": {},
   "outputs": [
    {
     "data": {
      "text/plain": [
       "array([0, 1, 2, 3, 4, 5, 6, 7, 8])"
      ]
     },
     "execution_count": 45,
     "metadata": {},
     "output_type": "execute_result"
    }
   ],
   "source": [
    "# Vector\n",
    "\n",
    "vec = np.arange(9)\n",
    "vec"
   ]
  },
  {
   "cell_type": "code",
   "execution_count": 46,
   "id": "472b4420",
   "metadata": {},
   "outputs": [
    {
     "data": {
      "text/plain": [
       "array([[0, 1, 2],\n",
       "       [3, 4, 5],\n",
       "       [6, 7, 8]])"
      ]
     },
     "execution_count": 46,
     "metadata": {},
     "output_type": "execute_result"
    }
   ],
   "source": [
    "# matrix\n",
    "\n",
    "mat = np.arange(9).reshape(3,3)\n",
    "mat"
   ]
  },
  {
   "cell_type": "code",
   "execution_count": 47,
   "id": "b37694a3",
   "metadata": {},
   "outputs": [
    {
     "data": {
      "text/plain": [
       "array([0, 1, 2])"
      ]
     },
     "execution_count": 47,
     "metadata": {},
     "output_type": "execute_result"
    }
   ],
   "source": [
    "# 1 행\n",
    "mat[0, :]"
   ]
  },
  {
   "cell_type": "code",
   "execution_count": 48,
   "id": "6fd22044",
   "metadata": {},
   "outputs": [
    {
     "data": {
      "text/plain": [
       "array([0, 3, 6])"
      ]
     },
     "execution_count": 48,
     "metadata": {},
     "output_type": "execute_result"
    }
   ],
   "source": [
    "# 1 열\n",
    "mat[:,0]"
   ]
  },
  {
   "cell_type": "code",
   "execution_count": 50,
   "id": "6d80bff7",
   "metadata": {},
   "outputs": [
    {
     "data": {
      "text/plain": [
       "array([[0, 1],\n",
       "       [3, 4]])"
      ]
     },
     "execution_count": 50,
     "metadata": {},
     "output_type": "execute_result"
    }
   ],
   "source": [
    "mat[:2,:2]"
   ]
  },
  {
   "cell_type": "code",
   "execution_count": 51,
   "id": "c136345a",
   "metadata": {},
   "outputs": [
    {
     "data": {
      "text/plain": [
       "array([[ 9, 10, 11],\n",
       "       [12, 13, 14],\n",
       "       [15, 16, 17]])"
      ]
     },
     "execution_count": 51,
     "metadata": {},
     "output_type": "execute_result"
    }
   ],
   "source": [
    "# 행렬 연산\n",
    "\n",
    "mat_2 = np.arange(9,18).reshape(3,3)\n",
    "mat_2"
   ]
  },
  {
   "cell_type": "code",
   "execution_count": 52,
   "id": "6012943e",
   "metadata": {},
   "outputs": [
    {
     "data": {
      "text/plain": [
       "array([[ 42,  45,  48],\n",
       "       [150, 162, 174],\n",
       "       [258, 279, 300]])"
      ]
     },
     "execution_count": 52,
     "metadata": {},
     "output_type": "execute_result"
    }
   ],
   "source": [
    "# 행렬의 내적 연산\n",
    "\n",
    "np.dot(mat, mat_2)"
   ]
  },
  {
   "cell_type": "code",
   "execution_count": 53,
   "id": "40bac1bc",
   "metadata": {},
   "outputs": [
    {
     "data": {
      "text/plain": [
       "array([[  0,  10,  22],\n",
       "       [ 36,  52,  70],\n",
       "       [ 90, 112, 136]])"
      ]
     },
     "execution_count": 53,
     "metadata": {},
     "output_type": "execute_result"
    }
   ],
   "source": [
    "# 행렬 곱(element-wise)\n",
    "\n",
    "mat * mat_2"
   ]
  },
  {
   "cell_type": "code",
   "execution_count": 54,
   "id": "f4826751",
   "metadata": {},
   "outputs": [
    {
     "name": "stdout",
     "output_type": "stream",
     "text": [
      "[[0 0 0]\n",
      " [0 0 0]]\n",
      "[[1. 1. 1. 1.]\n",
      " [1. 1. 1. 1.]\n",
      " [1. 1. 1. 1.]]\n"
     ]
    }
   ],
   "source": [
    "# 특수 행렬\n",
    "\n",
    "print(np.zeros((2,3), dtype = np.int64))\n",
    "print(np.ones((3,4), dtype = np.float64))"
   ]
  },
  {
   "cell_type": "markdown",
   "id": "ca474de1",
   "metadata": {},
   "source": [
    "### 기타 행렬과 관련된 역행렬, 고유값, 고유벡터, 최적화 등은 scipy module을 활용한다.\n",
    "\n",
    "https://docs.scipy.org/doc/scipy/tutorial/index.html"
   ]
  },
  {
   "cell_type": "code",
   "execution_count": null,
   "id": "595dc792",
   "metadata": {},
   "outputs": [],
   "source": []
  }
 ],
 "metadata": {
  "kernelspec": {
   "display_name": "Python 3 (ipykernel)",
   "language": "python",
   "name": "python3"
  },
  "language_info": {
   "codemirror_mode": {
    "name": "ipython",
    "version": 3
   },
   "file_extension": ".py",
   "mimetype": "text/x-python",
   "name": "python",
   "nbconvert_exporter": "python",
   "pygments_lexer": "ipython3",
   "version": "3.11.4"
  }
 },
 "nbformat": 4,
 "nbformat_minor": 5
}
