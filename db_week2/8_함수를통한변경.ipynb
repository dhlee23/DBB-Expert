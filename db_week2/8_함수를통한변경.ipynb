{
 "cells": [
  {
   "cell_type": "code",
   "execution_count": 1,
   "metadata": {},
   "outputs": [
    {
     "data": {
      "text/html": [
       "<div>\n",
       "<style scoped>\n",
       "    .dataframe tbody tr th:only-of-type {\n",
       "        vertical-align: middle;\n",
       "    }\n",
       "\n",
       "    .dataframe tbody tr th {\n",
       "        vertical-align: top;\n",
       "    }\n",
       "\n",
       "    .dataframe thead th {\n",
       "        text-align: right;\n",
       "    }\n",
       "</style>\n",
       "<table border=\"1\" class=\"dataframe\">\n",
       "  <thead>\n",
       "    <tr style=\"text-align: right;\">\n",
       "      <th></th>\n",
       "      <th>지점</th>\n",
       "      <th>일시</th>\n",
       "      <th>평균기온</th>\n",
       "      <th>최저기온</th>\n",
       "      <th>최저기온시각</th>\n",
       "      <th>최고기온</th>\n",
       "      <th>최고기온시각</th>\n",
       "      <th>1시간최다강수량</th>\n",
       "      <th>일강수량</th>\n",
       "      <th>평균풍속</th>\n",
       "      <th>평균기압</th>\n",
       "      <th>합계일조시간</th>\n",
       "      <th>평균지면온도</th>\n",
       "    </tr>\n",
       "  </thead>\n",
       "  <tbody>\n",
       "    <tr>\n",
       "      <th>0</th>\n",
       "      <td>108</td>\n",
       "      <td>2021-01-01</td>\n",
       "      <td>-4.2</td>\n",
       "      <td>-9.8</td>\n",
       "      <td>511</td>\n",
       "      <td>1.6</td>\n",
       "      <td>1447</td>\n",
       "      <td>NaN</td>\n",
       "      <td>NaN</td>\n",
       "      <td>2.0</td>\n",
       "      <td>1014.9</td>\n",
       "      <td>6.5</td>\n",
       "      <td>-3.4</td>\n",
       "    </tr>\n",
       "    <tr>\n",
       "      <th>1</th>\n",
       "      <td>108</td>\n",
       "      <td>2021-01-02</td>\n",
       "      <td>-5.0</td>\n",
       "      <td>-8.4</td>\n",
       "      <td>805</td>\n",
       "      <td>-1.4</td>\n",
       "      <td>1346</td>\n",
       "      <td>NaN</td>\n",
       "      <td>NaN</td>\n",
       "      <td>2.6</td>\n",
       "      <td>1018.5</td>\n",
       "      <td>9.0</td>\n",
       "      <td>-3.9</td>\n",
       "    </tr>\n",
       "    <tr>\n",
       "      <th>2</th>\n",
       "      <td>108</td>\n",
       "      <td>2021-01-03</td>\n",
       "      <td>-5.6</td>\n",
       "      <td>-9.1</td>\n",
       "      <td>536</td>\n",
       "      <td>-2.0</td>\n",
       "      <td>1238</td>\n",
       "      <td>NaN</td>\n",
       "      <td>NaN</td>\n",
       "      <td>2.0</td>\n",
       "      <td>1023.0</td>\n",
       "      <td>5.5</td>\n",
       "      <td>-4.9</td>\n",
       "    </tr>\n",
       "    <tr>\n",
       "      <th>3</th>\n",
       "      <td>108</td>\n",
       "      <td>2021-01-04</td>\n",
       "      <td>-3.5</td>\n",
       "      <td>-8.4</td>\n",
       "      <td>656</td>\n",
       "      <td>0.3</td>\n",
       "      <td>1535</td>\n",
       "      <td>NaN</td>\n",
       "      <td>0.0</td>\n",
       "      <td>1.7</td>\n",
       "      <td>1020.3</td>\n",
       "      <td>4.6</td>\n",
       "      <td>-3.3</td>\n",
       "    </tr>\n",
       "    <tr>\n",
       "      <th>4</th>\n",
       "      <td>108</td>\n",
       "      <td>2021-01-05</td>\n",
       "      <td>-5.5</td>\n",
       "      <td>-9.9</td>\n",
       "      <td>2356</td>\n",
       "      <td>-2.1</td>\n",
       "      <td>1</td>\n",
       "      <td>NaN</td>\n",
       "      <td>0.0</td>\n",
       "      <td>2.9</td>\n",
       "      <td>1019.2</td>\n",
       "      <td>8.6</td>\n",
       "      <td>-3.2</td>\n",
       "    </tr>\n",
       "  </tbody>\n",
       "</table>\n",
       "</div>"
      ],
      "text/plain": [
       "    지점          일시  평균기온  최저기온  최저기온시각  최고기온  최고기온시각  1시간최다강수량  일강수량  평균풍속  \\\n",
       "0  108  2021-01-01  -4.2  -9.8     511   1.6    1447       NaN   NaN   2.0   \n",
       "1  108  2021-01-02  -5.0  -8.4     805  -1.4    1346       NaN   NaN   2.6   \n",
       "2  108  2021-01-03  -5.6  -9.1     536  -2.0    1238       NaN   NaN   2.0   \n",
       "3  108  2021-01-04  -3.5  -8.4     656   0.3    1535       NaN   0.0   1.7   \n",
       "4  108  2021-01-05  -5.5  -9.9    2356  -2.1       1       NaN   0.0   2.9   \n",
       "\n",
       "     평균기압  합계일조시간  평균지면온도  \n",
       "0  1014.9     6.5    -3.4  \n",
       "1  1018.5     9.0    -3.9  \n",
       "2  1023.0     5.5    -4.9  \n",
       "3  1020.3     4.6    -3.3  \n",
       "4  1019.2     8.6    -3.2  "
      ]
     },
     "execution_count": 1,
     "metadata": {},
     "output_type": "execute_result"
    }
   ],
   "source": [
    "import pandas as pd\n",
    "\n",
    "df = pd.read_csv('./weather_tmp.csv', encoding = 'utf-8')\n",
    "df.head()"
   ]
  },
  {
   "cell_type": "code",
   "execution_count": 2,
   "metadata": {},
   "outputs": [
    {
     "data": {
      "text/html": [
       "<div>\n",
       "<style scoped>\n",
       "    .dataframe tbody tr th:only-of-type {\n",
       "        vertical-align: middle;\n",
       "    }\n",
       "\n",
       "    .dataframe tbody tr th {\n",
       "        vertical-align: top;\n",
       "    }\n",
       "\n",
       "    .dataframe thead th {\n",
       "        text-align: right;\n",
       "    }\n",
       "</style>\n",
       "<table border=\"1\" class=\"dataframe\">\n",
       "  <thead>\n",
       "    <tr style=\"text-align: right;\">\n",
       "      <th></th>\n",
       "      <th>지점</th>\n",
       "      <th>일시</th>\n",
       "      <th>평균기온</th>\n",
       "      <th>최저기온</th>\n",
       "      <th>최저기온시각</th>\n",
       "      <th>최고기온</th>\n",
       "      <th>최고기온시각</th>\n",
       "      <th>1시간최다강수량</th>\n",
       "      <th>일강수량</th>\n",
       "      <th>평균풍속</th>\n",
       "      <th>평균기압</th>\n",
       "      <th>합계일조시간</th>\n",
       "      <th>평균지면온도</th>\n",
       "    </tr>\n",
       "  </thead>\n",
       "  <tbody>\n",
       "    <tr>\n",
       "      <th>200</th>\n",
       "      <td>108</td>\n",
       "      <td>2021-07-20</td>\n",
       "      <td>27.9</td>\n",
       "      <td>23.6</td>\n",
       "      <td>532</td>\n",
       "      <td>31.8</td>\n",
       "      <td>1159</td>\n",
       "      <td>0.0</td>\n",
       "      <td>0.0</td>\n",
       "      <td>1.5</td>\n",
       "      <td>1004.4</td>\n",
       "      <td>3.4</td>\n",
       "      <td>28.9</td>\n",
       "    </tr>\n",
       "    <tr>\n",
       "      <th>201</th>\n",
       "      <td>108</td>\n",
       "      <td>2021-07-21</td>\n",
       "      <td>30.5</td>\n",
       "      <td>25.3</td>\n",
       "      <td>556</td>\n",
       "      <td>35.3</td>\n",
       "      <td>1654</td>\n",
       "      <td>NaN</td>\n",
       "      <td>NaN</td>\n",
       "      <td>1.7</td>\n",
       "      <td>1002.9</td>\n",
       "      <td>11.3</td>\n",
       "      <td>30.5</td>\n",
       "    </tr>\n",
       "    <tr>\n",
       "      <th>202</th>\n",
       "      <td>108</td>\n",
       "      <td>2021-07-22</td>\n",
       "      <td>31.2</td>\n",
       "      <td>26.5</td>\n",
       "      <td>621</td>\n",
       "      <td>35.9</td>\n",
       "      <td>1615</td>\n",
       "      <td>NaN</td>\n",
       "      <td>NaN</td>\n",
       "      <td>2.0</td>\n",
       "      <td>1000.9</td>\n",
       "      <td>11.4</td>\n",
       "      <td>31.4</td>\n",
       "    </tr>\n",
       "    <tr>\n",
       "      <th>203</th>\n",
       "      <td>108</td>\n",
       "      <td>2021-07-23</td>\n",
       "      <td>31.2</td>\n",
       "      <td>27.2</td>\n",
       "      <td>541</td>\n",
       "      <td>35.8</td>\n",
       "      <td>1604</td>\n",
       "      <td>NaN</td>\n",
       "      <td>NaN</td>\n",
       "      <td>1.8</td>\n",
       "      <td>999.3</td>\n",
       "      <td>12.4</td>\n",
       "      <td>32.2</td>\n",
       "    </tr>\n",
       "    <tr>\n",
       "      <th>204</th>\n",
       "      <td>108</td>\n",
       "      <td>2021-07-24</td>\n",
       "      <td>31.7</td>\n",
       "      <td>26.9</td>\n",
       "      <td>548</td>\n",
       "      <td>36.5</td>\n",
       "      <td>1508</td>\n",
       "      <td>NaN</td>\n",
       "      <td>NaN</td>\n",
       "      <td>1.7</td>\n",
       "      <td>998.2</td>\n",
       "      <td>12.3</td>\n",
       "      <td>32.6</td>\n",
       "    </tr>\n",
       "    <tr>\n",
       "      <th>205</th>\n",
       "      <td>108</td>\n",
       "      <td>2021-07-25</td>\n",
       "      <td>31.5</td>\n",
       "      <td>27.2</td>\n",
       "      <td>542</td>\n",
       "      <td>35.9</td>\n",
       "      <td>1547</td>\n",
       "      <td>NaN</td>\n",
       "      <td>NaN</td>\n",
       "      <td>2.0</td>\n",
       "      <td>996.5</td>\n",
       "      <td>13.0</td>\n",
       "      <td>34.2</td>\n",
       "    </tr>\n",
       "    <tr>\n",
       "      <th>206</th>\n",
       "      <td>108</td>\n",
       "      <td>2021-07-26</td>\n",
       "      <td>31.2</td>\n",
       "      <td>27.4</td>\n",
       "      <td>608</td>\n",
       "      <td>35.4</td>\n",
       "      <td>1521</td>\n",
       "      <td>NaN</td>\n",
       "      <td>NaN</td>\n",
       "      <td>2.4</td>\n",
       "      <td>994.6</td>\n",
       "      <td>13.2</td>\n",
       "      <td>35.3</td>\n",
       "    </tr>\n",
       "  </tbody>\n",
       "</table>\n",
       "</div>"
      ],
      "text/plain": [
       "      지점          일시  평균기온  최저기온  최저기온시각  최고기온  최고기온시각  1시간최다강수량  일강수량  평균풍속  \\\n",
       "200  108  2021-07-20  27.9  23.6     532  31.8    1159       0.0   0.0   1.5   \n",
       "201  108  2021-07-21  30.5  25.3     556  35.3    1654       NaN   NaN   1.7   \n",
       "202  108  2021-07-22  31.2  26.5     621  35.9    1615       NaN   NaN   2.0   \n",
       "203  108  2021-07-23  31.2  27.2     541  35.8    1604       NaN   NaN   1.8   \n",
       "204  108  2021-07-24  31.7  26.9     548  36.5    1508       NaN   NaN   1.7   \n",
       "205  108  2021-07-25  31.5  27.2     542  35.9    1547       NaN   NaN   2.0   \n",
       "206  108  2021-07-26  31.2  27.4     608  35.4    1521       NaN   NaN   2.4   \n",
       "\n",
       "       평균기압  합계일조시간  평균지면온도  \n",
       "200  1004.4     3.4    28.9  \n",
       "201  1002.9    11.3    30.5  \n",
       "202  1000.9    11.4    31.4  \n",
       "203   999.3    12.4    32.2  \n",
       "204   998.2    12.3    32.6  \n",
       "205   996.5    13.0    34.2  \n",
       "206   994.6    13.2    35.3  "
      ]
     },
     "execution_count": 2,
     "metadata": {},
     "output_type": "execute_result"
    }
   ],
   "source": [
    "df.iloc[200:207]"
   ]
  },
  {
   "cell_type": "markdown",
   "metadata": {},
   "source": [
    "## map 함수를 통한 변경"
   ]
  },
  {
   "cell_type": "code",
   "execution_count": 2,
   "metadata": {},
   "outputs": [],
   "source": [
    "# 위의 데이터프레임의 '최고기온시각'행을 살펴 보자\n",
    "# 앞의 두글자는 시간, 뒤의 두 글자는 분...\n",
    "# 양자의 단위가 다르므로, 그대로는 산술 연산이 불가능하다\n",
    "# 시간을 기준으로 기준을 통합해 보자\n"
   ]
  },
  {
   "cell_type": "code",
   "execution_count": 3,
   "metadata": {},
   "outputs": [],
   "source": [
    "def converter(x):\n",
    "    x = str(x)\n",
    "    if len(x) ==3:        #세자리의 경우\n",
    "        y = int(x[0])+ int(x[1:])*1/60\n",
    "        \n",
    "    elif len(x) == 4:     #네자리의 경우\n",
    "        y = int(x[0:2])+ int(x[2:])*1/60\n",
    "    else:                 #한자리나 두자리의 경우\n",
    "        y = int(x)*1/60\n",
    "    return y"
   ]
  },
  {
   "cell_type": "code",
   "execution_count": 5,
   "metadata": {},
   "outputs": [
    {
     "data": {
      "text/plain": [
       "0      14.783333\n",
       "1      13.766667\n",
       "2      12.633333\n",
       "3      15.583333\n",
       "4       0.016667\n",
       "         ...    \n",
       "360    16.566667\n",
       "361    16.000000\n",
       "362    15.300000\n",
       "363    15.516667\n",
       "364    15.166667\n",
       "Name: 최고기온시각, Length: 365, dtype: float64"
      ]
     },
     "execution_count": 5,
     "metadata": {},
     "output_type": "execute_result"
    }
   ],
   "source": [
    "# 특정 열에 적용해 보자\n",
    "# map 함수에 적용할 때는 converter() 식으로 실행하는 것이 아니라...\n",
    "# 단순히 함수의 이름만 적는다.\n",
    "\n",
    "df['최고기온시각'].map(converter)"
   ]
  },
  {
   "cell_type": "code",
   "execution_count": 4,
   "metadata": {},
   "outputs": [],
   "source": [
    "# 그 결과를 새로운 칼럼으로 할당\n",
    "\n",
    "df['변환_최고기온시각'] = df['최고기온시각'].map(converter)"
   ]
  },
  {
   "cell_type": "code",
   "execution_count": 5,
   "metadata": {},
   "outputs": [
    {
     "data": {
      "text/html": [
       "<div>\n",
       "<style scoped>\n",
       "    .dataframe tbody tr th:only-of-type {\n",
       "        vertical-align: middle;\n",
       "    }\n",
       "\n",
       "    .dataframe tbody tr th {\n",
       "        vertical-align: top;\n",
       "    }\n",
       "\n",
       "    .dataframe thead th {\n",
       "        text-align: right;\n",
       "    }\n",
       "</style>\n",
       "<table border=\"1\" class=\"dataframe\">\n",
       "  <thead>\n",
       "    <tr style=\"text-align: right;\">\n",
       "      <th></th>\n",
       "      <th>지점</th>\n",
       "      <th>일시</th>\n",
       "      <th>평균기온</th>\n",
       "      <th>최저기온</th>\n",
       "      <th>최저기온시각</th>\n",
       "      <th>최고기온</th>\n",
       "      <th>최고기온시각</th>\n",
       "      <th>1시간최다강수량</th>\n",
       "      <th>일강수량</th>\n",
       "      <th>평균풍속</th>\n",
       "      <th>평균기압</th>\n",
       "      <th>합계일조시간</th>\n",
       "      <th>평균지면온도</th>\n",
       "      <th>변환_최고기온시각</th>\n",
       "    </tr>\n",
       "  </thead>\n",
       "  <tbody>\n",
       "    <tr>\n",
       "      <th>0</th>\n",
       "      <td>108</td>\n",
       "      <td>2021-01-01</td>\n",
       "      <td>-4.2</td>\n",
       "      <td>-9.8</td>\n",
       "      <td>511</td>\n",
       "      <td>1.6</td>\n",
       "      <td>1447</td>\n",
       "      <td>NaN</td>\n",
       "      <td>NaN</td>\n",
       "      <td>2.0</td>\n",
       "      <td>1014.9</td>\n",
       "      <td>6.5</td>\n",
       "      <td>-3.4</td>\n",
       "      <td>14.783333</td>\n",
       "    </tr>\n",
       "    <tr>\n",
       "      <th>1</th>\n",
       "      <td>108</td>\n",
       "      <td>2021-01-02</td>\n",
       "      <td>-5.0</td>\n",
       "      <td>-8.4</td>\n",
       "      <td>805</td>\n",
       "      <td>-1.4</td>\n",
       "      <td>1346</td>\n",
       "      <td>NaN</td>\n",
       "      <td>NaN</td>\n",
       "      <td>2.6</td>\n",
       "      <td>1018.5</td>\n",
       "      <td>9.0</td>\n",
       "      <td>-3.9</td>\n",
       "      <td>13.766667</td>\n",
       "    </tr>\n",
       "    <tr>\n",
       "      <th>2</th>\n",
       "      <td>108</td>\n",
       "      <td>2021-01-03</td>\n",
       "      <td>-5.6</td>\n",
       "      <td>-9.1</td>\n",
       "      <td>536</td>\n",
       "      <td>-2.0</td>\n",
       "      <td>1238</td>\n",
       "      <td>NaN</td>\n",
       "      <td>NaN</td>\n",
       "      <td>2.0</td>\n",
       "      <td>1023.0</td>\n",
       "      <td>5.5</td>\n",
       "      <td>-4.9</td>\n",
       "      <td>12.633333</td>\n",
       "    </tr>\n",
       "    <tr>\n",
       "      <th>3</th>\n",
       "      <td>108</td>\n",
       "      <td>2021-01-04</td>\n",
       "      <td>-3.5</td>\n",
       "      <td>-8.4</td>\n",
       "      <td>656</td>\n",
       "      <td>0.3</td>\n",
       "      <td>1535</td>\n",
       "      <td>NaN</td>\n",
       "      <td>0.0</td>\n",
       "      <td>1.7</td>\n",
       "      <td>1020.3</td>\n",
       "      <td>4.6</td>\n",
       "      <td>-3.3</td>\n",
       "      <td>15.583333</td>\n",
       "    </tr>\n",
       "    <tr>\n",
       "      <th>4</th>\n",
       "      <td>108</td>\n",
       "      <td>2021-01-05</td>\n",
       "      <td>-5.5</td>\n",
       "      <td>-9.9</td>\n",
       "      <td>2356</td>\n",
       "      <td>-2.1</td>\n",
       "      <td>1</td>\n",
       "      <td>NaN</td>\n",
       "      <td>0.0</td>\n",
       "      <td>2.9</td>\n",
       "      <td>1019.2</td>\n",
       "      <td>8.6</td>\n",
       "      <td>-3.2</td>\n",
       "      <td>0.016667</td>\n",
       "    </tr>\n",
       "  </tbody>\n",
       "</table>\n",
       "</div>"
      ],
      "text/plain": [
       "    지점          일시  평균기온  최저기온  최저기온시각  최고기온  최고기온시각  1시간최다강수량  일강수량  평균풍속  \\\n",
       "0  108  2021-01-01  -4.2  -9.8     511   1.6    1447       NaN   NaN   2.0   \n",
       "1  108  2021-01-02  -5.0  -8.4     805  -1.4    1346       NaN   NaN   2.6   \n",
       "2  108  2021-01-03  -5.6  -9.1     536  -2.0    1238       NaN   NaN   2.0   \n",
       "3  108  2021-01-04  -3.5  -8.4     656   0.3    1535       NaN   0.0   1.7   \n",
       "4  108  2021-01-05  -5.5  -9.9    2356  -2.1       1       NaN   0.0   2.9   \n",
       "\n",
       "     평균기압  합계일조시간  평균지면온도  변환_최고기온시각  \n",
       "0  1014.9     6.5    -3.4  14.783333  \n",
       "1  1018.5     9.0    -3.9  13.766667  \n",
       "2  1023.0     5.5    -4.9  12.633333  \n",
       "3  1020.3     4.6    -3.3  15.583333  \n",
       "4  1019.2     8.6    -3.2   0.016667  "
      ]
     },
     "execution_count": 5,
     "metadata": {},
     "output_type": "execute_result"
    }
   ],
   "source": [
    "df.head()"
   ]
  },
  {
   "cell_type": "code",
   "execution_count": 6,
   "metadata": {},
   "outputs": [
    {
     "name": "stdout",
     "output_type": "stream",
     "text": [
      "14.025022831050228\n"
     ]
    }
   ],
   "source": [
    "#이제는 평균을 구하는 것이 가능해 진다.\n",
    "\n",
    "temp_mean = df['변환_최고기온시각'].mean()\n",
    "\n",
    "print(temp_mean)"
   ]
  },
  {
   "cell_type": "code",
   "execution_count": 7,
   "metadata": {},
   "outputs": [
    {
     "name": "stdout",
     "output_type": "stream",
     "text": [
      "14시 1분\n"
     ]
    }
   ],
   "source": [
    "#그 결과를  몇 시 몇 분 형태로 다시 바꿔보자\n",
    "\n",
    "tmp = str(temp_mean)\n",
    "\n",
    "int_part = int(tmp[:2])\n",
    "\n",
    "float_part = int(float(tmp[2:])*60)\n",
    "\n",
    "print(f'{int_part}시 {float_part}분')"
   ]
  },
  {
   "cell_type": "markdown",
   "metadata": {},
   "source": [
    "## apply 함수를 통한 변경"
   ]
  },
  {
   "cell_type": "code",
   "execution_count": 8,
   "metadata": {},
   "outputs": [
    {
     "data": {
      "text/html": [
       "<div>\n",
       "<style scoped>\n",
       "    .dataframe tbody tr th:only-of-type {\n",
       "        vertical-align: middle;\n",
       "    }\n",
       "\n",
       "    .dataframe tbody tr th {\n",
       "        vertical-align: top;\n",
       "    }\n",
       "\n",
       "    .dataframe thead th {\n",
       "        text-align: right;\n",
       "    }\n",
       "</style>\n",
       "<table border=\"1\" class=\"dataframe\">\n",
       "  <thead>\n",
       "    <tr style=\"text-align: right;\">\n",
       "      <th></th>\n",
       "      <th>평균기온</th>\n",
       "      <th>최저기온</th>\n",
       "      <th>최고기온</th>\n",
       "    </tr>\n",
       "  </thead>\n",
       "  <tbody>\n",
       "    <tr>\n",
       "      <th>0</th>\n",
       "      <td>-4.2</td>\n",
       "      <td>-9.8</td>\n",
       "      <td>1.6</td>\n",
       "    </tr>\n",
       "    <tr>\n",
       "      <th>1</th>\n",
       "      <td>-5.0</td>\n",
       "      <td>-8.4</td>\n",
       "      <td>-1.4</td>\n",
       "    </tr>\n",
       "    <tr>\n",
       "      <th>2</th>\n",
       "      <td>-5.6</td>\n",
       "      <td>-9.1</td>\n",
       "      <td>-2.0</td>\n",
       "    </tr>\n",
       "    <tr>\n",
       "      <th>3</th>\n",
       "      <td>-3.5</td>\n",
       "      <td>-8.4</td>\n",
       "      <td>0.3</td>\n",
       "    </tr>\n",
       "    <tr>\n",
       "      <th>4</th>\n",
       "      <td>-5.5</td>\n",
       "      <td>-9.9</td>\n",
       "      <td>-2.1</td>\n",
       "    </tr>\n",
       "  </tbody>\n",
       "</table>\n",
       "</div>"
      ],
      "text/plain": [
       "   평균기온  최저기온  최고기온\n",
       "0  -4.2  -9.8   1.6\n",
       "1  -5.0  -8.4  -1.4\n",
       "2  -5.6  -9.1  -2.0\n",
       "3  -3.5  -8.4   0.3\n",
       "4  -5.5  -9.9  -2.1"
      ]
     },
     "execution_count": 8,
     "metadata": {},
     "output_type": "execute_result"
    }
   ],
   "source": [
    "temp_condition = df[['평균기온', '최저기온','최고기온']]\n",
    "temp_condition.head()"
   ]
  },
  {
   "cell_type": "code",
   "execution_count": 9,
   "metadata": {},
   "outputs": [],
   "source": [
    "## apply 함수도 map 함수와 동일하게 개별 칼럼에 대해 적용할 수 있다"
   ]
  },
  {
   "cell_type": "code",
   "execution_count": 10,
   "metadata": {},
   "outputs": [
    {
     "data": {
      "text/plain": [
       "0      저온\n",
       "1      저온\n",
       "2      저온\n",
       "3      저온\n",
       "4      저온\n",
       "       ..\n",
       "360    저온\n",
       "361    저온\n",
       "362    저온\n",
       "363    저온\n",
       "364    저온\n",
       "Name: 최고기온, Length: 365, dtype: object"
      ]
     },
     "execution_count": 10,
     "metadata": {},
     "output_type": "execute_result"
    }
   ],
   "source": [
    "# 25도 이상 : 고온, 25 ~10 :쾌적, 10미만 : 저온\n",
    "# 범주값으로 만드는 함수\n",
    "\n",
    "def converter_2(x):\n",
    "    if x > 25:\n",
    "        return '고온'\n",
    "    elif x > 10 :\n",
    "        return '쾌적'\n",
    "    else:\n",
    "        return '저온'\n",
    "    \n",
    "temp_condition['최고기온'].apply(converter_2)"
   ]
  },
  {
   "cell_type": "code",
   "execution_count": 12,
   "metadata": {},
   "outputs": [],
   "source": [
    "# 하지만 여러 칼럼에 걸쳐 함수를 적용할 수 있다는 장점이 있다.\n",
    "# 아래 보기에서 '최고기온' 칼럼과 '최저기온' 칼럼에 걸쳐 함수를 적용한다\n",
    "\n",
    "def temp_change (df):\n",
    "    if df['최고기온'] - df['최저기온'] > 15:\n",
    "        return '일교차심함'\n",
    "    else:\n",
    "        return '일교차안심함'"
   ]
  },
  {
   "cell_type": "code",
   "execution_count": 13,
   "metadata": {},
   "outputs": [
    {
     "data": {
      "text/plain": [
       "0      일교차안심함\n",
       "1      일교차안심함\n",
       "2      일교차안심함\n",
       "3      일교차안심함\n",
       "4      일교차안심함\n",
       "        ...  \n",
       "360    일교차안심함\n",
       "361    일교차안심함\n",
       "362    일교차안심함\n",
       "363    일교차안심함\n",
       "364    일교차안심함\n",
       "Length: 365, dtype: object"
      ]
     },
     "execution_count": 13,
     "metadata": {},
     "output_type": "execute_result"
    }
   ],
   "source": [
    "# 첫 인수도 들어가는 것은 데이터프레임!!\n",
    "\n",
    "temp_condition.apply(temp_change, axis=1)"
   ]
  },
  {
   "cell_type": "markdown",
   "metadata": {},
   "source": [
    "## lambda 함수와 apply 함수의 결합"
   ]
  },
  {
   "cell_type": "code",
   "execution_count": 14,
   "metadata": {},
   "outputs": [
    {
     "data": {
      "text/plain": [
       "평균기온    46.6\n",
       "최저기온    46.4\n",
       "최고기온    47.2\n",
       "dtype: float64"
      ]
     },
     "execution_count": 14,
     "metadata": {},
     "output_type": "execute_result"
    }
   ],
   "source": [
    "#아래는 '평균기온', '최저기온','최고기온'의 개별 칼럼에 적용된다.\n",
    "# 세로 방향(row) 연산이므로, 기본값 axis = 0 이 default이다\n",
    "\n",
    "temp_condition.apply(lambda x: x.max() - x.min()) "
   ]
  },
  {
   "cell_type": "code",
   "execution_count": 15,
   "metadata": {},
   "outputs": [],
   "source": [
    "# apply 함수는 나중에 배울 groupby 함수에서도 자주 결합되어 쓰인다"
   ]
  },
  {
   "cell_type": "code",
   "execution_count": 16,
   "metadata": {},
   "outputs": [
    {
     "data": {
      "text/plain": [
       "[0, 2, 4, 6, 8]"
      ]
     },
     "execution_count": 16,
     "metadata": {},
     "output_type": "execute_result"
    }
   ],
   "source": [
    "#filter 함수 : 특정값을 다음과 같이 걸러내는데 쓰인다 (조건 추출)\n",
    "# 따라서 output은 input의 수보다 작거나 같다\n",
    "\n",
    "list(filter(lambda x : x % 2 ==0, range(10)))"
   ]
  },
  {
   "cell_type": "code",
   "execution_count": 17,
   "metadata": {},
   "outputs": [],
   "source": [
    "# 참고 : 파이썬 map 함수(pands map 함수와 다른)와 filter 함수\n",
    "# 대부분의 조건 추출은 전 회차에 배운 df[조건]...의 형식으로 찾아낼 수 있다."
   ]
  },
  {
   "cell_type": "code",
   "execution_count": 19,
   "metadata": {},
   "outputs": [
    {
     "data": {
      "text/plain": [
       "<map at 0x1370938e0>"
      ]
     },
     "execution_count": 19,
     "metadata": {},
     "output_type": "execute_result"
    }
   ],
   "source": [
    "# map 함수\n",
    "\n",
    "def map_func(x):\n",
    "    return x**2\n",
    "\n",
    "a = [1,2,3,4,5]\n",
    "\n",
    "map(map_func, a)"
   ]
  },
  {
   "cell_type": "code",
   "execution_count": 21,
   "metadata": {},
   "outputs": [
    {
     "name": "stdout",
     "output_type": "stream",
     "text": [
      "1\n",
      "4\n",
      "9\n",
      "16\n",
      "25\n"
     ]
    }
   ],
   "source": [
    "for i in map(map_func, a):\n",
    "    print(i)"
   ]
  },
  {
   "cell_type": "code",
   "execution_count": 22,
   "metadata": {},
   "outputs": [
    {
     "data": {
      "text/plain": [
       "[1, 4, 9, 16, 25]"
      ]
     },
     "execution_count": 22,
     "metadata": {},
     "output_type": "execute_result"
    }
   ],
   "source": [
    "list(map(map_func, a))"
   ]
  },
  {
   "cell_type": "code",
   "execution_count": 24,
   "metadata": {},
   "outputs": [
    {
     "data": {
      "text/plain": [
       "[1, 3, 5]"
      ]
     },
     "execution_count": 24,
     "metadata": {},
     "output_type": "execute_result"
    }
   ],
   "source": [
    "# filter 함수\n",
    "\n",
    "def filter_func(x):\n",
    "    if x % 2 == 1:\n",
    "        return x\n",
    "    else:\n",
    "        pass\n",
    "\n",
    "list(filter(filter_func, a))"
   ]
  },
  {
   "cell_type": "code",
   "execution_count": null,
   "metadata": {},
   "outputs": [],
   "source": []
  }
 ],
 "metadata": {
  "kernelspec": {
   "display_name": "Python 3 (ipykernel)",
   "language": "python",
   "name": "python3"
  },
  "language_info": {
   "codemirror_mode": {
    "name": "ipython",
    "version": 3
   },
   "file_extension": ".py",
   "mimetype": "text/x-python",
   "name": "python",
   "nbconvert_exporter": "python",
   "pygments_lexer": "ipython3",
   "version": "3.11.4"
  }
 },
 "nbformat": 4,
 "nbformat_minor": 4
}
