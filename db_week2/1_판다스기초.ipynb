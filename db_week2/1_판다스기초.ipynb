{
 "cells": [
  {
   "cell_type": "markdown",
   "metadata": {},
   "source": [
    "## 판다스(pandas)란?\n",
    "* 2차원 데이터(엑셀과 같은)를 효과적으로 처리하고, 분석할 수 있는 파이썬 라이브러리의 일종\n",
    "* 원래의 파이썬(generic Python)에는 포함되어 있지 않으므로, 이를 사용하기 위해서는 설치 후 import가 필요"
   ]
  },
  {
   "cell_type": "code",
   "execution_count": 1,
   "metadata": {},
   "outputs": [],
   "source": [
    "# import '라이브러리 명' as '별명(간단한)'\n",
    "\n",
    "import pandas as pd"
   ]
  },
  {
   "cell_type": "code",
   "execution_count": 2,
   "metadata": {},
   "outputs": [],
   "source": [
    "#판다스를 이용해 분석 대상의 일부 파일을 가져와 보자\n",
    "\n",
    "df = pd.read_csv('./seoul_2021.csv', encoding='utf-8')"
   ]
  },
  {
   "cell_type": "code",
   "execution_count": 3,
   "metadata": {},
   "outputs": [
    {
     "data": {
      "text/html": [
       "<div>\n",
       "<style scoped>\n",
       "    .dataframe tbody tr th:only-of-type {\n",
       "        vertical-align: middle;\n",
       "    }\n",
       "\n",
       "    .dataframe tbody tr th {\n",
       "        vertical-align: top;\n",
       "    }\n",
       "\n",
       "    .dataframe thead th {\n",
       "        text-align: right;\n",
       "    }\n",
       "</style>\n",
       "<table border=\"1\" class=\"dataframe\">\n",
       "  <thead>\n",
       "    <tr style=\"text-align: right;\">\n",
       "      <th></th>\n",
       "      <th>지점</th>\n",
       "      <th>일시</th>\n",
       "      <th>평균기온(°C)</th>\n",
       "      <th>최저기온(°C)</th>\n",
       "      <th>최저기온 시각(hhmi)</th>\n",
       "      <th>최고기온(°C)</th>\n",
       "      <th>최고기온 시각(hhmi)</th>\n",
       "      <th>강수 계속시간(hr)</th>\n",
       "      <th>10분 최다 강수량(mm)</th>\n",
       "      <th>10분 최다강수량 시각(hhmi)</th>\n",
       "      <th>...</th>\n",
       "      <th>평균 30cm 지중온도(°C)</th>\n",
       "      <th>0.5m 지중온도(°C)</th>\n",
       "      <th>1.0m 지중온도(°C)</th>\n",
       "      <th>1.5m 지중온도(°C)</th>\n",
       "      <th>3.0m 지중온도(°C)</th>\n",
       "      <th>5.0m 지중온도(°C)</th>\n",
       "      <th>합계 대형증발량(mm)</th>\n",
       "      <th>합계 소형증발량(mm)</th>\n",
       "      <th>9-9강수(mm)</th>\n",
       "      <th>안개 계속시간(hr)</th>\n",
       "    </tr>\n",
       "  </thead>\n",
       "  <tbody>\n",
       "    <tr>\n",
       "      <th>0</th>\n",
       "      <td>108</td>\n",
       "      <td>2021-01-01</td>\n",
       "      <td>-4.2</td>\n",
       "      <td>-9.8</td>\n",
       "      <td>511</td>\n",
       "      <td>1.6</td>\n",
       "      <td>1447</td>\n",
       "      <td>NaN</td>\n",
       "      <td>NaN</td>\n",
       "      <td>NaN</td>\n",
       "      <td>...</td>\n",
       "      <td>1.4</td>\n",
       "      <td>2.9</td>\n",
       "      <td>6.8</td>\n",
       "      <td>9.7</td>\n",
       "      <td>15.9</td>\n",
       "      <td>17.5</td>\n",
       "      <td>1.1</td>\n",
       "      <td>1.6</td>\n",
       "      <td>NaN</td>\n",
       "      <td>NaN</td>\n",
       "    </tr>\n",
       "    <tr>\n",
       "      <th>1</th>\n",
       "      <td>108</td>\n",
       "      <td>2021-01-02</td>\n",
       "      <td>-5.0</td>\n",
       "      <td>-8.4</td>\n",
       "      <td>805</td>\n",
       "      <td>-1.4</td>\n",
       "      <td>1346</td>\n",
       "      <td>NaN</td>\n",
       "      <td>NaN</td>\n",
       "      <td>NaN</td>\n",
       "      <td>...</td>\n",
       "      <td>1.2</td>\n",
       "      <td>2.6</td>\n",
       "      <td>6.6</td>\n",
       "      <td>9.6</td>\n",
       "      <td>15.8</td>\n",
       "      <td>17.5</td>\n",
       "      <td>1.4</td>\n",
       "      <td>2.0</td>\n",
       "      <td>NaN</td>\n",
       "      <td>NaN</td>\n",
       "    </tr>\n",
       "    <tr>\n",
       "      <th>2</th>\n",
       "      <td>108</td>\n",
       "      <td>2021-01-03</td>\n",
       "      <td>-5.6</td>\n",
       "      <td>-9.1</td>\n",
       "      <td>536</td>\n",
       "      <td>-2.0</td>\n",
       "      <td>1238</td>\n",
       "      <td>NaN</td>\n",
       "      <td>NaN</td>\n",
       "      <td>NaN</td>\n",
       "      <td>...</td>\n",
       "      <td>1.0</td>\n",
       "      <td>2.5</td>\n",
       "      <td>6.5</td>\n",
       "      <td>9.5</td>\n",
       "      <td>15.7</td>\n",
       "      <td>17.4</td>\n",
       "      <td>1.0</td>\n",
       "      <td>1.5</td>\n",
       "      <td>NaN</td>\n",
       "      <td>NaN</td>\n",
       "    </tr>\n",
       "    <tr>\n",
       "      <th>3</th>\n",
       "      <td>108</td>\n",
       "      <td>2021-01-04</td>\n",
       "      <td>-3.5</td>\n",
       "      <td>-8.4</td>\n",
       "      <td>656</td>\n",
       "      <td>0.3</td>\n",
       "      <td>1535</td>\n",
       "      <td>2.33</td>\n",
       "      <td>NaN</td>\n",
       "      <td>NaN</td>\n",
       "      <td>...</td>\n",
       "      <td>0.8</td>\n",
       "      <td>2.3</td>\n",
       "      <td>6.3</td>\n",
       "      <td>9.4</td>\n",
       "      <td>15.6</td>\n",
       "      <td>17.4</td>\n",
       "      <td>0.9</td>\n",
       "      <td>1.3</td>\n",
       "      <td>0.0</td>\n",
       "      <td>NaN</td>\n",
       "    </tr>\n",
       "    <tr>\n",
       "      <th>4</th>\n",
       "      <td>108</td>\n",
       "      <td>2021-01-05</td>\n",
       "      <td>-5.5</td>\n",
       "      <td>-9.9</td>\n",
       "      <td>2356</td>\n",
       "      <td>-2.1</td>\n",
       "      <td>1</td>\n",
       "      <td>5.42</td>\n",
       "      <td>NaN</td>\n",
       "      <td>NaN</td>\n",
       "      <td>...</td>\n",
       "      <td>0.8</td>\n",
       "      <td>2.2</td>\n",
       "      <td>6.2</td>\n",
       "      <td>9.3</td>\n",
       "      <td>15.5</td>\n",
       "      <td>17.3</td>\n",
       "      <td>1.2</td>\n",
       "      <td>1.7</td>\n",
       "      <td>NaN</td>\n",
       "      <td>NaN</td>\n",
       "    </tr>\n",
       "    <tr>\n",
       "      <th>5</th>\n",
       "      <td>108</td>\n",
       "      <td>2021-01-06</td>\n",
       "      <td>-7.4</td>\n",
       "      <td>-12.0</td>\n",
       "      <td>702</td>\n",
       "      <td>-1.9</td>\n",
       "      <td>1547</td>\n",
       "      <td>5.33</td>\n",
       "      <td>NaN</td>\n",
       "      <td>NaN</td>\n",
       "      <td>...</td>\n",
       "      <td>0.6</td>\n",
       "      <td>2.0</td>\n",
       "      <td>6.0</td>\n",
       "      <td>9.2</td>\n",
       "      <td>15.5</td>\n",
       "      <td>17.3</td>\n",
       "      <td>1.2</td>\n",
       "      <td>1.8</td>\n",
       "      <td>2.3</td>\n",
       "      <td>NaN</td>\n",
       "    </tr>\n",
       "    <tr>\n",
       "      <th>6</th>\n",
       "      <td>108</td>\n",
       "      <td>2021-01-07</td>\n",
       "      <td>-14.5</td>\n",
       "      <td>-16.5</td>\n",
       "      <td>802</td>\n",
       "      <td>-8.4</td>\n",
       "      <td>1</td>\n",
       "      <td>NaN</td>\n",
       "      <td>NaN</td>\n",
       "      <td>NaN</td>\n",
       "      <td>...</td>\n",
       "      <td>0.5</td>\n",
       "      <td>1.9</td>\n",
       "      <td>5.9</td>\n",
       "      <td>9.1</td>\n",
       "      <td>15.4</td>\n",
       "      <td>17.3</td>\n",
       "      <td>0.6</td>\n",
       "      <td>0.9</td>\n",
       "      <td>NaN</td>\n",
       "      <td>NaN</td>\n",
       "    </tr>\n",
       "    <tr>\n",
       "      <th>7</th>\n",
       "      <td>108</td>\n",
       "      <td>2021-01-08</td>\n",
       "      <td>-14.9</td>\n",
       "      <td>-18.6</td>\n",
       "      <td>812</td>\n",
       "      <td>-10.7</td>\n",
       "      <td>1450</td>\n",
       "      <td>NaN</td>\n",
       "      <td>NaN</td>\n",
       "      <td>NaN</td>\n",
       "      <td>...</td>\n",
       "      <td>0.1</td>\n",
       "      <td>1.7</td>\n",
       "      <td>5.8</td>\n",
       "      <td>8.9</td>\n",
       "      <td>15.3</td>\n",
       "      <td>17.2</td>\n",
       "      <td>0.8</td>\n",
       "      <td>1.2</td>\n",
       "      <td>NaN</td>\n",
       "      <td>NaN</td>\n",
       "    </tr>\n",
       "    <tr>\n",
       "      <th>8</th>\n",
       "      <td>108</td>\n",
       "      <td>2021-01-09</td>\n",
       "      <td>-12.2</td>\n",
       "      <td>-16.6</td>\n",
       "      <td>614</td>\n",
       "      <td>-7.5</td>\n",
       "      <td>1602</td>\n",
       "      <td>NaN</td>\n",
       "      <td>NaN</td>\n",
       "      <td>NaN</td>\n",
       "      <td>...</td>\n",
       "      <td>-0.3</td>\n",
       "      <td>1.5</td>\n",
       "      <td>5.6</td>\n",
       "      <td>8.8</td>\n",
       "      <td>15.2</td>\n",
       "      <td>17.2</td>\n",
       "      <td>0.9</td>\n",
       "      <td>1.3</td>\n",
       "      <td>NaN</td>\n",
       "      <td>NaN</td>\n",
       "    </tr>\n",
       "    <tr>\n",
       "      <th>9</th>\n",
       "      <td>108</td>\n",
       "      <td>2021-01-10</td>\n",
       "      <td>-7.7</td>\n",
       "      <td>-12.8</td>\n",
       "      <td>538</td>\n",
       "      <td>-2.7</td>\n",
       "      <td>1406</td>\n",
       "      <td>NaN</td>\n",
       "      <td>NaN</td>\n",
       "      <td>NaN</td>\n",
       "      <td>...</td>\n",
       "      <td>-0.6</td>\n",
       "      <td>1.4</td>\n",
       "      <td>5.5</td>\n",
       "      <td>8.7</td>\n",
       "      <td>15.1</td>\n",
       "      <td>17.1</td>\n",
       "      <td>0.9</td>\n",
       "      <td>1.2</td>\n",
       "      <td>NaN</td>\n",
       "      <td>NaN</td>\n",
       "    </tr>\n",
       "  </tbody>\n",
       "</table>\n",
       "<p>10 rows × 59 columns</p>\n",
       "</div>"
      ],
      "text/plain": [
       "    지점          일시  평균기온(°C)  최저기온(°C)  최저기온 시각(hhmi)  최고기온(°C)  \\\n",
       "0  108  2021-01-01      -4.2      -9.8            511       1.6   \n",
       "1  108  2021-01-02      -5.0      -8.4            805      -1.4   \n",
       "2  108  2021-01-03      -5.6      -9.1            536      -2.0   \n",
       "3  108  2021-01-04      -3.5      -8.4            656       0.3   \n",
       "4  108  2021-01-05      -5.5      -9.9           2356      -2.1   \n",
       "5  108  2021-01-06      -7.4     -12.0            702      -1.9   \n",
       "6  108  2021-01-07     -14.5     -16.5            802      -8.4   \n",
       "7  108  2021-01-08     -14.9     -18.6            812     -10.7   \n",
       "8  108  2021-01-09     -12.2     -16.6            614      -7.5   \n",
       "9  108  2021-01-10      -7.7     -12.8            538      -2.7   \n",
       "\n",
       "   최고기온 시각(hhmi)  강수 계속시간(hr)  10분 최다 강수량(mm)  10분 최다강수량 시각(hhmi)  ...  \\\n",
       "0           1447          NaN             NaN                 NaN  ...   \n",
       "1           1346          NaN             NaN                 NaN  ...   \n",
       "2           1238          NaN             NaN                 NaN  ...   \n",
       "3           1535         2.33             NaN                 NaN  ...   \n",
       "4              1         5.42             NaN                 NaN  ...   \n",
       "5           1547         5.33             NaN                 NaN  ...   \n",
       "6              1          NaN             NaN                 NaN  ...   \n",
       "7           1450          NaN             NaN                 NaN  ...   \n",
       "8           1602          NaN             NaN                 NaN  ...   \n",
       "9           1406          NaN             NaN                 NaN  ...   \n",
       "\n",
       "   평균 30cm 지중온도(°C)  0.5m 지중온도(°C)  1.0m 지중온도(°C)  1.5m 지중온도(°C)  \\\n",
       "0               1.4            2.9            6.8            9.7   \n",
       "1               1.2            2.6            6.6            9.6   \n",
       "2               1.0            2.5            6.5            9.5   \n",
       "3               0.8            2.3            6.3            9.4   \n",
       "4               0.8            2.2            6.2            9.3   \n",
       "5               0.6            2.0            6.0            9.2   \n",
       "6               0.5            1.9            5.9            9.1   \n",
       "7               0.1            1.7            5.8            8.9   \n",
       "8              -0.3            1.5            5.6            8.8   \n",
       "9              -0.6            1.4            5.5            8.7   \n",
       "\n",
       "   3.0m 지중온도(°C)  5.0m 지중온도(°C)  합계 대형증발량(mm)  합계 소형증발량(mm)  9-9강수(mm)  \\\n",
       "0           15.9           17.5           1.1           1.6        NaN   \n",
       "1           15.8           17.5           1.4           2.0        NaN   \n",
       "2           15.7           17.4           1.0           1.5        NaN   \n",
       "3           15.6           17.4           0.9           1.3        0.0   \n",
       "4           15.5           17.3           1.2           1.7        NaN   \n",
       "5           15.5           17.3           1.2           1.8        2.3   \n",
       "6           15.4           17.3           0.6           0.9        NaN   \n",
       "7           15.3           17.2           0.8           1.2        NaN   \n",
       "8           15.2           17.2           0.9           1.3        NaN   \n",
       "9           15.1           17.1           0.9           1.2        NaN   \n",
       "\n",
       "   안개 계속시간(hr)  \n",
       "0          NaN  \n",
       "1          NaN  \n",
       "2          NaN  \n",
       "3          NaN  \n",
       "4          NaN  \n",
       "5          NaN  \n",
       "6          NaN  \n",
       "7          NaN  \n",
       "8          NaN  \n",
       "9          NaN  \n",
       "\n",
       "[10 rows x 59 columns]"
      ]
     },
     "execution_count": 3,
     "metadata": {},
     "output_type": "execute_result"
    }
   ],
   "source": [
    "df.head(10)"
   ]
  },
  {
   "cell_type": "code",
   "execution_count": 4,
   "metadata": {},
   "outputs": [
    {
     "data": {
      "text/plain": [
       "Index(['지점', '일시', '평균기온(°C)', '최저기온(°C)', '최저기온 시각(hhmi)', '최고기온(°C)',\n",
       "       '최고기온 시각(hhmi)', '강수 계속시간(hr)', '10분 최다 강수량(mm)', '10분 최다강수량 시각(hhmi)',\n",
       "       '1시간 최다강수량(mm)', '1시간 최다 강수량 시각(hhmi)', '일강수량(mm)', '최대 순간 풍속(m/s)',\n",
       "       '최대 순간 풍속 풍향(16방위)', '최대 순간풍속 시각(hhmi)', '최대 풍속(m/s)', '최대 풍속 풍향(16방위)',\n",
       "       '최대 풍속 시각(hhmi)', '평균 풍속(m/s)', '풍정합(100m)', '평균 이슬점온도(°C)',\n",
       "       '최소 상대습도(%)', '최소 상대습도 시각(hhmi)', '평균 상대습도(%)', '평균 증기압(hPa)',\n",
       "       '평균 현지기압(hPa)', '최고 해면기압(hPa)', '최고 해면기압 시각(hhmi)', '최저 해면기압(hPa)',\n",
       "       '최저 해면기압 시각(hhmi)', '평균 해면기압(hPa)', '가조시간(hr)', '합계 일조시간(hr)',\n",
       "       '1시간 최다일사 시각(hhmi)', '1시간 최다일사량(MJ/m2)', '합계 일사량(MJ/m2)', '일 최심신적설(cm)',\n",
       "       '일 최심신적설 시각(hhmi)', '일 최심적설(cm)', '일 최심적설 시각(hhmi)', '합계 3시간 신적설(cm)',\n",
       "       '평균 전운량(1/10)', '평균 중하층운량(1/10)', '평균 지면온도(°C)', '최저 초상온도(°C)',\n",
       "       '평균 5cm 지중온도(°C)', '평균 10cm 지중온도(°C)', '평균 20cm 지중온도(°C)',\n",
       "       '평균 30cm 지중온도(°C)', '0.5m 지중온도(°C)', '1.0m 지중온도(°C)', '1.5m 지중온도(°C)',\n",
       "       '3.0m 지중온도(°C)', '5.0m 지중온도(°C)', '합계 대형증발량(mm)', '합계 소형증발량(mm)',\n",
       "       '9-9강수(mm)', '안개 계속시간(hr)'],\n",
       "      dtype='object')"
      ]
     },
     "execution_count": 4,
     "metadata": {},
     "output_type": "execute_result"
    }
   ],
   "source": [
    "df.columns"
   ]
  },
  {
   "cell_type": "code",
   "execution_count": 5,
   "metadata": {},
   "outputs": [
    {
     "name": "stdout",
     "output_type": "stream",
     "text": [
      "Requirement already satisfied: openpyxl in /Users/kangjiwon/anaconda3/lib/python3.11/site-packages (3.0.10)\r\n",
      "Requirement already satisfied: et_xmlfile in /Users/kangjiwon/anaconda3/lib/python3.11/site-packages (from openpyxl) (1.1.0)\r\n"
     ]
    }
   ],
   "source": [
    "# excel 파일의 경우도 유사하게 읽는데, excel을 읽기 위해서는 추가 설치가 필요하다\n",
    "\n",
    "!pip install openpyxl"
   ]
  },
  {
   "cell_type": "code",
   "execution_count": 6,
   "metadata": {},
   "outputs": [
    {
     "data": {
      "text/html": [
       "<div>\n",
       "<style scoped>\n",
       "    .dataframe tbody tr th:only-of-type {\n",
       "        vertical-align: middle;\n",
       "    }\n",
       "\n",
       "    .dataframe tbody tr th {\n",
       "        vertical-align: top;\n",
       "    }\n",
       "\n",
       "    .dataframe thead th {\n",
       "        text-align: right;\n",
       "    }\n",
       "</style>\n",
       "<table border=\"1\" class=\"dataframe\">\n",
       "  <thead>\n",
       "    <tr style=\"text-align: right;\">\n",
       "      <th></th>\n",
       "      <th>Order No</th>\n",
       "      <th>Order Date</th>\n",
       "      <th>Customer Name</th>\n",
       "      <th>Address</th>\n",
       "      <th>City</th>\n",
       "      <th>State</th>\n",
       "      <th>Customer Type</th>\n",
       "      <th>Account Manager</th>\n",
       "      <th>Order Priority</th>\n",
       "      <th>Product Name</th>\n",
       "      <th>...</th>\n",
       "      <th>Cost Price</th>\n",
       "      <th>Retail Price</th>\n",
       "      <th>Profit Margin</th>\n",
       "      <th>Order Quantity</th>\n",
       "      <th>Sub Total</th>\n",
       "      <th>Discount %</th>\n",
       "      <th>Discount $</th>\n",
       "      <th>Order Total</th>\n",
       "      <th>Shipping Cost</th>\n",
       "      <th>Total</th>\n",
       "    </tr>\n",
       "  </thead>\n",
       "  <tbody>\n",
       "    <tr>\n",
       "      <th>0</th>\n",
       "      <td>5071-1</td>\n",
       "      <td>2013-05-05</td>\n",
       "      <td>Christopher Schild</td>\n",
       "      <td>4A Lyons St,Strathfield</td>\n",
       "      <td>Sydney</td>\n",
       "      <td>NSW</td>\n",
       "      <td>Corporate</td>\n",
       "      <td>Tina Carlton</td>\n",
       "      <td>Medium</td>\n",
       "      <td>Laser Neon Mac Format Diskettes, 10/Pack</td>\n",
       "      <td>...</td>\n",
       "      <td>1.87</td>\n",
       "      <td>2.2253</td>\n",
       "      <td>0.3553</td>\n",
       "      <td>41</td>\n",
       "      <td>91.2373</td>\n",
       "      <td>0.06</td>\n",
       "      <td>5.474238</td>\n",
       "      <td>85.763062</td>\n",
       "      <td>2.83</td>\n",
       "      <td>88.593062</td>\n",
       "    </tr>\n",
       "    <tr>\n",
       "      <th>1</th>\n",
       "      <td>5071-2</td>\n",
       "      <td>2013-05-05</td>\n",
       "      <td>Christopher Schild</td>\n",
       "      <td>4A Lyons St,Strathfield</td>\n",
       "      <td>Sydney</td>\n",
       "      <td>NSW</td>\n",
       "      <td>Corporate</td>\n",
       "      <td>Tina Carlton</td>\n",
       "      <td>Medium</td>\n",
       "      <td>Steady Liquid Accent Highlighters</td>\n",
       "      <td>...</td>\n",
       "      <td>3.47</td>\n",
       "      <td>6.6800</td>\n",
       "      <td>3.2100</td>\n",
       "      <td>2</td>\n",
       "      <td>13.3600</td>\n",
       "      <td>0.01</td>\n",
       "      <td>0.133600</td>\n",
       "      <td>13.226400</td>\n",
       "      <td>1.50</td>\n",
       "      <td>14.726400</td>\n",
       "    </tr>\n",
       "    <tr>\n",
       "      <th>2</th>\n",
       "      <td>5145-1</td>\n",
       "      <td>2013-06-29</td>\n",
       "      <td>Cyma Kinney</td>\n",
       "      <td>Sydney Fish Market, Bank Street, Sydney</td>\n",
       "      <td>Sydney</td>\n",
       "      <td>NSW</td>\n",
       "      <td>Small Business</td>\n",
       "      <td>Phoebe Gour</td>\n",
       "      <td>Low</td>\n",
       "      <td>Alto Memo Cubes</td>\n",
       "      <td>...</td>\n",
       "      <td>3.32</td>\n",
       "      <td>5.1800</td>\n",
       "      <td>1.8600</td>\n",
       "      <td>1</td>\n",
       "      <td>5.1800</td>\n",
       "      <td>0.02</td>\n",
       "      <td>0.103600</td>\n",
       "      <td>5.076400</td>\n",
       "      <td>2.04</td>\n",
       "      <td>7.116400</td>\n",
       "    </tr>\n",
       "    <tr>\n",
       "      <th>3</th>\n",
       "      <td>5145-2</td>\n",
       "      <td>2013-06-29</td>\n",
       "      <td>Cyma Kinney</td>\n",
       "      <td>Sydney Fish Market, Bank Street, Sydney</td>\n",
       "      <td>Sydney</td>\n",
       "      <td>NSW</td>\n",
       "      <td>Small Business</td>\n",
       "      <td>Phoebe Gour</td>\n",
       "      <td>Low</td>\n",
       "      <td>Artisan Hi-Liter Smear-Safe Highlighters</td>\n",
       "      <td>...</td>\n",
       "      <td>2.98</td>\n",
       "      <td>5.8400</td>\n",
       "      <td>2.8600</td>\n",
       "      <td>4</td>\n",
       "      <td>23.3600</td>\n",
       "      <td>0.09</td>\n",
       "      <td>2.102400</td>\n",
       "      <td>21.257600</td>\n",
       "      <td>0.83</td>\n",
       "      <td>22.087600</td>\n",
       "    </tr>\n",
       "    <tr>\n",
       "      <th>4</th>\n",
       "      <td>5160-1</td>\n",
       "      <td>2013-07-05</td>\n",
       "      <td>Berenike Kampe</td>\n",
       "      <td>180 High Street,Windsor</td>\n",
       "      <td>Melbourne</td>\n",
       "      <td>VIC</td>\n",
       "      <td>Corporate</td>\n",
       "      <td>Connor Betts</td>\n",
       "      <td>Not Specified</td>\n",
       "      <td>1726 Digital Answering Machine</td>\n",
       "      <td>...</td>\n",
       "      <td>8.82</td>\n",
       "      <td>20.9900</td>\n",
       "      <td>12.1700</td>\n",
       "      <td>41</td>\n",
       "      <td>860.5900</td>\n",
       "      <td>0.02</td>\n",
       "      <td>17.211800</td>\n",
       "      <td>843.378200</td>\n",
       "      <td>4.81</td>\n",
       "      <td>848.188200</td>\n",
       "    </tr>\n",
       "  </tbody>\n",
       "</table>\n",
       "<p>5 rows × 24 columns</p>\n",
       "</div>"
      ],
      "text/plain": [
       "  Order No Order Date       Customer Name  \\\n",
       "0   5071-1 2013-05-05  Christopher Schild   \n",
       "1   5071-2 2013-05-05  Christopher Schild   \n",
       "2   5145-1 2013-06-29         Cyma Kinney   \n",
       "3   5145-2 2013-06-29         Cyma Kinney   \n",
       "4   5160-1 2013-07-05      Berenike Kampe   \n",
       "\n",
       "                                   Address       City State   Customer Type  \\\n",
       "0                  4A Lyons St,Strathfield     Sydney   NSW       Corporate   \n",
       "1                  4A Lyons St,Strathfield     Sydney   NSW       Corporate   \n",
       "2  Sydney Fish Market, Bank Street, Sydney     Sydney   NSW  Small Business   \n",
       "3  Sydney Fish Market, Bank Street, Sydney     Sydney   NSW  Small Business   \n",
       "4                  180 High Street,Windsor  Melbourne   VIC       Corporate   \n",
       "\n",
       "  Account Manager Order Priority                              Product Name  \\\n",
       "0    Tina Carlton         Medium  Laser Neon Mac Format Diskettes, 10/Pack   \n",
       "1    Tina Carlton         Medium         Steady Liquid Accent Highlighters   \n",
       "2     Phoebe Gour            Low                           Alto Memo Cubes   \n",
       "3     Phoebe Gour            Low  Artisan Hi-Liter Smear-Safe Highlighters   \n",
       "4    Connor Betts  Not Specified            1726 Digital Answering Machine   \n",
       "\n",
       "   ... Cost Price Retail Price Profit Margin Order Quantity  Sub Total  \\\n",
       "0  ...       1.87       2.2253        0.3553             41    91.2373   \n",
       "1  ...       3.47       6.6800        3.2100              2    13.3600   \n",
       "2  ...       3.32       5.1800        1.8600              1     5.1800   \n",
       "3  ...       2.98       5.8400        2.8600              4    23.3600   \n",
       "4  ...       8.82      20.9900       12.1700             41   860.5900   \n",
       "\n",
       "   Discount %  Discount $  Order Total  Shipping Cost       Total  \n",
       "0        0.06    5.474238    85.763062           2.83   88.593062  \n",
       "1        0.01    0.133600    13.226400           1.50   14.726400  \n",
       "2        0.02    0.103600     5.076400           2.04    7.116400  \n",
       "3        0.09    2.102400    21.257600           0.83   22.087600  \n",
       "4        0.02   17.211800   843.378200           4.81  848.188200  \n",
       "\n",
       "[5 rows x 24 columns]"
      ]
     },
     "execution_count": 6,
     "metadata": {},
     "output_type": "execute_result"
    }
   ],
   "source": [
    "excel_df = pd.read_excel('./example.xlsx', sheet_name='Orders')\n",
    "excel_df.head()"
   ]
  },
  {
   "cell_type": "markdown",
   "metadata": {},
   "source": [
    "## 판다스에서 가장 중요한 모듈은 Series와 DataFrame"
   ]
  },
  {
   "cell_type": "code",
   "execution_count": 7,
   "metadata": {},
   "outputs": [
    {
     "data": {
      "text/plain": [
       "0    1\n",
       "1    3\n",
       "2    5\n",
       "3    7\n",
       "dtype: int64"
      ]
     },
     "execution_count": 7,
     "metadata": {},
     "output_type": "execute_result"
    }
   ],
   "source": [
    "# Series\n",
    "\n",
    "# 씨리즈는 어떠한 형식의 자료도 담을 수 있는 1차원의 배열과 같은 자료 구조\n",
    "\n",
    "obj = pd.Series([1,3,5,7])\n",
    "obj"
   ]
  },
  {
   "cell_type": "code",
   "execution_count": 8,
   "metadata": {},
   "outputs": [
    {
     "data": {
      "text/plain": [
       "array([1, 3, 5, 7])"
      ]
     },
     "execution_count": 8,
     "metadata": {},
     "output_type": "execute_result"
    }
   ],
   "source": [
    "obj.values"
   ]
  },
  {
   "cell_type": "code",
   "execution_count": 9,
   "metadata": {},
   "outputs": [
    {
     "data": {
      "text/plain": [
       "RangeIndex(start=0, stop=4, step=1)"
      ]
     },
     "execution_count": 9,
     "metadata": {},
     "output_type": "execute_result"
    }
   ],
   "source": [
    "obj.index"
   ]
  },
  {
   "cell_type": "code",
   "execution_count": 10,
   "metadata": {},
   "outputs": [],
   "source": [
    "# values(값)이건, 인덱스 건 항상 리스트 구조의 형태로 입력한다.\n",
    "\n",
    "students = ['강지원', '김성윤', '황혜선', '이욱']\n",
    "series = pd.Series(students)        #씨리즈로 변환된 것을 계속 사용하려면 변수에 저장하고 활용하여야 한다."
   ]
  },
  {
   "cell_type": "code",
   "execution_count": 11,
   "metadata": {},
   "outputs": [
    {
     "data": {
      "text/plain": [
       "array(['강지원', '김성윤', '황혜선', '이욱'], dtype=object)"
      ]
     },
     "execution_count": 11,
     "metadata": {},
     "output_type": "execute_result"
    }
   ],
   "source": [
    "series.values"
   ]
  },
  {
   "cell_type": "code",
   "execution_count": 12,
   "metadata": {},
   "outputs": [
    {
     "data": {
      "text/plain": [
       "2101    강지원\n",
       "2102    김성윤\n",
       "2104    황혜선\n",
       "2103     이욱\n",
       "dtype: object"
      ]
     },
     "execution_count": 12,
     "metadata": {},
     "output_type": "execute_result"
    }
   ],
   "source": [
    "# 인덱스를 변경해 보자\n",
    "\n",
    "#처음부터 이렇게 생성해도 되고\n",
    "\n",
    "id = [2101, 2102,2104,2103]\n",
    "\n",
    "series_1=pd.Series(data=students, index=id)\n",
    "series_1"
   ]
  },
  {
   "cell_type": "code",
   "execution_count": 13,
   "metadata": {},
   "outputs": [
    {
     "data": {
      "text/plain": [
       "2101    강지원\n",
       "2102    김성윤\n",
       "2104    황혜선\n",
       "2103     이욱\n",
       "dtype: object"
      ]
     },
     "execution_count": 13,
     "metadata": {},
     "output_type": "execute_result"
    }
   ],
   "source": [
    "# 먼저 씨리즈를 만든 후 index를 별도로 할당할 수도 있다\n",
    "\n",
    "id_1 = [2101, 2102,2104,2103]\n",
    "\n",
    "series1=pd.Series(data=students)\n",
    "series1.index = id_1\n",
    "series1"
   ]
  },
  {
   "cell_type": "code",
   "execution_count": 14,
   "metadata": {},
   "outputs": [
    {
     "data": {
      "text/plain": [
       "2101    강지원\n",
       "2102    김성윤\n",
       "2104    황혜선\n",
       "2103     이욱\n",
       "dtype: object"
      ]
     },
     "execution_count": 14,
     "metadata": {},
     "output_type": "execute_result"
    }
   ],
   "source": [
    "# dictionary 형식으로 만들 수도 있다.\n",
    "# 이때 각각의 key는 인덱스가 된다.\n",
    "\n",
    "student_dict = {2101:'강지원',2102:'김성윤',2104:'황혜선',2103:'이욱'}\n",
    "\n",
    "pd.Series(student_dict)"
   ]
  },
  {
   "cell_type": "markdown",
   "metadata": {},
   "source": [
    "## 그럼 데이터프레임이란?\n",
    "### 위의 Series구조가 켜켜이 쌓여 있는 것"
   ]
  },
  {
   "cell_type": "code",
   "execution_count": 15,
   "metadata": {},
   "outputs": [
    {
     "data": {
      "text/html": [
       "<div>\n",
       "<style scoped>\n",
       "    .dataframe tbody tr th:only-of-type {\n",
       "        vertical-align: middle;\n",
       "    }\n",
       "\n",
       "    .dataframe tbody tr th {\n",
       "        vertical-align: top;\n",
       "    }\n",
       "\n",
       "    .dataframe thead th {\n",
       "        text-align: right;\n",
       "    }\n",
       "</style>\n",
       "<table border=\"1\" class=\"dataframe\">\n",
       "  <thead>\n",
       "    <tr style=\"text-align: right;\">\n",
       "      <th></th>\n",
       "      <th>student</th>\n",
       "      <th>major</th>\n",
       "    </tr>\n",
       "  </thead>\n",
       "  <tbody>\n",
       "    <tr>\n",
       "      <th>2101</th>\n",
       "      <td>강지원</td>\n",
       "      <td>Theology</td>\n",
       "    </tr>\n",
       "    <tr>\n",
       "      <th>2102</th>\n",
       "      <td>김성윤</td>\n",
       "      <td>Law</td>\n",
       "    </tr>\n",
       "    <tr>\n",
       "      <th>2104</th>\n",
       "      <td>황혜선</td>\n",
       "      <td>Consumer Science</td>\n",
       "    </tr>\n",
       "    <tr>\n",
       "      <th>2103</th>\n",
       "      <td>이욱</td>\n",
       "      <td>Business</td>\n",
       "    </tr>\n",
       "  </tbody>\n",
       "</table>\n",
       "</div>"
      ],
      "text/plain": [
       "     student             major\n",
       "2101     강지원          Theology\n",
       "2102     김성윤               Law\n",
       "2104     황혜선  Consumer Science\n",
       "2103      이욱          Business"
      ]
     },
     "execution_count": 15,
     "metadata": {},
     "output_type": "execute_result"
    }
   ],
   "source": [
    "students = ['강지원', '김성윤', '황혜선', '이욱']\n",
    "id = [2101, 2102,2104,2103]\n",
    "major = ['Theology', 'Law','Consumer Science','Business']\n",
    "\n",
    "df = pd.DataFrame({'student': students, 'major':major}, index=id)\n",
    "df"
   ]
  },
  {
   "cell_type": "code",
   "execution_count": 16,
   "metadata": {},
   "outputs": [
    {
     "data": {
      "text/plain": [
       "Int64Index([2101, 2102, 2104, 2103], dtype='int64')"
      ]
     },
     "execution_count": 16,
     "metadata": {},
     "output_type": "execute_result"
    }
   ],
   "source": [
    "df.index"
   ]
  },
  {
   "cell_type": "code",
   "execution_count": 17,
   "metadata": {},
   "outputs": [
    {
     "data": {
      "text/plain": [
       "array([['강지원', 'Theology'],\n",
       "       ['김성윤', 'Law'],\n",
       "       ['황혜선', 'Consumer Science'],\n",
       "       ['이욱', 'Business']], dtype=object)"
      ]
     },
     "execution_count": 17,
     "metadata": {},
     "output_type": "execute_result"
    }
   ],
   "source": [
    "df.values"
   ]
  },
  {
   "cell_type": "code",
   "execution_count": 18,
   "metadata": {},
   "outputs": [
    {
     "data": {
      "text/plain": [
       "Index(['student', 'major'], dtype='object')"
      ]
     },
     "execution_count": 18,
     "metadata": {},
     "output_type": "execute_result"
    }
   ],
   "source": [
    "df.columns"
   ]
  }
 ],
 "metadata": {
  "kernelspec": {
   "display_name": "Python 3 (ipykernel)",
   "language": "python",
   "name": "python3"
  },
  "language_info": {
   "codemirror_mode": {
    "name": "ipython",
    "version": 3
   },
   "file_extension": ".py",
   "mimetype": "text/x-python",
   "name": "python",
   "nbconvert_exporter": "python",
   "pygments_lexer": "ipython3",
   "version": "3.11.4"
  }
 },
 "nbformat": 4,
 "nbformat_minor": 4
}
